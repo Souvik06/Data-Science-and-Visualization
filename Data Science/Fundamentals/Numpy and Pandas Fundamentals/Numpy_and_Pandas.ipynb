{
 "cells": [
  {
   "cell_type": "markdown",
   "id": "d7ad38ab-1191-421f-9b5e-090dd75ff85e",
   "metadata": {},
   "source": [
    "# 1. Numpy\n",
    "\n",
    "------------\n",
    "\n",
    "Numpy -> Numerical Python. \n",
    "\n",
    "Used for all scientific computation in Python\n",
    "- A powerful n-dimensional array object\n",
    "- Sophisticated functions\n",
    "- Tools for integrating with other languages\n",
    "\n",
    "Why Python:\n",
    "\n",
    "- Element-by-element operation\n",
    "- Mathematical operations on large datasets which is executed efficiently with less code\n",
    "- Multidimensional array\n",
    "- Method for processing array"
   ]
  },
  {
   "cell_type": "code",
   "execution_count": 1,
   "id": "93a2824a-675c-45df-bf75-cebc2d0cd669",
   "metadata": {},
   "outputs": [],
   "source": [
    "import numpy as np\n",
    "import pandas as pd"
   ]
  },
  {
   "cell_type": "markdown",
   "id": "77ab08a6-ab50-4ef6-aea0-ee91fc470cce",
   "metadata": {},
   "source": [
    "## 1.1 N-Dimensional Array (ndarray aka array)\n",
    "\n",
    "------\n",
    "\n",
    "ndarray is a multi-dimensional array object consisting of two parts:\n",
    "- actual data\n",
    "- metadata that describes the sorted data\n",
    "\n",
    "Indexing ndarray starts from 0 just like sequences \n",
    "\n",
    "In NumPy, dimensions are known as **axes**\n",
    "\n",
    "Some important attributes of ndarray are:\n",
    "\n",
    "|Attributes|Desc|\n",
    "|-----|----|\n",
    "| ndarray.ndim | The number of axes of the array |\n",
    "| ndarray.shape | The tuples of integers indicating the size of the array in each dimension |\n",
    "| ndarray.size| The total number of elements of the array |\n",
    "| ndarray.dtype | The type of the elements in the array |\n",
    "| ndarray.itemsize | The size in bytes of each element of the array|\n"
   ]
  },
  {
   "cell_type": "code",
   "execution_count": 2,
   "id": "887c56ee-9251-41cf-a024-26cccae20288",
   "metadata": {},
   "outputs": [
    {
     "data": {
      "text/plain": [
       "[[1, 2, 3], [4, 5, 6], [7, 8, 9]]"
      ]
     },
     "execution_count": 2,
     "metadata": {},
     "output_type": "execute_result"
    }
   ],
   "source": [
    "x = [[1,2,3], [4,5,6], [7,8,9]]\n",
    "x"
   ]
  },
  {
   "cell_type": "markdown",
   "id": "f2b91273-4a64-4edf-aa82-a6e65b74a71a",
   "metadata": {},
   "source": [
    "## 1.2 Array Creation Routines\n",
    "\n",
    "----\n",
    "\n",
    "### 1.2.1 array()\n",
    "\n",
    "To create a NumPy array, we use **`array()`**.\n",
    "\n",
    "We can input a new or existing list as arguments to the array function to create an array of the elements"
   ]
  },
  {
   "cell_type": "code",
   "execution_count": 3,
   "id": "5e7a09d3-af55-4ea3-8c8e-5302349cc137",
   "metadata": {},
   "outputs": [
    {
     "data": {
      "text/plain": [
       "array([[1, 2, 3],\n",
       "       [4, 5, 6],\n",
       "       [7, 8, 9]])"
      ]
     },
     "execution_count": 3,
     "metadata": {},
     "output_type": "execute_result"
    }
   ],
   "source": [
    "arr = np.array(x)\n",
    "arr"
   ]
  },
  {
   "cell_type": "code",
   "execution_count": 4,
   "id": "4dcb5ff5-5b48-4f1a-b720-c6e6ea6084c6",
   "metadata": {},
   "outputs": [
    {
     "data": {
      "text/plain": [
       "(3, 3)"
      ]
     },
     "execution_count": 4,
     "metadata": {},
     "output_type": "execute_result"
    }
   ],
   "source": [
    "arr.shape"
   ]
  },
  {
   "cell_type": "code",
   "execution_count": 5,
   "id": "dad92f71-5aba-4362-8934-afbb5fb8acdd",
   "metadata": {},
   "outputs": [
    {
     "data": {
      "text/plain": [
       "2"
      ]
     },
     "execution_count": 5,
     "metadata": {},
     "output_type": "execute_result"
    }
   ],
   "source": [
    "arr.ndim"
   ]
  },
  {
   "cell_type": "code",
   "execution_count": 6,
   "id": "951066e5-be5e-4f83-a54b-2e3b52cb5e9d",
   "metadata": {},
   "outputs": [
    {
     "data": {
      "text/plain": [
       "9"
      ]
     },
     "execution_count": 6,
     "metadata": {},
     "output_type": "execute_result"
    }
   ],
   "source": [
    "arr.size"
   ]
  },
  {
   "cell_type": "code",
   "execution_count": 7,
   "id": "78601c67-7108-446f-ad74-773d8e563879",
   "metadata": {},
   "outputs": [
    {
     "data": {
      "text/plain": [
       "dtype('int64')"
      ]
     },
     "execution_count": 7,
     "metadata": {},
     "output_type": "execute_result"
    }
   ],
   "source": [
    "arr.dtype"
   ]
  },
  {
   "cell_type": "code",
   "execution_count": 8,
   "id": "ca8ab2d3-d5b9-45bb-821b-7dc73e84576e",
   "metadata": {},
   "outputs": [
    {
     "data": {
      "text/plain": [
       "8"
      ]
     },
     "execution_count": 8,
     "metadata": {},
     "output_type": "execute_result"
    }
   ],
   "source": [
    "arr.itemsize"
   ]
  },
  {
   "cell_type": "markdown",
   "id": "f354459a-20a8-4bb4-98c1-0ca4b9303c85",
   "metadata": {},
   "source": [
    "Example of 3D array"
   ]
  },
  {
   "cell_type": "code",
   "execution_count": 9,
   "id": "d805044b-2fb9-46e6-9eae-3a9d08b50ce3",
   "metadata": {},
   "outputs": [
    {
     "data": {
      "text/plain": [
       "[[[0, 1, 2], [3, 4, 5], [6, 7, 8]], [[1, 2, 3], [4, 5, 6], [7, 8, 9]]]"
      ]
     },
     "execution_count": 9,
     "metadata": {},
     "output_type": "execute_result"
    }
   ],
   "source": [
    "l1 = [[[0,1,2],[3,4,5],[6,7,8]],[[1,2,3],[4,5,6],[7,8,9]]]\n",
    "l1"
   ]
  },
  {
   "cell_type": "code",
   "execution_count": 10,
   "id": "43c99945-02e5-47b5-99b0-539611c240e6",
   "metadata": {},
   "outputs": [
    {
     "data": {
      "text/plain": [
       "array([[[0, 1, 2],\n",
       "        [3, 4, 5],\n",
       "        [6, 7, 8]],\n",
       "\n",
       "       [[1, 2, 3],\n",
       "        [4, 5, 6],\n",
       "        [7, 8, 9]]])"
      ]
     },
     "execution_count": 10,
     "metadata": {},
     "output_type": "execute_result"
    }
   ],
   "source": [
    "arr2 = np.array(l1)\n",
    "arr2"
   ]
  },
  {
   "cell_type": "code",
   "execution_count": 11,
   "id": "3d71c419-31d6-42eb-a582-d6a920c12e07",
   "metadata": {},
   "outputs": [
    {
     "data": {
      "text/plain": [
       "3"
      ]
     },
     "execution_count": 11,
     "metadata": {},
     "output_type": "execute_result"
    }
   ],
   "source": [
    "arr2.ndim"
   ]
  },
  {
   "cell_type": "markdown",
   "id": "f385ab3a-6a13-4810-96bc-2970a8d3e975",
   "metadata": {},
   "source": [
    "### 1.2.2 ones() and zeros()\n",
    "\n",
    "We can easily create array of zeros & ones using **`ones()`** & **`zeros()`** functions in NumPy with dimensions defined by the shape argument."
   ]
  },
  {
   "cell_type": "code",
   "execution_count": 12,
   "id": "f6051ef8-99da-4517-962f-d265a1727349",
   "metadata": {},
   "outputs": [
    {
     "data": {
      "text/plain": [
       "array([[0., 0., 0., 0., 0.],\n",
       "       [0., 0., 0., 0., 0.],\n",
       "       [0., 0., 0., 0., 0.],\n",
       "       [0., 0., 0., 0., 0.],\n",
       "       [0., 0., 0., 0., 0.]])"
      ]
     },
     "execution_count": 12,
     "metadata": {},
     "output_type": "execute_result"
    }
   ],
   "source": [
    "np.zeros((5,5))"
   ]
  },
  {
   "cell_type": "code",
   "execution_count": 13,
   "id": "7f335a64-8999-466a-b31a-c548223e1336",
   "metadata": {},
   "outputs": [
    {
     "data": {
      "text/plain": [
       "array([0., 0., 0., 0., 0., 0.])"
      ]
     },
     "execution_count": 13,
     "metadata": {},
     "output_type": "execute_result"
    }
   ],
   "source": [
    "np.zeros(6)"
   ]
  },
  {
   "cell_type": "markdown",
   "id": "b2f9a8b7-2d1f-4728-b6b4-49341f8c4d34",
   "metadata": {},
   "source": [
    "We use **astype()** function to convert one datatype to another datatype"
   ]
  },
  {
   "cell_type": "code",
   "execution_count": 14,
   "id": "3b5da042-5b80-42bb-bef7-aeb470004dd5",
   "metadata": {},
   "outputs": [
    {
     "data": {
      "text/plain": [
       "array([[[1, 1, 1],\n",
       "        [1, 1, 1]]])"
      ]
     },
     "execution_count": 14,
     "metadata": {},
     "output_type": "execute_result"
    }
   ],
   "source": [
    "np.ones((1,2,3)).astype(int)"
   ]
  },
  {
   "cell_type": "code",
   "execution_count": 15,
   "id": "ed648019-51c3-40eb-94ac-9fcb9c143cbe",
   "metadata": {},
   "outputs": [
    {
     "data": {
      "text/plain": [
       "array([[[['1.0', '1.0', '1.0', '1.0'],\n",
       "         ['1.0', '1.0', '1.0', '1.0'],\n",
       "         ['1.0', '1.0', '1.0', '1.0']],\n",
       "\n",
       "        [['1.0', '1.0', '1.0', '1.0'],\n",
       "         ['1.0', '1.0', '1.0', '1.0'],\n",
       "         ['1.0', '1.0', '1.0', '1.0']]]], dtype='<U32')"
      ]
     },
     "execution_count": 15,
     "metadata": {},
     "output_type": "execute_result"
    }
   ],
   "source": [
    "np.ones((1,2,3,4)).astype(str)"
   ]
  },
  {
   "cell_type": "code",
   "execution_count": 16,
   "id": "c550a98e-0688-48f2-aa36-104a16ed03a7",
   "metadata": {},
   "outputs": [
    {
     "data": {
      "text/plain": [
       "array([[[[1, 1],\n",
       "         [1, 1]],\n",
       "\n",
       "        [[1, 1],\n",
       "         [1, 1]]],\n",
       "\n",
       "\n",
       "       [[[1, 1],\n",
       "         [1, 1]],\n",
       "\n",
       "        [[1, 1],\n",
       "         [1, 1]]]])"
      ]
     },
     "execution_count": 16,
     "metadata": {},
     "output_type": "execute_result"
    }
   ],
   "source": [
    "np.ones((2,2,2,2)).astype(int)"
   ]
  },
  {
   "cell_type": "markdown",
   "id": "ffd2965e-c184-4710-bfd3-0db959c4d99c",
   "metadata": {},
   "source": [
    "### 1.2.3 copy()\n",
    "\n",
    "To generate a complete and distinct array from the existing array, we use the **copy ()** function as the contents are physically stored in a different location. \n"
   ]
  },
  {
   "cell_type": "code",
   "execution_count": 17,
   "id": "c200148d-9b90-4ce6-9633-51aae910614a",
   "metadata": {},
   "outputs": [
    {
     "data": {
      "text/plain": [
       "array([[1, 2, 3],\n",
       "       [4, 5, 6],\n",
       "       [7, 8, 9]])"
      ]
     },
     "execution_count": 17,
     "metadata": {},
     "output_type": "execute_result"
    }
   ],
   "source": [
    "arr3 = arr.copy()\n",
    "arr3"
   ]
  },
  {
   "cell_type": "code",
   "execution_count": 18,
   "id": "077cac49-6cc6-4423-84ce-9e717b0d8786",
   "metadata": {},
   "outputs": [
    {
     "data": {
      "text/plain": [
       "array([[1, 2, 3],\n",
       "       [4, 5, 0],\n",
       "       [7, 8, 9]])"
      ]
     },
     "execution_count": 18,
     "metadata": {},
     "output_type": "execute_result"
    }
   ],
   "source": [
    "arr3[1][2] = 0\n",
    "\n",
    "arr3"
   ]
  },
  {
   "cell_type": "code",
   "execution_count": 19,
   "id": "1c35e751-4526-451a-b86b-6511c2ee2445",
   "metadata": {},
   "outputs": [
    {
     "data": {
      "text/plain": [
       "array([[1, 2, 3],\n",
       "       [4, 5, 6],\n",
       "       [7, 8, 9]])"
      ]
     },
     "execution_count": 19,
     "metadata": {},
     "output_type": "execute_result"
    }
   ],
   "source": [
    "arr"
   ]
  },
  {
   "cell_type": "markdown",
   "id": "eeac6340-406d-4ed6-b13c-229d732e7d67",
   "metadata": {},
   "source": [
    "### 1.2.4 arange()\n",
    "\n",
    "We use **arange()** function to create an array of specified range of values."
   ]
  },
  {
   "cell_type": "code",
   "execution_count": 20,
   "id": "3a2eba6a-999b-4803-a4b2-13e95c890514",
   "metadata": {},
   "outputs": [
    {
     "data": {
      "text/plain": [
       "array([0, 1, 2, 3, 4])"
      ]
     },
     "execution_count": 20,
     "metadata": {},
     "output_type": "execute_result"
    }
   ],
   "source": [
    "arr4 = np.arange(0,5)\n",
    "arr4"
   ]
  },
  {
   "cell_type": "code",
   "execution_count": 21,
   "id": "01fef623-808e-4232-b9db-761f6a5d037b",
   "metadata": {},
   "outputs": [
    {
     "data": {
      "text/plain": [
       "array([ 0,  3,  6,  9, 12, 15, 18, 21, 24, 27, 30, 33, 36, 39, 42, 45, 48])"
      ]
     },
     "execution_count": 21,
     "metadata": {},
     "output_type": "execute_result"
    }
   ],
   "source": [
    "np.arange(0,50,3)"
   ]
  },
  {
   "cell_type": "code",
   "execution_count": 22,
   "id": "57cca856-777a-48dd-b6d8-af4aed539aff",
   "metadata": {},
   "outputs": [
    {
     "data": {
      "text/plain": [
       "array([50, 45, 40, 35, 30, 25, 20, 15, 10,  5])"
      ]
     },
     "execution_count": 22,
     "metadata": {},
     "output_type": "execute_result"
    }
   ],
   "source": [
    "np.arange(50, 0, -5)"
   ]
  },
  {
   "cell_type": "markdown",
   "id": "7f486cb3-fe15-4db8-8b84-16ab6ab1c3b5",
   "metadata": {},
   "source": [
    "### 1.2.5 linspace()\n",
    "\n",
    "We use **linspace()** to create an array within a range of value for equal spaces."
   ]
  },
  {
   "cell_type": "code",
   "execution_count": 23,
   "id": "0ca0ad71-4bb4-4ea0-9afc-876b84ebd9dd",
   "metadata": {},
   "outputs": [
    {
     "data": {
      "text/plain": [
       "array([ 0.        ,  6.66666667, 13.33333333, 20.        ])"
      ]
     },
     "execution_count": 23,
     "metadata": {},
     "output_type": "execute_result"
    }
   ],
   "source": [
    "np.linspace(0,20,4)"
   ]
  },
  {
   "cell_type": "markdown",
   "id": "eb84a9ab-ffba-4ce6-9e22-ce6e9511e07c",
   "metadata": {},
   "source": [
    "## 1.3 Arithmetic Operators\n",
    "\n",
    "----\n",
    "\n",
    "We can also do arithmetic operations on Numpy arrays like addition, multiplication & so on using the arithmetic operators\n",
    "\n",
    "\n",
    "**1.3.1 Single-Dimensional Array - Arithmetic Operations**"
   ]
  },
  {
   "cell_type": "code",
   "execution_count": 24,
   "id": "62365e3b-3bd1-478f-a838-c459dcc8888f",
   "metadata": {},
   "outputs": [
    {
     "data": {
      "text/plain": [
       "array([[1, 2, 3],\n",
       "       [4, 5, 6],\n",
       "       [7, 8, 9]])"
      ]
     },
     "execution_count": 24,
     "metadata": {},
     "output_type": "execute_result"
    }
   ],
   "source": [
    "arr"
   ]
  },
  {
   "cell_type": "code",
   "execution_count": 25,
   "id": "234fad15-32f6-4249-b720-d068c86ec078",
   "metadata": {},
   "outputs": [
    {
     "data": {
      "text/plain": [
       "array([[ 4,  8, 12],\n",
       "       [16, 20, 24],\n",
       "       [28, 32, 36]])"
      ]
     },
     "execution_count": 25,
     "metadata": {},
     "output_type": "execute_result"
    }
   ],
   "source": [
    "arr*4"
   ]
  },
  {
   "cell_type": "code",
   "execution_count": 26,
   "id": "26362ed7-2f87-47d4-ba67-d3b1c4ee7e77",
   "metadata": {},
   "outputs": [
    {
     "data": {
      "text/plain": [
       "array([[ 3,  4,  5],\n",
       "       [ 6,  7,  8],\n",
       "       [ 9, 10, 11]])"
      ]
     },
     "execution_count": 26,
     "metadata": {},
     "output_type": "execute_result"
    }
   ],
   "source": [
    "arr+2"
   ]
  },
  {
   "cell_type": "code",
   "execution_count": 27,
   "id": "9b84b513-bb56-44be-8242-07c9a8063689",
   "metadata": {},
   "outputs": [
    {
     "data": {
      "text/plain": [
       "array([[[0, 1, 2],\n",
       "        [3, 4, 5],\n",
       "        [6, 7, 8]],\n",
       "\n",
       "       [[1, 2, 3],\n",
       "        [4, 5, 6],\n",
       "        [7, 8, 9]]])"
      ]
     },
     "execution_count": 27,
     "metadata": {},
     "output_type": "execute_result"
    }
   ],
   "source": [
    "arr2"
   ]
  },
  {
   "cell_type": "code",
   "execution_count": 28,
   "id": "b4a863e6-b5c2-4601-95fb-b5016ec3c116",
   "metadata": {},
   "outputs": [
    {
     "data": {
      "text/plain": [
       "array([[[ 1,  3,  5],\n",
       "        [ 7,  9, 11],\n",
       "        [13, 15, 17]],\n",
       "\n",
       "       [[ 2,  4,  6],\n",
       "        [ 8, 10, 12],\n",
       "        [14, 16, 18]]])"
      ]
     },
     "execution_count": 28,
     "metadata": {},
     "output_type": "execute_result"
    }
   ],
   "source": [
    "arr+arr2"
   ]
  },
  {
   "cell_type": "markdown",
   "id": "b16e47fa-817b-404a-9dc5-05634f41396a",
   "metadata": {},
   "source": [
    "**1.3.2 Mulit-dimensional Array - Arithmetic Operations**\n",
    "\n",
    "To reshape a single dimension array to multi-dimensional array we use **reshape()** function"
   ]
  },
  {
   "cell_type": "code",
   "execution_count": 29,
   "id": "7f41aeb3-2454-447b-9872-2aaa98fcb5c4",
   "metadata": {},
   "outputs": [
    {
     "ename": "ValueError",
     "evalue": "cannot reshape array of size 10 into shape (3,4)",
     "output_type": "error",
     "traceback": [
      "\u001b[0;31m---------------------------------------------------------------------------\u001b[0m",
      "\u001b[0;31mValueError\u001b[0m                                Traceback (most recent call last)",
      "Cell \u001b[0;32mIn[29], line 1\u001b[0m\n\u001b[0;32m----> 1\u001b[0m \u001b[43mnp\u001b[49m\u001b[38;5;241;43m.\u001b[39;49m\u001b[43marange\u001b[49m\u001b[43m(\u001b[49m\u001b[38;5;241;43m0\u001b[39;49m\u001b[43m,\u001b[49m\u001b[38;5;241;43m10\u001b[39;49m\u001b[43m)\u001b[49m\u001b[38;5;241;43m.\u001b[39;49m\u001b[43mreshape\u001b[49m\u001b[43m(\u001b[49m\u001b[38;5;241;43m3\u001b[39;49m\u001b[43m,\u001b[49m\u001b[38;5;241;43m4\u001b[39;49m\u001b[43m)\u001b[49m\n",
      "\u001b[0;31mValueError\u001b[0m: cannot reshape array of size 10 into shape (3,4)"
     ]
    }
   ],
   "source": [
    "np.arange(0,10).reshape(3,4)"
   ]
  },
  {
   "cell_type": "markdown",
   "id": "ace16a43-f845-402f-90b6-31e70723754a",
   "metadata": {},
   "source": [
    "As you can see above, we can only reshape a single dimention array to equal spaced multi dimension array, i.e., size 10 single dimension array can only be added to (1,10), (2,5), (5,2) or (10,1) shapes"
   ]
  },
  {
   "cell_type": "code",
   "execution_count": 30,
   "id": "af4d2aa8-3d8f-41aa-a094-071fca6a3916",
   "metadata": {},
   "outputs": [
    {
     "data": {
      "text/plain": [
       "array([[0, 1, 2],\n",
       "       [3, 4, 5],\n",
       "       [6, 7, 8]])"
      ]
     },
     "execution_count": 30,
     "metadata": {},
     "output_type": "execute_result"
    }
   ],
   "source": [
    "np.arange(0,9).reshape(3,3)"
   ]
  },
  {
   "cell_type": "markdown",
   "id": "a8a81583-3649-493e-819c-e1ec5797429a",
   "metadata": {},
   "source": [
    "**1.3.3 Matrix Product**\n",
    "\n",
    "If we want to do Matrix Product we need to use **dot()** function as it's not element-wise operation.\n",
    "\n",
    "For element-wise multiplication we can do arithmetic multiplication of arrays"
   ]
  },
  {
   "cell_type": "code",
   "execution_count": 31,
   "id": "3e09250a-8900-4953-a947-7dc8da45e746",
   "metadata": {},
   "outputs": [
    {
     "data": {
      "text/plain": [
       "array([[[ 0,  2,  6],\n",
       "        [12, 20, 30],\n",
       "        [42, 56, 72]],\n",
       "\n",
       "       [[ 1,  4,  9],\n",
       "        [16, 25, 36],\n",
       "        [49, 64, 81]]])"
      ]
     },
     "execution_count": 31,
     "metadata": {},
     "output_type": "execute_result"
    }
   ],
   "source": [
    "arr*arr2"
   ]
  },
  {
   "cell_type": "code",
   "execution_count": 32,
   "id": "4007a838-cf7a-49ac-8dc5-4b14b6be628e",
   "metadata": {},
   "outputs": [
    {
     "data": {
      "text/plain": [
       "array([[[ 24,  30,  36],\n",
       "        [ 30,  36,  42]],\n",
       "\n",
       "       [[ 51,  66,  81],\n",
       "        [ 66,  81,  96]],\n",
       "\n",
       "       [[ 78, 102, 126],\n",
       "        [102, 126, 150]]])"
      ]
     },
     "execution_count": 32,
     "metadata": {},
     "output_type": "execute_result"
    }
   ],
   "source": [
    "np.dot(arr,arr2)"
   ]
  },
  {
   "cell_type": "markdown",
   "id": "2b1e1e06-c60f-44ae-8054-adf8bad79bea",
   "metadata": {},
   "source": [
    "## 1.4 Numpy Functions\n",
    "\n",
    "----\n",
    "\n",
    "### 1.4.1 Universal Functions \n",
    "\n",
    "Commonly used Universal Function are:\n",
    "\n",
    "- Math operations **(`add()`, `log()`, `sqrt()`, so on)**\n",
    "- Trigonometric functions **(`sin()`, `cos()`, `hypot()`, so on)**\n",
    "- Bit-twiddling functions **(`isinf()`, `isnan()`, so on)**\n",
    "- Comparison functions **(`greater()`, `less()`, `equal()`, so on)**\n",
    "- FLoating function **(`bitwise_and()`, `bitwise_or()`, so on)**\n"
   ]
  },
  {
   "cell_type": "code",
   "execution_count": 33,
   "id": "26b8b2c3-b0d5-4a4f-afc7-7c8a40b27f73",
   "metadata": {},
   "outputs": [
    {
     "data": {
      "text/plain": [
       "array([[1.        , 1.41421356, 1.73205081],\n",
       "       [2.        , 2.23606798, 2.44948974],\n",
       "       [2.64575131, 2.82842712, 3.        ]])"
      ]
     },
     "execution_count": 33,
     "metadata": {},
     "output_type": "execute_result"
    }
   ],
   "source": [
    "np.sqrt(arr)"
   ]
  },
  {
   "cell_type": "code",
   "execution_count": 34,
   "id": "336416b6-10c6-490c-9a5c-c79cf9637568",
   "metadata": {},
   "outputs": [
    {
     "data": {
      "text/plain": [
       "array([1.        , 1.41421356, 1.73205081])"
      ]
     },
     "execution_count": 34,
     "metadata": {},
     "output_type": "execute_result"
    }
   ],
   "source": [
    "np.sqrt([1,2,3])"
   ]
  },
  {
   "cell_type": "code",
   "execution_count": 35,
   "id": "4fdb2f36-d555-454c-bac2-abd5dcc03249",
   "metadata": {},
   "outputs": [
    {
     "data": {
      "text/plain": [
       "array([[1, 2, 0],\n",
       "       [1, 2, 0],\n",
       "       [1, 2, 0]])"
      ]
     },
     "execution_count": 35,
     "metadata": {},
     "output_type": "execute_result"
    }
   ],
   "source": [
    "np.mod(arr,3)"
   ]
  },
  {
   "cell_type": "code",
   "execution_count": 36,
   "id": "f35d14fe-890f-419d-a13e-fdc1fcf1c97c",
   "metadata": {},
   "outputs": [
    {
     "name": "stderr",
     "output_type": "stream",
     "text": [
      "/tmp/ipykernel_12984/1183063027.py:1: RuntimeWarning: divide by zero encountered in log\n",
      "  np.log([2,np.e,10,1,0])\n"
     ]
    },
    {
     "data": {
      "text/plain": [
       "array([0.69314718, 1.        , 2.30258509, 0.        ,       -inf])"
      ]
     },
     "execution_count": 36,
     "metadata": {},
     "output_type": "execute_result"
    }
   ],
   "source": [
    "np.log([2,np.e,10,1,0])"
   ]
  },
  {
   "cell_type": "code",
   "execution_count": 37,
   "id": "b91f1805-9a84-4117-98df-d4d2db165040",
   "metadata": {},
   "outputs": [
    {
     "name": "stderr",
     "output_type": "stream",
     "text": [
      "/tmp/ipykernel_12984/329020094.py:1: RuntimeWarning: divide by zero encountered in log\n",
      "  np.isinf(np.log([-1,0,1,2,10]))\n",
      "/tmp/ipykernel_12984/329020094.py:1: RuntimeWarning: invalid value encountered in log\n",
      "  np.isinf(np.log([-1,0,1,2,10]))\n"
     ]
    },
    {
     "data": {
      "text/plain": [
       "array([False,  True, False, False, False])"
      ]
     },
     "execution_count": 37,
     "metadata": {},
     "output_type": "execute_result"
    }
   ],
   "source": [
    "np.isinf(np.log([-1,0,1,2,10]))"
   ]
  },
  {
   "cell_type": "code",
   "execution_count": 38,
   "id": "69061939-5e5b-4e72-8c7a-144b6c691f57",
   "metadata": {},
   "outputs": [
    {
     "name": "stderr",
     "output_type": "stream",
     "text": [
      "/tmp/ipykernel_12984/3607678861.py:1: RuntimeWarning: divide by zero encountered in log\n",
      "  np.isnan(np.log([-1,0,1,2,10]))\n",
      "/tmp/ipykernel_12984/3607678861.py:1: RuntimeWarning: invalid value encountered in log\n",
      "  np.isnan(np.log([-1,0,1,2,10]))\n"
     ]
    },
    {
     "data": {
      "text/plain": [
       "array([ True, False, False, False, False])"
      ]
     },
     "execution_count": 38,
     "metadata": {},
     "output_type": "execute_result"
    }
   ],
   "source": [
    "np.isnan(np.log([-1,0,1,2,10]))"
   ]
  },
  {
   "cell_type": "markdown",
   "id": "b35fba3b-452f-4dc1-87d3-8ccd4e9c98d2",
   "metadata": {},
   "source": [
    "### 1.4.2 Aggregate Functions\n",
    "\n",
    "- Aggregate functions perform an operation on a set of values and produce a single result.\n",
    "- Therefore, the sum of all the elements in an array is an aggregate function.\n",
    "- Consider a = np.array(`[1, 2, 3, 4, 5]`), here are some mostly used aggregate functions performed on array 'a'. \n",
    "\n",
    "| Function | Description | Syntax | Output |\n",
    "| ---- | ---- | ---- | ---- |\n",
    "| sum | Calculate the sum of the given numbers | `a.sum()` | 15 |\n",
    "| min | Find out the minimum number from the given | `a.min()` | 1 |\n",
    "| max | Find out the maximum number from the given |  `a.max()` | 5 |\n",
    "| mean | Calculate the mean of the given numbers | `a.mean()` | 3 |\n",
    "| std | Calculate the standard deviation of the given numbers | `a.std()` | 1.414 |\n"
   ]
  },
  {
   "cell_type": "code",
   "execution_count": 39,
   "id": "b18c5afc-592d-409b-b744-60b9d5791a2a",
   "metadata": {},
   "outputs": [],
   "source": [
    "arr01 = np.array([1,2,3,4,5])"
   ]
  },
  {
   "cell_type": "code",
   "execution_count": 40,
   "id": "ae248fd6-5b76-47c5-b64f-24cad5099f16",
   "metadata": {},
   "outputs": [
    {
     "data": {
      "text/plain": [
       "np.int64(15)"
      ]
     },
     "execution_count": 40,
     "metadata": {},
     "output_type": "execute_result"
    }
   ],
   "source": [
    "arr01.sum()"
   ]
  },
  {
   "cell_type": "code",
   "execution_count": 41,
   "id": "e1a84e64-171b-42be-8bf8-954d8c537236",
   "metadata": {},
   "outputs": [
    {
     "data": {
      "text/plain": [
       "np.int64(1)"
      ]
     },
     "execution_count": 41,
     "metadata": {},
     "output_type": "execute_result"
    }
   ],
   "source": [
    "arr01.min()"
   ]
  },
  {
   "cell_type": "code",
   "execution_count": 42,
   "id": "c89255f6-3210-4d3c-98f7-e02bca062d46",
   "metadata": {},
   "outputs": [
    {
     "data": {
      "text/plain": [
       "np.int64(5)"
      ]
     },
     "execution_count": 42,
     "metadata": {},
     "output_type": "execute_result"
    }
   ],
   "source": [
    "arr01.max()"
   ]
  },
  {
   "cell_type": "code",
   "execution_count": 43,
   "id": "ccd5ab7e-d746-4b18-b752-2fbff81dbc66",
   "metadata": {},
   "outputs": [
    {
     "data": {
      "text/plain": [
       "np.float64(3.0)"
      ]
     },
     "execution_count": 43,
     "metadata": {},
     "output_type": "execute_result"
    }
   ],
   "source": [
    "arr01.mean()"
   ]
  },
  {
   "cell_type": "code",
   "execution_count": 44,
   "id": "603fc0e0-fad2-44b6-b9a7-32f967e364c4",
   "metadata": {},
   "outputs": [
    {
     "data": {
      "text/plain": [
       "np.float64(1.4142135623730951)"
      ]
     },
     "execution_count": 44,
     "metadata": {},
     "output_type": "execute_result"
    }
   ],
   "source": [
    "arr01.std()"
   ]
  },
  {
   "cell_type": "markdown",
   "id": "ec9db4c2-2d1d-4797-831c-63195ffae1cd",
   "metadata": {},
   "source": [
    "### 1.4.3 Logic Functions\n",
    "\n",
    "Some commonly used logic functions are:\n",
    "\n",
    "- Testing Truth Value\n",
    "- Testing Array Value\n",
    "- Logical Operations\n",
    "- Comparisons\n",
    "\n",
    "----\n",
    "\n",
    "**1.4.3 a) Testing Truth Value**\n",
    "\n",
    "- **`np.all()`** ---> Returns True if all elements evaluates to True along a given axis\n",
    "- **`np.any()`** ---> Returns True if any elements evaluates to True along a given axis\n",
    "\n",
    "\n",
    "*Note: __NaN__, __+ve infinity__ & __-ve infinity__ evaluates to __True__ because these are not equal to zero.*"
   ]
  },
  {
   "cell_type": "code",
   "execution_count": 45,
   "id": "caaf436f-3af8-4f15-9b74-64653605f42a",
   "metadata": {},
   "outputs": [
    {
     "data": {
      "text/plain": [
       "np.False_"
      ]
     },
     "execution_count": 45,
     "metadata": {},
     "output_type": "execute_result"
    }
   ],
   "source": [
    "np.all([[True,False],[True,True]])"
   ]
  },
  {
   "cell_type": "code",
   "execution_count": 46,
   "id": "37e9752d-cc4f-461f-af17-c4401b32a254",
   "metadata": {},
   "outputs": [
    {
     "data": {
      "text/plain": [
       "array([ True, False])"
      ]
     },
     "execution_count": 46,
     "metadata": {},
     "output_type": "execute_result"
    }
   ],
   "source": [
    "np.all([[True,False],[True,True]],axis=0)"
   ]
  },
  {
   "cell_type": "code",
   "execution_count": 47,
   "id": "d18b9eab-f551-43a8-83c6-0baeb811929e",
   "metadata": {},
   "outputs": [
    {
     "data": {
      "text/plain": [
       "array([ True, False])"
      ]
     },
     "execution_count": 47,
     "metadata": {},
     "output_type": "execute_result"
    }
   ],
   "source": [
    "np.all([[-1,4,5],[0,5,3]],axis=1)"
   ]
  },
  {
   "cell_type": "code",
   "execution_count": 48,
   "id": "b5ac15d1-b47b-47f9-a5e4-3b90f29a0224",
   "metadata": {},
   "outputs": [
    {
     "data": {
      "text/plain": [
       "np.True_"
      ]
     },
     "execution_count": 48,
     "metadata": {},
     "output_type": "execute_result"
    }
   ],
   "source": [
    "np.all([-1,4,5])"
   ]
  },
  {
   "cell_type": "code",
   "execution_count": 49,
   "id": "6f7f2bb3-fd6e-45a2-99bb-2f92d802d9b1",
   "metadata": {},
   "outputs": [
    {
     "data": {
      "text/plain": [
       "np.True_"
      ]
     },
     "execution_count": 49,
     "metadata": {},
     "output_type": "execute_result"
    }
   ],
   "source": [
    "np.any([[True,False],[True,True]])"
   ]
  },
  {
   "cell_type": "code",
   "execution_count": 50,
   "id": "275249bb-d654-4e61-92fd-fa2b0e2185ee",
   "metadata": {},
   "outputs": [
    {
     "data": {
      "text/plain": [
       "array([ True,  True])"
      ]
     },
     "execution_count": 50,
     "metadata": {},
     "output_type": "execute_result"
    }
   ],
   "source": [
    "np.any([[True,False],[True,True]],axis=0)"
   ]
  },
  {
   "cell_type": "code",
   "execution_count": 51,
   "id": "d9062c4e-f53a-4631-b063-c5a6d5e64861",
   "metadata": {},
   "outputs": [
    {
     "data": {
      "text/plain": [
       "array([ True,  True])"
      ]
     },
     "execution_count": 51,
     "metadata": {},
     "output_type": "execute_result"
    }
   ],
   "source": [
    "np.any([[-1,4,5],[0,5,3]],axis=1)"
   ]
  },
  {
   "cell_type": "code",
   "execution_count": 52,
   "id": "21c4a49b-1b29-4557-8659-c9aa6047babb",
   "metadata": {},
   "outputs": [
    {
     "data": {
      "text/plain": [
       "np.True_"
      ]
     },
     "execution_count": 52,
     "metadata": {},
     "output_type": "execute_result"
    }
   ],
   "source": [
    "np.any([-1,4,5])"
   ]
  },
  {
   "cell_type": "markdown",
   "id": "0526f920-2d14-466a-8a3e-6f3f4d516f43",
   "metadata": {},
   "source": [
    "**1.4.3 b) Testing Array Type**\n",
    "\n",
    "- **`np.iscomplex()`** ---> TRUE if input elements is complex\n",
    "- **`np.isreal()`** ---> TRUE if input elements is real"
   ]
  },
  {
   "cell_type": "code",
   "execution_count": 53,
   "id": "ffa1e6c2-3c44-4636-8a07-8862aa1b4d88",
   "metadata": {},
   "outputs": [
    {
     "data": {
      "text/plain": [
       "array([ True, False, False,  True])"
      ]
     },
     "execution_count": 53,
     "metadata": {},
     "output_type": "execute_result"
    }
   ],
   "source": [
    "np.iscomplex([2+1j,3,5.4,7-2j])"
   ]
  },
  {
   "cell_type": "code",
   "execution_count": 54,
   "id": "cdcc6718-8b63-459b-8aca-ed76031f0900",
   "metadata": {},
   "outputs": [
    {
     "data": {
      "text/plain": [
       "array([False,  True,  True, False])"
      ]
     },
     "execution_count": 54,
     "metadata": {},
     "output_type": "execute_result"
    }
   ],
   "source": [
    "np.isreal([2+1j,3,5.4,7-2j])"
   ]
  },
  {
   "cell_type": "markdown",
   "id": "cfc97b72-9393-4962-bcfe-05a3b69c8bd3",
   "metadata": {},
   "source": [
    "**1.4.3 c) Logical Operations**\n",
    "\n",
    "- `np.logical_and()`\n",
    "- `np.logical_or()` \n",
    "- `np.logical_not()`\n",
    "- `np.logical_xor()`"
   ]
  },
  {
   "cell_type": "code",
   "execution_count": 55,
   "id": "f0ca532a-35ea-4359-86fa-e3a26cbc10f8",
   "metadata": {},
   "outputs": [
    {
     "data": {
      "text/plain": [
       "array([[1, 2, 3],\n",
       "       [4, 5, 6],\n",
       "       [7, 8, 9]])"
      ]
     },
     "execution_count": 55,
     "metadata": {},
     "output_type": "execute_result"
    }
   ],
   "source": [
    "y = np.array(x)\n",
    "y"
   ]
  },
  {
   "cell_type": "code",
   "execution_count": 56,
   "id": "18b342f0-60fe-4cae-b306-a339e472d9c2",
   "metadata": {},
   "outputs": [
    {
     "data": {
      "text/plain": [
       "array([[False,  True,  True],\n",
       "       [False, False, False],\n",
       "       [False, False, False]])"
      ]
     },
     "execution_count": 56,
     "metadata": {},
     "output_type": "execute_result"
    }
   ],
   "source": [
    "np.logical_and(y>1,y<4)"
   ]
  },
  {
   "cell_type": "markdown",
   "id": "747f6c86-a54f-4d94-a50b-72ebdeabd288",
   "metadata": {},
   "source": [
    "**1.4.3 d) Comparisons**\n",
    "\n",
    "- **`np.greater()`** ---> TRUE when `x1 > x2`\n",
    "- **`np.greater_equal()`** ---> TRUE when `x1 >= x2`\n",
    "- **`np.less()`** ---> TRUE when `x1 < x2`\n",
    "- **`np.less_equal()`** ---> TRUE when `x1 <= x2`\n",
    "- **`np.equal()`** ---> TRUE when `x1 == x2`\n",
    "- **`np.not_equal()`** ---> TRUE when `x1 != x2`"
   ]
  },
  {
   "cell_type": "code",
   "execution_count": 57,
   "id": "23b38e21-3d8b-4ee8-86c3-a1aff7280744",
   "metadata": {},
   "outputs": [
    {
     "data": {
      "text/plain": [
       "array([ True,  True,  True])"
      ]
     },
     "execution_count": 57,
     "metadata": {},
     "output_type": "execute_result"
    }
   ],
   "source": [
    "np.greater(y[2],y[0])"
   ]
  },
  {
   "cell_type": "code",
   "execution_count": 58,
   "id": "435daffc-861c-4277-8589-8c8c3c105c5f",
   "metadata": {},
   "outputs": [
    {
     "data": {
      "text/plain": [
       "array([False, False,  True, False, False])"
      ]
     },
     "execution_count": 58,
     "metadata": {},
     "output_type": "execute_result"
    }
   ],
   "source": [
    "np.equal([3,5,2,7,9],[1,7,2,5,10])"
   ]
  },
  {
   "cell_type": "code",
   "execution_count": 59,
   "id": "17fd397b-71bd-46b4-9413-2251df6b2c22",
   "metadata": {},
   "outputs": [
    {
     "data": {
      "text/plain": [
       "array([ True, False, False,  True, False])"
      ]
     },
     "execution_count": 59,
     "metadata": {},
     "output_type": "execute_result"
    }
   ],
   "source": [
    "np.greater([3,5,2,7,9],[1,7,2,5,10])"
   ]
  },
  {
   "cell_type": "code",
   "execution_count": 60,
   "id": "507c7992-58a8-441b-a47b-f03b138a0c73",
   "metadata": {},
   "outputs": [
    {
     "data": {
      "text/plain": [
       "array([ True, False,  True,  True, False])"
      ]
     },
     "execution_count": 60,
     "metadata": {},
     "output_type": "execute_result"
    }
   ],
   "source": [
    "np.greater_equal([3,5,2,7,9],[1,7,2,5,10])"
   ]
  },
  {
   "cell_type": "markdown",
   "id": "1b5eee84-7806-4d53-b1b6-76d9ee708825",
   "metadata": {},
   "source": [
    "## 1.5 Indexing\n",
    "\n",
    "Just like lists we use [] to index elements of the array."
   ]
  },
  {
   "cell_type": "code",
   "execution_count": 61,
   "id": "310675ef-36d0-4f96-bf56-7624b069ca16",
   "metadata": {},
   "outputs": [
    {
     "data": {
      "text/plain": [
       "array([4, 5, 6])"
      ]
     },
     "execution_count": 61,
     "metadata": {},
     "output_type": "execute_result"
    }
   ],
   "source": [
    "y[1]"
   ]
  },
  {
   "cell_type": "code",
   "execution_count": 62,
   "id": "c182ccce-498d-49f4-8087-f10d074bf825",
   "metadata": {},
   "outputs": [
    {
     "data": {
      "text/plain": [
       "np.int64(6)"
      ]
     },
     "execution_count": 62,
     "metadata": {},
     "output_type": "execute_result"
    }
   ],
   "source": [
    "y[1,2]"
   ]
  },
  {
   "cell_type": "code",
   "execution_count": 63,
   "id": "0976ca70-6e5e-4aeb-8cd8-8d75723ba2d5",
   "metadata": {},
   "outputs": [
    {
     "data": {
      "text/plain": [
       "array([7, 8, 9])"
      ]
     },
     "execution_count": 63,
     "metadata": {},
     "output_type": "execute_result"
    }
   ],
   "source": [
    "y[-1]"
   ]
  },
  {
   "cell_type": "code",
   "execution_count": 64,
   "id": "87f544ba-611a-421e-8673-fede6b344b0e",
   "metadata": {},
   "outputs": [
    {
     "data": {
      "text/plain": [
       "np.int64(9)"
      ]
     },
     "execution_count": 64,
     "metadata": {},
     "output_type": "execute_result"
    }
   ],
   "source": [
    "y[-1,-1]"
   ]
  },
  {
   "cell_type": "code",
   "execution_count": 65,
   "id": "ec2b182d-ddaf-46cd-bab0-a352e9c08260",
   "metadata": {},
   "outputs": [
    {
     "data": {
      "text/plain": [
       "array([[ 8, 15],\n",
       "       [ 6, 62]])"
      ]
     },
     "execution_count": 65,
     "metadata": {},
     "output_type": "execute_result"
    }
   ],
   "source": [
    "#Fancy Indexing\n",
    "arr001 = np.array([6,9,5,56,62,68,15,65,20,8])\n",
    "ind = np.array([[-1,-4],[0,4]])\n",
    "arr001[ind]"
   ]
  },
  {
   "cell_type": "markdown",
   "id": "e4b7320b-37ea-46bb-808b-4126546fc218",
   "metadata": {},
   "source": [
    "## 1.6 Slicing\n",
    "\n",
    "- Slicing allows us to extract a portion of an array to generate a new array\n",
    "- The slice object is constructed by using start, stop & step parameters in the slice() function"
   ]
  },
  {
   "cell_type": "code",
   "execution_count": 66,
   "id": "16aa87ee-951d-47f4-8054-8c1ebdbd52fa",
   "metadata": {},
   "outputs": [
    {
     "data": {
      "text/plain": [
       "array([ 0,  1,  2,  3,  4,  5,  6,  7,  8,  9, 10, 11, 12, 13, 14, 15, 16,\n",
       "       17, 18, 19])"
      ]
     },
     "execution_count": 66,
     "metadata": {},
     "output_type": "execute_result"
    }
   ],
   "source": [
    "p1 = np.arange(20)\n",
    "p1"
   ]
  },
  {
   "cell_type": "code",
   "execution_count": 67,
   "id": "32b0ffc4-206e-40b3-aa06-eaa341dad913",
   "metadata": {},
   "outputs": [],
   "source": [
    "s = slice(1,10,2)"
   ]
  },
  {
   "cell_type": "code",
   "execution_count": 68,
   "id": "99b96302-40df-4957-968d-a91bb7d1c736",
   "metadata": {},
   "outputs": [
    {
     "data": {
      "text/plain": [
       "array([1, 3, 5, 7, 9])"
      ]
     },
     "execution_count": 68,
     "metadata": {},
     "output_type": "execute_result"
    }
   ],
   "source": [
    "p1[s]"
   ]
  },
  {
   "cell_type": "markdown",
   "id": "74708c76-c4eb-49cb-982b-554bde338bbc",
   "metadata": {},
   "source": [
    "## 1.7 Iterating in a NumPy Array\n",
    "\n",
    "- NumPy package contains an iterator object numpy.nditer\n",
    "- It's an efficient multidimensional iterator object using which it is possible to iterate over an array.\n",
    "\n",
    "Here we can access individual elements of the arrays."
   ]
  },
  {
   "cell_type": "code",
   "execution_count": 69,
   "id": "f99dd708-e1e4-4676-bc8f-98ab73c0b1b5",
   "metadata": {
    "scrolled": true
   },
   "outputs": [
    {
     "name": "stdout",
     "output_type": "stream",
     "text": [
      "0\n",
      "1\n",
      "2\n",
      "3\n",
      "4\n",
      "5\n",
      "6\n",
      "7\n",
      "8\n",
      "9\n",
      "10\n",
      "11\n",
      "12\n",
      "13\n",
      "14\n",
      "15\n",
      "16\n",
      "17\n",
      "18\n",
      "19\n"
     ]
    }
   ],
   "source": [
    "for x in np.nditer(p1):\n",
    "    print(x)"
   ]
  },
  {
   "cell_type": "markdown",
   "id": "e4528fe5-b81a-4046-93ee-a3e212d2b6fc",
   "metadata": {},
   "source": [
    "## 1.8 Array Manipulation\n",
    "\n",
    "Some array manipulation routines are:\n",
    "\n",
    "- Changing array shape\n",
    "- Transpose like operations\n",
    "- Joining arrays\n",
    "- Splitting arrays\n",
    "\n",
    "### 1.8.1 Changing array shape\n",
    "\n",
    "- **`reshape()`** ---> It gives a new shape to an array without changing the data\n",
    "- **`ravel()`** ---> It's used to convert a 2D array to 1D array"
   ]
  },
  {
   "cell_type": "code",
   "execution_count": 70,
   "id": "37f709ea-c8fe-4ee8-9aa4-11c7a47375d6",
   "metadata": {},
   "outputs": [
    {
     "data": {
      "text/plain": [
       "array([[0, 1, 2],\n",
       "       [3, 4, 5],\n",
       "       [6, 7, 8]])"
      ]
     },
     "execution_count": 70,
     "metadata": {},
     "output_type": "execute_result"
    }
   ],
   "source": [
    "a = np.arange(0,9)\n",
    "new_A = np.reshape(a,(3,3))\n",
    "new_A"
   ]
  },
  {
   "cell_type": "code",
   "execution_count": 71,
   "id": "1d614327-c7a4-44d9-9e89-e13fa7fda2ac",
   "metadata": {},
   "outputs": [
    {
     "data": {
      "text/plain": [
       "array([0, 1, 2, 3, 4, 5, 6, 7, 8])"
      ]
     },
     "execution_count": 71,
     "metadata": {},
     "output_type": "execute_result"
    }
   ],
   "source": [
    "new_A.ravel()"
   ]
  },
  {
   "cell_type": "markdown",
   "id": "3654c90d-b1c4-4284-a9d2-b28e2cb92de3",
   "metadata": {},
   "source": [
    "## 1.8.2 Transpose-Like Operations\n",
    "\n",
    "**`transpose()`** function or **`T`** attribute is used to invert columns with the rows"
   ]
  },
  {
   "cell_type": "code",
   "execution_count": 72,
   "id": "d111f0ac-75dd-4b07-b0d1-d79fdc10723b",
   "metadata": {},
   "outputs": [
    {
     "data": {
      "text/plain": [
       "array([[0, 3, 6],\n",
       "       [1, 4, 7],\n",
       "       [2, 5, 8]])"
      ]
     },
     "execution_count": 72,
     "metadata": {},
     "output_type": "execute_result"
    }
   ],
   "source": [
    "new_A.T"
   ]
  },
  {
   "cell_type": "code",
   "execution_count": 73,
   "id": "1f0f0de9-ab0c-4410-8d00-ca2ce95a8557",
   "metadata": {},
   "outputs": [
    {
     "data": {
      "text/plain": [
       "array([[0, 3, 6],\n",
       "       [1, 4, 7],\n",
       "       [2, 5, 8]])"
      ]
     },
     "execution_count": 73,
     "metadata": {},
     "output_type": "execute_result"
    }
   ],
   "source": [
    "new_A.transpose()"
   ]
  },
  {
   "cell_type": "markdown",
   "id": "a7a77fde-be16-4f61-bed3-08ac2c1ae4c9",
   "metadata": {},
   "source": [
    "### 1.8.3 Joining Arrays\n",
    "\n",
    "- **`concatenate()`** ---> Joins a sequence of arrays along an existing axis.\n",
    "- **`stack()`** ---> Joins a sequence of arrays along a new axis.\n",
    "- **`column_stack()`** ---> Stacks 1D arrays as columns into a 2D array.\n",
    "- **`hstack()`** ---> Adds the second array to the columns of the first array.\n",
    "- **`vstack()`** ---> Adds the second array as a new row to the first array."
   ]
  },
  {
   "cell_type": "code",
   "execution_count": 74,
   "id": "8d0f9ef0-7bb0-4354-9973-65b31e705062",
   "metadata": {},
   "outputs": [
    {
     "data": {
      "text/plain": [
       "array([ 1,  2,  3,  4,  5,  6,  7,  8,  9, 11, 12, 13])"
      ]
     },
     "execution_count": 74,
     "metadata": {},
     "output_type": "execute_result"
    }
   ],
   "source": [
    "a = np.array([[1,2,3],[4,5,6]])\n",
    "b = np.array([[7,8,9],[11,12,13]])\n",
    "\n",
    "np.concatenate((a,b),axis=None)"
   ]
  },
  {
   "cell_type": "code",
   "execution_count": 75,
   "id": "9a8efdd4-54fa-4c70-bfd3-007a70f22ffa",
   "metadata": {},
   "outputs": [
    {
     "data": {
      "text/plain": [
       "array([[ 1,  2,  3,  7,  8,  9],\n",
       "       [ 4,  5,  6, 11, 12, 13]])"
      ]
     },
     "execution_count": 75,
     "metadata": {},
     "output_type": "execute_result"
    }
   ],
   "source": [
    "np.concatenate((a,b),axis=1)"
   ]
  },
  {
   "cell_type": "code",
   "execution_count": 76,
   "id": "2abcebe4-0351-478e-b1cf-6ee2919c7fae",
   "metadata": {},
   "outputs": [
    {
     "data": {
      "text/plain": [
       "array([[ 1,  2,  3],\n",
       "       [ 4,  5,  6],\n",
       "       [ 7,  8,  9],\n",
       "       [11, 12, 13]])"
      ]
     },
     "execution_count": 76,
     "metadata": {},
     "output_type": "execute_result"
    }
   ],
   "source": [
    "np.concatenate((a,b),axis=0)"
   ]
  },
  {
   "cell_type": "code",
   "execution_count": 77,
   "id": "cebe0ee9-81ae-4b99-8d2d-05539adc8b3b",
   "metadata": {},
   "outputs": [
    {
     "data": {
      "text/plain": [
       "array([[[ 1,  2,  3],\n",
       "        [ 4,  5,  6]],\n",
       "\n",
       "       [[ 7,  8,  9],\n",
       "        [11, 12, 13]]])"
      ]
     },
     "execution_count": 77,
     "metadata": {},
     "output_type": "execute_result"
    }
   ],
   "source": [
    "np.stack((a,b))"
   ]
  },
  {
   "cell_type": "code",
   "execution_count": 78,
   "id": "598adc5c-0fb5-4cf1-9b8c-3e64c3ae65e4",
   "metadata": {},
   "outputs": [
    {
     "data": {
      "text/plain": [
       "array([[ 1,  2,  3,  7,  8,  9],\n",
       "       [ 4,  5,  6, 11, 12, 13]])"
      ]
     },
     "execution_count": 78,
     "metadata": {},
     "output_type": "execute_result"
    }
   ],
   "source": [
    "np.column_stack((a,b))"
   ]
  },
  {
   "cell_type": "code",
   "execution_count": 79,
   "id": "cdf1bd21-8eec-41ce-a0a0-8a3e5b90eed8",
   "metadata": {},
   "outputs": [
    {
     "data": {
      "text/plain": [
       "array([[ 1,  2,  3,  7,  8,  9],\n",
       "       [ 4,  5,  6, 11, 12, 13]])"
      ]
     },
     "execution_count": 79,
     "metadata": {},
     "output_type": "execute_result"
    }
   ],
   "source": [
    "np.hstack((a,b))"
   ]
  },
  {
   "cell_type": "code",
   "execution_count": 80,
   "id": "86528bef-711c-4d9a-8520-37bc3ae83e35",
   "metadata": {},
   "outputs": [
    {
     "data": {
      "text/plain": [
       "array([[ 1,  2,  3],\n",
       "       [ 4,  5,  6],\n",
       "       [ 7,  8,  9],\n",
       "       [11, 12, 13]])"
      ]
     },
     "execution_count": 80,
     "metadata": {},
     "output_type": "execute_result"
    }
   ],
   "source": [
    "np.vstack((a,b))"
   ]
  },
  {
   "cell_type": "markdown",
   "id": "b14241df-7b8e-4379-9a02-89a6d3a1fade",
   "metadata": {},
   "source": [
    "### 1.8.4 Splitting array\n",
    "\n",
    "- **`split()`** ---> Splits array into multiple sub-array.\n",
    "- **`hsplit()`** ---> Splits array horizontally.\n",
    "- **`vsplit()`** ---> Splits array vertically."
   ]
  },
  {
   "cell_type": "code",
   "execution_count": 81,
   "id": "56e61959-8814-4559-827c-cbfaf461c98f",
   "metadata": {},
   "outputs": [
    {
     "data": {
      "text/plain": [
       "[array([0, 1, 2, 3, 4]), array([5, 6, 7, 8, 9])]"
      ]
     },
     "execution_count": 81,
     "metadata": {},
     "output_type": "execute_result"
    }
   ],
   "source": [
    "np.split(np.arange(10),2)"
   ]
  },
  {
   "cell_type": "code",
   "execution_count": 82,
   "id": "8e72e2e8-a049-416a-a1a2-105158c9fb15",
   "metadata": {},
   "outputs": [
    {
     "ename": "ValueError",
     "evalue": "array split does not result in an equal division",
     "output_type": "error",
     "traceback": [
      "\u001b[0;31m---------------------------------------------------------------------------\u001b[0m",
      "\u001b[0;31mValueError\u001b[0m                                Traceback (most recent call last)",
      "Cell \u001b[0;32mIn[82], line 1\u001b[0m\n\u001b[0;32m----> 1\u001b[0m \u001b[43mnp\u001b[49m\u001b[38;5;241;43m.\u001b[39;49m\u001b[43msplit\u001b[49m\u001b[43m(\u001b[49m\u001b[43mnp\u001b[49m\u001b[38;5;241;43m.\u001b[39;49m\u001b[43marange\u001b[49m\u001b[43m(\u001b[49m\u001b[38;5;241;43m10\u001b[39;49m\u001b[43m)\u001b[49m\u001b[43m,\u001b[49m\u001b[38;5;241;43m3\u001b[39;49m\u001b[43m)\u001b[49m\n",
      "File \u001b[0;32m~/.local/lib/python3.10/site-packages/numpy/lib/_shape_base_impl.py:874\u001b[0m, in \u001b[0;36msplit\u001b[0;34m(ary, indices_or_sections, axis)\u001b[0m\n\u001b[1;32m    872\u001b[0m     N \u001b[38;5;241m=\u001b[39m ary\u001b[38;5;241m.\u001b[39mshape[axis]\n\u001b[1;32m    873\u001b[0m     \u001b[38;5;28;01mif\u001b[39;00m N \u001b[38;5;241m%\u001b[39m sections:\n\u001b[0;32m--> 874\u001b[0m         \u001b[38;5;28;01mraise\u001b[39;00m \u001b[38;5;167;01mValueError\u001b[39;00m(\n\u001b[1;32m    875\u001b[0m             \u001b[38;5;124m'\u001b[39m\u001b[38;5;124marray split does not result in an equal division\u001b[39m\u001b[38;5;124m'\u001b[39m) \u001b[38;5;28;01mfrom\u001b[39;00m \u001b[38;5;28;01mNone\u001b[39;00m\n\u001b[1;32m    876\u001b[0m \u001b[38;5;28;01mreturn\u001b[39;00m array_split(ary, indices_or_sections, axis)\n",
      "\u001b[0;31mValueError\u001b[0m: array split does not result in an equal division"
     ]
    }
   ],
   "source": [
    "np.split(np.arange(10),3)"
   ]
  },
  {
   "cell_type": "markdown",
   "id": "36f354cd-8225-49d2-987b-6a8f606bf6df",
   "metadata": {},
   "source": [
    "As you can see we need to have equal division for splits, i.e., to split any array, you need to have it split into equal sizes"
   ]
  },
  {
   "cell_type": "code",
   "execution_count": 83,
   "id": "391dff1a-0c73-45f4-b537-d5eed1df4f6b",
   "metadata": {},
   "outputs": [
    {
     "data": {
      "text/plain": [
       "[array([[0, 1],\n",
       "        [4, 5],\n",
       "        [8, 9]]),\n",
       " array([[ 2,  3],\n",
       "        [ 6,  7],\n",
       "        [10, 11]])]"
      ]
     },
     "execution_count": 83,
     "metadata": {},
     "output_type": "execute_result"
    }
   ],
   "source": [
    "np.hsplit(np.arange(12).reshape(3,4),2)"
   ]
  },
  {
   "cell_type": "code",
   "execution_count": 84,
   "id": "3de52f05-80f0-4fc1-a618-5bc9d6bc4eb8",
   "metadata": {},
   "outputs": [
    {
     "data": {
      "text/plain": [
       "[array([[0, 1, 2, 3],\n",
       "        [4, 5, 6, 7]]),\n",
       " array([[ 8,  9, 10, 11],\n",
       "        [12, 13, 14, 15]])]"
      ]
     },
     "execution_count": 84,
     "metadata": {},
     "output_type": "execute_result"
    }
   ],
   "source": [
    "np.vsplit(np.arange(16).reshape(4,4),2)"
   ]
  },
  {
   "cell_type": "code",
   "execution_count": 85,
   "id": "942d2f84-d39f-4f50-b279-332974e1edef",
   "metadata": {},
   "outputs": [
    {
     "ename": "ValueError",
     "evalue": "array split does not result in an equal division",
     "output_type": "error",
     "traceback": [
      "\u001b[0;31m---------------------------------------------------------------------------\u001b[0m",
      "\u001b[0;31mValueError\u001b[0m                                Traceback (most recent call last)",
      "Cell \u001b[0;32mIn[85], line 1\u001b[0m\n\u001b[0;32m----> 1\u001b[0m \u001b[43mnp\u001b[49m\u001b[38;5;241;43m.\u001b[39;49m\u001b[43mvsplit\u001b[49m\u001b[43m(\u001b[49m\u001b[43mnp\u001b[49m\u001b[38;5;241;43m.\u001b[39;49m\u001b[43marange\u001b[49m\u001b[43m(\u001b[49m\u001b[38;5;241;43m12\u001b[39;49m\u001b[43m)\u001b[49m\u001b[38;5;241;43m.\u001b[39;49m\u001b[43mreshape\u001b[49m\u001b[43m(\u001b[49m\u001b[38;5;241;43m3\u001b[39;49m\u001b[43m,\u001b[49m\u001b[38;5;241;43m4\u001b[39;49m\u001b[43m)\u001b[49m\u001b[43m,\u001b[49m\u001b[38;5;241;43m2\u001b[39;49m\u001b[43m)\u001b[49m\n",
      "File \u001b[0;32m~/.local/lib/python3.10/site-packages/numpy/lib/_shape_base_impl.py:1003\u001b[0m, in \u001b[0;36mvsplit\u001b[0;34m(ary, indices_or_sections)\u001b[0m\n\u001b[1;32m   1001\u001b[0m \u001b[38;5;28;01mif\u001b[39;00m _nx\u001b[38;5;241m.\u001b[39mndim(ary) \u001b[38;5;241m<\u001b[39m \u001b[38;5;241m2\u001b[39m:\n\u001b[1;32m   1002\u001b[0m     \u001b[38;5;28;01mraise\u001b[39;00m \u001b[38;5;167;01mValueError\u001b[39;00m(\u001b[38;5;124m'\u001b[39m\u001b[38;5;124mvsplit only works on arrays of 2 or more dimensions\u001b[39m\u001b[38;5;124m'\u001b[39m)\n\u001b[0;32m-> 1003\u001b[0m \u001b[38;5;28;01mreturn\u001b[39;00m \u001b[43msplit\u001b[49m\u001b[43m(\u001b[49m\u001b[43mary\u001b[49m\u001b[43m,\u001b[49m\u001b[43m \u001b[49m\u001b[43mindices_or_sections\u001b[49m\u001b[43m,\u001b[49m\u001b[43m \u001b[49m\u001b[38;5;241;43m0\u001b[39;49m\u001b[43m)\u001b[49m\n",
      "File \u001b[0;32m~/.local/lib/python3.10/site-packages/numpy/lib/_shape_base_impl.py:874\u001b[0m, in \u001b[0;36msplit\u001b[0;34m(ary, indices_or_sections, axis)\u001b[0m\n\u001b[1;32m    872\u001b[0m     N \u001b[38;5;241m=\u001b[39m ary\u001b[38;5;241m.\u001b[39mshape[axis]\n\u001b[1;32m    873\u001b[0m     \u001b[38;5;28;01mif\u001b[39;00m N \u001b[38;5;241m%\u001b[39m sections:\n\u001b[0;32m--> 874\u001b[0m         \u001b[38;5;28;01mraise\u001b[39;00m \u001b[38;5;167;01mValueError\u001b[39;00m(\n\u001b[1;32m    875\u001b[0m             \u001b[38;5;124m'\u001b[39m\u001b[38;5;124marray split does not result in an equal division\u001b[39m\u001b[38;5;124m'\u001b[39m) \u001b[38;5;28;01mfrom\u001b[39;00m \u001b[38;5;28;01mNone\u001b[39;00m\n\u001b[1;32m    876\u001b[0m \u001b[38;5;28;01mreturn\u001b[39;00m array_split(ary, indices_or_sections, axis)\n",
      "\u001b[0;31mValueError\u001b[0m: array split does not result in an equal division"
     ]
    }
   ],
   "source": [
    "np.vsplit(np.arange(12).reshape(3,4),2)"
   ]
  },
  {
   "cell_type": "code",
   "execution_count": 86,
   "id": "e0c847b0-80a5-4363-8ec1-683a0dad8906",
   "metadata": {},
   "outputs": [
    {
     "data": {
      "text/plain": [
       "[array([[ 0,  1,  2,  3,  4],\n",
       "        [ 5,  6,  7,  8,  9],\n",
       "        [10, 11, 12, 13, 14],\n",
       "        [15, 16, 17, 18, 19],\n",
       "        [20, 21, 22, 23, 24]])]"
      ]
     },
     "execution_count": 86,
     "metadata": {},
     "output_type": "execute_result"
    }
   ],
   "source": [
    "np.hsplit(np.arange(25).reshape((5,5)),1)"
   ]
  },
  {
   "cell_type": "markdown",
   "id": "1d8d1111-2279-43cc-a8f7-19db70030245",
   "metadata": {},
   "source": [
    "## 1.9 File Handling using NumPy\n",
    "\n",
    "### 1.9.1 Loading & Saving Data in Binary Files\n",
    "\n",
    "- NumPy provides a pair of functions called save() and load() that enable to saving and retrieving of data stored in binary format.\n",
    "- To recover data from binary files load() function is used, and to save an array to a binary file save() function is used.\n",
    "\n",
    "### 1.9.2 Loading & Saving Data in Text Files\n",
    "\n",
    "- NumPy provides a set of functions called savetxt() and genfromtxt() that enable us to save and retrieve data stored in text format.\n",
    "- To save an array to text file savetxt() is used and to load data from text file genfromtxt() is used.\n",
    "- loadtxt() is also used to load data from a text file (it does not handle missing values)."
   ]
  },
  {
   "cell_type": "code",
   "execution_count": 87,
   "id": "819b2205-bb31-4cf8-8596-3971eeab3ac1",
   "metadata": {},
   "outputs": [
    {
     "name": "stdout",
     "output_type": "stream",
     "text": [
      "a: [[0. 0. 0.]\n",
      " [0. 0. 0.]\n",
      " [0. 0. 0.]]\n",
      "b: [[1 1 1]\n",
      " [1 1 1]\n",
      " [1 1 1]]\n"
     ]
    }
   ],
   "source": [
    "a = np.zeros((3,3))\n",
    "b = np.ones((3,3)).astype(int)\n",
    "print('a:',a)\n",
    "print('b:',b)"
   ]
  },
  {
   "cell_type": "code",
   "execution_count": 88,
   "id": "5d6a6030-0657-4b2f-9bb3-5505b73d94b2",
   "metadata": {},
   "outputs": [
    {
     "name": "stdout",
     "output_type": "stream",
     "text": [
      "c: [[[0. 0. 0.]\n",
      "  [0. 0. 0.]\n",
      "  [0. 0. 0.]]\n",
      "\n",
      " [[1. 1. 1.]\n",
      "  [1. 1. 1.]\n",
      "  [1. 1. 1.]]]\n"
     ]
    }
   ],
   "source": [
    "np.save('file1.npy',(a,b))\n",
    "c=np.load('file1.npy')\n",
    "print('c:',c)"
   ]
  },
  {
   "cell_type": "code",
   "execution_count": 89,
   "id": "a10e5575-9350-423d-b584-bfce79bf4425",
   "metadata": {},
   "outputs": [
    {
     "name": "stdout",
     "output_type": "stream",
     "text": [
      "[0 1 2 3 4 5 6 7 8 9]\n"
     ]
    }
   ],
   "source": [
    "a = np.arange(0,10,1)\n",
    "print(a)"
   ]
  },
  {
   "cell_type": "code",
   "execution_count": 90,
   "id": "8cdce298-ee47-495a-8db8-d326a349ad8f",
   "metadata": {},
   "outputs": [
    {
     "name": "stdout",
     "output_type": "stream",
     "text": [
      "the file contains:\n",
      "0.000000000000000000e+00\n",
      "1.000000000000000000e+00\n",
      "2.000000000000000000e+00\n",
      "3.000000000000000000e+00\n",
      "4.000000000000000000e+00\n",
      "5.000000000000000000e+00\n",
      "6.000000000000000000e+00\n",
      "7.000000000000000000e+00\n",
      "8.000000000000000000e+00\n",
      "9.000000000000000000e+00\n",
      "\n"
     ]
    }
   ],
   "source": [
    "b = np.savetxt('file2.txt',a,delimiter=',')\n",
    "c = open('file2.txt','r+')\n",
    "\n",
    "print('the file contains:')\n",
    "print(c.read())\n",
    "c.close()"
   ]
  },
  {
   "cell_type": "code",
   "execution_count": 91,
   "id": "13abdbec-4d12-4abe-9a25-bdbd768452c6",
   "metadata": {},
   "outputs": [
    {
     "data": {
      "text/plain": [
       "array([0., 1., 2., 3., 4., 5., 6., 7., 8., 9.])"
      ]
     },
     "execution_count": 91,
     "metadata": {},
     "output_type": "execute_result"
    }
   ],
   "source": [
    "np.loadtxt('file2.txt')"
   ]
  },
  {
   "cell_type": "markdown",
   "id": "b7114512-3c10-449d-8ae5-2cb0076d1d7f",
   "metadata": {},
   "source": [
    "# 2. Pandas\n",
    "\n",
    "-------\n",
    "\n",
    "- Pandas is a term derived from **panel** *(pan)* **data** *(da)*\n",
    "- Pandas is an open-source library that provides high-performance data structures for efficient data manipulation and analysis in Python.\n",
    "\n",
    "Examples of data manipulation tasks performed using pandas:\n",
    "\n",
    "- Data sampling\n",
    "- Data cleaning\n",
    "- Data transformation\n",
    "- Data wrangling\n",
    "- Data analysis\n",
    "\n",
    "Functionality of Pandas:\n",
    "\n",
    "- Flexibility of data reshaping, alignment and sizing\n",
    "- Easy handling of null values\n",
    "- Ability to handle different types of data using data structures\n",
    "- Effortless indexing and slicing of large data sets\n",
    "- Time-series specific functionality\n",
    "- Efficient tools for importing and exporting data\n",
    "- Effective group-by functionality for data aggregation\n",
    "\n",
    "Significance of Pandas in Python:\n",
    "\n",
    "- **Early-age Python:** Until the development of pandas library, Python was primarily a general-purpose programming language\n",
    "- **Use of early-age Python:** Python was good for data preparation but less so for data analysis\n",
    "- **Pandas functionality:** Pandas fills this gap between data preparation and analysis enabling the user to perform the entire operation in one single platform\n",
    "- **Pandas' significance in Python:** Pandas is a powerful Data Analysis library which makes Python comparable to other tools such as R which are specifically designed for Statistical Programming\n",
    "- **Continuously developed:** Pandas is being continuously managed and developed by a large community of programmers using it\n",
    "\n",
    "--------\n",
    "\n",
    "## 2.1 Data Structures in Pandas\n",
    "\n",
    "There are two types of Data Structures in Pandas:\n",
    "\n",
    "| Data Structure | Definitions | Syntax |\n",
    "| --- | --- | --- |\n",
    "| Series | 1D labelled array which can hold data of different types such as integers, strings, floats, etc. | **`pd.Series(data, index = index)`** |\n",
    "| DataFrame | 2D labelled structure of rows and columns  | **`pd.DataFrame(data, index = index)`** |\n"
   ]
  },
  {
   "cell_type": "code",
   "execution_count": 92,
   "id": "a35267ee-4188-4fb6-b560-79def2691e35",
   "metadata": {},
   "outputs": [
    {
     "data": {
      "text/plain": [
       "0      1\n",
       "1      4\n",
       "2      7\n",
       "3     10\n",
       "4     13\n",
       "5     16\n",
       "6     19\n",
       "7     22\n",
       "8     25\n",
       "9     28\n",
       "10    31\n",
       "11    34\n",
       "12    37\n",
       "13    40\n",
       "14    43\n",
       "15    46\n",
       "16    49\n",
       "dtype: int64"
      ]
     },
     "execution_count": 92,
     "metadata": {},
     "output_type": "execute_result"
    }
   ],
   "source": [
    "arr = np.arange(1,50,3)\n",
    "s = pd.Series(arr)\n",
    "s"
   ]
  },
  {
   "cell_type": "code",
   "execution_count": 93,
   "id": "3d78df01-c103-4d32-8fce-2c55803ed337",
   "metadata": {},
   "outputs": [
    {
     "data": {
      "text/plain": [
       "a    10\n",
       "b    30\n",
       "c    40\n",
       "dtype: int64"
      ]
     },
     "execution_count": 93,
     "metadata": {},
     "output_type": "execute_result"
    }
   ],
   "source": [
    "data = { 'a':10,'b':30,'c':40}\n",
    "s=pd.Series(data)\n",
    "s"
   ]
  },
  {
   "cell_type": "code",
   "execution_count": 94,
   "id": "0ed927db-5a4a-49ba-9569-dc1707836950",
   "metadata": {},
   "outputs": [
    {
     "data": {
      "text/plain": [
       "np.int64(10)"
      ]
     },
     "execution_count": 94,
     "metadata": {},
     "output_type": "execute_result"
    }
   ],
   "source": [
    "s.a"
   ]
  },
  {
   "cell_type": "code",
   "execution_count": 95,
   "id": "0969382a-9586-4e0a-8683-1e4992257393",
   "metadata": {},
   "outputs": [
    {
     "data": {
      "text/plain": [
       "a    1\n",
       "b    1\n",
       "c    1\n",
       "d    1\n",
       "dtype: int64"
      ]
     },
     "execution_count": 95,
     "metadata": {},
     "output_type": "execute_result"
    }
   ],
   "source": [
    "pd.Series(1,index=['a','b','c','d'])\n"
   ]
  },
  {
   "cell_type": "code",
   "execution_count": 96,
   "id": "5006fb13-46f2-413a-b59e-ddfd314839ea",
   "metadata": {},
   "outputs": [
    {
     "data": {
      "text/plain": [
       "0    [1, 2, 3]\n",
       "1            1\n",
       "2            2\n",
       "3            3\n",
       "dtype: object"
      ]
     },
     "execution_count": 96,
     "metadata": {},
     "output_type": "execute_result"
    }
   ],
   "source": [
    "pd.Series([[1,2,3],1,2,3])"
   ]
  },
  {
   "cell_type": "code",
   "execution_count": 97,
   "id": "c05d73ab-2217-4142-bcad-94730393a2e6",
   "metadata": {},
   "outputs": [
    {
     "data": {
      "text/plain": [
       "0    0    1\n",
       "1    2\n",
       "2    3\n",
       "dtype: int64\n",
       "1                                    1\n",
       "2                                    2\n",
       "3                                    3\n",
       "dtype: object"
      ]
     },
     "execution_count": 97,
     "metadata": {},
     "output_type": "execute_result"
    }
   ],
   "source": [
    "pd.Series([pd.Series([1,2,3]),1,2,3])"
   ]
  },
  {
   "cell_type": "code",
   "execution_count": 98,
   "id": "3d67c7c3-e58b-4803-8ce8-84fbaa2d2d5e",
   "metadata": {},
   "outputs": [
    {
     "data": {
      "text/html": [
       "<div>\n",
       "<style scoped>\n",
       "    .dataframe tbody tr th:only-of-type {\n",
       "        vertical-align: middle;\n",
       "    }\n",
       "\n",
       "    .dataframe tbody tr th {\n",
       "        vertical-align: top;\n",
       "    }\n",
       "\n",
       "    .dataframe thead th {\n",
       "        text-align: right;\n",
       "    }\n",
       "</style>\n",
       "<table border=\"1\" class=\"dataframe\">\n",
       "  <thead>\n",
       "    <tr style=\"text-align: right;\">\n",
       "      <th></th>\n",
       "      <th>0</th>\n",
       "    </tr>\n",
       "  </thead>\n",
       "  <tbody>\n",
       "    <tr>\n",
       "      <th>0</th>\n",
       "      <td>10</td>\n",
       "    </tr>\n",
       "    <tr>\n",
       "      <th>1</th>\n",
       "      <td>20</td>\n",
       "    </tr>\n",
       "    <tr>\n",
       "      <th>2</th>\n",
       "      <td>30</td>\n",
       "    </tr>\n",
       "    <tr>\n",
       "      <th>3</th>\n",
       "      <td>40</td>\n",
       "    </tr>\n",
       "  </tbody>\n",
       "</table>\n",
       "</div>"
      ],
      "text/plain": [
       "    0\n",
       "0  10\n",
       "1  20\n",
       "2  30\n",
       "3  40"
      ]
     },
     "execution_count": 98,
     "metadata": {},
     "output_type": "execute_result"
    }
   ],
   "source": [
    "df = pd.DataFrame([10,20,30,40])\n",
    "df"
   ]
  },
  {
   "cell_type": "code",
   "execution_count": 99,
   "id": "ef3e556f-abe1-494c-ac0e-127d81a01bb4",
   "metadata": {},
   "outputs": [
    {
     "data": {
      "text/html": [
       "<div>\n",
       "<style scoped>\n",
       "    .dataframe tbody tr th:only-of-type {\n",
       "        vertical-align: middle;\n",
       "    }\n",
       "\n",
       "    .dataframe tbody tr th {\n",
       "        vertical-align: top;\n",
       "    }\n",
       "\n",
       "    .dataframe thead th {\n",
       "        text-align: right;\n",
       "    }\n",
       "</style>\n",
       "<table border=\"1\" class=\"dataframe\">\n",
       "  <thead>\n",
       "    <tr style=\"text-align: right;\">\n",
       "      <th></th>\n",
       "      <th>a</th>\n",
       "      <th>b</th>\n",
       "      <th>d</th>\n",
       "    </tr>\n",
       "  </thead>\n",
       "  <tbody>\n",
       "    <tr>\n",
       "      <th>first</th>\n",
       "      <td>1</td>\n",
       "      <td>2.0</td>\n",
       "      <td>NaN</td>\n",
       "    </tr>\n",
       "    <tr>\n",
       "      <th>second</th>\n",
       "      <td>3</td>\n",
       "      <td>NaN</td>\n",
       "      <td>4.0</td>\n",
       "    </tr>\n",
       "  </tbody>\n",
       "</table>\n",
       "</div>"
      ],
      "text/plain": [
       "        a    b    d\n",
       "first   1  2.0  NaN\n",
       "second  3  NaN  4.0"
      ]
     },
     "execution_count": 99,
     "metadata": {},
     "output_type": "execute_result"
    }
   ],
   "source": [
    "df1 = pd.DataFrame([\n",
    "    {\n",
    "    'a':1,\n",
    "    'b':2\n",
    "    },\n",
    "    {\n",
    "    'a':3,\n",
    "    'd':4\n",
    "    }],\n",
    "    index=['first', 'second'])\n",
    "df1"
   ]
  },
  {
   "cell_type": "code",
   "execution_count": 100,
   "id": "f6be7d13-dcbe-4a46-8db9-a1fd9a6b6c44",
   "metadata": {},
   "outputs": [
    {
     "data": {
      "text/html": [
       "<div>\n",
       "<style scoped>\n",
       "    .dataframe tbody tr th:only-of-type {\n",
       "        vertical-align: middle;\n",
       "    }\n",
       "\n",
       "    .dataframe tbody tr th {\n",
       "        vertical-align: top;\n",
       "    }\n",
       "\n",
       "    .dataframe thead th {\n",
       "        text-align: right;\n",
       "    }\n",
       "</style>\n",
       "<table border=\"1\" class=\"dataframe\">\n",
       "  <thead>\n",
       "    <tr style=\"text-align: right;\">\n",
       "      <th></th>\n",
       "      <th>one</th>\n",
       "      <th>two</th>\n",
       "      <th>three</th>\n",
       "    </tr>\n",
       "  </thead>\n",
       "  <tbody>\n",
       "    <tr>\n",
       "      <th>0</th>\n",
       "      <td>NaN</td>\n",
       "      <td>4.0</td>\n",
       "      <td>7.0</td>\n",
       "    </tr>\n",
       "    <tr>\n",
       "      <th>1</th>\n",
       "      <td>NaN</td>\n",
       "      <td>5.0</td>\n",
       "      <td>8.0</td>\n",
       "    </tr>\n",
       "    <tr>\n",
       "      <th>2</th>\n",
       "      <td>NaN</td>\n",
       "      <td>6.0</td>\n",
       "      <td>9.0</td>\n",
       "    </tr>\n",
       "    <tr>\n",
       "      <th>a</th>\n",
       "      <td>1.0</td>\n",
       "      <td>NaN</td>\n",
       "      <td>NaN</td>\n",
       "    </tr>\n",
       "    <tr>\n",
       "      <th>b</th>\n",
       "      <td>2.0</td>\n",
       "      <td>NaN</td>\n",
       "      <td>NaN</td>\n",
       "    </tr>\n",
       "    <tr>\n",
       "      <th>c</th>\n",
       "      <td>3.0</td>\n",
       "      <td>NaN</td>\n",
       "      <td>NaN</td>\n",
       "    </tr>\n",
       "  </tbody>\n",
       "</table>\n",
       "</div>"
      ],
      "text/plain": [
       "   one  two  three\n",
       "0  NaN  4.0    7.0\n",
       "1  NaN  5.0    8.0\n",
       "2  NaN  6.0    9.0\n",
       "a  1.0  NaN    NaN\n",
       "b  2.0  NaN    NaN\n",
       "c  3.0  NaN    NaN"
      ]
     },
     "execution_count": 100,
     "metadata": {},
     "output_type": "execute_result"
    }
   ],
   "source": [
    "df2 = pd.DataFrame({\n",
    "    'one':pd.Series([1,2,3],index=['a','b','c']),\n",
    "    'two':pd.Series([4,5,6]),\n",
    "    'three':pd.Series([7,8,9])\n",
    "})\n",
    "df2"
   ]
  },
  {
   "cell_type": "markdown",
   "id": "0d7705fe-20f7-4ecd-9457-4ebba94b5ccd",
   "metadata": {},
   "source": [
    "### Table Creation using Pandas DataFrame\n",
    "\n",
    "Let's create few DataFrames that we'll use in later sections"
   ]
  },
  {
   "cell_type": "code",
   "execution_count": 101,
   "id": "cc853a03-d2d5-4e84-bdf1-08a98f98091a",
   "metadata": {},
   "outputs": [
    {
     "data": {
      "text/html": [
       "<div>\n",
       "<style scoped>\n",
       "    .dataframe tbody tr th:only-of-type {\n",
       "        vertical-align: middle;\n",
       "    }\n",
       "\n",
       "    .dataframe tbody tr th {\n",
       "        vertical-align: top;\n",
       "    }\n",
       "\n",
       "    .dataframe thead th {\n",
       "        text-align: right;\n",
       "    }\n",
       "</style>\n",
       "<table border=\"1\" class=\"dataframe\">\n",
       "  <thead>\n",
       "    <tr style=\"text-align: right;\">\n",
       "      <th></th>\n",
       "      <th>Week1</th>\n",
       "      <th>Week2</th>\n",
       "      <th>Week3</th>\n",
       "      <th>Week4</th>\n",
       "    </tr>\n",
       "  </thead>\n",
       "  <tbody>\n",
       "    <tr>\n",
       "      <th>0</th>\n",
       "      <td>30.0</td>\n",
       "      <td>32.0</td>\n",
       "      <td>29.0</td>\n",
       "      <td>30.3</td>\n",
       "    </tr>\n",
       "    <tr>\n",
       "      <th>1</th>\n",
       "      <td>32.0</td>\n",
       "      <td>31.5</td>\n",
       "      <td>31.7</td>\n",
       "      <td>32.1</td>\n",
       "    </tr>\n",
       "    <tr>\n",
       "      <th>2</th>\n",
       "      <td>34.5</td>\n",
       "      <td>30.5</td>\n",
       "      <td>32.7</td>\n",
       "      <td>34.3</td>\n",
       "    </tr>\n",
       "    <tr>\n",
       "      <th>3</th>\n",
       "      <td>32.1</td>\n",
       "      <td>32.8</td>\n",
       "      <td>34.1</td>\n",
       "      <td>31.1</td>\n",
       "    </tr>\n",
       "    <tr>\n",
       "      <th>4</th>\n",
       "      <td>30.2</td>\n",
       "      <td>30.9</td>\n",
       "      <td>31.2</td>\n",
       "      <td>31.2</td>\n",
       "    </tr>\n",
       "    <tr>\n",
       "      <th>5</th>\n",
       "      <td>29.8</td>\n",
       "      <td>28.8</td>\n",
       "      <td>29.6</td>\n",
       "      <td>30.8</td>\n",
       "    </tr>\n",
       "    <tr>\n",
       "      <th>6</th>\n",
       "      <td>30.5</td>\n",
       "      <td>31.5</td>\n",
       "      <td>31.3</td>\n",
       "      <td>31.2</td>\n",
       "    </tr>\n",
       "  </tbody>\n",
       "</table>\n",
       "</div>"
      ],
      "text/plain": [
       "   Week1  Week2  Week3  Week4\n",
       "0   30.0   32.0   29.0   30.3\n",
       "1   32.0   31.5   31.7   32.1\n",
       "2   34.5   30.5   32.7   34.3\n",
       "3   32.1   32.8   34.1   31.1\n",
       "4   30.2   30.9   31.2   31.2\n",
       "5   29.8   28.8   29.6   30.8\n",
       "6   30.5   31.5   31.3   31.2"
      ]
     },
     "execution_count": 101,
     "metadata": {},
     "output_type": "execute_result"
    }
   ],
   "source": [
    "month = pd.DataFrame({\n",
    "'Week1': [30.0, 32.0, 34.5, 32.1, 30.2, 29.8, 30.5], \n",
    "'Week2': [32.0, 31.5, 30.5, 32.8, 30.9, 28.8, 31.5],\n",
    "'Week3': [29.0, 31.7, 32.7, 34.1, 31.2, 29.6, 31.3],\n",
    "'Week4': [30.3, 32.1, 34.3, 31.1, 31.2, 30.8, 31.2]\n",
    "})\n",
    "\n",
    "month"
   ]
  },
  {
   "cell_type": "code",
   "execution_count": 102,
   "id": "d951cbca-fb2e-4dde-965b-fa2b798d8dd2",
   "metadata": {},
   "outputs": [
    {
     "data": {
      "text/html": [
       "<div>\n",
       "<style scoped>\n",
       "    .dataframe tbody tr th:only-of-type {\n",
       "        vertical-align: middle;\n",
       "    }\n",
       "\n",
       "    .dataframe tbody tr th {\n",
       "        vertical-align: top;\n",
       "    }\n",
       "\n",
       "    .dataframe thead th {\n",
       "        text-align: right;\n",
       "    }\n",
       "</style>\n",
       "<table border=\"1\" class=\"dataframe\">\n",
       "  <thead>\n",
       "    <tr style=\"text-align: right;\">\n",
       "      <th></th>\n",
       "      <th>Q1</th>\n",
       "      <th>Q2</th>\n",
       "      <th>Q3</th>\n",
       "      <th>Q4</th>\n",
       "    </tr>\n",
       "  </thead>\n",
       "  <tbody>\n",
       "    <tr>\n",
       "      <th>Entry1</th>\n",
       "      <td>120</td>\n",
       "      <td>80</td>\n",
       "      <td>150</td>\n",
       "      <td>100</td>\n",
       "    </tr>\n",
       "    <tr>\n",
       "      <th>Entry2</th>\n",
       "      <td>200</td>\n",
       "      <td>180</td>\n",
       "      <td>150</td>\n",
       "      <td>120</td>\n",
       "    </tr>\n",
       "    <tr>\n",
       "      <th>Entry3</th>\n",
       "      <td>175</td>\n",
       "      <td>175</td>\n",
       "      <td>200</td>\n",
       "      <td>130</td>\n",
       "    </tr>\n",
       "  </tbody>\n",
       "</table>\n",
       "</div>"
      ],
      "text/plain": [
       "         Q1   Q2   Q3   Q4\n",
       "Entry1  120   80  150  100\n",
       "Entry2  200  180  150  120\n",
       "Entry3  175  175  200  130"
      ]
     },
     "execution_count": 102,
     "metadata": {},
     "output_type": "execute_result"
    }
   ],
   "source": [
    "quarterly_sales = pd.DataFrame({\n",
    "'Q1': [120, 200, 175],\n",
    "'Q2': [80, 180, 175],\n",
    "'Q3': [150, 150, 200],\n",
    "'Q4': [100, 120, 130]\n",
    "}, index = ['Entry1', 'Entry2', 'Entry3'])\n",
    "\n",
    "quarterly_sales"
   ]
  },
  {
   "cell_type": "code",
   "execution_count": 103,
   "id": "438192e0-9256-4d5d-bd4c-720bd4dc14c9",
   "metadata": {},
   "outputs": [
    {
     "data": {
      "text/html": [
       "<div>\n",
       "<style scoped>\n",
       "    .dataframe tbody tr th:only-of-type {\n",
       "        vertical-align: middle;\n",
       "    }\n",
       "\n",
       "    .dataframe tbody tr th {\n",
       "        vertical-align: top;\n",
       "    }\n",
       "\n",
       "    .dataframe thead th {\n",
       "        text-align: right;\n",
       "    }\n",
       "</style>\n",
       "<table border=\"1\" class=\"dataframe\">\n",
       "  <thead>\n",
       "    <tr style=\"text-align: right;\">\n",
       "      <th></th>\n",
       "      <th>Item</th>\n",
       "      <th>UnitPrice</th>\n",
       "      <th>Quantity</th>\n",
       "      <th>TotalCost</th>\n",
       "    </tr>\n",
       "  </thead>\n",
       "  <tbody>\n",
       "    <tr>\n",
       "      <th>0</th>\n",
       "      <td>Shirts</td>\n",
       "      <td>100</td>\n",
       "      <td>4</td>\n",
       "      <td>400</td>\n",
       "    </tr>\n",
       "    <tr>\n",
       "      <th>1</th>\n",
       "      <td>Jeans</td>\n",
       "      <td>300</td>\n",
       "      <td>2</td>\n",
       "      <td>600</td>\n",
       "    </tr>\n",
       "    <tr>\n",
       "      <th>2</th>\n",
       "      <td>Shoes</td>\n",
       "      <td>250</td>\n",
       "      <td>1</td>\n",
       "      <td>250</td>\n",
       "    </tr>\n",
       "    <tr>\n",
       "      <th>3</th>\n",
       "      <td>Tops</td>\n",
       "      <td>150</td>\n",
       "      <td>3</td>\n",
       "      <td>450</td>\n",
       "    </tr>\n",
       "  </tbody>\n",
       "</table>\n",
       "</div>"
      ],
      "text/plain": [
       "     Item  UnitPrice  Quantity  TotalCost\n",
       "0  Shirts        100         4        400\n",
       "1   Jeans        300         2        600\n",
       "2   Shoes        250         1        250\n",
       "3    Tops        150         3        450"
      ]
     },
     "execution_count": 103,
     "metadata": {},
     "output_type": "execute_result"
    }
   ],
   "source": [
    "purchase_data = pd.DataFrame({\n",
    "'Item': ['Shirts', 'Jeans', 'Shoes', 'Tops'],\n",
    "'UnitPrice': [100, 300, 250, 150],\n",
    "'Quantity': [4, 2, 1, 3],\n",
    "'TotalCost': [400, 600, 250, 450]\n",
    "})\n",
    "\n",
    "purchase_data"
   ]
  },
  {
   "cell_type": "code",
   "execution_count": 104,
   "id": "e98cf682-1a11-4f82-b7db-a023399cec51",
   "metadata": {},
   "outputs": [
    {
     "data": {
      "text/html": [
       "<div>\n",
       "<style scoped>\n",
       "    .dataframe tbody tr th:only-of-type {\n",
       "        vertical-align: middle;\n",
       "    }\n",
       "\n",
       "    .dataframe tbody tr th {\n",
       "        vertical-align: top;\n",
       "    }\n",
       "\n",
       "    .dataframe thead th {\n",
       "        text-align: right;\n",
       "    }\n",
       "</style>\n",
       "<table border=\"1\" class=\"dataframe\">\n",
       "  <thead>\n",
       "    <tr style=\"text-align: right;\">\n",
       "      <th></th>\n",
       "      <th>EmpID</th>\n",
       "      <th>Name</th>\n",
       "      <th>Location</th>\n",
       "      <th>Age</th>\n",
       "    </tr>\n",
       "  </thead>\n",
       "  <tbody>\n",
       "    <tr>\n",
       "      <th>0</th>\n",
       "      <td>E5651</td>\n",
       "      <td>Payal</td>\n",
       "      <td>Pune</td>\n",
       "      <td>35</td>\n",
       "    </tr>\n",
       "    <tr>\n",
       "      <th>1</th>\n",
       "      <td>E5652</td>\n",
       "      <td>Edvina</td>\n",
       "      <td>Bangalore</td>\n",
       "      <td>30</td>\n",
       "    </tr>\n",
       "    <tr>\n",
       "      <th>2</th>\n",
       "      <td>E5653</td>\n",
       "      <td>Madan</td>\n",
       "      <td>Bangalore</td>\n",
       "      <td>45</td>\n",
       "    </tr>\n",
       "    <tr>\n",
       "      <th>3</th>\n",
       "      <td>E5654</td>\n",
       "      <td>Rafael</td>\n",
       "      <td>Chennai</td>\n",
       "      <td>40</td>\n",
       "    </tr>\n",
       "    <tr>\n",
       "      <th>4</th>\n",
       "      <td>E5655</td>\n",
       "      <td>Gopal</td>\n",
       "      <td>Chennai</td>\n",
       "      <td>32</td>\n",
       "    </tr>\n",
       "  </tbody>\n",
       "</table>\n",
       "</div>"
      ],
      "text/plain": [
       "   EmpID    Name   Location  Age\n",
       "0  E5651   Payal       Pune   35\n",
       "1  E5652  Edvina  Bangalore   30\n",
       "2  E5653   Madan  Bangalore   45\n",
       "3  E5654  Rafael    Chennai   40\n",
       "4  E5655   Gopal    Chennai   32"
      ]
     },
     "execution_count": 104,
     "metadata": {},
     "output_type": "execute_result"
    }
   ],
   "source": [
    "employees1 = pd.DataFrame({\n",
    "'EmpID': ['E5651','E5652','E5653','E5654','E5655'],\n",
    "'Name': ['Payal','Edvina','Madan','Rafael','Gopal'],\n",
    "'Location': ['Pune','Bangalore','Bangalore','Chennai','Chennai'],\n",
    "'Age': [35,30,45,40,32]\n",
    "})\n",
    "\n",
    "employees1"
   ]
  },
  {
   "cell_type": "code",
   "execution_count": 105,
   "id": "822c31d1-c881-47e0-a905-85755381c2fe",
   "metadata": {},
   "outputs": [
    {
     "data": {
      "text/html": [
       "<div>\n",
       "<style scoped>\n",
       "    .dataframe tbody tr th:only-of-type {\n",
       "        vertical-align: middle;\n",
       "    }\n",
       "\n",
       "    .dataframe tbody tr th {\n",
       "        vertical-align: top;\n",
       "    }\n",
       "\n",
       "    .dataframe thead th {\n",
       "        text-align: right;\n",
       "    }\n",
       "</style>\n",
       "<table border=\"1\" class=\"dataframe\">\n",
       "  <thead>\n",
       "    <tr style=\"text-align: right;\">\n",
       "      <th></th>\n",
       "      <th>EmpID</th>\n",
       "      <th>Name</th>\n",
       "      <th>Location</th>\n",
       "    </tr>\n",
       "  </thead>\n",
       "  <tbody>\n",
       "    <tr>\n",
       "      <th>0</th>\n",
       "      <td>E4501</td>\n",
       "      <td>Sumeet</td>\n",
       "      <td>Mumbai</td>\n",
       "    </tr>\n",
       "    <tr>\n",
       "      <th>1</th>\n",
       "      <td>E4502</td>\n",
       "      <td>Nikhil</td>\n",
       "      <td>Mumbai</td>\n",
       "    </tr>\n",
       "    <tr>\n",
       "      <th>2</th>\n",
       "      <td>E4503</td>\n",
       "      <td>Paul</td>\n",
       "      <td>Bangalore</td>\n",
       "    </tr>\n",
       "  </tbody>\n",
       "</table>\n",
       "</div>"
      ],
      "text/plain": [
       "   EmpID    Name   Location\n",
       "0  E4501  Sumeet     Mumbai\n",
       "1  E4502  Nikhil     Mumbai\n",
       "2  E4503    Paul  Bangalore"
      ]
     },
     "execution_count": 105,
     "metadata": {},
     "output_type": "execute_result"
    }
   ],
   "source": [
    "employees2 = pd.DataFrame({\n",
    "'EmpID': ['E4501', 'E4502', 'E4503'],\n",
    "'Name': ['Sumeet', 'Nikhil', 'Paul'],\n",
    "'Location': ['Mumbai', 'Mumbai', 'Bangalore']\n",
    "})\n",
    "\n",
    "employees2"
   ]
  },
  {
   "cell_type": "code",
   "execution_count": 106,
   "id": "4553a813-a23d-4a50-a6dd-028122ba4728",
   "metadata": {},
   "outputs": [
    {
     "data": {
      "text/html": [
       "<div>\n",
       "<style scoped>\n",
       "    .dataframe tbody tr th:only-of-type {\n",
       "        vertical-align: middle;\n",
       "    }\n",
       "\n",
       "    .dataframe tbody tr th {\n",
       "        vertical-align: top;\n",
       "    }\n",
       "\n",
       "    .dataframe thead th {\n",
       "        text-align: right;\n",
       "    }\n",
       "</style>\n",
       "<table border=\"1\" class=\"dataframe\">\n",
       "  <thead>\n",
       "    <tr style=\"text-align: right;\">\n",
       "      <th></th>\n",
       "      <th>EmpID</th>\n",
       "      <th>YearsOfService</th>\n",
       "    </tr>\n",
       "  </thead>\n",
       "  <tbody>\n",
       "    <tr>\n",
       "      <th>0</th>\n",
       "      <td>E5651</td>\n",
       "      <td>10</td>\n",
       "    </tr>\n",
       "    <tr>\n",
       "      <th>1</th>\n",
       "      <td>E5652</td>\n",
       "      <td>5</td>\n",
       "    </tr>\n",
       "    <tr>\n",
       "      <th>2</th>\n",
       "      <td>E5653</td>\n",
       "      <td>17</td>\n",
       "    </tr>\n",
       "    <tr>\n",
       "      <th>3</th>\n",
       "      <td>E5654</td>\n",
       "      <td>12</td>\n",
       "    </tr>\n",
       "    <tr>\n",
       "      <th>4</th>\n",
       "      <td>E5660</td>\n",
       "      <td>7</td>\n",
       "    </tr>\n",
       "  </tbody>\n",
       "</table>\n",
       "</div>"
      ],
      "text/plain": [
       "   EmpID  YearsOfService\n",
       "0  E5651              10\n",
       "1  E5652               5\n",
       "2  E5653              17\n",
       "3  E5654              12\n",
       "4  E5660               7"
      ]
     },
     "execution_count": 106,
     "metadata": {},
     "output_type": "execute_result"
    }
   ],
   "source": [
    "years = pd.DataFrame({\n",
    "'EmpID':['E5651','E5652','E5653','E5654','E5660'],\n",
    "'YearsOfService':[10, 5, 17, 12, 7]\n",
    "})\n",
    "years"
   ]
  },
  {
   "cell_type": "code",
   "execution_count": 107,
   "id": "74640ca1-9f50-44f6-bf2c-265a53586a32",
   "metadata": {
    "scrolled": true
   },
   "outputs": [
    {
     "data": {
      "text/html": [
       "<div>\n",
       "<style scoped>\n",
       "    .dataframe tbody tr th:only-of-type {\n",
       "        vertical-align: middle;\n",
       "    }\n",
       "\n",
       "    .dataframe tbody tr th {\n",
       "        vertical-align: top;\n",
       "    }\n",
       "\n",
       "    .dataframe thead th {\n",
       "        text-align: right;\n",
       "    }\n",
       "</style>\n",
       "<table border=\"1\" class=\"dataframe\">\n",
       "  <thead>\n",
       "    <tr style=\"text-align: right;\">\n",
       "      <th></th>\n",
       "      <th>CustID</th>\n",
       "      <th>City</th>\n",
       "      <th>Store Number</th>\n",
       "      <th>Sales (INR)</th>\n",
       "      <th>Customer Age</th>\n",
       "      <th>Gender</th>\n",
       "    </tr>\n",
       "  </thead>\n",
       "  <tbody>\n",
       "    <tr>\n",
       "      <th>0</th>\n",
       "      <td>1001</td>\n",
       "      <td>Mumbai</td>\n",
       "      <td>10</td>\n",
       "      <td>123</td>\n",
       "      <td>38</td>\n",
       "      <td>M</td>\n",
       "    </tr>\n",
       "    <tr>\n",
       "      <th>1</th>\n",
       "      <td>1003</td>\n",
       "      <td>Bangalore</td>\n",
       "      <td>23</td>\n",
       "      <td>543</td>\n",
       "      <td>40</td>\n",
       "      <td>M</td>\n",
       "    </tr>\n",
       "    <tr>\n",
       "      <th>2</th>\n",
       "      <td>1006</td>\n",
       "      <td>Delhi</td>\n",
       "      <td>15</td>\n",
       "      <td>220</td>\n",
       "      <td>30</td>\n",
       "      <td>F</td>\n",
       "    </tr>\n",
       "    <tr>\n",
       "      <th>3</th>\n",
       "      <td>1007</td>\n",
       "      <td>Chennai</td>\n",
       "      <td>17</td>\n",
       "      <td>190</td>\n",
       "      <td>45</td>\n",
       "      <td>F</td>\n",
       "    </tr>\n",
       "    <tr>\n",
       "      <th>4</th>\n",
       "      <td>1009</td>\n",
       "      <td>Mumbai</td>\n",
       "      <td>11</td>\n",
       "      <td>269</td>\n",
       "      <td>28</td>\n",
       "      <td>F</td>\n",
       "    </tr>\n",
       "    <tr>\n",
       "      <th>5</th>\n",
       "      <td>1010</td>\n",
       "      <td>Bangalore</td>\n",
       "      <td>21</td>\n",
       "      <td>130</td>\n",
       "      <td>56</td>\n",
       "      <td>M</td>\n",
       "    </tr>\n",
       "    <tr>\n",
       "      <th>6</th>\n",
       "      <td>1011</td>\n",
       "      <td>Mumbai</td>\n",
       "      <td>13</td>\n",
       "      <td>175</td>\n",
       "      <td>43</td>\n",
       "      <td>M</td>\n",
       "    </tr>\n",
       "    <tr>\n",
       "      <th>7</th>\n",
       "      <td>1012</td>\n",
       "      <td>Delhi</td>\n",
       "      <td>16</td>\n",
       "      <td>210</td>\n",
       "      <td>36</td>\n",
       "      <td>M</td>\n",
       "    </tr>\n",
       "    <tr>\n",
       "      <th>8</th>\n",
       "      <td>1013</td>\n",
       "      <td>Delhi</td>\n",
       "      <td>18</td>\n",
       "      <td>120</td>\n",
       "      <td>25</td>\n",
       "      <td>M</td>\n",
       "    </tr>\n",
       "    <tr>\n",
       "      <th>9</th>\n",
       "      <td>1014</td>\n",
       "      <td>Bangalore</td>\n",
       "      <td>21</td>\n",
       "      <td>150</td>\n",
       "      <td>29</td>\n",
       "      <td>F</td>\n",
       "    </tr>\n",
       "    <tr>\n",
       "      <th>10</th>\n",
       "      <td>1015</td>\n",
       "      <td>Mumbai</td>\n",
       "      <td>11</td>\n",
       "      <td>160</td>\n",
       "      <td>49</td>\n",
       "      <td>M</td>\n",
       "    </tr>\n",
       "    <tr>\n",
       "      <th>11</th>\n",
       "      <td>1017</td>\n",
       "      <td>Delhi</td>\n",
       "      <td>16</td>\n",
       "      <td>170</td>\n",
       "      <td>75</td>\n",
       "      <td>F</td>\n",
       "    </tr>\n",
       "    <tr>\n",
       "      <th>12</th>\n",
       "      <td>1019</td>\n",
       "      <td>Chennai</td>\n",
       "      <td>17</td>\n",
       "      <td>242</td>\n",
       "      <td>62</td>\n",
       "      <td>F</td>\n",
       "    </tr>\n",
       "    <tr>\n",
       "      <th>13</th>\n",
       "      <td>1020</td>\n",
       "      <td>Mumbai</td>\n",
       "      <td>10</td>\n",
       "      <td>273</td>\n",
       "      <td>55</td>\n",
       "      <td>M</td>\n",
       "    </tr>\n",
       "  </tbody>\n",
       "</table>\n",
       "</div>"
      ],
      "text/plain": [
       "    CustID       City  Store Number  Sales (INR)  Customer Age Gender\n",
       "0     1001     Mumbai            10          123            38      M\n",
       "1     1003  Bangalore            23          543            40      M\n",
       "2     1006      Delhi            15          220            30      F\n",
       "3     1007    Chennai            17          190            45      F\n",
       "4     1009     Mumbai            11          269            28      F\n",
       "5     1010  Bangalore            21          130            56      M\n",
       "6     1011     Mumbai            13          175            43      M\n",
       "7     1012      Delhi            16          210            36      M\n",
       "8     1013      Delhi            18          120            25      M\n",
       "9     1014  Bangalore            21          150            29      F\n",
       "10    1015     Mumbai            11          160            49      M\n",
       "11    1017      Delhi            16          170            75      F\n",
       "12    1019    Chennai            17          242            62      F\n",
       "13    1020     Mumbai            10          273            55      M"
      ]
     },
     "execution_count": 107,
     "metadata": {},
     "output_type": "execute_result"
    }
   ],
   "source": [
    "customer = pd.DataFrame({\n",
    "'CustID': [1001, 1003, 1006, 1007, 1009, 1010, 1011, 1012, 1013, 1014, 1015, 1017, 1019, 1020],\n",
    "'City': ['Mumbai', 'Bangalore', 'Delhi', 'Chennai', 'Mumbai', 'Bangalore', 'Mumbai', 'Delhi', 'Delhi', 'Bangalore', 'Mumbai', 'Delhi', 'Chennai', 'Mumbai'],\n",
    "'Store Number': [10, 23, 15, 17, 11, 21, 13, 16, 18, 21, 11, 16, 17, 10],\n",
    "'Sales (INR)': [123, 543, 220, 190, 269, 130, 175, 210, 120, 150, 160, 170, 242, 273],\n",
    "'Customer Age': [38, 40, 30, 45, 28, 56, 43, 36, 25, 29, 49, 75, 62, 55],\n",
    "'Gender': ['M', 'M', 'F', 'F', 'F', 'M', 'M', 'M', 'M', 'F', 'M', 'F', 'F', 'M']\n",
    "})\n",
    "\n",
    "customer"
   ]
  },
  {
   "cell_type": "code",
   "execution_count": 108,
   "id": "12a07235-25ba-4fe0-802e-4e001188cdbd",
   "metadata": {
    "scrolled": true
   },
   "outputs": [
    {
     "data": {
      "text/html": [
       "<div>\n",
       "<style scoped>\n",
       "    .dataframe tbody tr th:only-of-type {\n",
       "        vertical-align: middle;\n",
       "    }\n",
       "\n",
       "    .dataframe tbody tr th {\n",
       "        vertical-align: top;\n",
       "    }\n",
       "\n",
       "    .dataframe thead th {\n",
       "        text-align: right;\n",
       "    }\n",
       "</style>\n",
       "<table border=\"1\" class=\"dataframe\">\n",
       "  <thead>\n",
       "    <tr style=\"text-align: right;\">\n",
       "      <th></th>\n",
       "      <th>Team</th>\n",
       "      <th>Rank</th>\n",
       "      <th>Year</th>\n",
       "    </tr>\n",
       "  </thead>\n",
       "  <tbody>\n",
       "    <tr>\n",
       "      <th>0</th>\n",
       "      <td>West Indies</td>\n",
       "      <td>7</td>\n",
       "      <td>1975</td>\n",
       "    </tr>\n",
       "    <tr>\n",
       "      <th>1</th>\n",
       "      <td>West Indies</td>\n",
       "      <td>7</td>\n",
       "      <td>1979</td>\n",
       "    </tr>\n",
       "    <tr>\n",
       "      <th>2</th>\n",
       "      <td>India</td>\n",
       "      <td>2</td>\n",
       "      <td>1983</td>\n",
       "    </tr>\n",
       "    <tr>\n",
       "      <th>3</th>\n",
       "      <td>Australia</td>\n",
       "      <td>1</td>\n",
       "      <td>1987</td>\n",
       "    </tr>\n",
       "    <tr>\n",
       "      <th>4</th>\n",
       "      <td>Pakistan</td>\n",
       "      <td>6</td>\n",
       "      <td>1992</td>\n",
       "    </tr>\n",
       "    <tr>\n",
       "      <th>5</th>\n",
       "      <td>Sri Lanka</td>\n",
       "      <td>4</td>\n",
       "      <td>1995</td>\n",
       "    </tr>\n",
       "    <tr>\n",
       "      <th>6</th>\n",
       "      <td>Australia</td>\n",
       "      <td>1</td>\n",
       "      <td>1999</td>\n",
       "    </tr>\n",
       "    <tr>\n",
       "      <th>7</th>\n",
       "      <td>Australia</td>\n",
       "      <td>1</td>\n",
       "      <td>2003</td>\n",
       "    </tr>\n",
       "    <tr>\n",
       "      <th>8</th>\n",
       "      <td>Australia</td>\n",
       "      <td>1</td>\n",
       "      <td>2007</td>\n",
       "    </tr>\n",
       "    <tr>\n",
       "      <th>9</th>\n",
       "      <td>India</td>\n",
       "      <td>2</td>\n",
       "      <td>2011</td>\n",
       "    </tr>\n",
       "    <tr>\n",
       "      <th>10</th>\n",
       "      <td>Australia</td>\n",
       "      <td>1</td>\n",
       "      <td>2015</td>\n",
       "    </tr>\n",
       "  </tbody>\n",
       "</table>\n",
       "</div>"
      ],
      "text/plain": [
       "           Team  Rank  Year\n",
       "0   West Indies     7  1975\n",
       "1   West Indies     7  1979\n",
       "2         India     2  1983\n",
       "3     Australia     1  1987\n",
       "4      Pakistan     6  1992\n",
       "5     Sri Lanka     4  1995\n",
       "6     Australia     1  1999\n",
       "7     Australia     1  2003\n",
       "8     Australia     1  2007\n",
       "9         India     2  2011\n",
       "10    Australia     1  2015"
      ]
     },
     "execution_count": 108,
     "metadata": {},
     "output_type": "execute_result"
    }
   ],
   "source": [
    "world_cup = pd.DataFrame({\n",
    "    'Team': ['West Indies', 'West Indies', 'India', 'Australia', 'Pakistan', 'Sri Lanka', 'Australia', 'Australia', 'Australia', 'India', 'Australia'],\n",
    "    'Rank': [7,7,2,1,6,4,1,1,1,2,1],\n",
    "    'Year': [1975,1979,1983,1987,1992,1995,1999,2003,2007,2011,2015]\n",
    "})\n",
    "world_cup"
   ]
  },
  {
   "cell_type": "code",
   "execution_count": 109,
   "id": "c442259e-9552-4cda-b984-60b8a1f28c33",
   "metadata": {
    "scrolled": true
   },
   "outputs": [
    {
     "data": {
      "text/html": [
       "<div>\n",
       "<style scoped>\n",
       "    .dataframe tbody tr th:only-of-type {\n",
       "        vertical-align: middle;\n",
       "    }\n",
       "\n",
       "    .dataframe tbody tr th {\n",
       "        vertical-align: top;\n",
       "    }\n",
       "\n",
       "    .dataframe thead th {\n",
       "        text-align: right;\n",
       "    }\n",
       "</style>\n",
       "<table border=\"1\" class=\"dataframe\">\n",
       "  <thead>\n",
       "    <tr style=\"text-align: right;\">\n",
       "      <th></th>\n",
       "      <th>userID</th>\n",
       "      <th>placeID</th>\n",
       "      <th>food_rating</th>\n",
       "      <th>service_rating</th>\n",
       "    </tr>\n",
       "  </thead>\n",
       "  <tbody>\n",
       "    <tr>\n",
       "      <th>0</th>\n",
       "      <td>u1077</td>\n",
       "      <td>135085</td>\n",
       "      <td>5.0</td>\n",
       "      <td>3</td>\n",
       "    </tr>\n",
       "    <tr>\n",
       "      <th>1</th>\n",
       "      <td>u1068</td>\n",
       "      <td>132630</td>\n",
       "      <td>NaN</td>\n",
       "      <td>3</td>\n",
       "    </tr>\n",
       "    <tr>\n",
       "      <th>2</th>\n",
       "      <td>u1067</td>\n",
       "      <td>132584</td>\n",
       "      <td>4.0</td>\n",
       "      <td>5</td>\n",
       "    </tr>\n",
       "    <tr>\n",
       "      <th>3</th>\n",
       "      <td>u1067</td>\n",
       "      <td>132733</td>\n",
       "      <td>1.0</td>\n",
       "      <td>1</td>\n",
       "    </tr>\n",
       "    <tr>\n",
       "      <th>4</th>\n",
       "      <td>u1103</td>\n",
       "      <td>132733</td>\n",
       "      <td>4.0</td>\n",
       "      <td>3</td>\n",
       "    </tr>\n",
       "    <tr>\n",
       "      <th>5</th>\n",
       "      <td>u1107</td>\n",
       "      <td>132660</td>\n",
       "      <td>NaN</td>\n",
       "      <td>4</td>\n",
       "    </tr>\n",
       "    <tr>\n",
       "      <th>6</th>\n",
       "      <td>u1107</td>\n",
       "      <td>132660</td>\n",
       "      <td>3.0</td>\n",
       "      <td>4</td>\n",
       "    </tr>\n",
       "    <tr>\n",
       "      <th>7</th>\n",
       "      <td>u1107</td>\n",
       "      <td>132660</td>\n",
       "      <td>3.0</td>\n",
       "      <td>4</td>\n",
       "    </tr>\n",
       "    <tr>\n",
       "      <th>8</th>\n",
       "      <td>u1044</td>\n",
       "      <td>132583</td>\n",
       "      <td>3.0</td>\n",
       "      <td>-999</td>\n",
       "    </tr>\n",
       "    <tr>\n",
       "      <th>9</th>\n",
       "      <td>u1070</td>\n",
       "      <td>132608</td>\n",
       "      <td>4.0</td>\n",
       "      <td>3</td>\n",
       "    </tr>\n",
       "    <tr>\n",
       "      <th>10</th>\n",
       "      <td>u1071</td>\n",
       "      <td>132608</td>\n",
       "      <td>4.0</td>\n",
       "      <td>3</td>\n",
       "    </tr>\n",
       "    <tr>\n",
       "      <th>11</th>\n",
       "      <td>u1071</td>\n",
       "      <td>132608</td>\n",
       "      <td>4.0</td>\n",
       "      <td>3</td>\n",
       "    </tr>\n",
       "  </tbody>\n",
       "</table>\n",
       "</div>"
      ],
      "text/plain": [
       "   userID  placeID  food_rating  service_rating\n",
       "0   u1077   135085          5.0               3\n",
       "1   u1068   132630          NaN               3\n",
       "2   u1067   132584          4.0               5\n",
       "3   u1067   132733          1.0               1\n",
       "4   u1103   132733          4.0               3\n",
       "5   u1107   132660          NaN               4\n",
       "6   u1107   132660          3.0               4\n",
       "7   u1107   132660          3.0               4\n",
       "8   u1044   132583          3.0            -999\n",
       "9   u1070   132608          4.0               3\n",
       "10  u1071   132608          4.0               3\n",
       "11  u1071   132608          4.0               3"
      ]
     },
     "execution_count": 109,
     "metadata": {},
     "output_type": "execute_result"
    }
   ],
   "source": [
    "ratings = pd.DataFrame({\n",
    "'userID': ['u1077', 'u1068', 'u1067', 'u1067', 'u1103', 'u1107', 'u1107', 'u1107', 'u1044', 'u1070', 'u1071', 'u1071'],\n",
    "'placeID': [135085, 132630, 132584, 132733, 132733, 132660, 132660, 132660, 132583, 132608, 132608, 132608],\n",
    "'food_rating': [5, np.nan, 4, 1, 4, np.nan, 3, 3, 3, 4, 4, 4],\n",
    "'service_rating': [3, 3, 5, 1, 3, 4, 4, 4, -999, 3, 3, 3]\n",
    "})\n",
    "\n",
    "ratings"
   ]
  },
  {
   "cell_type": "markdown",
   "id": "3a719fce-3b83-41b6-95cb-ee516209e8b8",
   "metadata": {},
   "source": [
    "## 2.2 Reading & Writing Data from Files\n",
    "\n",
    "----\n",
    "\n",
    "We can read and write data for some common file types using the following functions:\n",
    "\n",
    "| File Type | Read Syntax | Write Syntax |\n",
    "| --- | --- | --- |\n",
    "| CSV | **`pd.read_csv('filename.csv')`** | **`pd.to_csv('filename.csv')`** |\n",
    "| Excel | **`pd.read_excel('filename.xlsx')`** | **`pd.to_excel('filename.xlsx')`** |\n",
    "| JSON | **`pd.read_ison('filename.json')`** | **`pd.to_ison('filename.json')`** |"
   ]
  },
  {
   "cell_type": "code",
   "execution_count": 110,
   "id": "77029194-b1b6-4d4a-8307-6f7f3ffc5a46",
   "metadata": {},
   "outputs": [
    {
     "name": "stdout",
     "output_type": "stream",
     "text": [
      "    Year   Value\n",
      "0   2021  757504\n",
      "1   2021  674890\n",
      "2   2021   49593\n",
      "3   2020   33020\n",
      "4   2016  654404\n",
      "5   2019   26138\n",
      "6   2021    6991\n",
      "7   2020   27801\n",
      "8   2021  123620\n",
      "9   2016     275\n",
      "10  2021    2085\n"
     ]
    }
   ],
   "source": [
    "df = pd.read_csv('sample.csv')\n",
    "print(df)"
   ]
  },
  {
   "cell_type": "code",
   "execution_count": 111,
   "id": "7b5ffee0-05a0-4a72-abed-b819144755a0",
   "metadata": {},
   "outputs": [],
   "source": [
    "df.to_csv('sample2.csv')"
   ]
  },
  {
   "cell_type": "markdown",
   "id": "0ceb1422-d062-41e9-a1b7-10dd2c3e096b",
   "metadata": {},
   "source": [
    "## 2.3 Functionality of Series\n",
    "\n",
    "----\n",
    "\n",
    "Some common attributes of Series are:\n",
    "\n",
    "| Attributes | Functionality | Syntax |\n",
    "| ---- | ---- | --- |\n",
    "| loc | Access a group of rows and columns by label(s) or a boolean array. | **`pd.Series().loc[]`** |\n",
    "| values | Return Series as ndarray or ndarray-like depending on the dtype. | **`pd.Series().values`** |\n",
    "| index | The index (axis labels) of the Series. | **`pd.Series().index`** |\n",
    "| size | Return the number of elements in the underlying data. | **`pd.Series().size`** |\n",
    "| shape | Return a tuple of the shape of the underlying data. | **`pd.Series().shape`** |\n",
    "| name | Return the name of the Series. | **`pd.Series().name`** |\n"
   ]
  },
  {
   "cell_type": "code",
   "execution_count": 112,
   "id": "ec8b577c-c0fb-434e-aa6d-38f5f9d37981",
   "metadata": {},
   "outputs": [
    {
     "data": {
      "text/plain": [
       "small     12\n",
       "medium    87\n",
       "large     56\n",
       "Name: Fruit Basket, dtype: int64"
      ]
     },
     "execution_count": 112,
     "metadata": {},
     "output_type": "execute_result"
    }
   ],
   "source": [
    "fruits = pd.Series([12,87,56],index = ['small','medium','large'], name = 'Fruit Basket')\n",
    "fruits"
   ]
  },
  {
   "cell_type": "code",
   "execution_count": 113,
   "id": "620c4b49-8994-48df-9066-66a6f5762733",
   "metadata": {},
   "outputs": [
    {
     "data": {
      "text/plain": [
       "array([12, 87, 56])"
      ]
     },
     "execution_count": 113,
     "metadata": {},
     "output_type": "execute_result"
    }
   ],
   "source": [
    "fruits.values"
   ]
  },
  {
   "cell_type": "code",
   "execution_count": 114,
   "id": "fd8980ee-1285-4c62-b179-ff3f1635161f",
   "metadata": {},
   "outputs": [
    {
     "data": {
      "text/plain": [
       "Index(['small', 'medium', 'large'], dtype='object')"
      ]
     },
     "execution_count": 114,
     "metadata": {},
     "output_type": "execute_result"
    }
   ],
   "source": [
    "fruits.index"
   ]
  },
  {
   "cell_type": "code",
   "execution_count": 115,
   "id": "7439ebc3-c0f7-4e15-b978-c7aea682f921",
   "metadata": {},
   "outputs": [
    {
     "data": {
      "text/plain": [
       "3"
      ]
     },
     "execution_count": 115,
     "metadata": {},
     "output_type": "execute_result"
    }
   ],
   "source": [
    "fruits.size"
   ]
  },
  {
   "cell_type": "code",
   "execution_count": 116,
   "id": "c48d4802-ee0e-40d2-bb1e-649d380cde06",
   "metadata": {},
   "outputs": [
    {
     "data": {
      "text/plain": [
       "(3,)"
      ]
     },
     "execution_count": 116,
     "metadata": {},
     "output_type": "execute_result"
    }
   ],
   "source": [
    "fruits.shape"
   ]
  },
  {
   "cell_type": "code",
   "execution_count": 117,
   "id": "df981035-9f5a-4b9e-b75d-43190e75e55c",
   "metadata": {},
   "outputs": [
    {
     "data": {
      "text/plain": [
       "'Fruit Basket'"
      ]
     },
     "execution_count": 117,
     "metadata": {},
     "output_type": "execute_result"
    }
   ],
   "source": [
    "fruits.name"
   ]
  },
  {
   "cell_type": "code",
   "execution_count": 118,
   "id": "8e0a57de-f44f-4e0c-9b4e-7b4349857c5a",
   "metadata": {},
   "outputs": [
    {
     "data": {
      "text/plain": [
       "np.int64(12)"
      ]
     },
     "execution_count": 118,
     "metadata": {},
     "output_type": "execute_result"
    }
   ],
   "source": [
    "fruits.loc['small']"
   ]
  },
  {
   "cell_type": "markdown",
   "id": "ee15e14b-ac6a-4038-88bc-0f70b9a57c46",
   "metadata": {},
   "source": [
    "## 2.4 Functionality of DataFrame\n",
    "\n",
    "----\n",
    "\n",
    "Some common attributes of DataFrame are:\n",
    "\n",
    "| Attributes | Functionality | \n",
    "| ---- | ---- |\n",
    "| iloc | Purely integer-location based indexing for selection by position. |\n",
    "| loc | Access a group of rows and columns by label(s) or a boolean array. |\n",
    "| values | Return a Numpy representation of the DataFrame. |\n",
    "| index | The index (row labels) of the DataFrame. |\n",
    "| size | Return an int representing the number of elements in this object. |\n",
    "| shape | Return a tuple representing the dimensionality of the DataFrame. |\n",
    "\n",
    "Some common functions of DataFrame are:\n",
    "\n",
    "| Functions | Functionality |\n",
    "| ---- | ---- |\n",
    "| **`head([n])`** | Return the first n rows. |\n",
    "| **`tail([n])`** | Return the last n rows. |\n",
    "| **`min([axis, skipna, numeric_only])`** | Return the minimum of the values over the requested axis. |\n",
    "| **`max([axis, skipna, numeric_only])`** | Return the maximum of the values over the requested axis. |\n",
    "| **`mean([axis, skipna, numeric_only])`** | Return the mean of the values over the requested axis. |\n",
    "| **`median([axis, skipna, numeric_only])`** | Return the median of the values over the requested axis. |s."
   ]
  },
  {
   "cell_type": "code",
   "execution_count": 119,
   "id": "615d8989-f0a8-438c-b83d-c74a20ea2cd5",
   "metadata": {
    "scrolled": true
   },
   "outputs": [
    {
     "data": {
      "text/html": [
       "<div>\n",
       "<style scoped>\n",
       "    .dataframe tbody tr th:only-of-type {\n",
       "        vertical-align: middle;\n",
       "    }\n",
       "\n",
       "    .dataframe tbody tr th {\n",
       "        vertical-align: top;\n",
       "    }\n",
       "\n",
       "    .dataframe thead th {\n",
       "        text-align: right;\n",
       "    }\n",
       "</style>\n",
       "<table border=\"1\" class=\"dataframe\">\n",
       "  <thead>\n",
       "    <tr style=\"text-align: right;\">\n",
       "      <th></th>\n",
       "      <th>Year</th>\n",
       "      <th>Value</th>\n",
       "    </tr>\n",
       "  </thead>\n",
       "  <tbody>\n",
       "    <tr>\n",
       "      <th>0</th>\n",
       "      <td>2021</td>\n",
       "      <td>757504</td>\n",
       "    </tr>\n",
       "    <tr>\n",
       "      <th>1</th>\n",
       "      <td>2021</td>\n",
       "      <td>674890</td>\n",
       "    </tr>\n",
       "    <tr>\n",
       "      <th>2</th>\n",
       "      <td>2021</td>\n",
       "      <td>49593</td>\n",
       "    </tr>\n",
       "    <tr>\n",
       "      <th>3</th>\n",
       "      <td>2020</td>\n",
       "      <td>33020</td>\n",
       "    </tr>\n",
       "    <tr>\n",
       "      <th>4</th>\n",
       "      <td>2016</td>\n",
       "      <td>654404</td>\n",
       "    </tr>\n",
       "    <tr>\n",
       "      <th>5</th>\n",
       "      <td>2019</td>\n",
       "      <td>26138</td>\n",
       "    </tr>\n",
       "    <tr>\n",
       "      <th>6</th>\n",
       "      <td>2021</td>\n",
       "      <td>6991</td>\n",
       "    </tr>\n",
       "    <tr>\n",
       "      <th>7</th>\n",
       "      <td>2020</td>\n",
       "      <td>27801</td>\n",
       "    </tr>\n",
       "  </tbody>\n",
       "</table>\n",
       "</div>"
      ],
      "text/plain": [
       "   Year   Value\n",
       "0  2021  757504\n",
       "1  2021  674890\n",
       "2  2021   49593\n",
       "3  2020   33020\n",
       "4  2016  654404\n",
       "5  2019   26138\n",
       "6  2021    6991\n",
       "7  2020   27801"
      ]
     },
     "execution_count": 119,
     "metadata": {},
     "output_type": "execute_result"
    }
   ],
   "source": [
    "df.head(8)"
   ]
  },
  {
   "cell_type": "code",
   "execution_count": 120,
   "id": "1d5e4046-485b-469b-9eb1-0e5b8dc9a6c1",
   "metadata": {},
   "outputs": [
    {
     "data": {
      "text/html": [
       "<div>\n",
       "<style scoped>\n",
       "    .dataframe tbody tr th:only-of-type {\n",
       "        vertical-align: middle;\n",
       "    }\n",
       "\n",
       "    .dataframe tbody tr th {\n",
       "        vertical-align: top;\n",
       "    }\n",
       "\n",
       "    .dataframe thead th {\n",
       "        text-align: right;\n",
       "    }\n",
       "</style>\n",
       "<table border=\"1\" class=\"dataframe\">\n",
       "  <thead>\n",
       "    <tr style=\"text-align: right;\">\n",
       "      <th></th>\n",
       "      <th>Year</th>\n",
       "      <th>Value</th>\n",
       "    </tr>\n",
       "  </thead>\n",
       "  <tbody>\n",
       "    <tr>\n",
       "      <th>6</th>\n",
       "      <td>2021</td>\n",
       "      <td>6991</td>\n",
       "    </tr>\n",
       "    <tr>\n",
       "      <th>7</th>\n",
       "      <td>2020</td>\n",
       "      <td>27801</td>\n",
       "    </tr>\n",
       "    <tr>\n",
       "      <th>8</th>\n",
       "      <td>2021</td>\n",
       "      <td>123620</td>\n",
       "    </tr>\n",
       "    <tr>\n",
       "      <th>9</th>\n",
       "      <td>2016</td>\n",
       "      <td>275</td>\n",
       "    </tr>\n",
       "    <tr>\n",
       "      <th>10</th>\n",
       "      <td>2021</td>\n",
       "      <td>2085</td>\n",
       "    </tr>\n",
       "  </tbody>\n",
       "</table>\n",
       "</div>"
      ],
      "text/plain": [
       "    Year   Value\n",
       "6   2021    6991\n",
       "7   2020   27801\n",
       "8   2021  123620\n",
       "9   2016     275\n",
       "10  2021    2085"
      ]
     },
     "execution_count": 120,
     "metadata": {},
     "output_type": "execute_result"
    }
   ],
   "source": [
    "df.tail()"
   ]
  },
  {
   "cell_type": "code",
   "execution_count": 121,
   "id": "c01fe3c6-bfed-453f-b17e-99bf57c2d5f4",
   "metadata": {},
   "outputs": [
    {
     "data": {
      "text/html": [
       "<div>\n",
       "<style scoped>\n",
       "    .dataframe tbody tr th:only-of-type {\n",
       "        vertical-align: middle;\n",
       "    }\n",
       "\n",
       "    .dataframe tbody tr th {\n",
       "        vertical-align: top;\n",
       "    }\n",
       "\n",
       "    .dataframe thead th {\n",
       "        text-align: right;\n",
       "    }\n",
       "</style>\n",
       "<table border=\"1\" class=\"dataframe\">\n",
       "  <thead>\n",
       "    <tr style=\"text-align: right;\">\n",
       "      <th></th>\n",
       "      <th>Year</th>\n",
       "      <th>Value</th>\n",
       "    </tr>\n",
       "  </thead>\n",
       "  <tbody>\n",
       "    <tr>\n",
       "      <th>0</th>\n",
       "      <td>2021</td>\n",
       "      <td>757504</td>\n",
       "    </tr>\n",
       "    <tr>\n",
       "      <th>1</th>\n",
       "      <td>2021</td>\n",
       "      <td>674890</td>\n",
       "    </tr>\n",
       "    <tr>\n",
       "      <th>2</th>\n",
       "      <td>2021</td>\n",
       "      <td>49593</td>\n",
       "    </tr>\n",
       "    <tr>\n",
       "      <th>3</th>\n",
       "      <td>2020</td>\n",
       "      <td>33020</td>\n",
       "    </tr>\n",
       "    <tr>\n",
       "      <th>4</th>\n",
       "      <td>2016</td>\n",
       "      <td>654404</td>\n",
       "    </tr>\n",
       "  </tbody>\n",
       "</table>\n",
       "</div>"
      ],
      "text/plain": [
       "   Year   Value\n",
       "0  2021  757504\n",
       "1  2021  674890\n",
       "2  2021   49593\n",
       "3  2020   33020\n",
       "4  2016  654404"
      ]
     },
     "execution_count": 121,
     "metadata": {},
     "output_type": "execute_result"
    }
   ],
   "source": [
    "df.head()"
   ]
  },
  {
   "cell_type": "code",
   "execution_count": 122,
   "id": "f139f695-744d-4ade-9351-b71d67f1c3df",
   "metadata": {},
   "outputs": [
    {
     "data": {
      "text/html": [
       "<div>\n",
       "<style scoped>\n",
       "    .dataframe tbody tr th:only-of-type {\n",
       "        vertical-align: middle;\n",
       "    }\n",
       "\n",
       "    .dataframe tbody tr th {\n",
       "        vertical-align: top;\n",
       "    }\n",
       "\n",
       "    .dataframe thead th {\n",
       "        text-align: right;\n",
       "    }\n",
       "</style>\n",
       "<table border=\"1\" class=\"dataframe\">\n",
       "  <thead>\n",
       "    <tr style=\"text-align: right;\">\n",
       "      <th></th>\n",
       "      <th>Week1</th>\n",
       "      <th>Week2</th>\n",
       "      <th>Week3</th>\n",
       "      <th>Week4</th>\n",
       "    </tr>\n",
       "  </thead>\n",
       "  <tbody>\n",
       "    <tr>\n",
       "      <th>0</th>\n",
       "      <td>30.0</td>\n",
       "      <td>32.0</td>\n",
       "      <td>29.0</td>\n",
       "      <td>30.3</td>\n",
       "    </tr>\n",
       "    <tr>\n",
       "      <th>1</th>\n",
       "      <td>32.0</td>\n",
       "      <td>31.5</td>\n",
       "      <td>31.7</td>\n",
       "      <td>32.1</td>\n",
       "    </tr>\n",
       "    <tr>\n",
       "      <th>2</th>\n",
       "      <td>34.5</td>\n",
       "      <td>30.5</td>\n",
       "      <td>32.7</td>\n",
       "      <td>34.3</td>\n",
       "    </tr>\n",
       "    <tr>\n",
       "      <th>3</th>\n",
       "      <td>32.1</td>\n",
       "      <td>32.8</td>\n",
       "      <td>34.1</td>\n",
       "      <td>31.1</td>\n",
       "    </tr>\n",
       "    <tr>\n",
       "      <th>4</th>\n",
       "      <td>30.2</td>\n",
       "      <td>30.9</td>\n",
       "      <td>31.2</td>\n",
       "      <td>31.2</td>\n",
       "    </tr>\n",
       "    <tr>\n",
       "      <th>5</th>\n",
       "      <td>29.8</td>\n",
       "      <td>28.8</td>\n",
       "      <td>29.6</td>\n",
       "      <td>30.8</td>\n",
       "    </tr>\n",
       "    <tr>\n",
       "      <th>6</th>\n",
       "      <td>30.5</td>\n",
       "      <td>31.5</td>\n",
       "      <td>31.3</td>\n",
       "      <td>31.2</td>\n",
       "    </tr>\n",
       "  </tbody>\n",
       "</table>\n",
       "</div>"
      ],
      "text/plain": [
       "   Week1  Week2  Week3  Week4\n",
       "0   30.0   32.0   29.0   30.3\n",
       "1   32.0   31.5   31.7   32.1\n",
       "2   34.5   30.5   32.7   34.3\n",
       "3   32.1   32.8   34.1   31.1\n",
       "4   30.2   30.9   31.2   31.2\n",
       "5   29.8   28.8   29.6   30.8\n",
       "6   30.5   31.5   31.3   31.2"
      ]
     },
     "execution_count": 122,
     "metadata": {},
     "output_type": "execute_result"
    }
   ],
   "source": [
    "month"
   ]
  },
  {
   "cell_type": "code",
   "execution_count": 123,
   "id": "114863c4-f596-419c-9df9-44c79243c467",
   "metadata": {},
   "outputs": [
    {
     "data": {
      "text/plain": [
       "0    30.0\n",
       "1    32.0\n",
       "2    34.5\n",
       "Name: Week1, dtype: float64"
      ]
     },
     "execution_count": 123,
     "metadata": {},
     "output_type": "execute_result"
    }
   ],
   "source": [
    "month.Week1.head(3)"
   ]
  },
  {
   "cell_type": "code",
   "execution_count": 124,
   "id": "b3a8f5de-e9eb-4bc2-b6e6-52896b7a345c",
   "metadata": {},
   "outputs": [
    {
     "data": {
      "text/plain": [
       "np.float64(31.571428571428573)"
      ]
     },
     "execution_count": 124,
     "metadata": {},
     "output_type": "execute_result"
    }
   ],
   "source": [
    "month['Week4'].mean()"
   ]
  },
  {
   "cell_type": "code",
   "execution_count": 125,
   "id": "0cbd626d-5264-4650-a13a-5f045c16e492",
   "metadata": {},
   "outputs": [
    {
     "data": {
      "text/plain": [
       "Week3    29.0\n",
       "Week4    30.3\n",
       "dtype: float64"
      ]
     },
     "execution_count": 125,
     "metadata": {},
     "output_type": "execute_result"
    }
   ],
   "source": [
    "month[['Week3','Week4']].min()"
   ]
  },
  {
   "cell_type": "code",
   "execution_count": 126,
   "id": "53c716d8-ebac-45fe-8264-59b572b4866d",
   "metadata": {},
   "outputs": [
    {
     "data": {
      "text/html": [
       "<div>\n",
       "<style scoped>\n",
       "    .dataframe tbody tr th:only-of-type {\n",
       "        vertical-align: middle;\n",
       "    }\n",
       "\n",
       "    .dataframe tbody tr th {\n",
       "        vertical-align: top;\n",
       "    }\n",
       "\n",
       "    .dataframe thead th {\n",
       "        text-align: right;\n",
       "    }\n",
       "</style>\n",
       "<table border=\"1\" class=\"dataframe\">\n",
       "  <thead>\n",
       "    <tr style=\"text-align: right;\">\n",
       "      <th></th>\n",
       "      <th>Year</th>\n",
       "      <th>Value</th>\n",
       "    </tr>\n",
       "  </thead>\n",
       "  <tbody>\n",
       "    <tr>\n",
       "      <th>0</th>\n",
       "      <td>2021</td>\n",
       "      <td>757504</td>\n",
       "    </tr>\n",
       "    <tr>\n",
       "      <th>1</th>\n",
       "      <td>2021</td>\n",
       "      <td>674890</td>\n",
       "    </tr>\n",
       "    <tr>\n",
       "      <th>2</th>\n",
       "      <td>2021</td>\n",
       "      <td>49593</td>\n",
       "    </tr>\n",
       "    <tr>\n",
       "      <th>3</th>\n",
       "      <td>2020</td>\n",
       "      <td>33020</td>\n",
       "    </tr>\n",
       "    <tr>\n",
       "      <th>4</th>\n",
       "      <td>2016</td>\n",
       "      <td>654404</td>\n",
       "    </tr>\n",
       "    <tr>\n",
       "      <th>5</th>\n",
       "      <td>2019</td>\n",
       "      <td>26138</td>\n",
       "    </tr>\n",
       "    <tr>\n",
       "      <th>6</th>\n",
       "      <td>2021</td>\n",
       "      <td>6991</td>\n",
       "    </tr>\n",
       "    <tr>\n",
       "      <th>7</th>\n",
       "      <td>2020</td>\n",
       "      <td>27801</td>\n",
       "    </tr>\n",
       "    <tr>\n",
       "      <th>8</th>\n",
       "      <td>2021</td>\n",
       "      <td>123620</td>\n",
       "    </tr>\n",
       "    <tr>\n",
       "      <th>9</th>\n",
       "      <td>2016</td>\n",
       "      <td>275</td>\n",
       "    </tr>\n",
       "    <tr>\n",
       "      <th>10</th>\n",
       "      <td>2021</td>\n",
       "      <td>2085</td>\n",
       "    </tr>\n",
       "  </tbody>\n",
       "</table>\n",
       "</div>"
      ],
      "text/plain": [
       "    Year   Value\n",
       "0   2021  757504\n",
       "1   2021  674890\n",
       "2   2021   49593\n",
       "3   2020   33020\n",
       "4   2016  654404\n",
       "5   2019   26138\n",
       "6   2021    6991\n",
       "7   2020   27801\n",
       "8   2021  123620\n",
       "9   2016     275\n",
       "10  2021    2085"
      ]
     },
     "execution_count": 126,
     "metadata": {},
     "output_type": "execute_result"
    }
   ],
   "source": [
    "df"
   ]
  },
  {
   "cell_type": "code",
   "execution_count": 127,
   "id": "c539b0ae-3c98-43f6-a6cc-b8df88e8c80b",
   "metadata": {},
   "outputs": [
    {
     "data": {
      "text/plain": [
       "Year     2016\n",
       "Value     275\n",
       "dtype: int64"
      ]
     },
     "execution_count": 127,
     "metadata": {},
     "output_type": "execute_result"
    }
   ],
   "source": [
    "df.min(axis=0)"
   ]
  },
  {
   "cell_type": "code",
   "execution_count": 128,
   "id": "9fe1f5d6-bc89-42c0-ae7d-14eb24dc97f2",
   "metadata": {},
   "outputs": [
    {
     "data": {
      "text/plain": [
       "Year     2021\n",
       "Value    2085\n",
       "Name: 10, dtype: int64"
      ]
     },
     "execution_count": 128,
     "metadata": {},
     "output_type": "execute_result"
    }
   ],
   "source": [
    "df.loc[10]"
   ]
  },
  {
   "cell_type": "code",
   "execution_count": 129,
   "id": "f6f7c20f-bcff-4bb3-9b4b-88085423df61",
   "metadata": {},
   "outputs": [
    {
     "data": {
      "text/html": [
       "<div>\n",
       "<style scoped>\n",
       "    .dataframe tbody tr th:only-of-type {\n",
       "        vertical-align: middle;\n",
       "    }\n",
       "\n",
       "    .dataframe tbody tr th {\n",
       "        vertical-align: top;\n",
       "    }\n",
       "\n",
       "    .dataframe thead th {\n",
       "        text-align: right;\n",
       "    }\n",
       "</style>\n",
       "<table border=\"1\" class=\"dataframe\">\n",
       "  <thead>\n",
       "    <tr style=\"text-align: right;\">\n",
       "      <th></th>\n",
       "      <th>Year</th>\n",
       "      <th>Value</th>\n",
       "    </tr>\n",
       "  </thead>\n",
       "  <tbody>\n",
       "    <tr>\n",
       "      <th>2</th>\n",
       "      <td>2021</td>\n",
       "      <td>49593</td>\n",
       "    </tr>\n",
       "    <tr>\n",
       "      <th>3</th>\n",
       "      <td>2020</td>\n",
       "      <td>33020</td>\n",
       "    </tr>\n",
       "    <tr>\n",
       "      <th>4</th>\n",
       "      <td>2016</td>\n",
       "      <td>654404</td>\n",
       "    </tr>\n",
       "  </tbody>\n",
       "</table>\n",
       "</div>"
      ],
      "text/plain": [
       "   Year   Value\n",
       "2  2021   49593\n",
       "3  2020   33020\n",
       "4  2016  654404"
      ]
     },
     "execution_count": 129,
     "metadata": {},
     "output_type": "execute_result"
    }
   ],
   "source": [
    "df.iloc[2:5]"
   ]
  },
  {
   "cell_type": "markdown",
   "id": "42fbafd5-74e5-4926-aaeb-22c356dc825d",
   "metadata": {},
   "source": [
    "### 2.4.1 Adding Columns to DataFrames"
   ]
  },
  {
   "cell_type": "code",
   "execution_count": 130,
   "id": "3f42c722-078b-4503-bb34-7f531686fe1b",
   "metadata": {},
   "outputs": [
    {
     "data": {
      "text/html": [
       "<div>\n",
       "<style scoped>\n",
       "    .dataframe tbody tr th:only-of-type {\n",
       "        vertical-align: middle;\n",
       "    }\n",
       "\n",
       "    .dataframe tbody tr th {\n",
       "        vertical-align: top;\n",
       "    }\n",
       "\n",
       "    .dataframe thead th {\n",
       "        text-align: right;\n",
       "    }\n",
       "</style>\n",
       "<table border=\"1\" class=\"dataframe\">\n",
       "  <thead>\n",
       "    <tr style=\"text-align: right;\">\n",
       "      <th></th>\n",
       "      <th>Q1</th>\n",
       "      <th>Q2</th>\n",
       "      <th>Q3</th>\n",
       "      <th>Q4</th>\n",
       "    </tr>\n",
       "  </thead>\n",
       "  <tbody>\n",
       "    <tr>\n",
       "      <th>Entry1</th>\n",
       "      <td>120</td>\n",
       "      <td>80</td>\n",
       "      <td>150</td>\n",
       "      <td>100</td>\n",
       "    </tr>\n",
       "    <tr>\n",
       "      <th>Entry2</th>\n",
       "      <td>200</td>\n",
       "      <td>180</td>\n",
       "      <td>150</td>\n",
       "      <td>120</td>\n",
       "    </tr>\n",
       "    <tr>\n",
       "      <th>Entry3</th>\n",
       "      <td>175</td>\n",
       "      <td>175</td>\n",
       "      <td>200</td>\n",
       "      <td>130</td>\n",
       "    </tr>\n",
       "  </tbody>\n",
       "</table>\n",
       "</div>"
      ],
      "text/plain": [
       "         Q1   Q2   Q3   Q4\n",
       "Entry1  120   80  150  100\n",
       "Entry2  200  180  150  120\n",
       "Entry3  175  175  200  130"
      ]
     },
     "execution_count": 130,
     "metadata": {},
     "output_type": "execute_result"
    }
   ],
   "source": [
    "quarterly_sales"
   ]
  },
  {
   "cell_type": "code",
   "execution_count": 131,
   "id": "eb1623a9-7478-4edd-a776-8878036c8ec3",
   "metadata": {},
   "outputs": [
    {
     "data": {
      "text/html": [
       "<div>\n",
       "<style scoped>\n",
       "    .dataframe tbody tr th:only-of-type {\n",
       "        vertical-align: middle;\n",
       "    }\n",
       "\n",
       "    .dataframe tbody tr th {\n",
       "        vertical-align: top;\n",
       "    }\n",
       "\n",
       "    .dataframe thead th {\n",
       "        text-align: right;\n",
       "    }\n",
       "</style>\n",
       "<table border=\"1\" class=\"dataframe\">\n",
       "  <thead>\n",
       "    <tr style=\"text-align: right;\">\n",
       "      <th></th>\n",
       "      <th>Q1</th>\n",
       "      <th>Q2</th>\n",
       "      <th>Q3</th>\n",
       "      <th>Q4</th>\n",
       "      <th>Annual Sale</th>\n",
       "    </tr>\n",
       "  </thead>\n",
       "  <tbody>\n",
       "    <tr>\n",
       "      <th>Entry1</th>\n",
       "      <td>120</td>\n",
       "      <td>80</td>\n",
       "      <td>150</td>\n",
       "      <td>100</td>\n",
       "      <td>450</td>\n",
       "    </tr>\n",
       "    <tr>\n",
       "      <th>Entry2</th>\n",
       "      <td>200</td>\n",
       "      <td>180</td>\n",
       "      <td>150</td>\n",
       "      <td>120</td>\n",
       "      <td>650</td>\n",
       "    </tr>\n",
       "    <tr>\n",
       "      <th>Entry3</th>\n",
       "      <td>175</td>\n",
       "      <td>175</td>\n",
       "      <td>200</td>\n",
       "      <td>130</td>\n",
       "      <td>680</td>\n",
       "    </tr>\n",
       "  </tbody>\n",
       "</table>\n",
       "</div>"
      ],
      "text/plain": [
       "         Q1   Q2   Q3   Q4  Annual Sale\n",
       "Entry1  120   80  150  100          450\n",
       "Entry2  200  180  150  120          650\n",
       "Entry3  175  175  200  130          680"
      ]
     },
     "execution_count": 131,
     "metadata": {},
     "output_type": "execute_result"
    }
   ],
   "source": [
    "quarterly_sales['Annual Sale'] = quarterly_sales['Q1'] + \\\n",
    "quarterly_sales['Q2'] + \\\n",
    "quarterly_sales['Q3'] + \\\n",
    "quarterly_sales['Q4']\n",
    "\n",
    "quarterly_sales"
   ]
  },
  {
   "cell_type": "markdown",
   "id": "4fec3ce1-323d-4ad2-8da9-98d2e4e8d7b2",
   "metadata": {},
   "source": [
    "### 2.4.2 Removing Rows/Columns from DataFrames"
   ]
  },
  {
   "cell_type": "code",
   "execution_count": 132,
   "id": "63c03a19-9a55-459c-82a4-bafad9d3b8e3",
   "metadata": {},
   "outputs": [
    {
     "data": {
      "text/html": [
       "<div>\n",
       "<style scoped>\n",
       "    .dataframe tbody tr th:only-of-type {\n",
       "        vertical-align: middle;\n",
       "    }\n",
       "\n",
       "    .dataframe tbody tr th {\n",
       "        vertical-align: top;\n",
       "    }\n",
       "\n",
       "    .dataframe thead th {\n",
       "        text-align: right;\n",
       "    }\n",
       "</style>\n",
       "<table border=\"1\" class=\"dataframe\">\n",
       "  <thead>\n",
       "    <tr style=\"text-align: right;\">\n",
       "      <th></th>\n",
       "      <th>Q1</th>\n",
       "      <th>Q2</th>\n",
       "      <th>Q3</th>\n",
       "      <th>Q4</th>\n",
       "    </tr>\n",
       "  </thead>\n",
       "  <tbody>\n",
       "    <tr>\n",
       "      <th>Entry1</th>\n",
       "      <td>120</td>\n",
       "      <td>80</td>\n",
       "      <td>150</td>\n",
       "      <td>100</td>\n",
       "    </tr>\n",
       "    <tr>\n",
       "      <th>Entry2</th>\n",
       "      <td>200</td>\n",
       "      <td>180</td>\n",
       "      <td>150</td>\n",
       "      <td>120</td>\n",
       "    </tr>\n",
       "    <tr>\n",
       "      <th>Entry3</th>\n",
       "      <td>175</td>\n",
       "      <td>175</td>\n",
       "      <td>200</td>\n",
       "      <td>130</td>\n",
       "    </tr>\n",
       "  </tbody>\n",
       "</table>\n",
       "</div>"
      ],
      "text/plain": [
       "         Q1   Q2   Q3   Q4\n",
       "Entry1  120   80  150  100\n",
       "Entry2  200  180  150  120\n",
       "Entry3  175  175  200  130"
      ]
     },
     "execution_count": 132,
     "metadata": {},
     "output_type": "execute_result"
    }
   ],
   "source": [
    "quarterly_sales.drop(['Annual Sale'], axis = 'columns')"
   ]
  },
  {
   "cell_type": "code",
   "execution_count": 133,
   "id": "159f166b-2bb2-4b2b-88fb-eb00ffab8991",
   "metadata": {},
   "outputs": [
    {
     "data": {
      "text/html": [
       "<div>\n",
       "<style scoped>\n",
       "    .dataframe tbody tr th:only-of-type {\n",
       "        vertical-align: middle;\n",
       "    }\n",
       "\n",
       "    .dataframe tbody tr th {\n",
       "        vertical-align: top;\n",
       "    }\n",
       "\n",
       "    .dataframe thead th {\n",
       "        text-align: right;\n",
       "    }\n",
       "</style>\n",
       "<table border=\"1\" class=\"dataframe\">\n",
       "  <thead>\n",
       "    <tr style=\"text-align: right;\">\n",
       "      <th></th>\n",
       "      <th>Q1</th>\n",
       "      <th>Q2</th>\n",
       "      <th>Q3</th>\n",
       "      <th>Q4</th>\n",
       "      <th>Annual Sale</th>\n",
       "    </tr>\n",
       "  </thead>\n",
       "  <tbody>\n",
       "    <tr>\n",
       "      <th>Entry1</th>\n",
       "      <td>120</td>\n",
       "      <td>80</td>\n",
       "      <td>150</td>\n",
       "      <td>100</td>\n",
       "      <td>450</td>\n",
       "    </tr>\n",
       "    <tr>\n",
       "      <th>Entry2</th>\n",
       "      <td>200</td>\n",
       "      <td>180</td>\n",
       "      <td>150</td>\n",
       "      <td>120</td>\n",
       "      <td>650</td>\n",
       "    </tr>\n",
       "    <tr>\n",
       "      <th>Entry3</th>\n",
       "      <td>175</td>\n",
       "      <td>175</td>\n",
       "      <td>200</td>\n",
       "      <td>130</td>\n",
       "      <td>680</td>\n",
       "    </tr>\n",
       "  </tbody>\n",
       "</table>\n",
       "</div>"
      ],
      "text/plain": [
       "         Q1   Q2   Q3   Q4  Annual Sale\n",
       "Entry1  120   80  150  100          450\n",
       "Entry2  200  180  150  120          650\n",
       "Entry3  175  175  200  130          680"
      ]
     },
     "execution_count": 133,
     "metadata": {},
     "output_type": "execute_result"
    }
   ],
   "source": [
    "quarterly_sales"
   ]
  },
  {
   "cell_type": "code",
   "execution_count": 134,
   "id": "02f9e892-1945-49b9-b61e-e3aa8316963b",
   "metadata": {},
   "outputs": [
    {
     "data": {
      "text/html": [
       "<div>\n",
       "<style scoped>\n",
       "    .dataframe tbody tr th:only-of-type {\n",
       "        vertical-align: middle;\n",
       "    }\n",
       "\n",
       "    .dataframe tbody tr th {\n",
       "        vertical-align: top;\n",
       "    }\n",
       "\n",
       "    .dataframe thead th {\n",
       "        text-align: right;\n",
       "    }\n",
       "</style>\n",
       "<table border=\"1\" class=\"dataframe\">\n",
       "  <thead>\n",
       "    <tr style=\"text-align: right;\">\n",
       "      <th></th>\n",
       "      <th>Q1</th>\n",
       "      <th>Q2</th>\n",
       "      <th>Q3</th>\n",
       "      <th>Q4</th>\n",
       "    </tr>\n",
       "  </thead>\n",
       "  <tbody>\n",
       "    <tr>\n",
       "      <th>Entry1</th>\n",
       "      <td>120</td>\n",
       "      <td>80</td>\n",
       "      <td>150</td>\n",
       "      <td>100</td>\n",
       "    </tr>\n",
       "    <tr>\n",
       "      <th>Entry2</th>\n",
       "      <td>200</td>\n",
       "      <td>180</td>\n",
       "      <td>150</td>\n",
       "      <td>120</td>\n",
       "    </tr>\n",
       "    <tr>\n",
       "      <th>Entry3</th>\n",
       "      <td>175</td>\n",
       "      <td>175</td>\n",
       "      <td>200</td>\n",
       "      <td>130</td>\n",
       "    </tr>\n",
       "  </tbody>\n",
       "</table>\n",
       "</div>"
      ],
      "text/plain": [
       "         Q1   Q2   Q3   Q4\n",
       "Entry1  120   80  150  100\n",
       "Entry2  200  180  150  120\n",
       "Entry3  175  175  200  130"
      ]
     },
     "execution_count": 134,
     "metadata": {},
     "output_type": "execute_result"
    }
   ],
   "source": [
    "quarterly_sales.drop(['Annual Sale'], axis = 'columns', inplace = True)\n",
    "\n",
    "quarterly_sales"
   ]
  },
  {
   "cell_type": "markdown",
   "id": "50433065-84d2-4269-aefe-42a7856f61d8",
   "metadata": {},
   "source": [
    "As you can see above **`drop()`** without **`inplace = True`** will only show the dropped table. But only **`inplace = True`** is used it will update the original table. \n",
    "\n",
    "*Note: This is not preferable during data manipulations. Always try to save the new dropped table to another variable other then updating the original table*"
   ]
  },
  {
   "cell_type": "code",
   "execution_count": 135,
   "id": "e41f8bb7-18a1-4131-ad6f-d3bea20fd6f4",
   "metadata": {},
   "outputs": [
    {
     "data": {
      "text/html": [
       "<div>\n",
       "<style scoped>\n",
       "    .dataframe tbody tr th:only-of-type {\n",
       "        vertical-align: middle;\n",
       "    }\n",
       "\n",
       "    .dataframe tbody tr th {\n",
       "        vertical-align: top;\n",
       "    }\n",
       "\n",
       "    .dataframe thead th {\n",
       "        text-align: right;\n",
       "    }\n",
       "</style>\n",
       "<table border=\"1\" class=\"dataframe\">\n",
       "  <thead>\n",
       "    <tr style=\"text-align: right;\">\n",
       "      <th></th>\n",
       "      <th>Q1</th>\n",
       "      <th>Q2</th>\n",
       "      <th>Q3</th>\n",
       "      <th>Q4</th>\n",
       "    </tr>\n",
       "  </thead>\n",
       "  <tbody>\n",
       "    <tr>\n",
       "      <th>Entry1</th>\n",
       "      <td>120</td>\n",
       "      <td>80</td>\n",
       "      <td>150</td>\n",
       "      <td>100</td>\n",
       "    </tr>\n",
       "    <tr>\n",
       "      <th>Entry3</th>\n",
       "      <td>175</td>\n",
       "      <td>175</td>\n",
       "      <td>200</td>\n",
       "      <td>130</td>\n",
       "    </tr>\n",
       "  </tbody>\n",
       "</table>\n",
       "</div>"
      ],
      "text/plain": [
       "         Q1   Q2   Q3   Q4\n",
       "Entry1  120   80  150  100\n",
       "Entry3  175  175  200  130"
      ]
     },
     "execution_count": 135,
     "metadata": {},
     "output_type": "execute_result"
    }
   ],
   "source": [
    "quarterly_sales.drop(['Entry2'])"
   ]
  },
  {
   "cell_type": "code",
   "execution_count": 136,
   "id": "d53e2337-83a6-4f40-8af8-7a500ea57875",
   "metadata": {},
   "outputs": [
    {
     "data": {
      "text/html": [
       "<div>\n",
       "<style scoped>\n",
       "    .dataframe tbody tr th:only-of-type {\n",
       "        vertical-align: middle;\n",
       "    }\n",
       "\n",
       "    .dataframe tbody tr th {\n",
       "        vertical-align: top;\n",
       "    }\n",
       "\n",
       "    .dataframe thead th {\n",
       "        text-align: right;\n",
       "    }\n",
       "</style>\n",
       "<table border=\"1\" class=\"dataframe\">\n",
       "  <thead>\n",
       "    <tr style=\"text-align: right;\">\n",
       "      <th></th>\n",
       "      <th>Q1</th>\n",
       "      <th>Q2</th>\n",
       "      <th>Q3</th>\n",
       "      <th>Q4</th>\n",
       "    </tr>\n",
       "  </thead>\n",
       "  <tbody>\n",
       "    <tr>\n",
       "      <th>Entry2</th>\n",
       "      <td>200</td>\n",
       "      <td>180</td>\n",
       "      <td>150</td>\n",
       "      <td>120</td>\n",
       "    </tr>\n",
       "    <tr>\n",
       "      <th>Entry3</th>\n",
       "      <td>175</td>\n",
       "      <td>175</td>\n",
       "      <td>200</td>\n",
       "      <td>130</td>\n",
       "    </tr>\n",
       "  </tbody>\n",
       "</table>\n",
       "</div>"
      ],
      "text/plain": [
       "         Q1   Q2   Q3   Q4\n",
       "Entry2  200  180  150  120\n",
       "Entry3  175  175  200  130"
      ]
     },
     "execution_count": 136,
     "metadata": {},
     "output_type": "execute_result"
    }
   ],
   "source": [
    "quarterly_sales.drop(quarterly_sales.index[0:1])"
   ]
  },
  {
   "cell_type": "markdown",
   "id": "704fb253-9fb3-4ea3-8113-d5ebd0e86912",
   "metadata": {},
   "source": [
    "### Updating a Cell's Value\n",
    "\n",
    "Previously we used to use **`.set_values()`** but it's deprecated since Pandas version 0.21.0. So if we use it now we will see **AttributeError**\n",
    "\n",
    "Now we can use **`.at[]`** or **`.iat[]`**"
   ]
  },
  {
   "cell_type": "code",
   "execution_count": 137,
   "id": "c5a94cd9-3da1-40f6-8808-6995be2ed398",
   "metadata": {},
   "outputs": [
    {
     "ename": "AttributeError",
     "evalue": "'DataFrame' object has no attribute 'set_value'",
     "output_type": "error",
     "traceback": [
      "\u001b[0;31m---------------------------------------------------------------------------\u001b[0m",
      "\u001b[0;31mAttributeError\u001b[0m                            Traceback (most recent call last)",
      "\u001b[0;32m/tmp/ipykernel_12984/3578925488.py\u001b[0m in \u001b[0;36m?\u001b[0;34m()\u001b[0m\n\u001b[0;32m----> 1\u001b[0;31m \u001b[0mquarterly_sales\u001b[0m\u001b[0;34m.\u001b[0m\u001b[0mset_value\u001b[0m\u001b[0;34m(\u001b[0m\u001b[0;34m'Entry1'\u001b[0m\u001b[0;34m,\u001b[0m\u001b[0;34m'Q1'\u001b[0m\u001b[0;34m,\u001b[0m\u001b[0;36m0\u001b[0m\u001b[0;34m)\u001b[0m\u001b[0;34m\u001b[0m\u001b[0;34m\u001b[0m\u001b[0m\n\u001b[0m",
      "\u001b[0;32m~/.local/lib/python3.10/site-packages/pandas/core/generic.py\u001b[0m in \u001b[0;36m?\u001b[0;34m(self, name)\u001b[0m\n\u001b[1;32m   6295\u001b[0m             \u001b[0;32mand\u001b[0m \u001b[0mname\u001b[0m \u001b[0;32mnot\u001b[0m \u001b[0;32min\u001b[0m \u001b[0mself\u001b[0m\u001b[0;34m.\u001b[0m\u001b[0m_accessors\u001b[0m\u001b[0;34m\u001b[0m\u001b[0;34m\u001b[0m\u001b[0m\n\u001b[1;32m   6296\u001b[0m             \u001b[0;32mand\u001b[0m \u001b[0mself\u001b[0m\u001b[0;34m.\u001b[0m\u001b[0m_info_axis\u001b[0m\u001b[0;34m.\u001b[0m\u001b[0m_can_hold_identifiers_and_holds_name\u001b[0m\u001b[0;34m(\u001b[0m\u001b[0mname\u001b[0m\u001b[0;34m)\u001b[0m\u001b[0;34m\u001b[0m\u001b[0;34m\u001b[0m\u001b[0m\n\u001b[1;32m   6297\u001b[0m         ):\n\u001b[1;32m   6298\u001b[0m             \u001b[0;32mreturn\u001b[0m \u001b[0mself\u001b[0m\u001b[0;34m[\u001b[0m\u001b[0mname\u001b[0m\u001b[0;34m]\u001b[0m\u001b[0;34m\u001b[0m\u001b[0;34m\u001b[0m\u001b[0m\n\u001b[0;32m-> 6299\u001b[0;31m         \u001b[0;32mreturn\u001b[0m \u001b[0mobject\u001b[0m\u001b[0;34m.\u001b[0m\u001b[0m__getattribute__\u001b[0m\u001b[0;34m(\u001b[0m\u001b[0mself\u001b[0m\u001b[0;34m,\u001b[0m \u001b[0mname\u001b[0m\u001b[0;34m)\u001b[0m\u001b[0;34m\u001b[0m\u001b[0;34m\u001b[0m\u001b[0m\n\u001b[0m",
      "\u001b[0;31mAttributeError\u001b[0m: 'DataFrame' object has no attribute 'set_value'"
     ]
    }
   ],
   "source": [
    "quarterly_sales.set_value('Entry1','Q1',0)"
   ]
  },
  {
   "cell_type": "code",
   "execution_count": 138,
   "id": "cf9e006a-a03f-4ed0-b7fd-59ef61e1329f",
   "metadata": {},
   "outputs": [
    {
     "data": {
      "text/plain": [
       "np.int64(120)"
      ]
     },
     "execution_count": 138,
     "metadata": {},
     "output_type": "execute_result"
    }
   ],
   "source": [
    "quarterly_sales.at['Entry1','Q1']"
   ]
  },
  {
   "cell_type": "code",
   "execution_count": 139,
   "id": "65b39e54-f1c6-4733-9407-b3c48c472708",
   "metadata": {},
   "outputs": [
    {
     "data": {
      "text/html": [
       "<div>\n",
       "<style scoped>\n",
       "    .dataframe tbody tr th:only-of-type {\n",
       "        vertical-align: middle;\n",
       "    }\n",
       "\n",
       "    .dataframe tbody tr th {\n",
       "        vertical-align: top;\n",
       "    }\n",
       "\n",
       "    .dataframe thead th {\n",
       "        text-align: right;\n",
       "    }\n",
       "</style>\n",
       "<table border=\"1\" class=\"dataframe\">\n",
       "  <thead>\n",
       "    <tr style=\"text-align: right;\">\n",
       "      <th></th>\n",
       "      <th>Q1</th>\n",
       "      <th>Q2</th>\n",
       "      <th>Q3</th>\n",
       "      <th>Q4</th>\n",
       "    </tr>\n",
       "  </thead>\n",
       "  <tbody>\n",
       "    <tr>\n",
       "      <th>Entry1</th>\n",
       "      <td>0</td>\n",
       "      <td>80</td>\n",
       "      <td>150</td>\n",
       "      <td>100</td>\n",
       "    </tr>\n",
       "    <tr>\n",
       "      <th>Entry2</th>\n",
       "      <td>200</td>\n",
       "      <td>180</td>\n",
       "      <td>150</td>\n",
       "      <td>120</td>\n",
       "    </tr>\n",
       "    <tr>\n",
       "      <th>Entry3</th>\n",
       "      <td>175</td>\n",
       "      <td>175</td>\n",
       "      <td>200</td>\n",
       "      <td>130</td>\n",
       "    </tr>\n",
       "  </tbody>\n",
       "</table>\n",
       "</div>"
      ],
      "text/plain": [
       "         Q1   Q2   Q3   Q4\n",
       "Entry1    0   80  150  100\n",
       "Entry2  200  180  150  120\n",
       "Entry3  175  175  200  130"
      ]
     },
     "execution_count": 139,
     "metadata": {},
     "output_type": "execute_result"
    }
   ],
   "source": [
    "quarterly_sales.at['Entry1','Q1']=0\n",
    "quarterly_sales"
   ]
  },
  {
   "cell_type": "code",
   "execution_count": 140,
   "id": "4cc4e0e5-4856-4784-a363-5683674e157d",
   "metadata": {},
   "outputs": [
    {
     "data": {
      "text/plain": [
       "np.int64(0)"
      ]
     },
     "execution_count": 140,
     "metadata": {},
     "output_type": "execute_result"
    }
   ],
   "source": [
    "quarterly_sales.iat[0,0]"
   ]
  },
  {
   "cell_type": "code",
   "execution_count": 141,
   "id": "052f392d-68ba-46b2-9e6f-920cad5bc149",
   "metadata": {},
   "outputs": [
    {
     "data": {
      "text/html": [
       "<div>\n",
       "<style scoped>\n",
       "    .dataframe tbody tr th:only-of-type {\n",
       "        vertical-align: middle;\n",
       "    }\n",
       "\n",
       "    .dataframe tbody tr th {\n",
       "        vertical-align: top;\n",
       "    }\n",
       "\n",
       "    .dataframe thead th {\n",
       "        text-align: right;\n",
       "    }\n",
       "</style>\n",
       "<table border=\"1\" class=\"dataframe\">\n",
       "  <thead>\n",
       "    <tr style=\"text-align: right;\">\n",
       "      <th></th>\n",
       "      <th>Q1</th>\n",
       "      <th>Q2</th>\n",
       "      <th>Q3</th>\n",
       "      <th>Q4</th>\n",
       "    </tr>\n",
       "  </thead>\n",
       "  <tbody>\n",
       "    <tr>\n",
       "      <th>Entry1</th>\n",
       "      <td>120</td>\n",
       "      <td>80</td>\n",
       "      <td>150</td>\n",
       "      <td>100</td>\n",
       "    </tr>\n",
       "    <tr>\n",
       "      <th>Entry2</th>\n",
       "      <td>200</td>\n",
       "      <td>180</td>\n",
       "      <td>150</td>\n",
       "      <td>120</td>\n",
       "    </tr>\n",
       "    <tr>\n",
       "      <th>Entry3</th>\n",
       "      <td>175</td>\n",
       "      <td>175</td>\n",
       "      <td>200</td>\n",
       "      <td>130</td>\n",
       "    </tr>\n",
       "  </tbody>\n",
       "</table>\n",
       "</div>"
      ],
      "text/plain": [
       "         Q1   Q2   Q3   Q4\n",
       "Entry1  120   80  150  100\n",
       "Entry2  200  180  150  120\n",
       "Entry3  175  175  200  130"
      ]
     },
     "execution_count": 141,
     "metadata": {},
     "output_type": "execute_result"
    }
   ],
   "source": [
    "quarterly_sales.iat[0,0] = 120\n",
    "quarterly_sales"
   ]
  },
  {
   "cell_type": "markdown",
   "id": "bf6a1c19-74e7-4883-aaa7-278dbecdeca5",
   "metadata": {},
   "source": [
    "### 2.4.3 Filtering a DataFrame\n"
   ]
  },
  {
   "cell_type": "code",
   "execution_count": 142,
   "id": "d972dd9c-c837-4c65-8887-cb13839b16c1",
   "metadata": {},
   "outputs": [
    {
     "data": {
      "text/html": [
       "<div>\n",
       "<style scoped>\n",
       "    .dataframe tbody tr th:only-of-type {\n",
       "        vertical-align: middle;\n",
       "    }\n",
       "\n",
       "    .dataframe tbody tr th {\n",
       "        vertical-align: top;\n",
       "    }\n",
       "\n",
       "    .dataframe thead th {\n",
       "        text-align: right;\n",
       "    }\n",
       "</style>\n",
       "<table border=\"1\" class=\"dataframe\">\n",
       "  <thead>\n",
       "    <tr style=\"text-align: right;\">\n",
       "      <th></th>\n",
       "      <th>CustID</th>\n",
       "      <th>City</th>\n",
       "      <th>Store Number</th>\n",
       "      <th>Sales (INR)</th>\n",
       "      <th>Customer Age</th>\n",
       "      <th>Gender</th>\n",
       "    </tr>\n",
       "  </thead>\n",
       "  <tbody>\n",
       "    <tr>\n",
       "      <th>0</th>\n",
       "      <td>1001</td>\n",
       "      <td>Mumbai</td>\n",
       "      <td>10</td>\n",
       "      <td>123</td>\n",
       "      <td>38</td>\n",
       "      <td>M</td>\n",
       "    </tr>\n",
       "    <tr>\n",
       "      <th>1</th>\n",
       "      <td>1003</td>\n",
       "      <td>Bangalore</td>\n",
       "      <td>23</td>\n",
       "      <td>543</td>\n",
       "      <td>40</td>\n",
       "      <td>M</td>\n",
       "    </tr>\n",
       "    <tr>\n",
       "      <th>2</th>\n",
       "      <td>1006</td>\n",
       "      <td>Delhi</td>\n",
       "      <td>15</td>\n",
       "      <td>220</td>\n",
       "      <td>30</td>\n",
       "      <td>F</td>\n",
       "    </tr>\n",
       "    <tr>\n",
       "      <th>3</th>\n",
       "      <td>1007</td>\n",
       "      <td>Chennai</td>\n",
       "      <td>17</td>\n",
       "      <td>190</td>\n",
       "      <td>45</td>\n",
       "      <td>F</td>\n",
       "    </tr>\n",
       "    <tr>\n",
       "      <th>4</th>\n",
       "      <td>1009</td>\n",
       "      <td>Mumbai</td>\n",
       "      <td>11</td>\n",
       "      <td>269</td>\n",
       "      <td>28</td>\n",
       "      <td>F</td>\n",
       "    </tr>\n",
       "    <tr>\n",
       "      <th>5</th>\n",
       "      <td>1010</td>\n",
       "      <td>Bangalore</td>\n",
       "      <td>21</td>\n",
       "      <td>130</td>\n",
       "      <td>56</td>\n",
       "      <td>M</td>\n",
       "    </tr>\n",
       "    <tr>\n",
       "      <th>6</th>\n",
       "      <td>1011</td>\n",
       "      <td>Mumbai</td>\n",
       "      <td>13</td>\n",
       "      <td>175</td>\n",
       "      <td>43</td>\n",
       "      <td>M</td>\n",
       "    </tr>\n",
       "    <tr>\n",
       "      <th>7</th>\n",
       "      <td>1012</td>\n",
       "      <td>Delhi</td>\n",
       "      <td>16</td>\n",
       "      <td>210</td>\n",
       "      <td>36</td>\n",
       "      <td>M</td>\n",
       "    </tr>\n",
       "    <tr>\n",
       "      <th>8</th>\n",
       "      <td>1013</td>\n",
       "      <td>Delhi</td>\n",
       "      <td>18</td>\n",
       "      <td>120</td>\n",
       "      <td>25</td>\n",
       "      <td>M</td>\n",
       "    </tr>\n",
       "    <tr>\n",
       "      <th>9</th>\n",
       "      <td>1014</td>\n",
       "      <td>Bangalore</td>\n",
       "      <td>21</td>\n",
       "      <td>150</td>\n",
       "      <td>29</td>\n",
       "      <td>F</td>\n",
       "    </tr>\n",
       "    <tr>\n",
       "      <th>10</th>\n",
       "      <td>1015</td>\n",
       "      <td>Mumbai</td>\n",
       "      <td>11</td>\n",
       "      <td>160</td>\n",
       "      <td>49</td>\n",
       "      <td>M</td>\n",
       "    </tr>\n",
       "    <tr>\n",
       "      <th>11</th>\n",
       "      <td>1017</td>\n",
       "      <td>Delhi</td>\n",
       "      <td>16</td>\n",
       "      <td>170</td>\n",
       "      <td>75</td>\n",
       "      <td>F</td>\n",
       "    </tr>\n",
       "    <tr>\n",
       "      <th>12</th>\n",
       "      <td>1019</td>\n",
       "      <td>Chennai</td>\n",
       "      <td>17</td>\n",
       "      <td>242</td>\n",
       "      <td>62</td>\n",
       "      <td>F</td>\n",
       "    </tr>\n",
       "    <tr>\n",
       "      <th>13</th>\n",
       "      <td>1020</td>\n",
       "      <td>Mumbai</td>\n",
       "      <td>10</td>\n",
       "      <td>273</td>\n",
       "      <td>55</td>\n",
       "      <td>M</td>\n",
       "    </tr>\n",
       "  </tbody>\n",
       "</table>\n",
       "</div>"
      ],
      "text/plain": [
       "    CustID       City  Store Number  Sales (INR)  Customer Age Gender\n",
       "0     1001     Mumbai            10          123            38      M\n",
       "1     1003  Bangalore            23          543            40      M\n",
       "2     1006      Delhi            15          220            30      F\n",
       "3     1007    Chennai            17          190            45      F\n",
       "4     1009     Mumbai            11          269            28      F\n",
       "5     1010  Bangalore            21          130            56      M\n",
       "6     1011     Mumbai            13          175            43      M\n",
       "7     1012      Delhi            16          210            36      M\n",
       "8     1013      Delhi            18          120            25      M\n",
       "9     1014  Bangalore            21          150            29      F\n",
       "10    1015     Mumbai            11          160            49      M\n",
       "11    1017      Delhi            16          170            75      F\n",
       "12    1019    Chennai            17          242            62      F\n",
       "13    1020     Mumbai            10          273            55      M"
      ]
     },
     "execution_count": 142,
     "metadata": {},
     "output_type": "execute_result"
    }
   ],
   "source": [
    "customer"
   ]
  },
  {
   "cell_type": "code",
   "execution_count": 143,
   "id": "14816374-e5b5-4437-b4cb-9acd98c72121",
   "metadata": {},
   "outputs": [
    {
     "data": {
      "text/plain": [
       "0      True\n",
       "1      True\n",
       "2     False\n",
       "3     False\n",
       "4     False\n",
       "5      True\n",
       "6      True\n",
       "7      True\n",
       "8      True\n",
       "9     False\n",
       "10     True\n",
       "11    False\n",
       "12    False\n",
       "13     True\n",
       "Name: Gender, dtype: bool"
      ]
     },
     "execution_count": 143,
     "metadata": {},
     "output_type": "execute_result"
    }
   ],
   "source": [
    "customer['Gender']=='M'"
   ]
  },
  {
   "cell_type": "code",
   "execution_count": 144,
   "id": "6c7425f5-dcd0-4501-8cec-c57f9465614c",
   "metadata": {},
   "outputs": [
    {
     "data": {
      "text/html": [
       "<div>\n",
       "<style scoped>\n",
       "    .dataframe tbody tr th:only-of-type {\n",
       "        vertical-align: middle;\n",
       "    }\n",
       "\n",
       "    .dataframe tbody tr th {\n",
       "        vertical-align: top;\n",
       "    }\n",
       "\n",
       "    .dataframe thead th {\n",
       "        text-align: right;\n",
       "    }\n",
       "</style>\n",
       "<table border=\"1\" class=\"dataframe\">\n",
       "  <thead>\n",
       "    <tr style=\"text-align: right;\">\n",
       "      <th></th>\n",
       "      <th>CustID</th>\n",
       "      <th>City</th>\n",
       "      <th>Store Number</th>\n",
       "      <th>Sales (INR)</th>\n",
       "      <th>Customer Age</th>\n",
       "      <th>Gender</th>\n",
       "    </tr>\n",
       "  </thead>\n",
       "  <tbody>\n",
       "    <tr>\n",
       "      <th>0</th>\n",
       "      <td>1001</td>\n",
       "      <td>Mumbai</td>\n",
       "      <td>10</td>\n",
       "      <td>123</td>\n",
       "      <td>38</td>\n",
       "      <td>M</td>\n",
       "    </tr>\n",
       "    <tr>\n",
       "      <th>1</th>\n",
       "      <td>1003</td>\n",
       "      <td>Bangalore</td>\n",
       "      <td>23</td>\n",
       "      <td>543</td>\n",
       "      <td>40</td>\n",
       "      <td>M</td>\n",
       "    </tr>\n",
       "    <tr>\n",
       "      <th>5</th>\n",
       "      <td>1010</td>\n",
       "      <td>Bangalore</td>\n",
       "      <td>21</td>\n",
       "      <td>130</td>\n",
       "      <td>56</td>\n",
       "      <td>M</td>\n",
       "    </tr>\n",
       "    <tr>\n",
       "      <th>6</th>\n",
       "      <td>1011</td>\n",
       "      <td>Mumbai</td>\n",
       "      <td>13</td>\n",
       "      <td>175</td>\n",
       "      <td>43</td>\n",
       "      <td>M</td>\n",
       "    </tr>\n",
       "    <tr>\n",
       "      <th>7</th>\n",
       "      <td>1012</td>\n",
       "      <td>Delhi</td>\n",
       "      <td>16</td>\n",
       "      <td>210</td>\n",
       "      <td>36</td>\n",
       "      <td>M</td>\n",
       "    </tr>\n",
       "    <tr>\n",
       "      <th>8</th>\n",
       "      <td>1013</td>\n",
       "      <td>Delhi</td>\n",
       "      <td>18</td>\n",
       "      <td>120</td>\n",
       "      <td>25</td>\n",
       "      <td>M</td>\n",
       "    </tr>\n",
       "    <tr>\n",
       "      <th>10</th>\n",
       "      <td>1015</td>\n",
       "      <td>Mumbai</td>\n",
       "      <td>11</td>\n",
       "      <td>160</td>\n",
       "      <td>49</td>\n",
       "      <td>M</td>\n",
       "    </tr>\n",
       "    <tr>\n",
       "      <th>13</th>\n",
       "      <td>1020</td>\n",
       "      <td>Mumbai</td>\n",
       "      <td>10</td>\n",
       "      <td>273</td>\n",
       "      <td>55</td>\n",
       "      <td>M</td>\n",
       "    </tr>\n",
       "  </tbody>\n",
       "</table>\n",
       "</div>"
      ],
      "text/plain": [
       "    CustID       City  Store Number  Sales (INR)  Customer Age Gender\n",
       "0     1001     Mumbai            10          123            38      M\n",
       "1     1003  Bangalore            23          543            40      M\n",
       "5     1010  Bangalore            21          130            56      M\n",
       "6     1011     Mumbai            13          175            43      M\n",
       "7     1012      Delhi            16          210            36      M\n",
       "8     1013      Delhi            18          120            25      M\n",
       "10    1015     Mumbai            11          160            49      M\n",
       "13    1020     Mumbai            10          273            55      M"
      ]
     },
     "execution_count": 144,
     "metadata": {},
     "output_type": "execute_result"
    }
   ],
   "source": [
    "customer[customer['Gender']=='M']"
   ]
  },
  {
   "cell_type": "code",
   "execution_count": 145,
   "id": "06ce3aeb-737c-4535-a523-8f7bd43e6442",
   "metadata": {
    "scrolled": true
   },
   "outputs": [
    {
     "data": {
      "text/html": [
       "<div>\n",
       "<style scoped>\n",
       "    .dataframe tbody tr th:only-of-type {\n",
       "        vertical-align: middle;\n",
       "    }\n",
       "\n",
       "    .dataframe tbody tr th {\n",
       "        vertical-align: top;\n",
       "    }\n",
       "\n",
       "    .dataframe thead th {\n",
       "        text-align: right;\n",
       "    }\n",
       "</style>\n",
       "<table border=\"1\" class=\"dataframe\">\n",
       "  <thead>\n",
       "    <tr style=\"text-align: right;\">\n",
       "      <th></th>\n",
       "      <th>CustID</th>\n",
       "      <th>City</th>\n",
       "      <th>Store Number</th>\n",
       "      <th>Sales (INR)</th>\n",
       "      <th>Customer Age</th>\n",
       "      <th>Gender</th>\n",
       "    </tr>\n",
       "  </thead>\n",
       "  <tbody>\n",
       "    <tr>\n",
       "      <th>1</th>\n",
       "      <td>1003</td>\n",
       "      <td>Bangalore</td>\n",
       "      <td>23</td>\n",
       "      <td>543</td>\n",
       "      <td>40</td>\n",
       "      <td>M</td>\n",
       "    </tr>\n",
       "    <tr>\n",
       "      <th>3</th>\n",
       "      <td>1007</td>\n",
       "      <td>Chennai</td>\n",
       "      <td>17</td>\n",
       "      <td>190</td>\n",
       "      <td>45</td>\n",
       "      <td>F</td>\n",
       "    </tr>\n",
       "    <tr>\n",
       "      <th>5</th>\n",
       "      <td>1010</td>\n",
       "      <td>Bangalore</td>\n",
       "      <td>21</td>\n",
       "      <td>130</td>\n",
       "      <td>56</td>\n",
       "      <td>M</td>\n",
       "    </tr>\n",
       "    <tr>\n",
       "      <th>9</th>\n",
       "      <td>1014</td>\n",
       "      <td>Bangalore</td>\n",
       "      <td>21</td>\n",
       "      <td>150</td>\n",
       "      <td>29</td>\n",
       "      <td>F</td>\n",
       "    </tr>\n",
       "    <tr>\n",
       "      <th>12</th>\n",
       "      <td>1019</td>\n",
       "      <td>Chennai</td>\n",
       "      <td>17</td>\n",
       "      <td>242</td>\n",
       "      <td>62</td>\n",
       "      <td>F</td>\n",
       "    </tr>\n",
       "  </tbody>\n",
       "</table>\n",
       "</div>"
      ],
      "text/plain": [
       "    CustID       City  Store Number  Sales (INR)  Customer Age Gender\n",
       "1     1003  Bangalore            23          543            40      M\n",
       "3     1007    Chennai            17          190            45      F\n",
       "5     1010  Bangalore            21          130            56      M\n",
       "9     1014  Bangalore            21          150            29      F\n",
       "12    1019    Chennai            17          242            62      F"
      ]
     },
     "execution_count": 145,
     "metadata": {},
     "output_type": "execute_result"
    }
   ],
   "source": [
    "cities = ['Bangalore', 'Chennai',]\n",
    "\n",
    "customer[customer['City'].isin(cities)]"
   ]
  },
  {
   "cell_type": "markdown",
   "id": "dd473036-039e-4bc6-bca6-545c2a429d8c",
   "metadata": {},
   "source": [
    "### 2.4.4 Adding Rows to DataFrames\n",
    "\n",
    "Previously we used to use **`append()`** but it was deprecated since version Pandas version 1.4.0. If we use append we'll get **AttributeError**\n",
    "\n",
    "Now we use **`concat()`**"
   ]
  },
  {
   "cell_type": "code",
   "execution_count": 146,
   "id": "771c884b-134e-4f67-b0dc-bf3bbc9785ab",
   "metadata": {},
   "outputs": [
    {
     "data": {
      "text/html": [
       "<div>\n",
       "<style scoped>\n",
       "    .dataframe tbody tr th:only-of-type {\n",
       "        vertical-align: middle;\n",
       "    }\n",
       "\n",
       "    .dataframe tbody tr th {\n",
       "        vertical-align: top;\n",
       "    }\n",
       "\n",
       "    .dataframe thead th {\n",
       "        text-align: right;\n",
       "    }\n",
       "</style>\n",
       "<table border=\"1\" class=\"dataframe\">\n",
       "  <thead>\n",
       "    <tr style=\"text-align: right;\">\n",
       "      <th></th>\n",
       "      <th>EmpID</th>\n",
       "      <th>Name</th>\n",
       "      <th>Location</th>\n",
       "      <th>Age</th>\n",
       "    </tr>\n",
       "  </thead>\n",
       "  <tbody>\n",
       "    <tr>\n",
       "      <th>0</th>\n",
       "      <td>E5651</td>\n",
       "      <td>Payal</td>\n",
       "      <td>Pune</td>\n",
       "      <td>35</td>\n",
       "    </tr>\n",
       "    <tr>\n",
       "      <th>1</th>\n",
       "      <td>E5652</td>\n",
       "      <td>Edvina</td>\n",
       "      <td>Bangalore</td>\n",
       "      <td>30</td>\n",
       "    </tr>\n",
       "    <tr>\n",
       "      <th>2</th>\n",
       "      <td>E5653</td>\n",
       "      <td>Madan</td>\n",
       "      <td>Bangalore</td>\n",
       "      <td>45</td>\n",
       "    </tr>\n",
       "    <tr>\n",
       "      <th>3</th>\n",
       "      <td>E5654</td>\n",
       "      <td>Rafael</td>\n",
       "      <td>Chennai</td>\n",
       "      <td>40</td>\n",
       "    </tr>\n",
       "    <tr>\n",
       "      <th>4</th>\n",
       "      <td>E5655</td>\n",
       "      <td>Gopal</td>\n",
       "      <td>Chennai</td>\n",
       "      <td>32</td>\n",
       "    </tr>\n",
       "  </tbody>\n",
       "</table>\n",
       "</div>"
      ],
      "text/plain": [
       "   EmpID    Name   Location  Age\n",
       "0  E5651   Payal       Pune   35\n",
       "1  E5652  Edvina  Bangalore   30\n",
       "2  E5653   Madan  Bangalore   45\n",
       "3  E5654  Rafael    Chennai   40\n",
       "4  E5655   Gopal    Chennai   32"
      ]
     },
     "execution_count": 146,
     "metadata": {},
     "output_type": "execute_result"
    }
   ],
   "source": [
    "employees1"
   ]
  },
  {
   "cell_type": "code",
   "execution_count": 147,
   "id": "022368db-58ee-4407-b526-d5160973f67b",
   "metadata": {},
   "outputs": [
    {
     "data": {
      "text/html": [
       "<div>\n",
       "<style scoped>\n",
       "    .dataframe tbody tr th:only-of-type {\n",
       "        vertical-align: middle;\n",
       "    }\n",
       "\n",
       "    .dataframe tbody tr th {\n",
       "        vertical-align: top;\n",
       "    }\n",
       "\n",
       "    .dataframe thead th {\n",
       "        text-align: right;\n",
       "    }\n",
       "</style>\n",
       "<table border=\"1\" class=\"dataframe\">\n",
       "  <thead>\n",
       "    <tr style=\"text-align: right;\">\n",
       "      <th></th>\n",
       "      <th>EmpID</th>\n",
       "      <th>Name</th>\n",
       "      <th>Location</th>\n",
       "    </tr>\n",
       "  </thead>\n",
       "  <tbody>\n",
       "    <tr>\n",
       "      <th>0</th>\n",
       "      <td>E4501</td>\n",
       "      <td>Sumeet</td>\n",
       "      <td>Mumbai</td>\n",
       "    </tr>\n",
       "    <tr>\n",
       "      <th>1</th>\n",
       "      <td>E4502</td>\n",
       "      <td>Nikhil</td>\n",
       "      <td>Mumbai</td>\n",
       "    </tr>\n",
       "    <tr>\n",
       "      <th>2</th>\n",
       "      <td>E4503</td>\n",
       "      <td>Paul</td>\n",
       "      <td>Bangalore</td>\n",
       "    </tr>\n",
       "  </tbody>\n",
       "</table>\n",
       "</div>"
      ],
      "text/plain": [
       "   EmpID    Name   Location\n",
       "0  E4501  Sumeet     Mumbai\n",
       "1  E4502  Nikhil     Mumbai\n",
       "2  E4503    Paul  Bangalore"
      ]
     },
     "execution_count": 147,
     "metadata": {},
     "output_type": "execute_result"
    }
   ],
   "source": [
    "employees2"
   ]
  },
  {
   "cell_type": "code",
   "execution_count": 148,
   "id": "4b549175-8633-4a7e-bb33-46384efb90fc",
   "metadata": {},
   "outputs": [
    {
     "ename": "AttributeError",
     "evalue": "'DataFrame' object has no attribute 'append'",
     "output_type": "error",
     "traceback": [
      "\u001b[0;31m---------------------------------------------------------------------------\u001b[0m",
      "\u001b[0;31mAttributeError\u001b[0m                            Traceback (most recent call last)",
      "\u001b[0;32m/tmp/ipykernel_12984/894631876.py\u001b[0m in \u001b[0;36m?\u001b[0;34m()\u001b[0m\n\u001b[0;32m----> 1\u001b[0;31m \u001b[0memployees1\u001b[0m\u001b[0;34m.\u001b[0m\u001b[0mappend\u001b[0m\u001b[0;34m(\u001b[0m\u001b[0memployees2\u001b[0m\u001b[0;34m)\u001b[0m\u001b[0;34m\u001b[0m\u001b[0;34m\u001b[0m\u001b[0m\n\u001b[0m",
      "\u001b[0;32m~/.local/lib/python3.10/site-packages/pandas/core/generic.py\u001b[0m in \u001b[0;36m?\u001b[0;34m(self, name)\u001b[0m\n\u001b[1;32m   6295\u001b[0m             \u001b[0;32mand\u001b[0m \u001b[0mname\u001b[0m \u001b[0;32mnot\u001b[0m \u001b[0;32min\u001b[0m \u001b[0mself\u001b[0m\u001b[0;34m.\u001b[0m\u001b[0m_accessors\u001b[0m\u001b[0;34m\u001b[0m\u001b[0;34m\u001b[0m\u001b[0m\n\u001b[1;32m   6296\u001b[0m             \u001b[0;32mand\u001b[0m \u001b[0mself\u001b[0m\u001b[0;34m.\u001b[0m\u001b[0m_info_axis\u001b[0m\u001b[0;34m.\u001b[0m\u001b[0m_can_hold_identifiers_and_holds_name\u001b[0m\u001b[0;34m(\u001b[0m\u001b[0mname\u001b[0m\u001b[0;34m)\u001b[0m\u001b[0;34m\u001b[0m\u001b[0;34m\u001b[0m\u001b[0m\n\u001b[1;32m   6297\u001b[0m         ):\n\u001b[1;32m   6298\u001b[0m             \u001b[0;32mreturn\u001b[0m \u001b[0mself\u001b[0m\u001b[0;34m[\u001b[0m\u001b[0mname\u001b[0m\u001b[0;34m]\u001b[0m\u001b[0;34m\u001b[0m\u001b[0;34m\u001b[0m\u001b[0m\n\u001b[0;32m-> 6299\u001b[0;31m         \u001b[0;32mreturn\u001b[0m \u001b[0mobject\u001b[0m\u001b[0;34m.\u001b[0m\u001b[0m__getattribute__\u001b[0m\u001b[0;34m(\u001b[0m\u001b[0mself\u001b[0m\u001b[0;34m,\u001b[0m \u001b[0mname\u001b[0m\u001b[0;34m)\u001b[0m\u001b[0;34m\u001b[0m\u001b[0;34m\u001b[0m\u001b[0m\n\u001b[0m",
      "\u001b[0;31mAttributeError\u001b[0m: 'DataFrame' object has no attribute 'append'"
     ]
    }
   ],
   "source": [
    "employees1.append(employees2)"
   ]
  },
  {
   "cell_type": "code",
   "execution_count": 149,
   "id": "7af81bba-5225-48a1-aed0-c45c5a7bcb13",
   "metadata": {},
   "outputs": [
    {
     "data": {
      "text/html": [
       "<div>\n",
       "<style scoped>\n",
       "    .dataframe tbody tr th:only-of-type {\n",
       "        vertical-align: middle;\n",
       "    }\n",
       "\n",
       "    .dataframe tbody tr th {\n",
       "        vertical-align: top;\n",
       "    }\n",
       "\n",
       "    .dataframe thead th {\n",
       "        text-align: right;\n",
       "    }\n",
       "</style>\n",
       "<table border=\"1\" class=\"dataframe\">\n",
       "  <thead>\n",
       "    <tr style=\"text-align: right;\">\n",
       "      <th></th>\n",
       "      <th>EmpID</th>\n",
       "      <th>Name</th>\n",
       "      <th>Location</th>\n",
       "      <th>Age</th>\n",
       "    </tr>\n",
       "  </thead>\n",
       "  <tbody>\n",
       "    <tr>\n",
       "      <th>0</th>\n",
       "      <td>E5651</td>\n",
       "      <td>Payal</td>\n",
       "      <td>Pune</td>\n",
       "      <td>35.0</td>\n",
       "    </tr>\n",
       "    <tr>\n",
       "      <th>1</th>\n",
       "      <td>E5652</td>\n",
       "      <td>Edvina</td>\n",
       "      <td>Bangalore</td>\n",
       "      <td>30.0</td>\n",
       "    </tr>\n",
       "    <tr>\n",
       "      <th>2</th>\n",
       "      <td>E5653</td>\n",
       "      <td>Madan</td>\n",
       "      <td>Bangalore</td>\n",
       "      <td>45.0</td>\n",
       "    </tr>\n",
       "    <tr>\n",
       "      <th>3</th>\n",
       "      <td>E5654</td>\n",
       "      <td>Rafael</td>\n",
       "      <td>Chennai</td>\n",
       "      <td>40.0</td>\n",
       "    </tr>\n",
       "    <tr>\n",
       "      <th>4</th>\n",
       "      <td>E5655</td>\n",
       "      <td>Gopal</td>\n",
       "      <td>Chennai</td>\n",
       "      <td>32.0</td>\n",
       "    </tr>\n",
       "    <tr>\n",
       "      <th>0</th>\n",
       "      <td>E4501</td>\n",
       "      <td>Sumeet</td>\n",
       "      <td>Mumbai</td>\n",
       "      <td>NaN</td>\n",
       "    </tr>\n",
       "    <tr>\n",
       "      <th>1</th>\n",
       "      <td>E4502</td>\n",
       "      <td>Nikhil</td>\n",
       "      <td>Mumbai</td>\n",
       "      <td>NaN</td>\n",
       "    </tr>\n",
       "    <tr>\n",
       "      <th>2</th>\n",
       "      <td>E4503</td>\n",
       "      <td>Paul</td>\n",
       "      <td>Bangalore</td>\n",
       "      <td>NaN</td>\n",
       "    </tr>\n",
       "  </tbody>\n",
       "</table>\n",
       "</div>"
      ],
      "text/plain": [
       "   EmpID    Name   Location   Age\n",
       "0  E5651   Payal       Pune  35.0\n",
       "1  E5652  Edvina  Bangalore  30.0\n",
       "2  E5653   Madan  Bangalore  45.0\n",
       "3  E5654  Rafael    Chennai  40.0\n",
       "4  E5655   Gopal    Chennai  32.0\n",
       "0  E4501  Sumeet     Mumbai   NaN\n",
       "1  E4502  Nikhil     Mumbai   NaN\n",
       "2  E4503    Paul  Bangalore   NaN"
      ]
     },
     "execution_count": 149,
     "metadata": {},
     "output_type": "execute_result"
    }
   ],
   "source": [
    "pd.concat([employees1,employees2])"
   ]
  },
  {
   "attachments": {
    "0939b33f-4492-4cf5-92e6-cfba99d46bee.png": {
     "image/png": "[encoded data removed]"
    },
    "396aeff8-2381-466c-98a3-0692af66be37.png": {
     "image/png": "[encoded data removed]"
    },
    "895e220a-6dfa-419f-9f7b-fce09764a6d4.png": {
     "image/png": "[encoded data removed]"
    },
    "cc05fa3a-bd5c-42e9-aca7-e80fcf7a3209.png": {
     "image/png": "[encoded data removed]"
    }
   },
   "cell_type": "markdown",
   "id": "cf8d61d0-b6c6-4422-983b-43d61d55177f",
   "metadata": {},
   "source": [
    "### 2.4.5 Merge Operation in DataFrames\n",
    "\n",
    "Merge operation is performed on all the common rows of given DataFrames\n",
    "\n",
    "We can use join operations in Pandas just like database queries\n",
    "There are four types of join operations:\n",
    "\n",
    "| Join Type | Uses | Example |\n",
    "| --- | --- | --- |\n",
    "| **Left Join** | Merge two objects based on the keys from the left object in the command. | ![image.png](attachment:895e220a-6dfa-419f-9f7b-fce09764a6d4.png) |\n",
    "| **Right Join** | Merge two objects based on the keys from the right object in the command. | ![image.png](attachment:0939b33f-4492-4cf5-92e6-cfba99d46bee.png) |\n",
    "| **Outer Join** | Merge two objects based on the full union of keys from both objects. | ![image.png](attachment:cc05fa3a-bd5c-42e9-aca7-e80fcf7a3209.png) |\n",
    "| **Inner Join** | Merge two objects based on the intersection of keys from both objects. | ![image.png](attachment:396aeff8-2381-466c-98a3-0692af66be37.png) |\n"
   ]
  },
  {
   "cell_type": "code",
   "execution_count": 150,
   "id": "6ef6e44e-235a-4de2-89f7-cc9cfddf1bb6",
   "metadata": {},
   "outputs": [
    {
     "data": {
      "text/html": [
       "<div>\n",
       "<style scoped>\n",
       "    .dataframe tbody tr th:only-of-type {\n",
       "        vertical-align: middle;\n",
       "    }\n",
       "\n",
       "    .dataframe tbody tr th {\n",
       "        vertical-align: top;\n",
       "    }\n",
       "\n",
       "    .dataframe thead th {\n",
       "        text-align: right;\n",
       "    }\n",
       "</style>\n",
       "<table border=\"1\" class=\"dataframe\">\n",
       "  <thead>\n",
       "    <tr style=\"text-align: right;\">\n",
       "      <th></th>\n",
       "      <th>EmpID</th>\n",
       "      <th>Name</th>\n",
       "      <th>Location</th>\n",
       "      <th>Age</th>\n",
       "    </tr>\n",
       "  </thead>\n",
       "  <tbody>\n",
       "    <tr>\n",
       "      <th>0</th>\n",
       "      <td>E5651</td>\n",
       "      <td>Payal</td>\n",
       "      <td>Pune</td>\n",
       "      <td>35</td>\n",
       "    </tr>\n",
       "    <tr>\n",
       "      <th>1</th>\n",
       "      <td>E5652</td>\n",
       "      <td>Edvina</td>\n",
       "      <td>Bangalore</td>\n",
       "      <td>30</td>\n",
       "    </tr>\n",
       "    <tr>\n",
       "      <th>2</th>\n",
       "      <td>E5653</td>\n",
       "      <td>Madan</td>\n",
       "      <td>Bangalore</td>\n",
       "      <td>45</td>\n",
       "    </tr>\n",
       "    <tr>\n",
       "      <th>3</th>\n",
       "      <td>E5654</td>\n",
       "      <td>Rafael</td>\n",
       "      <td>Chennai</td>\n",
       "      <td>40</td>\n",
       "    </tr>\n",
       "    <tr>\n",
       "      <th>4</th>\n",
       "      <td>E5655</td>\n",
       "      <td>Gopal</td>\n",
       "      <td>Chennai</td>\n",
       "      <td>32</td>\n",
       "    </tr>\n",
       "  </tbody>\n",
       "</table>\n",
       "</div>"
      ],
      "text/plain": [
       "   EmpID    Name   Location  Age\n",
       "0  E5651   Payal       Pune   35\n",
       "1  E5652  Edvina  Bangalore   30\n",
       "2  E5653   Madan  Bangalore   45\n",
       "3  E5654  Rafael    Chennai   40\n",
       "4  E5655   Gopal    Chennai   32"
      ]
     },
     "execution_count": 150,
     "metadata": {},
     "output_type": "execute_result"
    }
   ],
   "source": [
    "employees1"
   ]
  },
  {
   "cell_type": "code",
   "execution_count": 151,
   "id": "5f92edec-c58c-4c36-855a-fc9d6a2a89ca",
   "metadata": {},
   "outputs": [
    {
     "data": {
      "text/html": [
       "<div>\n",
       "<style scoped>\n",
       "    .dataframe tbody tr th:only-of-type {\n",
       "        vertical-align: middle;\n",
       "    }\n",
       "\n",
       "    .dataframe tbody tr th {\n",
       "        vertical-align: top;\n",
       "    }\n",
       "\n",
       "    .dataframe thead th {\n",
       "        text-align: right;\n",
       "    }\n",
       "</style>\n",
       "<table border=\"1\" class=\"dataframe\">\n",
       "  <thead>\n",
       "    <tr style=\"text-align: right;\">\n",
       "      <th></th>\n",
       "      <th>EmpID</th>\n",
       "      <th>YearsOfService</th>\n",
       "    </tr>\n",
       "  </thead>\n",
       "  <tbody>\n",
       "    <tr>\n",
       "      <th>0</th>\n",
       "      <td>E5651</td>\n",
       "      <td>10</td>\n",
       "    </tr>\n",
       "    <tr>\n",
       "      <th>1</th>\n",
       "      <td>E5652</td>\n",
       "      <td>5</td>\n",
       "    </tr>\n",
       "    <tr>\n",
       "      <th>2</th>\n",
       "      <td>E5653</td>\n",
       "      <td>17</td>\n",
       "    </tr>\n",
       "    <tr>\n",
       "      <th>3</th>\n",
       "      <td>E5654</td>\n",
       "      <td>12</td>\n",
       "    </tr>\n",
       "    <tr>\n",
       "      <th>4</th>\n",
       "      <td>E5660</td>\n",
       "      <td>7</td>\n",
       "    </tr>\n",
       "  </tbody>\n",
       "</table>\n",
       "</div>"
      ],
      "text/plain": [
       "   EmpID  YearsOfService\n",
       "0  E5651              10\n",
       "1  E5652               5\n",
       "2  E5653              17\n",
       "3  E5654              12\n",
       "4  E5660               7"
      ]
     },
     "execution_count": 151,
     "metadata": {},
     "output_type": "execute_result"
    }
   ],
   "source": [
    "years"
   ]
  },
  {
   "cell_type": "code",
   "execution_count": 152,
   "id": "3a3a9194-ce49-42f8-b4f3-a09d1ae43402",
   "metadata": {},
   "outputs": [
    {
     "data": {
      "text/html": [
       "<div>\n",
       "<style scoped>\n",
       "    .dataframe tbody tr th:only-of-type {\n",
       "        vertical-align: middle;\n",
       "    }\n",
       "\n",
       "    .dataframe tbody tr th {\n",
       "        vertical-align: top;\n",
       "    }\n",
       "\n",
       "    .dataframe thead th {\n",
       "        text-align: right;\n",
       "    }\n",
       "</style>\n",
       "<table border=\"1\" class=\"dataframe\">\n",
       "  <thead>\n",
       "    <tr style=\"text-align: right;\">\n",
       "      <th></th>\n",
       "      <th>EmpID</th>\n",
       "      <th>Name</th>\n",
       "      <th>Location</th>\n",
       "      <th>Age</th>\n",
       "      <th>YearsOfService</th>\n",
       "    </tr>\n",
       "  </thead>\n",
       "  <tbody>\n",
       "    <tr>\n",
       "      <th>0</th>\n",
       "      <td>E5651</td>\n",
       "      <td>Payal</td>\n",
       "      <td>Pune</td>\n",
       "      <td>35</td>\n",
       "      <td>10</td>\n",
       "    </tr>\n",
       "    <tr>\n",
       "      <th>1</th>\n",
       "      <td>E5652</td>\n",
       "      <td>Edvina</td>\n",
       "      <td>Bangalore</td>\n",
       "      <td>30</td>\n",
       "      <td>5</td>\n",
       "    </tr>\n",
       "    <tr>\n",
       "      <th>2</th>\n",
       "      <td>E5653</td>\n",
       "      <td>Madan</td>\n",
       "      <td>Bangalore</td>\n",
       "      <td>45</td>\n",
       "      <td>17</td>\n",
       "    </tr>\n",
       "    <tr>\n",
       "      <th>3</th>\n",
       "      <td>E5654</td>\n",
       "      <td>Rafael</td>\n",
       "      <td>Chennai</td>\n",
       "      <td>40</td>\n",
       "      <td>12</td>\n",
       "    </tr>\n",
       "  </tbody>\n",
       "</table>\n",
       "</div>"
      ],
      "text/plain": [
       "   EmpID    Name   Location  Age  YearsOfService\n",
       "0  E5651   Payal       Pune   35              10\n",
       "1  E5652  Edvina  Bangalore   30               5\n",
       "2  E5653   Madan  Bangalore   45              17\n",
       "3  E5654  Rafael    Chennai   40              12"
      ]
     },
     "execution_count": 152,
     "metadata": {},
     "output_type": "execute_result"
    }
   ],
   "source": [
    "employees1.merge(years)"
   ]
  },
  {
   "cell_type": "code",
   "execution_count": 153,
   "id": "4eb991fe-6c0b-4461-b718-58016ca12b6b",
   "metadata": {},
   "outputs": [
    {
     "data": {
      "text/html": [
       "<div>\n",
       "<style scoped>\n",
       "    .dataframe tbody tr th:only-of-type {\n",
       "        vertical-align: middle;\n",
       "    }\n",
       "\n",
       "    .dataframe tbody tr th {\n",
       "        vertical-align: top;\n",
       "    }\n",
       "\n",
       "    .dataframe thead th {\n",
       "        text-align: right;\n",
       "    }\n",
       "</style>\n",
       "<table border=\"1\" class=\"dataframe\">\n",
       "  <thead>\n",
       "    <tr style=\"text-align: right;\">\n",
       "      <th></th>\n",
       "      <th>EmpID</th>\n",
       "      <th>Name</th>\n",
       "      <th>Location</th>\n",
       "      <th>Age</th>\n",
       "      <th>YearsOfService</th>\n",
       "    </tr>\n",
       "  </thead>\n",
       "  <tbody>\n",
       "    <tr>\n",
       "      <th>0</th>\n",
       "      <td>E5651</td>\n",
       "      <td>Payal</td>\n",
       "      <td>Pune</td>\n",
       "      <td>35</td>\n",
       "      <td>10.0</td>\n",
       "    </tr>\n",
       "    <tr>\n",
       "      <th>1</th>\n",
       "      <td>E5652</td>\n",
       "      <td>Edvina</td>\n",
       "      <td>Bangalore</td>\n",
       "      <td>30</td>\n",
       "      <td>5.0</td>\n",
       "    </tr>\n",
       "    <tr>\n",
       "      <th>2</th>\n",
       "      <td>E5653</td>\n",
       "      <td>Madan</td>\n",
       "      <td>Bangalore</td>\n",
       "      <td>45</td>\n",
       "      <td>17.0</td>\n",
       "    </tr>\n",
       "    <tr>\n",
       "      <th>3</th>\n",
       "      <td>E5654</td>\n",
       "      <td>Rafael</td>\n",
       "      <td>Chennai</td>\n",
       "      <td>40</td>\n",
       "      <td>12.0</td>\n",
       "    </tr>\n",
       "    <tr>\n",
       "      <th>4</th>\n",
       "      <td>E5655</td>\n",
       "      <td>Gopal</td>\n",
       "      <td>Chennai</td>\n",
       "      <td>32</td>\n",
       "      <td>NaN</td>\n",
       "    </tr>\n",
       "  </tbody>\n",
       "</table>\n",
       "</div>"
      ],
      "text/plain": [
       "   EmpID    Name   Location  Age  YearsOfService\n",
       "0  E5651   Payal       Pune   35            10.0\n",
       "1  E5652  Edvina  Bangalore   30             5.0\n",
       "2  E5653   Madan  Bangalore   45            17.0\n",
       "3  E5654  Rafael    Chennai   40            12.0\n",
       "4  E5655   Gopal    Chennai   32             NaN"
      ]
     },
     "execution_count": 153,
     "metadata": {},
     "output_type": "execute_result"
    }
   ],
   "source": [
    "pd.merge(employees1,years,on='EmpID',how='left')"
   ]
  },
  {
   "cell_type": "code",
   "execution_count": 154,
   "id": "6af6c3e5-7fbf-4a30-bf2d-7363d6987358",
   "metadata": {},
   "outputs": [
    {
     "data": {
      "text/html": [
       "<div>\n",
       "<style scoped>\n",
       "    .dataframe tbody tr th:only-of-type {\n",
       "        vertical-align: middle;\n",
       "    }\n",
       "\n",
       "    .dataframe tbody tr th {\n",
       "        vertical-align: top;\n",
       "    }\n",
       "\n",
       "    .dataframe thead th {\n",
       "        text-align: right;\n",
       "    }\n",
       "</style>\n",
       "<table border=\"1\" class=\"dataframe\">\n",
       "  <thead>\n",
       "    <tr style=\"text-align: right;\">\n",
       "      <th></th>\n",
       "      <th>EmpID</th>\n",
       "      <th>YearsOfService</th>\n",
       "      <th>Name</th>\n",
       "      <th>Location</th>\n",
       "      <th>Age</th>\n",
       "    </tr>\n",
       "  </thead>\n",
       "  <tbody>\n",
       "    <tr>\n",
       "      <th>0</th>\n",
       "      <td>E5651</td>\n",
       "      <td>10</td>\n",
       "      <td>Payal</td>\n",
       "      <td>Pune</td>\n",
       "      <td>35.0</td>\n",
       "    </tr>\n",
       "    <tr>\n",
       "      <th>1</th>\n",
       "      <td>E5652</td>\n",
       "      <td>5</td>\n",
       "      <td>Edvina</td>\n",
       "      <td>Bangalore</td>\n",
       "      <td>30.0</td>\n",
       "    </tr>\n",
       "    <tr>\n",
       "      <th>2</th>\n",
       "      <td>E5653</td>\n",
       "      <td>17</td>\n",
       "      <td>Madan</td>\n",
       "      <td>Bangalore</td>\n",
       "      <td>45.0</td>\n",
       "    </tr>\n",
       "    <tr>\n",
       "      <th>3</th>\n",
       "      <td>E5654</td>\n",
       "      <td>12</td>\n",
       "      <td>Rafael</td>\n",
       "      <td>Chennai</td>\n",
       "      <td>40.0</td>\n",
       "    </tr>\n",
       "    <tr>\n",
       "      <th>4</th>\n",
       "      <td>E5660</td>\n",
       "      <td>7</td>\n",
       "      <td>NaN</td>\n",
       "      <td>NaN</td>\n",
       "      <td>NaN</td>\n",
       "    </tr>\n",
       "  </tbody>\n",
       "</table>\n",
       "</div>"
      ],
      "text/plain": [
       "   EmpID  YearsOfService    Name   Location   Age\n",
       "0  E5651              10   Payal       Pune  35.0\n",
       "1  E5652               5  Edvina  Bangalore  30.0\n",
       "2  E5653              17   Madan  Bangalore  45.0\n",
       "3  E5654              12  Rafael    Chennai  40.0\n",
       "4  E5660               7     NaN        NaN   NaN"
      ]
     },
     "execution_count": 154,
     "metadata": {},
     "output_type": "execute_result"
    }
   ],
   "source": [
    "pd.merge(years,employees1,on='EmpID',how='left')"
   ]
  },
  {
   "cell_type": "code",
   "execution_count": 155,
   "id": "e9763bda-13ec-4bec-b860-ac9713f2437f",
   "metadata": {},
   "outputs": [
    {
     "data": {
      "text/html": [
       "<div>\n",
       "<style scoped>\n",
       "    .dataframe tbody tr th:only-of-type {\n",
       "        vertical-align: middle;\n",
       "    }\n",
       "\n",
       "    .dataframe tbody tr th {\n",
       "        vertical-align: top;\n",
       "    }\n",
       "\n",
       "    .dataframe thead th {\n",
       "        text-align: right;\n",
       "    }\n",
       "</style>\n",
       "<table border=\"1\" class=\"dataframe\">\n",
       "  <thead>\n",
       "    <tr style=\"text-align: right;\">\n",
       "      <th></th>\n",
       "      <th>EmpID</th>\n",
       "      <th>YearsOfService</th>\n",
       "      <th>Name</th>\n",
       "      <th>Location</th>\n",
       "      <th>Age</th>\n",
       "    </tr>\n",
       "  </thead>\n",
       "  <tbody>\n",
       "    <tr>\n",
       "      <th>0</th>\n",
       "      <td>E5651</td>\n",
       "      <td>10.0</td>\n",
       "      <td>Payal</td>\n",
       "      <td>Pune</td>\n",
       "      <td>35.0</td>\n",
       "    </tr>\n",
       "    <tr>\n",
       "      <th>1</th>\n",
       "      <td>E5652</td>\n",
       "      <td>5.0</td>\n",
       "      <td>Edvina</td>\n",
       "      <td>Bangalore</td>\n",
       "      <td>30.0</td>\n",
       "    </tr>\n",
       "    <tr>\n",
       "      <th>2</th>\n",
       "      <td>E5653</td>\n",
       "      <td>17.0</td>\n",
       "      <td>Madan</td>\n",
       "      <td>Bangalore</td>\n",
       "      <td>45.0</td>\n",
       "    </tr>\n",
       "    <tr>\n",
       "      <th>3</th>\n",
       "      <td>E5654</td>\n",
       "      <td>12.0</td>\n",
       "      <td>Rafael</td>\n",
       "      <td>Chennai</td>\n",
       "      <td>40.0</td>\n",
       "    </tr>\n",
       "    <tr>\n",
       "      <th>4</th>\n",
       "      <td>E5655</td>\n",
       "      <td>NaN</td>\n",
       "      <td>Gopal</td>\n",
       "      <td>Chennai</td>\n",
       "      <td>32.0</td>\n",
       "    </tr>\n",
       "    <tr>\n",
       "      <th>5</th>\n",
       "      <td>E5660</td>\n",
       "      <td>7.0</td>\n",
       "      <td>NaN</td>\n",
       "      <td>NaN</td>\n",
       "      <td>NaN</td>\n",
       "    </tr>\n",
       "  </tbody>\n",
       "</table>\n",
       "</div>"
      ],
      "text/plain": [
       "   EmpID  YearsOfService    Name   Location   Age\n",
       "0  E5651            10.0   Payal       Pune  35.0\n",
       "1  E5652             5.0  Edvina  Bangalore  30.0\n",
       "2  E5653            17.0   Madan  Bangalore  45.0\n",
       "3  E5654            12.0  Rafael    Chennai  40.0\n",
       "4  E5655             NaN   Gopal    Chennai  32.0\n",
       "5  E5660             7.0     NaN        NaN   NaN"
      ]
     },
     "execution_count": 155,
     "metadata": {},
     "output_type": "execute_result"
    }
   ],
   "source": [
    "pd.merge(years,employees1,on='EmpID',how='outer')"
   ]
  },
  {
   "cell_type": "code",
   "execution_count": 156,
   "id": "7b9611d5-2fd3-467b-b00e-2e645228c6fc",
   "metadata": {},
   "outputs": [
    {
     "data": {
      "text/html": [
       "<div>\n",
       "<style scoped>\n",
       "    .dataframe tbody tr th:only-of-type {\n",
       "        vertical-align: middle;\n",
       "    }\n",
       "\n",
       "    .dataframe tbody tr th {\n",
       "        vertical-align: top;\n",
       "    }\n",
       "\n",
       "    .dataframe thead th {\n",
       "        text-align: right;\n",
       "    }\n",
       "</style>\n",
       "<table border=\"1\" class=\"dataframe\">\n",
       "  <thead>\n",
       "    <tr style=\"text-align: right;\">\n",
       "      <th></th>\n",
       "      <th>EmpID</th>\n",
       "      <th>YearsOfService</th>\n",
       "      <th>Name</th>\n",
       "      <th>Location</th>\n",
       "      <th>Age</th>\n",
       "    </tr>\n",
       "  </thead>\n",
       "  <tbody>\n",
       "    <tr>\n",
       "      <th>0</th>\n",
       "      <td>E5651</td>\n",
       "      <td>10</td>\n",
       "      <td>Payal</td>\n",
       "      <td>Pune</td>\n",
       "      <td>35</td>\n",
       "    </tr>\n",
       "    <tr>\n",
       "      <th>1</th>\n",
       "      <td>E5652</td>\n",
       "      <td>5</td>\n",
       "      <td>Edvina</td>\n",
       "      <td>Bangalore</td>\n",
       "      <td>30</td>\n",
       "    </tr>\n",
       "    <tr>\n",
       "      <th>2</th>\n",
       "      <td>E5653</td>\n",
       "      <td>17</td>\n",
       "      <td>Madan</td>\n",
       "      <td>Bangalore</td>\n",
       "      <td>45</td>\n",
       "    </tr>\n",
       "    <tr>\n",
       "      <th>3</th>\n",
       "      <td>E5654</td>\n",
       "      <td>12</td>\n",
       "      <td>Rafael</td>\n",
       "      <td>Chennai</td>\n",
       "      <td>40</td>\n",
       "    </tr>\n",
       "  </tbody>\n",
       "</table>\n",
       "</div>"
      ],
      "text/plain": [
       "   EmpID  YearsOfService    Name   Location  Age\n",
       "0  E5651              10   Payal       Pune   35\n",
       "1  E5652               5  Edvina  Bangalore   30\n",
       "2  E5653              17   Madan  Bangalore   45\n",
       "3  E5654              12  Rafael    Chennai   40"
      ]
     },
     "execution_count": 156,
     "metadata": {},
     "output_type": "execute_result"
    }
   ],
   "source": [
    "pd.merge(years,employees1,on='EmpID',how='inner')"
   ]
  },
  {
   "cell_type": "code",
   "execution_count": 157,
   "id": "f48b8d15-48e6-4f14-a475-79439c1aef8a",
   "metadata": {},
   "outputs": [
    {
     "data": {
      "text/html": [
       "<div>\n",
       "<style scoped>\n",
       "    .dataframe tbody tr th:only-of-type {\n",
       "        vertical-align: middle;\n",
       "    }\n",
       "\n",
       "    .dataframe tbody tr th {\n",
       "        vertical-align: top;\n",
       "    }\n",
       "\n",
       "    .dataframe thead th {\n",
       "        text-align: right;\n",
       "    }\n",
       "</style>\n",
       "<table border=\"1\" class=\"dataframe\">\n",
       "  <thead>\n",
       "    <tr style=\"text-align: right;\">\n",
       "      <th></th>\n",
       "      <th>EmpID</th>\n",
       "      <th>YearsOfService</th>\n",
       "      <th>Name</th>\n",
       "      <th>Location</th>\n",
       "      <th>Age</th>\n",
       "    </tr>\n",
       "  </thead>\n",
       "  <tbody>\n",
       "    <tr>\n",
       "      <th>0</th>\n",
       "      <td>E5651</td>\n",
       "      <td>10.0</td>\n",
       "      <td>Payal</td>\n",
       "      <td>Pune</td>\n",
       "      <td>35</td>\n",
       "    </tr>\n",
       "    <tr>\n",
       "      <th>1</th>\n",
       "      <td>E5652</td>\n",
       "      <td>5.0</td>\n",
       "      <td>Edvina</td>\n",
       "      <td>Bangalore</td>\n",
       "      <td>30</td>\n",
       "    </tr>\n",
       "    <tr>\n",
       "      <th>2</th>\n",
       "      <td>E5653</td>\n",
       "      <td>17.0</td>\n",
       "      <td>Madan</td>\n",
       "      <td>Bangalore</td>\n",
       "      <td>45</td>\n",
       "    </tr>\n",
       "    <tr>\n",
       "      <th>3</th>\n",
       "      <td>E5654</td>\n",
       "      <td>12.0</td>\n",
       "      <td>Rafael</td>\n",
       "      <td>Chennai</td>\n",
       "      <td>40</td>\n",
       "    </tr>\n",
       "    <tr>\n",
       "      <th>4</th>\n",
       "      <td>E5655</td>\n",
       "      <td>NaN</td>\n",
       "      <td>Gopal</td>\n",
       "      <td>Chennai</td>\n",
       "      <td>32</td>\n",
       "    </tr>\n",
       "  </tbody>\n",
       "</table>\n",
       "</div>"
      ],
      "text/plain": [
       "   EmpID  YearsOfService    Name   Location  Age\n",
       "0  E5651            10.0   Payal       Pune   35\n",
       "1  E5652             5.0  Edvina  Bangalore   30\n",
       "2  E5653            17.0   Madan  Bangalore   45\n",
       "3  E5654            12.0  Rafael    Chennai   40\n",
       "4  E5655             NaN   Gopal    Chennai   32"
      ]
     },
     "execution_count": 157,
     "metadata": {},
     "output_type": "execute_result"
    }
   ],
   "source": [
    "pd.merge(years,employees1,on='EmpID',how='right')"
   ]
  },
  {
   "cell_type": "code",
   "execution_count": 158,
   "id": "37b2226e-7f5c-44f6-803c-e4b80df24cf7",
   "metadata": {},
   "outputs": [
    {
     "data": {
      "text/html": [
       "<div>\n",
       "<style scoped>\n",
       "    .dataframe tbody tr th:only-of-type {\n",
       "        vertical-align: middle;\n",
       "    }\n",
       "\n",
       "    .dataframe tbody tr th {\n",
       "        vertical-align: top;\n",
       "    }\n",
       "\n",
       "    .dataframe thead th {\n",
       "        text-align: right;\n",
       "    }\n",
       "</style>\n",
       "<table border=\"1\" class=\"dataframe\">\n",
       "  <thead>\n",
       "    <tr style=\"text-align: right;\">\n",
       "      <th></th>\n",
       "      <th>EmpID</th>\n",
       "      <th>YearsOfService</th>\n",
       "      <th>Name</th>\n",
       "      <th>Location</th>\n",
       "      <th>Age</th>\n",
       "    </tr>\n",
       "  </thead>\n",
       "  <tbody>\n",
       "    <tr>\n",
       "      <th>0</th>\n",
       "      <td>E5651</td>\n",
       "      <td>10</td>\n",
       "      <td>Payal</td>\n",
       "      <td>Pune</td>\n",
       "      <td>35</td>\n",
       "    </tr>\n",
       "    <tr>\n",
       "      <th>1</th>\n",
       "      <td>E5652</td>\n",
       "      <td>5</td>\n",
       "      <td>Edvina</td>\n",
       "      <td>Bangalore</td>\n",
       "      <td>30</td>\n",
       "    </tr>\n",
       "    <tr>\n",
       "      <th>2</th>\n",
       "      <td>E5653</td>\n",
       "      <td>17</td>\n",
       "      <td>Madan</td>\n",
       "      <td>Bangalore</td>\n",
       "      <td>45</td>\n",
       "    </tr>\n",
       "    <tr>\n",
       "      <th>3</th>\n",
       "      <td>E5654</td>\n",
       "      <td>12</td>\n",
       "      <td>Rafael</td>\n",
       "      <td>Chennai</td>\n",
       "      <td>40</td>\n",
       "    </tr>\n",
       "  </tbody>\n",
       "</table>\n",
       "</div>"
      ],
      "text/plain": [
       "   EmpID  YearsOfService    Name   Location  Age\n",
       "0  E5651              10   Payal       Pune   35\n",
       "1  E5652               5  Edvina  Bangalore   30\n",
       "2  E5653              17   Madan  Bangalore   45\n",
       "3  E5654              12  Rafael    Chennai   40"
      ]
     },
     "execution_count": 158,
     "metadata": {},
     "output_type": "execute_result"
    }
   ],
   "source": [
    "pd.merge(years,employees1)"
   ]
  },
  {
   "cell_type": "markdown",
   "id": "434e5597-09b5-4cf1-9a06-c05bff4dd3d0",
   "metadata": {},
   "source": [
    "## 2.5 Data Cleaning using Pandas\n",
    "\n",
    "-----\n",
    "\n",
    "Let's take example of the ratings table"
   ]
  },
  {
   "cell_type": "code",
   "execution_count": 159,
   "id": "f6c76e36-9a23-4d95-b867-8d5f92f22644",
   "metadata": {
    "scrolled": true
   },
   "outputs": [
    {
     "data": {
      "text/html": [
       "<div>\n",
       "<style scoped>\n",
       "    .dataframe tbody tr th:only-of-type {\n",
       "        vertical-align: middle;\n",
       "    }\n",
       "\n",
       "    .dataframe tbody tr th {\n",
       "        vertical-align: top;\n",
       "    }\n",
       "\n",
       "    .dataframe thead th {\n",
       "        text-align: right;\n",
       "    }\n",
       "</style>\n",
       "<table border=\"1\" class=\"dataframe\">\n",
       "  <thead>\n",
       "    <tr style=\"text-align: right;\">\n",
       "      <th></th>\n",
       "      <th>userID</th>\n",
       "      <th>placeID</th>\n",
       "      <th>food_rating</th>\n",
       "      <th>service_rating</th>\n",
       "    </tr>\n",
       "  </thead>\n",
       "  <tbody>\n",
       "    <tr>\n",
       "      <th>0</th>\n",
       "      <td>u1077</td>\n",
       "      <td>135085</td>\n",
       "      <td>5.0</td>\n",
       "      <td>3</td>\n",
       "    </tr>\n",
       "    <tr>\n",
       "      <th>1</th>\n",
       "      <td>u1068</td>\n",
       "      <td>132630</td>\n",
       "      <td>NaN</td>\n",
       "      <td>3</td>\n",
       "    </tr>\n",
       "    <tr>\n",
       "      <th>2</th>\n",
       "      <td>u1067</td>\n",
       "      <td>132584</td>\n",
       "      <td>4.0</td>\n",
       "      <td>5</td>\n",
       "    </tr>\n",
       "    <tr>\n",
       "      <th>3</th>\n",
       "      <td>u1067</td>\n",
       "      <td>132733</td>\n",
       "      <td>1.0</td>\n",
       "      <td>1</td>\n",
       "    </tr>\n",
       "    <tr>\n",
       "      <th>4</th>\n",
       "      <td>u1103</td>\n",
       "      <td>132733</td>\n",
       "      <td>4.0</td>\n",
       "      <td>3</td>\n",
       "    </tr>\n",
       "    <tr>\n",
       "      <th>5</th>\n",
       "      <td>u1107</td>\n",
       "      <td>132660</td>\n",
       "      <td>NaN</td>\n",
       "      <td>4</td>\n",
       "    </tr>\n",
       "    <tr>\n",
       "      <th>6</th>\n",
       "      <td>u1107</td>\n",
       "      <td>132660</td>\n",
       "      <td>3.0</td>\n",
       "      <td>4</td>\n",
       "    </tr>\n",
       "    <tr>\n",
       "      <th>7</th>\n",
       "      <td>u1107</td>\n",
       "      <td>132660</td>\n",
       "      <td>3.0</td>\n",
       "      <td>4</td>\n",
       "    </tr>\n",
       "    <tr>\n",
       "      <th>8</th>\n",
       "      <td>u1044</td>\n",
       "      <td>132583</td>\n",
       "      <td>3.0</td>\n",
       "      <td>-999</td>\n",
       "    </tr>\n",
       "    <tr>\n",
       "      <th>9</th>\n",
       "      <td>u1070</td>\n",
       "      <td>132608</td>\n",
       "      <td>4.0</td>\n",
       "      <td>3</td>\n",
       "    </tr>\n",
       "    <tr>\n",
       "      <th>10</th>\n",
       "      <td>u1071</td>\n",
       "      <td>132608</td>\n",
       "      <td>4.0</td>\n",
       "      <td>3</td>\n",
       "    </tr>\n",
       "    <tr>\n",
       "      <th>11</th>\n",
       "      <td>u1071</td>\n",
       "      <td>132608</td>\n",
       "      <td>4.0</td>\n",
       "      <td>3</td>\n",
       "    </tr>\n",
       "  </tbody>\n",
       "</table>\n",
       "</div>"
      ],
      "text/plain": [
       "   userID  placeID  food_rating  service_rating\n",
       "0   u1077   135085          5.0               3\n",
       "1   u1068   132630          NaN               3\n",
       "2   u1067   132584          4.0               5\n",
       "3   u1067   132733          1.0               1\n",
       "4   u1103   132733          4.0               3\n",
       "5   u1107   132660          NaN               4\n",
       "6   u1107   132660          3.0               4\n",
       "7   u1107   132660          3.0               4\n",
       "8   u1044   132583          3.0            -999\n",
       "9   u1070   132608          4.0               3\n",
       "10  u1071   132608          4.0               3\n",
       "11  u1071   132608          4.0               3"
      ]
     },
     "execution_count": 159,
     "metadata": {},
     "output_type": "execute_result"
    }
   ],
   "source": [
    "ratings"
   ]
  },
  {
   "cell_type": "markdown",
   "id": "b7740b30-50b9-42b3-affb-2c5a02496af6",
   "metadata": {},
   "source": [
    "We can see there are lot of duplicates & invalid values"
   ]
  },
  {
   "cell_type": "code",
   "execution_count": 160,
   "id": "41e4f916-0e0c-448c-a89c-1e0e3dd9f8f0",
   "metadata": {},
   "outputs": [
    {
     "data": {
      "text/html": [
       "<div>\n",
       "<style scoped>\n",
       "    .dataframe tbody tr th:only-of-type {\n",
       "        vertical-align: middle;\n",
       "    }\n",
       "\n",
       "    .dataframe tbody tr th {\n",
       "        vertical-align: top;\n",
       "    }\n",
       "\n",
       "    .dataframe thead th {\n",
       "        text-align: right;\n",
       "    }\n",
       "</style>\n",
       "<table border=\"1\" class=\"dataframe\">\n",
       "  <thead>\n",
       "    <tr style=\"text-align: right;\">\n",
       "      <th></th>\n",
       "      <th>userID</th>\n",
       "      <th>placeID</th>\n",
       "      <th>food_rating</th>\n",
       "      <th>service_rating</th>\n",
       "    </tr>\n",
       "  </thead>\n",
       "  <tbody>\n",
       "    <tr>\n",
       "      <th>0</th>\n",
       "      <td>False</td>\n",
       "      <td>False</td>\n",
       "      <td>False</td>\n",
       "      <td>False</td>\n",
       "    </tr>\n",
       "    <tr>\n",
       "      <th>1</th>\n",
       "      <td>False</td>\n",
       "      <td>False</td>\n",
       "      <td>True</td>\n",
       "      <td>False</td>\n",
       "    </tr>\n",
       "    <tr>\n",
       "      <th>2</th>\n",
       "      <td>False</td>\n",
       "      <td>False</td>\n",
       "      <td>False</td>\n",
       "      <td>False</td>\n",
       "    </tr>\n",
       "    <tr>\n",
       "      <th>3</th>\n",
       "      <td>False</td>\n",
       "      <td>False</td>\n",
       "      <td>False</td>\n",
       "      <td>False</td>\n",
       "    </tr>\n",
       "    <tr>\n",
       "      <th>4</th>\n",
       "      <td>False</td>\n",
       "      <td>False</td>\n",
       "      <td>False</td>\n",
       "      <td>False</td>\n",
       "    </tr>\n",
       "    <tr>\n",
       "      <th>5</th>\n",
       "      <td>False</td>\n",
       "      <td>False</td>\n",
       "      <td>True</td>\n",
       "      <td>False</td>\n",
       "    </tr>\n",
       "    <tr>\n",
       "      <th>6</th>\n",
       "      <td>False</td>\n",
       "      <td>False</td>\n",
       "      <td>False</td>\n",
       "      <td>False</td>\n",
       "    </tr>\n",
       "    <tr>\n",
       "      <th>7</th>\n",
       "      <td>False</td>\n",
       "      <td>False</td>\n",
       "      <td>False</td>\n",
       "      <td>False</td>\n",
       "    </tr>\n",
       "    <tr>\n",
       "      <th>8</th>\n",
       "      <td>False</td>\n",
       "      <td>False</td>\n",
       "      <td>False</td>\n",
       "      <td>False</td>\n",
       "    </tr>\n",
       "    <tr>\n",
       "      <th>9</th>\n",
       "      <td>False</td>\n",
       "      <td>False</td>\n",
       "      <td>False</td>\n",
       "      <td>False</td>\n",
       "    </tr>\n",
       "    <tr>\n",
       "      <th>10</th>\n",
       "      <td>False</td>\n",
       "      <td>False</td>\n",
       "      <td>False</td>\n",
       "      <td>False</td>\n",
       "    </tr>\n",
       "    <tr>\n",
       "      <th>11</th>\n",
       "      <td>False</td>\n",
       "      <td>False</td>\n",
       "      <td>False</td>\n",
       "      <td>False</td>\n",
       "    </tr>\n",
       "  </tbody>\n",
       "</table>\n",
       "</div>"
      ],
      "text/plain": [
       "    userID  placeID  food_rating  service_rating\n",
       "0    False    False        False           False\n",
       "1    False    False         True           False\n",
       "2    False    False        False           False\n",
       "3    False    False        False           False\n",
       "4    False    False        False           False\n",
       "5    False    False         True           False\n",
       "6    False    False        False           False\n",
       "7    False    False        False           False\n",
       "8    False    False        False           False\n",
       "9    False    False        False           False\n",
       "10   False    False        False           False\n",
       "11   False    False        False           False"
      ]
     },
     "execution_count": 160,
     "metadata": {},
     "output_type": "execute_result"
    }
   ],
   "source": [
    "# check for missing values\n",
    "ratings.isnull() "
   ]
  },
  {
   "cell_type": "code",
   "execution_count": 161,
   "id": "7036f9e6-be50-4102-bff6-f859824a7a9b",
   "metadata": {},
   "outputs": [
    {
     "data": {
      "text/plain": [
       "userID            0\n",
       "placeID           0\n",
       "food_rating       2\n",
       "service_rating    0\n",
       "dtype: int64"
      ]
     },
     "execution_count": 161,
     "metadata": {},
     "output_type": "execute_result"
    }
   ],
   "source": [
    "# check for missing values in each column\n",
    "ratings.isnull().sum() "
   ]
  },
  {
   "cell_type": "code",
   "execution_count": 162,
   "id": "5e8d4b55-773a-4847-9593-2bf0100c24b0",
   "metadata": {},
   "outputs": [
    {
     "data": {
      "text/plain": [
       "0     False\n",
       "1      True\n",
       "2     False\n",
       "3     False\n",
       "4     False\n",
       "5      True\n",
       "6     False\n",
       "7     False\n",
       "8     False\n",
       "9     False\n",
       "10    False\n",
       "11    False\n",
       "Name: food_rating, dtype: bool"
      ]
     },
     "execution_count": 162,
     "metadata": {},
     "output_type": "execute_result"
    }
   ],
   "source": [
    "# check for missing values for a particular column\n",
    "ratings['food_rating'].isnull() "
   ]
  },
  {
   "cell_type": "code",
   "execution_count": 163,
   "id": "7126fa1b-66b6-4969-956d-18d1a58ce30e",
   "metadata": {},
   "outputs": [
    {
     "data": {
      "text/html": [
       "<div>\n",
       "<style scoped>\n",
       "    .dataframe tbody tr th:only-of-type {\n",
       "        vertical-align: middle;\n",
       "    }\n",
       "\n",
       "    .dataframe tbody tr th {\n",
       "        vertical-align: top;\n",
       "    }\n",
       "\n",
       "    .dataframe thead th {\n",
       "        text-align: right;\n",
       "    }\n",
       "</style>\n",
       "<table border=\"1\" class=\"dataframe\">\n",
       "  <thead>\n",
       "    <tr style=\"text-align: right;\">\n",
       "      <th></th>\n",
       "      <th>userID</th>\n",
       "      <th>placeID</th>\n",
       "      <th>food_rating</th>\n",
       "      <th>service_rating</th>\n",
       "    </tr>\n",
       "  </thead>\n",
       "  <tbody>\n",
       "    <tr>\n",
       "      <th>7</th>\n",
       "      <td>u1107</td>\n",
       "      <td>132660</td>\n",
       "      <td>3.0</td>\n",
       "      <td>4</td>\n",
       "    </tr>\n",
       "    <tr>\n",
       "      <th>11</th>\n",
       "      <td>u1071</td>\n",
       "      <td>132608</td>\n",
       "      <td>4.0</td>\n",
       "      <td>3</td>\n",
       "    </tr>\n",
       "  </tbody>\n",
       "</table>\n",
       "</div>"
      ],
      "text/plain": [
       "   userID  placeID  food_rating  service_rating\n",
       "7   u1107   132660          3.0               4\n",
       "11  u1071   132608          4.0               3"
      ]
     },
     "execution_count": 163,
     "metadata": {},
     "output_type": "execute_result"
    }
   ],
   "source": [
    "# check for duplicate rows\n",
    "ratings[ratings.duplicated()==True] "
   ]
  },
  {
   "cell_type": "code",
   "execution_count": 164,
   "id": "a23c6527-ecf1-43c1-b095-fd50923d4356",
   "metadata": {},
   "outputs": [
    {
     "data": {
      "text/html": [
       "<div>\n",
       "<style scoped>\n",
       "    .dataframe tbody tr th:only-of-type {\n",
       "        vertical-align: middle;\n",
       "    }\n",
       "\n",
       "    .dataframe tbody tr th {\n",
       "        vertical-align: top;\n",
       "    }\n",
       "\n",
       "    .dataframe thead th {\n",
       "        text-align: right;\n",
       "    }\n",
       "</style>\n",
       "<table border=\"1\" class=\"dataframe\">\n",
       "  <thead>\n",
       "    <tr style=\"text-align: right;\">\n",
       "      <th></th>\n",
       "      <th>userID</th>\n",
       "      <th>placeID</th>\n",
       "      <th>food_rating</th>\n",
       "      <th>service_rating</th>\n",
       "    </tr>\n",
       "  </thead>\n",
       "  <tbody>\n",
       "    <tr>\n",
       "      <th>0</th>\n",
       "      <td>u1077</td>\n",
       "      <td>135085</td>\n",
       "      <td>5.0</td>\n",
       "      <td>3</td>\n",
       "    </tr>\n",
       "    <tr>\n",
       "      <th>2</th>\n",
       "      <td>u1067</td>\n",
       "      <td>132584</td>\n",
       "      <td>4.0</td>\n",
       "      <td>5</td>\n",
       "    </tr>\n",
       "    <tr>\n",
       "      <th>3</th>\n",
       "      <td>u1067</td>\n",
       "      <td>132733</td>\n",
       "      <td>1.0</td>\n",
       "      <td>1</td>\n",
       "    </tr>\n",
       "    <tr>\n",
       "      <th>4</th>\n",
       "      <td>u1103</td>\n",
       "      <td>132733</td>\n",
       "      <td>4.0</td>\n",
       "      <td>3</td>\n",
       "    </tr>\n",
       "    <tr>\n",
       "      <th>6</th>\n",
       "      <td>u1107</td>\n",
       "      <td>132660</td>\n",
       "      <td>3.0</td>\n",
       "      <td>4</td>\n",
       "    </tr>\n",
       "    <tr>\n",
       "      <th>7</th>\n",
       "      <td>u1107</td>\n",
       "      <td>132660</td>\n",
       "      <td>3.0</td>\n",
       "      <td>4</td>\n",
       "    </tr>\n",
       "    <tr>\n",
       "      <th>8</th>\n",
       "      <td>u1044</td>\n",
       "      <td>132583</td>\n",
       "      <td>3.0</td>\n",
       "      <td>-999</td>\n",
       "    </tr>\n",
       "    <tr>\n",
       "      <th>9</th>\n",
       "      <td>u1070</td>\n",
       "      <td>132608</td>\n",
       "      <td>4.0</td>\n",
       "      <td>3</td>\n",
       "    </tr>\n",
       "    <tr>\n",
       "      <th>10</th>\n",
       "      <td>u1071</td>\n",
       "      <td>132608</td>\n",
       "      <td>4.0</td>\n",
       "      <td>3</td>\n",
       "    </tr>\n",
       "    <tr>\n",
       "      <th>11</th>\n",
       "      <td>u1071</td>\n",
       "      <td>132608</td>\n",
       "      <td>4.0</td>\n",
       "      <td>3</td>\n",
       "    </tr>\n",
       "  </tbody>\n",
       "</table>\n",
       "</div>"
      ],
      "text/plain": [
       "   userID  placeID  food_rating  service_rating\n",
       "0   u1077   135085          5.0               3\n",
       "2   u1067   132584          4.0               5\n",
       "3   u1067   132733          1.0               1\n",
       "4   u1103   132733          4.0               3\n",
       "6   u1107   132660          3.0               4\n",
       "7   u1107   132660          3.0               4\n",
       "8   u1044   132583          3.0            -999\n",
       "9   u1070   132608          4.0               3\n",
       "10  u1071   132608          4.0               3\n",
       "11  u1071   132608          4.0               3"
      ]
     },
     "execution_count": 164,
     "metadata": {},
     "output_type": "execute_result"
    }
   ],
   "source": [
    "# to remove rows with missing values\n",
    "ratings.dropna() "
   ]
  },
  {
   "cell_type": "code",
   "execution_count": 165,
   "id": "77b346ac-58e2-4e48-a1aa-ea3be9c24018",
   "metadata": {},
   "outputs": [
    {
     "data": {
      "text/html": [
       "<div>\n",
       "<style scoped>\n",
       "    .dataframe tbody tr th:only-of-type {\n",
       "        vertical-align: middle;\n",
       "    }\n",
       "\n",
       "    .dataframe tbody tr th {\n",
       "        vertical-align: top;\n",
       "    }\n",
       "\n",
       "    .dataframe thead th {\n",
       "        text-align: right;\n",
       "    }\n",
       "</style>\n",
       "<table border=\"1\" class=\"dataframe\">\n",
       "  <thead>\n",
       "    <tr style=\"text-align: right;\">\n",
       "      <th></th>\n",
       "      <th>userID</th>\n",
       "      <th>placeID</th>\n",
       "      <th>food_rating</th>\n",
       "      <th>service_rating</th>\n",
       "    </tr>\n",
       "  </thead>\n",
       "  <tbody>\n",
       "    <tr>\n",
       "      <th>0</th>\n",
       "      <td>u1077</td>\n",
       "      <td>135085</td>\n",
       "      <td>5.0</td>\n",
       "      <td>3</td>\n",
       "    </tr>\n",
       "    <tr>\n",
       "      <th>1</th>\n",
       "      <td>u1068</td>\n",
       "      <td>132630</td>\n",
       "      <td>5.0</td>\n",
       "      <td>3</td>\n",
       "    </tr>\n",
       "    <tr>\n",
       "      <th>2</th>\n",
       "      <td>u1067</td>\n",
       "      <td>132584</td>\n",
       "      <td>4.0</td>\n",
       "      <td>5</td>\n",
       "    </tr>\n",
       "    <tr>\n",
       "      <th>3</th>\n",
       "      <td>u1067</td>\n",
       "      <td>132733</td>\n",
       "      <td>1.0</td>\n",
       "      <td>1</td>\n",
       "    </tr>\n",
       "    <tr>\n",
       "      <th>4</th>\n",
       "      <td>u1103</td>\n",
       "      <td>132733</td>\n",
       "      <td>4.0</td>\n",
       "      <td>3</td>\n",
       "    </tr>\n",
       "    <tr>\n",
       "      <th>5</th>\n",
       "      <td>u1107</td>\n",
       "      <td>132660</td>\n",
       "      <td>5.0</td>\n",
       "      <td>4</td>\n",
       "    </tr>\n",
       "    <tr>\n",
       "      <th>6</th>\n",
       "      <td>u1107</td>\n",
       "      <td>132660</td>\n",
       "      <td>3.0</td>\n",
       "      <td>4</td>\n",
       "    </tr>\n",
       "    <tr>\n",
       "      <th>7</th>\n",
       "      <td>u1107</td>\n",
       "      <td>132660</td>\n",
       "      <td>3.0</td>\n",
       "      <td>4</td>\n",
       "    </tr>\n",
       "    <tr>\n",
       "      <th>8</th>\n",
       "      <td>u1044</td>\n",
       "      <td>132583</td>\n",
       "      <td>3.0</td>\n",
       "      <td>-999</td>\n",
       "    </tr>\n",
       "    <tr>\n",
       "      <th>9</th>\n",
       "      <td>u1070</td>\n",
       "      <td>132608</td>\n",
       "      <td>4.0</td>\n",
       "      <td>3</td>\n",
       "    </tr>\n",
       "    <tr>\n",
       "      <th>10</th>\n",
       "      <td>u1071</td>\n",
       "      <td>132608</td>\n",
       "      <td>4.0</td>\n",
       "      <td>3</td>\n",
       "    </tr>\n",
       "    <tr>\n",
       "      <th>11</th>\n",
       "      <td>u1071</td>\n",
       "      <td>132608</td>\n",
       "      <td>4.0</td>\n",
       "      <td>3</td>\n",
       "    </tr>\n",
       "  </tbody>\n",
       "</table>\n",
       "</div>"
      ],
      "text/plain": [
       "   userID  placeID  food_rating  service_rating\n",
       "0   u1077   135085          5.0               3\n",
       "1   u1068   132630          5.0               3\n",
       "2   u1067   132584          4.0               5\n",
       "3   u1067   132733          1.0               1\n",
       "4   u1103   132733          4.0               3\n",
       "5   u1107   132660          5.0               4\n",
       "6   u1107   132660          3.0               4\n",
       "7   u1107   132660          3.0               4\n",
       "8   u1044   132583          3.0            -999\n",
       "9   u1070   132608          4.0               3\n",
       "10  u1071   132608          4.0               3\n",
       "11  u1071   132608          4.0               3"
      ]
     },
     "execution_count": 165,
     "metadata": {},
     "output_type": "execute_result"
    }
   ],
   "source": [
    "# to manually update missing value with 5\n",
    "ratings.fillna(5) "
   ]
  },
  {
   "cell_type": "code",
   "execution_count": 166,
   "id": "033ec6e9-a173-4334-9aa3-dc8d357aa736",
   "metadata": {},
   "outputs": [
    {
     "data": {
      "text/plain": [
       "0     5.0\n",
       "1     3.5\n",
       "2     4.0\n",
       "3     1.0\n",
       "4     4.0\n",
       "5     3.5\n",
       "6     3.0\n",
       "7     3.0\n",
       "8     3.0\n",
       "9     4.0\n",
       "10    4.0\n",
       "11    4.0\n",
       "Name: food_rating, dtype: float64"
      ]
     },
     "execution_count": 166,
     "metadata": {},
     "output_type": "execute_result"
    }
   ],
   "source": [
    "# to update missing value with mean of ratings\n",
    "ratings['food_rating'].fillna(ratings['food_rating'].mean()) "
   ]
  },
  {
   "cell_type": "code",
   "execution_count": 167,
   "id": "28619d50-0893-44ae-84d6-6e0b8d79be33",
   "metadata": {},
   "outputs": [
    {
     "data": {
      "text/plain": [
       "0     False\n",
       "1     False\n",
       "2     False\n",
       "3     False\n",
       "4     False\n",
       "5     False\n",
       "6     False\n",
       "7      True\n",
       "8     False\n",
       "9     False\n",
       "10    False\n",
       "11     True\n",
       "dtype: bool"
      ]
     },
     "execution_count": 167,
     "metadata": {},
     "output_type": "execute_result"
    }
   ],
   "source": [
    "# check for duplicated rows\n",
    "ratings.duplicated()"
   ]
  },
  {
   "cell_type": "code",
   "execution_count": 168,
   "id": "6ecc5a10-a4f3-40da-94cf-5281b6d8e444",
   "metadata": {},
   "outputs": [
    {
     "data": {
      "text/html": [
       "<div>\n",
       "<style scoped>\n",
       "    .dataframe tbody tr th:only-of-type {\n",
       "        vertical-align: middle;\n",
       "    }\n",
       "\n",
       "    .dataframe tbody tr th {\n",
       "        vertical-align: top;\n",
       "    }\n",
       "\n",
       "    .dataframe thead th {\n",
       "        text-align: right;\n",
       "    }\n",
       "</style>\n",
       "<table border=\"1\" class=\"dataframe\">\n",
       "  <thead>\n",
       "    <tr style=\"text-align: right;\">\n",
       "      <th></th>\n",
       "      <th>userID</th>\n",
       "      <th>placeID</th>\n",
       "      <th>food_rating</th>\n",
       "      <th>service_rating</th>\n",
       "    </tr>\n",
       "  </thead>\n",
       "  <tbody>\n",
       "    <tr>\n",
       "      <th>0</th>\n",
       "      <td>u1077</td>\n",
       "      <td>135085</td>\n",
       "      <td>5.0</td>\n",
       "      <td>3</td>\n",
       "    </tr>\n",
       "    <tr>\n",
       "      <th>1</th>\n",
       "      <td>u1068</td>\n",
       "      <td>132630</td>\n",
       "      <td>NaN</td>\n",
       "      <td>3</td>\n",
       "    </tr>\n",
       "    <tr>\n",
       "      <th>2</th>\n",
       "      <td>u1067</td>\n",
       "      <td>132584</td>\n",
       "      <td>4.0</td>\n",
       "      <td>5</td>\n",
       "    </tr>\n",
       "    <tr>\n",
       "      <th>3</th>\n",
       "      <td>u1067</td>\n",
       "      <td>132733</td>\n",
       "      <td>1.0</td>\n",
       "      <td>1</td>\n",
       "    </tr>\n",
       "    <tr>\n",
       "      <th>4</th>\n",
       "      <td>u1103</td>\n",
       "      <td>132733</td>\n",
       "      <td>4.0</td>\n",
       "      <td>3</td>\n",
       "    </tr>\n",
       "    <tr>\n",
       "      <th>5</th>\n",
       "      <td>u1107</td>\n",
       "      <td>132660</td>\n",
       "      <td>NaN</td>\n",
       "      <td>4</td>\n",
       "    </tr>\n",
       "    <tr>\n",
       "      <th>6</th>\n",
       "      <td>u1107</td>\n",
       "      <td>132660</td>\n",
       "      <td>3.0</td>\n",
       "      <td>4</td>\n",
       "    </tr>\n",
       "    <tr>\n",
       "      <th>8</th>\n",
       "      <td>u1044</td>\n",
       "      <td>132583</td>\n",
       "      <td>3.0</td>\n",
       "      <td>-999</td>\n",
       "    </tr>\n",
       "    <tr>\n",
       "      <th>9</th>\n",
       "      <td>u1070</td>\n",
       "      <td>132608</td>\n",
       "      <td>4.0</td>\n",
       "      <td>3</td>\n",
       "    </tr>\n",
       "    <tr>\n",
       "      <th>10</th>\n",
       "      <td>u1071</td>\n",
       "      <td>132608</td>\n",
       "      <td>4.0</td>\n",
       "      <td>3</td>\n",
       "    </tr>\n",
       "  </tbody>\n",
       "</table>\n",
       "</div>"
      ],
      "text/plain": [
       "   userID  placeID  food_rating  service_rating\n",
       "0   u1077   135085          5.0               3\n",
       "1   u1068   132630          NaN               3\n",
       "2   u1067   132584          4.0               5\n",
       "3   u1067   132733          1.0               1\n",
       "4   u1103   132733          4.0               3\n",
       "5   u1107   132660          NaN               4\n",
       "6   u1107   132660          3.0               4\n",
       "8   u1044   132583          3.0            -999\n",
       "9   u1070   132608          4.0               3\n",
       "10  u1071   132608          4.0               3"
      ]
     },
     "execution_count": 168,
     "metadata": {},
     "output_type": "execute_result"
    }
   ],
   "source": [
    "# to remove duplicate rows\n",
    "ratings.drop_duplicates()"
   ]
  },
  {
   "cell_type": "code",
   "execution_count": 169,
   "id": "f962e4c9-3100-4992-a5c2-ff4eaae245d3",
   "metadata": {},
   "outputs": [
    {
     "data": {
      "text/plain": [
       "0    5.0\n",
       "1    NaN\n",
       "2    4.0\n",
       "3    1.0\n",
       "6    3.0\n",
       "Name: food_rating, dtype: float64"
      ]
     },
     "execution_count": 169,
     "metadata": {},
     "output_type": "execute_result"
    }
   ],
   "source": [
    "# to find unique values for a particular column\n",
    "ratings['food_rating'].drop_duplicates()"
   ]
  },
  {
   "cell_type": "code",
   "execution_count": 170,
   "id": "7135348e-eb32-4be5-895e-5c5ddbbf9cf9",
   "metadata": {},
   "outputs": [
    {
     "data": {
      "text/html": [
       "<div>\n",
       "<style scoped>\n",
       "    .dataframe tbody tr th:only-of-type {\n",
       "        vertical-align: middle;\n",
       "    }\n",
       "\n",
       "    .dataframe tbody tr th {\n",
       "        vertical-align: top;\n",
       "    }\n",
       "\n",
       "    .dataframe thead th {\n",
       "        text-align: right;\n",
       "    }\n",
       "</style>\n",
       "<table border=\"1\" class=\"dataframe\">\n",
       "  <thead>\n",
       "    <tr style=\"text-align: right;\">\n",
       "      <th></th>\n",
       "      <th>userID</th>\n",
       "      <th>placeID</th>\n",
       "      <th>food_rating</th>\n",
       "      <th>service_rating</th>\n",
       "    </tr>\n",
       "  </thead>\n",
       "  <tbody>\n",
       "    <tr>\n",
       "      <th>0</th>\n",
       "      <td>u1077</td>\n",
       "      <td>135085</td>\n",
       "      <td>5.0</td>\n",
       "      <td>3</td>\n",
       "    </tr>\n",
       "    <tr>\n",
       "      <th>1</th>\n",
       "      <td>u1068</td>\n",
       "      <td>132630</td>\n",
       "      <td>NaN</td>\n",
       "      <td>3</td>\n",
       "    </tr>\n",
       "    <tr>\n",
       "      <th>2</th>\n",
       "      <td>u1067</td>\n",
       "      <td>132584</td>\n",
       "      <td>4.0</td>\n",
       "      <td>5</td>\n",
       "    </tr>\n",
       "    <tr>\n",
       "      <th>3</th>\n",
       "      <td>u1067</td>\n",
       "      <td>132733</td>\n",
       "      <td>1.0</td>\n",
       "      <td>1</td>\n",
       "    </tr>\n",
       "    <tr>\n",
       "      <th>6</th>\n",
       "      <td>u1107</td>\n",
       "      <td>132660</td>\n",
       "      <td>3.0</td>\n",
       "      <td>4</td>\n",
       "    </tr>\n",
       "  </tbody>\n",
       "</table>\n",
       "</div>"
      ],
      "text/plain": [
       "  userID  placeID  food_rating  service_rating\n",
       "0  u1077   135085          5.0               3\n",
       "1  u1068   132630          NaN               3\n",
       "2  u1067   132584          4.0               5\n",
       "3  u1067   132733          1.0               1\n",
       "6  u1107   132660          3.0               4"
      ]
     },
     "execution_count": 170,
     "metadata": {},
     "output_type": "execute_result"
    }
   ],
   "source": [
    "# to remove rows with duplicate values for a particular column\n",
    "ratings.drop_duplicates(['food_rating'])"
   ]
  },
  {
   "cell_type": "code",
   "execution_count": 171,
   "id": "381a24a6-9492-444c-a44f-ea4672ed3732",
   "metadata": {},
   "outputs": [
    {
     "data": {
      "text/html": [
       "<div>\n",
       "<style scoped>\n",
       "    .dataframe tbody tr th:only-of-type {\n",
       "        vertical-align: middle;\n",
       "    }\n",
       "\n",
       "    .dataframe tbody tr th {\n",
       "        vertical-align: top;\n",
       "    }\n",
       "\n",
       "    .dataframe thead th {\n",
       "        text-align: right;\n",
       "    }\n",
       "</style>\n",
       "<table border=\"1\" class=\"dataframe\">\n",
       "  <thead>\n",
       "    <tr style=\"text-align: right;\">\n",
       "      <th></th>\n",
       "      <th>userID</th>\n",
       "      <th>placeID</th>\n",
       "      <th>food_rating</th>\n",
       "      <th>service_rating</th>\n",
       "    </tr>\n",
       "  </thead>\n",
       "  <tbody>\n",
       "    <tr>\n",
       "      <th>0</th>\n",
       "      <td>u1077</td>\n",
       "      <td>135085</td>\n",
       "      <td>5.0</td>\n",
       "      <td>3.0</td>\n",
       "    </tr>\n",
       "    <tr>\n",
       "      <th>1</th>\n",
       "      <td>u1068</td>\n",
       "      <td>132630</td>\n",
       "      <td>NaN</td>\n",
       "      <td>3.0</td>\n",
       "    </tr>\n",
       "    <tr>\n",
       "      <th>2</th>\n",
       "      <td>u1067</td>\n",
       "      <td>132584</td>\n",
       "      <td>4.0</td>\n",
       "      <td>5.0</td>\n",
       "    </tr>\n",
       "    <tr>\n",
       "      <th>3</th>\n",
       "      <td>u1067</td>\n",
       "      <td>132733</td>\n",
       "      <td>1.0</td>\n",
       "      <td>1.0</td>\n",
       "    </tr>\n",
       "    <tr>\n",
       "      <th>4</th>\n",
       "      <td>u1103</td>\n",
       "      <td>132733</td>\n",
       "      <td>4.0</td>\n",
       "      <td>3.0</td>\n",
       "    </tr>\n",
       "    <tr>\n",
       "      <th>5</th>\n",
       "      <td>u1107</td>\n",
       "      <td>132660</td>\n",
       "      <td>NaN</td>\n",
       "      <td>4.0</td>\n",
       "    </tr>\n",
       "    <tr>\n",
       "      <th>6</th>\n",
       "      <td>u1107</td>\n",
       "      <td>132660</td>\n",
       "      <td>3.0</td>\n",
       "      <td>4.0</td>\n",
       "    </tr>\n",
       "    <tr>\n",
       "      <th>7</th>\n",
       "      <td>u1107</td>\n",
       "      <td>132660</td>\n",
       "      <td>3.0</td>\n",
       "      <td>4.0</td>\n",
       "    </tr>\n",
       "    <tr>\n",
       "      <th>8</th>\n",
       "      <td>u1044</td>\n",
       "      <td>132583</td>\n",
       "      <td>3.0</td>\n",
       "      <td>NaN</td>\n",
       "    </tr>\n",
       "    <tr>\n",
       "      <th>9</th>\n",
       "      <td>u1070</td>\n",
       "      <td>132608</td>\n",
       "      <td>4.0</td>\n",
       "      <td>3.0</td>\n",
       "    </tr>\n",
       "    <tr>\n",
       "      <th>10</th>\n",
       "      <td>u1071</td>\n",
       "      <td>132608</td>\n",
       "      <td>4.0</td>\n",
       "      <td>3.0</td>\n",
       "    </tr>\n",
       "    <tr>\n",
       "      <th>11</th>\n",
       "      <td>u1071</td>\n",
       "      <td>132608</td>\n",
       "      <td>4.0</td>\n",
       "      <td>3.0</td>\n",
       "    </tr>\n",
       "  </tbody>\n",
       "</table>\n",
       "</div>"
      ],
      "text/plain": [
       "   userID  placeID  food_rating  service_rating\n",
       "0   u1077   135085          5.0             3.0\n",
       "1   u1068   132630          NaN             3.0\n",
       "2   u1067   132584          4.0             5.0\n",
       "3   u1067   132733          1.0             1.0\n",
       "4   u1103   132733          4.0             3.0\n",
       "5   u1107   132660          NaN             4.0\n",
       "6   u1107   132660          3.0             4.0\n",
       "7   u1107   132660          3.0             4.0\n",
       "8   u1044   132583          3.0             NaN\n",
       "9   u1070   132608          4.0             3.0\n",
       "10  u1071   132608          4.0             3.0\n",
       "11  u1071   132608          4.0             3.0"
      ]
     },
     "execution_count": 171,
     "metadata": {},
     "output_type": "execute_result"
    }
   ],
   "source": [
    "# to replace invalid values to missing values\n",
    "ratings.replace(-999,np.nan)"
   ]
  },
  {
   "cell_type": "markdown",
   "id": "33eff992-6087-4ec0-8bcb-0b4dedd8cff4",
   "metadata": {},
   "source": [
    "## 2.6 Group By a particular column in DataFrame\n",
    "\n",
    "Let's take an example of the world_cup & customer tables"
   ]
  },
  {
   "cell_type": "code",
   "execution_count": 172,
   "id": "1f9d6402-004a-46ba-ab5f-dfe548b0ad5c",
   "metadata": {},
   "outputs": [
    {
     "data": {
      "text/html": [
       "<div>\n",
       "<style scoped>\n",
       "    .dataframe tbody tr th:only-of-type {\n",
       "        vertical-align: middle;\n",
       "    }\n",
       "\n",
       "    .dataframe tbody tr th {\n",
       "        vertical-align: top;\n",
       "    }\n",
       "\n",
       "    .dataframe thead th {\n",
       "        text-align: right;\n",
       "    }\n",
       "</style>\n",
       "<table border=\"1\" class=\"dataframe\">\n",
       "  <thead>\n",
       "    <tr style=\"text-align: right;\">\n",
       "      <th></th>\n",
       "      <th>Team</th>\n",
       "      <th>Rank</th>\n",
       "      <th>Year</th>\n",
       "    </tr>\n",
       "  </thead>\n",
       "  <tbody>\n",
       "    <tr>\n",
       "      <th>0</th>\n",
       "      <td>West Indies</td>\n",
       "      <td>7</td>\n",
       "      <td>1975</td>\n",
       "    </tr>\n",
       "    <tr>\n",
       "      <th>1</th>\n",
       "      <td>West Indies</td>\n",
       "      <td>7</td>\n",
       "      <td>1979</td>\n",
       "    </tr>\n",
       "    <tr>\n",
       "      <th>2</th>\n",
       "      <td>India</td>\n",
       "      <td>2</td>\n",
       "      <td>1983</td>\n",
       "    </tr>\n",
       "    <tr>\n",
       "      <th>3</th>\n",
       "      <td>Australia</td>\n",
       "      <td>1</td>\n",
       "      <td>1987</td>\n",
       "    </tr>\n",
       "    <tr>\n",
       "      <th>4</th>\n",
       "      <td>Pakistan</td>\n",
       "      <td>6</td>\n",
       "      <td>1992</td>\n",
       "    </tr>\n",
       "    <tr>\n",
       "      <th>5</th>\n",
       "      <td>Sri Lanka</td>\n",
       "      <td>4</td>\n",
       "      <td>1995</td>\n",
       "    </tr>\n",
       "    <tr>\n",
       "      <th>6</th>\n",
       "      <td>Australia</td>\n",
       "      <td>1</td>\n",
       "      <td>1999</td>\n",
       "    </tr>\n",
       "    <tr>\n",
       "      <th>7</th>\n",
       "      <td>Australia</td>\n",
       "      <td>1</td>\n",
       "      <td>2003</td>\n",
       "    </tr>\n",
       "    <tr>\n",
       "      <th>8</th>\n",
       "      <td>Australia</td>\n",
       "      <td>1</td>\n",
       "      <td>2007</td>\n",
       "    </tr>\n",
       "    <tr>\n",
       "      <th>9</th>\n",
       "      <td>India</td>\n",
       "      <td>2</td>\n",
       "      <td>2011</td>\n",
       "    </tr>\n",
       "    <tr>\n",
       "      <th>10</th>\n",
       "      <td>Australia</td>\n",
       "      <td>1</td>\n",
       "      <td>2015</td>\n",
       "    </tr>\n",
       "  </tbody>\n",
       "</table>\n",
       "</div>"
      ],
      "text/plain": [
       "           Team  Rank  Year\n",
       "0   West Indies     7  1975\n",
       "1   West Indies     7  1979\n",
       "2         India     2  1983\n",
       "3     Australia     1  1987\n",
       "4      Pakistan     6  1992\n",
       "5     Sri Lanka     4  1995\n",
       "6     Australia     1  1999\n",
       "7     Australia     1  2003\n",
       "8     Australia     1  2007\n",
       "9         India     2  2011\n",
       "10    Australia     1  2015"
      ]
     },
     "execution_count": 172,
     "metadata": {},
     "output_type": "execute_result"
    }
   ],
   "source": [
    "world_cup"
   ]
  },
  {
   "cell_type": "code",
   "execution_count": 173,
   "id": "53691888-1a45-402b-a98c-bc4493e34137",
   "metadata": {},
   "outputs": [
    {
     "data": {
      "text/plain": [
       "{'Australia': [3, 6, 7, 8, 10], 'India': [2, 9], 'Pakistan': [4], 'Sri Lanka': [5], 'West Indies': [0, 1]}"
      ]
     },
     "execution_count": 173,
     "metadata": {},
     "output_type": "execute_result"
    }
   ],
   "source": [
    "# to group by a particular team\n",
    "world_cup.groupby('Team').groups"
   ]
  },
  {
   "cell_type": "code",
   "execution_count": 174,
   "id": "71f8ca44-e5d8-4a83-be12-35e5c533372c",
   "metadata": {},
   "outputs": [
    {
     "data": {
      "text/plain": [
       "Team\n",
       "Australia      5\n",
       "India          2\n",
       "Pakistan       1\n",
       "Sri Lanka      1\n",
       "West Indies    2\n",
       "Name: Year, dtype: int64"
      ]
     },
     "execution_count": 174,
     "metadata": {},
     "output_type": "execute_result"
    }
   ],
   "source": [
    "# count the times a particular team won\n",
    "world_cup.groupby('Team')['Year'].count()"
   ]
  },
  {
   "cell_type": "code",
   "execution_count": 175,
   "id": "b98ba2e7-b8a4-4f2a-b33b-089f947bfa6f",
   "metadata": {},
   "outputs": [
    {
     "data": {
      "text/html": [
       "<div>\n",
       "<style scoped>\n",
       "    .dataframe tbody tr th:only-of-type {\n",
       "        vertical-align: middle;\n",
       "    }\n",
       "\n",
       "    .dataframe tbody tr th {\n",
       "        vertical-align: top;\n",
       "    }\n",
       "\n",
       "    .dataframe thead th {\n",
       "        text-align: right;\n",
       "    }\n",
       "</style>\n",
       "<table border=\"1\" class=\"dataframe\">\n",
       "  <thead>\n",
       "    <tr style=\"text-align: right;\">\n",
       "      <th></th>\n",
       "      <th>CustID</th>\n",
       "      <th>City</th>\n",
       "      <th>Store Number</th>\n",
       "      <th>Sales (INR)</th>\n",
       "      <th>Customer Age</th>\n",
       "      <th>Gender</th>\n",
       "    </tr>\n",
       "  </thead>\n",
       "  <tbody>\n",
       "    <tr>\n",
       "      <th>0</th>\n",
       "      <td>1001</td>\n",
       "      <td>Mumbai</td>\n",
       "      <td>10</td>\n",
       "      <td>123</td>\n",
       "      <td>38</td>\n",
       "      <td>M</td>\n",
       "    </tr>\n",
       "    <tr>\n",
       "      <th>1</th>\n",
       "      <td>1003</td>\n",
       "      <td>Bangalore</td>\n",
       "      <td>23</td>\n",
       "      <td>543</td>\n",
       "      <td>40</td>\n",
       "      <td>M</td>\n",
       "    </tr>\n",
       "    <tr>\n",
       "      <th>2</th>\n",
       "      <td>1006</td>\n",
       "      <td>Delhi</td>\n",
       "      <td>15</td>\n",
       "      <td>220</td>\n",
       "      <td>30</td>\n",
       "      <td>F</td>\n",
       "    </tr>\n",
       "    <tr>\n",
       "      <th>3</th>\n",
       "      <td>1007</td>\n",
       "      <td>Chennai</td>\n",
       "      <td>17</td>\n",
       "      <td>190</td>\n",
       "      <td>45</td>\n",
       "      <td>F</td>\n",
       "    </tr>\n",
       "    <tr>\n",
       "      <th>4</th>\n",
       "      <td>1009</td>\n",
       "      <td>Mumbai</td>\n",
       "      <td>11</td>\n",
       "      <td>269</td>\n",
       "      <td>28</td>\n",
       "      <td>F</td>\n",
       "    </tr>\n",
       "    <tr>\n",
       "      <th>5</th>\n",
       "      <td>1010</td>\n",
       "      <td>Bangalore</td>\n",
       "      <td>21</td>\n",
       "      <td>130</td>\n",
       "      <td>56</td>\n",
       "      <td>M</td>\n",
       "    </tr>\n",
       "    <tr>\n",
       "      <th>6</th>\n",
       "      <td>1011</td>\n",
       "      <td>Mumbai</td>\n",
       "      <td>13</td>\n",
       "      <td>175</td>\n",
       "      <td>43</td>\n",
       "      <td>M</td>\n",
       "    </tr>\n",
       "    <tr>\n",
       "      <th>7</th>\n",
       "      <td>1012</td>\n",
       "      <td>Delhi</td>\n",
       "      <td>16</td>\n",
       "      <td>210</td>\n",
       "      <td>36</td>\n",
       "      <td>M</td>\n",
       "    </tr>\n",
       "    <tr>\n",
       "      <th>8</th>\n",
       "      <td>1013</td>\n",
       "      <td>Delhi</td>\n",
       "      <td>18</td>\n",
       "      <td>120</td>\n",
       "      <td>25</td>\n",
       "      <td>M</td>\n",
       "    </tr>\n",
       "    <tr>\n",
       "      <th>9</th>\n",
       "      <td>1014</td>\n",
       "      <td>Bangalore</td>\n",
       "      <td>21</td>\n",
       "      <td>150</td>\n",
       "      <td>29</td>\n",
       "      <td>F</td>\n",
       "    </tr>\n",
       "    <tr>\n",
       "      <th>10</th>\n",
       "      <td>1015</td>\n",
       "      <td>Mumbai</td>\n",
       "      <td>11</td>\n",
       "      <td>160</td>\n",
       "      <td>49</td>\n",
       "      <td>M</td>\n",
       "    </tr>\n",
       "    <tr>\n",
       "      <th>11</th>\n",
       "      <td>1017</td>\n",
       "      <td>Delhi</td>\n",
       "      <td>16</td>\n",
       "      <td>170</td>\n",
       "      <td>75</td>\n",
       "      <td>F</td>\n",
       "    </tr>\n",
       "    <tr>\n",
       "      <th>12</th>\n",
       "      <td>1019</td>\n",
       "      <td>Chennai</td>\n",
       "      <td>17</td>\n",
       "      <td>242</td>\n",
       "      <td>62</td>\n",
       "      <td>F</td>\n",
       "    </tr>\n",
       "    <tr>\n",
       "      <th>13</th>\n",
       "      <td>1020</td>\n",
       "      <td>Mumbai</td>\n",
       "      <td>10</td>\n",
       "      <td>273</td>\n",
       "      <td>55</td>\n",
       "      <td>M</td>\n",
       "    </tr>\n",
       "  </tbody>\n",
       "</table>\n",
       "</div>"
      ],
      "text/plain": [
       "    CustID       City  Store Number  Sales (INR)  Customer Age Gender\n",
       "0     1001     Mumbai            10          123            38      M\n",
       "1     1003  Bangalore            23          543            40      M\n",
       "2     1006      Delhi            15          220            30      F\n",
       "3     1007    Chennai            17          190            45      F\n",
       "4     1009     Mumbai            11          269            28      F\n",
       "5     1010  Bangalore            21          130            56      M\n",
       "6     1011     Mumbai            13          175            43      M\n",
       "7     1012      Delhi            16          210            36      M\n",
       "8     1013      Delhi            18          120            25      M\n",
       "9     1014  Bangalore            21          150            29      F\n",
       "10    1015     Mumbai            11          160            49      M\n",
       "11    1017      Delhi            16          170            75      F\n",
       "12    1019    Chennai            17          242            62      F\n",
       "13    1020     Mumbai            10          273            55      M"
      ]
     },
     "execution_count": 175,
     "metadata": {},
     "output_type": "execute_result"
    }
   ],
   "source": [
    "customer"
   ]
  },
  {
   "cell_type": "code",
   "execution_count": 176,
   "id": "203f056e-55a8-4fab-933b-ac39612dbfc7",
   "metadata": {},
   "outputs": [
    {
     "data": {
      "text/plain": [
       "City       Store Number\n",
       "Bangalore  21              140.0\n",
       "           23              543.0\n",
       "Chennai    17              216.0\n",
       "Delhi      15              220.0\n",
       "           16              190.0\n",
       "           18              120.0\n",
       "Mumbai     10              198.0\n",
       "           11              214.5\n",
       "           13              175.0\n",
       "Name: Sales (INR), dtype: float64"
      ]
     },
     "execution_count": 176,
     "metadata": {},
     "output_type": "execute_result"
    }
   ],
   "source": [
    "# to get the avg sales per store in each city\n",
    "customer.groupby(['City','Store Number'])['Sales (INR)'].mean()"
   ]
  },
  {
   "cell_type": "code",
   "execution_count": 177,
   "id": "6cb0db22-32ca-4ba9-ae55-459dff845a1a",
   "metadata": {},
   "outputs": [
    {
     "data": {
      "text/html": [
       "<div>\n",
       "<style scoped>\n",
       "    .dataframe tbody tr th:only-of-type {\n",
       "        vertical-align: middle;\n",
       "    }\n",
       "\n",
       "    .dataframe tbody tr th {\n",
       "        vertical-align: top;\n",
       "    }\n",
       "\n",
       "    .dataframe thead th {\n",
       "        text-align: right;\n",
       "    }\n",
       "</style>\n",
       "<table border=\"1\" class=\"dataframe\">\n",
       "  <thead>\n",
       "    <tr style=\"text-align: right;\">\n",
       "      <th></th>\n",
       "      <th>CustID</th>\n",
       "      <th>City</th>\n",
       "      <th>Store Number</th>\n",
       "      <th>Sales (INR)</th>\n",
       "      <th>Customer Age</th>\n",
       "      <th>Gender</th>\n",
       "    </tr>\n",
       "  </thead>\n",
       "  <tbody>\n",
       "    <tr>\n",
       "      <th>1</th>\n",
       "      <td>1003</td>\n",
       "      <td>Bangalore</td>\n",
       "      <td>23</td>\n",
       "      <td>543</td>\n",
       "      <td>40</td>\n",
       "      <td>M</td>\n",
       "    </tr>\n",
       "    <tr>\n",
       "      <th>5</th>\n",
       "      <td>1010</td>\n",
       "      <td>Bangalore</td>\n",
       "      <td>21</td>\n",
       "      <td>130</td>\n",
       "      <td>56</td>\n",
       "      <td>M</td>\n",
       "    </tr>\n",
       "    <tr>\n",
       "      <th>9</th>\n",
       "      <td>1014</td>\n",
       "      <td>Bangalore</td>\n",
       "      <td>21</td>\n",
       "      <td>150</td>\n",
       "      <td>29</td>\n",
       "      <td>F</td>\n",
       "    </tr>\n",
       "  </tbody>\n",
       "</table>\n",
       "</div>"
      ],
      "text/plain": [
       "   CustID       City  Store Number  Sales (INR)  Customer Age Gender\n",
       "1    1003  Bangalore            23          543            40      M\n",
       "5    1010  Bangalore            21          130            56      M\n",
       "9    1014  Bangalore            21          150            29      F"
      ]
     },
     "execution_count": 177,
     "metadata": {},
     "output_type": "execute_result"
    }
   ],
   "source": [
    "# to get particular group of data\n",
    "customer.groupby('City').get_group('Bangalore')"
   ]
  },
  {
   "cell_type": "code",
   "execution_count": null,
   "id": "9275fb44-0297-4570-b460-b0dd9c52ed05",
   "metadata": {},
   "outputs": [],
   "source": []
  }
 ],
 "metadata": {
  "kernelspec": {
   "display_name": "Python 3 (ipykernel)",
   "language": "python",
   "name": "python3"
  },
  "language_info": {
   "codemirror_mode": {
    "name": "ipython",
    "version": 3
   },
   "file_extension": ".py",
   "mimetype": "text/x-python",
   "name": "python",
   "nbconvert_exporter": "python",
   "pygments_lexer": "ipython3",
   "version": "3.10.13"
  },
  "widgets": {
   "application/vnd.jupyter.widget-state+json": {
    "state": {},
    "version_major": 2,
    "version_minor": 0
   }
  }
 },
 "nbformat": 4,
 "nbformat_minor": 5
}
