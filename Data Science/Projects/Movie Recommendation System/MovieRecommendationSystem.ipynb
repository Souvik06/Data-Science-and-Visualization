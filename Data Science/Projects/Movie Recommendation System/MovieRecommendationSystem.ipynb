{
 "cells": [
  {
   "cell_type": "markdown",
   "id": "832cde91-df71-4403-9832-fd8eaf89d142",
   "metadata": {},
   "source": [
    "# MOVIE RECOMMENDATIONS SYSTEM\r\n",
    "\r\n",
    "**Domain - OTT Platform**\r\n",
    "\r\n",
    "## Context:\r\n",
    "\r\n",
    "Over the past two decades, there has been a monumental shift in how people access and consume video content. With the universal access to broadband internet, numerous platforms like YouTube, Netflix, HBO Go emerged and steadily grew to\r\n",
    "prominence. Although not a household name in itself, OTT is the exact technology that made the streaming revolution possible. OTT stands for Over The Top, refers to any video streaming service delivering content to the users over the internet, however there are subscription charges associated with the usage of such platforms such as PrimeVideo, Netflix, HotStar, Zee5, SonyLiv etc. But choosing your next movie to watch can still be a daunting task, even if you have access to all the platforms.\r\n",
    "\r\n",
    "\r\n",
    "## Business Requirement:\r\n",
    "\r\n",
    "“MyNextMovie” is a budding startup in the space of recommendations on top of various OTT platforms providing suggestions to its customer base regarding their next movie. Their major business is to create a recommendation layer on top of these OTT platforms so that they can make suitable recommendations to their customers, however, since they are in research mode right now, they would want to experiment with open-source data first to understand the depth of the models which can be delivered by them. The data for this exercise is open-source data which has been collected and made available from the MovieLens web site (http://movielens.org), a part of GroupLens Research The data sets were collected over various periods of time, depending on the size of the set. You have recently joined as a Data Scientist at “MyNextMovie” and plan to help the\r\n",
    "existing team to set up a recommendation platform\r\n",
    "\r\n",
    "## Data Description:\r\n",
    "\r\n",
    "The data consists of 105339 ratings applied over 10329 movies. The average rating is 3.5 and minimum and maximum rating is 0.5 and 5 respectively. There are 668 users who have given their ratings for 149532 movies. There are two data files which are provided:\r\n",
    "\r\n",
    "**Movies.csv**\r\n",
    "\r\n",
    "- movieId: ID assigned to a movie\r\n",
    "- title: Title of a movie\r\n",
    "- genres: pipe separated list of movie genres.\r\n",
    "\r\n",
    "**Ratings.csv**\r\n",
    "\r\n",
    "- userId: ID assigned to a user\r\n",
    "- movieId: ID assigned to a movie\r\n",
    "- rating: rating by a user to a movie\r\n",
    "- Timestamp: time at which the rating was provided.\r\n",
    "\r\n",
    "## Objective:\r\n",
    "\r\n",
    "1. Create a popularity based recommender system at a genre level. User will input a genre (g), minimum ratings threshold (t) for a movie and no. of recommendations(N) for which it should be recommended top N movies which are most popular within that genre (g) ordered by ratings in descending order where each movie has at least (t) reviews.\r\n",
    "2. Create a content based recommender system which recommends top N movies based on similar movie(m) genres.\r\n",
    "3. Create a collaborative based recommender system which recommends top N movies based on “K” s) to play around with the recommendation modules."
   ]
  },
  {
   "cell_type": "markdown",
   "id": "2c4c1623-cf4a-49e0-ba6e-f123d5f8d142",
   "metadata": {},
   "source": [
    "## 1. Import libraries & load datasets\n",
    "\n",
    "----\n",
    "\n",
    "**Importing required libraries**"
   ]
  },
  {
   "cell_type": "code",
   "execution_count": 1,
   "id": "fb9dde04-d68c-49ba-a705-bd009d7b8246",
   "metadata": {},
   "outputs": [],
   "source": [
    "import numpy as np\n",
    "import pandas as pd\n",
    "from ipywidgets import widgets as wdg\n",
    "import matplotlib.pyplot as plt\n",
    "import seaborn as sns\n",
    "sns.set_style('white')"
   ]
  },
  {
   "cell_type": "code",
   "execution_count": 2,
   "id": "88f8721e-6ab9-4cae-8da1-22e8138c26a9",
   "metadata": {},
   "outputs": [],
   "source": [
    "import warnings\n",
    "warnings.filterwarnings(\"ignore\")"
   ]
  },
  {
   "cell_type": "code",
   "execution_count": 3,
   "id": "cd3dc254-c621-4f75-b09d-7becf96dd38f",
   "metadata": {},
   "outputs": [],
   "source": [
    "from sklearn.metrics.pairwise import cosine_similarity\n",
    "from sklearn.feature_extraction.text import CountVectorizer\n",
    "from sklearn.neighbors import NearestNeighbors"
   ]
  },
  {
   "cell_type": "markdown",
   "id": "2c531506-49a1-42e0-9101-f08f18d10e03",
   "metadata": {},
   "source": [
    "**Setting default values for graphs**"
   ]
  },
  {
   "cell_type": "code",
   "execution_count": 4,
   "id": "ca9b208e-aedc-4ec7-9d23-f7db518d9c2f",
   "metadata": {},
   "outputs": [],
   "source": [
    "plt.rcParams['font.size']=10\n",
    "plt.rcParams['axes.grid']=True\n",
    "plt.rcParams['figure.figsize']= (10, 5)"
   ]
  },
  {
   "cell_type": "markdown",
   "id": "77b02e4c-ed16-4182-8903-d561356eb454",
   "metadata": {},
   "source": [
    "**Importing the datasets**"
   ]
  },
  {
   "cell_type": "code",
   "execution_count": 5,
   "id": "32c422f5-c136-4de0-8905-b76f8666510d",
   "metadata": {},
   "outputs": [
    {
     "data": {
      "text/html": [
       "<div>\n",
       "<style scoped>\n",
       "    .dataframe tbody tr th:only-of-type {\n",
       "        vertical-align: middle;\n",
       "    }\n",
       "\n",
       "    .dataframe tbody tr th {\n",
       "        vertical-align: top;\n",
       "    }\n",
       "\n",
       "    .dataframe thead th {\n",
       "        text-align: right;\n",
       "    }\n",
       "</style>\n",
       "<table border=\"1\" class=\"dataframe\">\n",
       "  <thead>\n",
       "    <tr style=\"text-align: right;\">\n",
       "      <th></th>\n",
       "      <th>movieId</th>\n",
       "      <th>title</th>\n",
       "      <th>genres</th>\n",
       "    </tr>\n",
       "  </thead>\n",
       "  <tbody>\n",
       "    <tr>\n",
       "      <th>0</th>\n",
       "      <td>1</td>\n",
       "      <td>Toy Story (1995)</td>\n",
       "      <td>Adventure|Animation|Children|Comedy|Fantasy</td>\n",
       "    </tr>\n",
       "    <tr>\n",
       "      <th>1</th>\n",
       "      <td>2</td>\n",
       "      <td>Jumanji (1995)</td>\n",
       "      <td>Adventure|Children|Fantasy</td>\n",
       "    </tr>\n",
       "    <tr>\n",
       "      <th>2</th>\n",
       "      <td>3</td>\n",
       "      <td>Grumpier Old Men (1995)</td>\n",
       "      <td>Comedy|Romance</td>\n",
       "    </tr>\n",
       "    <tr>\n",
       "      <th>3</th>\n",
       "      <td>4</td>\n",
       "      <td>Waiting to Exhale (1995)</td>\n",
       "      <td>Comedy|Drama|Romance</td>\n",
       "    </tr>\n",
       "    <tr>\n",
       "      <th>4</th>\n",
       "      <td>5</td>\n",
       "      <td>Father of the Bride Part II (1995)</td>\n",
       "      <td>Comedy</td>\n",
       "    </tr>\n",
       "  </tbody>\n",
       "</table>\n",
       "</div>"
      ],
      "text/plain": [
       "   movieId                               title  \\\n",
       "0        1                    Toy Story (1995)   \n",
       "1        2                      Jumanji (1995)   \n",
       "2        3             Grumpier Old Men (1995)   \n",
       "3        4            Waiting to Exhale (1995)   \n",
       "4        5  Father of the Bride Part II (1995)   \n",
       "\n",
       "                                        genres  \n",
       "0  Adventure|Animation|Children|Comedy|Fantasy  \n",
       "1                   Adventure|Children|Fantasy  \n",
       "2                               Comedy|Romance  \n",
       "3                         Comedy|Drama|Romance  \n",
       "4                                       Comedy  "
      ]
     },
     "execution_count": 5,
     "metadata": {},
     "output_type": "execute_result"
    }
   ],
   "source": [
    "movies = pd.read_csv(\"movies.csv\")\n",
    "movies.head()"
   ]
  },
  {
   "cell_type": "code",
   "execution_count": 6,
   "id": "8b3621de-e870-4b5f-8974-57f4ddfd8495",
   "metadata": {},
   "outputs": [
    {
     "data": {
      "text/html": [
       "<div>\n",
       "<style scoped>\n",
       "    .dataframe tbody tr th:only-of-type {\n",
       "        vertical-align: middle;\n",
       "    }\n",
       "\n",
       "    .dataframe tbody tr th {\n",
       "        vertical-align: top;\n",
       "    }\n",
       "\n",
       "    .dataframe thead th {\n",
       "        text-align: right;\n",
       "    }\n",
       "</style>\n",
       "<table border=\"1\" class=\"dataframe\">\n",
       "  <thead>\n",
       "    <tr style=\"text-align: right;\">\n",
       "      <th></th>\n",
       "      <th>userId</th>\n",
       "      <th>movieId</th>\n",
       "      <th>rating</th>\n",
       "      <th>timestamp</th>\n",
       "    </tr>\n",
       "  </thead>\n",
       "  <tbody>\n",
       "    <tr>\n",
       "      <th>0</th>\n",
       "      <td>1</td>\n",
       "      <td>16</td>\n",
       "      <td>4.0</td>\n",
       "      <td>1217897793</td>\n",
       "    </tr>\n",
       "    <tr>\n",
       "      <th>1</th>\n",
       "      <td>1</td>\n",
       "      <td>24</td>\n",
       "      <td>1.5</td>\n",
       "      <td>1217895807</td>\n",
       "    </tr>\n",
       "    <tr>\n",
       "      <th>2</th>\n",
       "      <td>1</td>\n",
       "      <td>32</td>\n",
       "      <td>4.0</td>\n",
       "      <td>1217896246</td>\n",
       "    </tr>\n",
       "    <tr>\n",
       "      <th>3</th>\n",
       "      <td>1</td>\n",
       "      <td>47</td>\n",
       "      <td>4.0</td>\n",
       "      <td>1217896556</td>\n",
       "    </tr>\n",
       "    <tr>\n",
       "      <th>4</th>\n",
       "      <td>1</td>\n",
       "      <td>50</td>\n",
       "      <td>4.0</td>\n",
       "      <td>1217896523</td>\n",
       "    </tr>\n",
       "  </tbody>\n",
       "</table>\n",
       "</div>"
      ],
      "text/plain": [
       "   userId  movieId  rating   timestamp\n",
       "0       1       16     4.0  1217897793\n",
       "1       1       24     1.5  1217895807\n",
       "2       1       32     4.0  1217896246\n",
       "3       1       47     4.0  1217896556\n",
       "4       1       50     4.0  1217896523"
      ]
     },
     "execution_count": 6,
     "metadata": {},
     "output_type": "execute_result"
    }
   ],
   "source": [
    "ratings = pd.read_csv(\"ratings.csv\")\n",
    "ratings.head()"
   ]
  },
  {
   "cell_type": "code",
   "execution_count": 7,
   "id": "232805ed-90f9-4655-99c5-a8520853e03a",
   "metadata": {},
   "outputs": [
    {
     "name": "stdout",
     "output_type": "stream",
     "text": [
      "shape of the ratings dataset: (105339, 4)\n",
      "shape of the movies dataset: (10329, 3)\n"
     ]
    }
   ],
   "source": [
    "print(\"shape of the ratings dataset:\",ratings.shape)\n",
    "print(\"shape of the movies dataset:\",movies.shape)"
   ]
  },
  {
   "cell_type": "code",
   "execution_count": 8,
   "id": "282152ab-f1ca-406f-b180-03d6b22ae2e5",
   "metadata": {},
   "outputs": [
    {
     "name": "stdout",
     "output_type": "stream",
     "text": [
      "<class 'pandas.core.frame.DataFrame'>\n",
      "RangeIndex: 10329 entries, 0 to 10328\n",
      "Data columns (total 3 columns):\n",
      " #   Column   Non-Null Count  Dtype \n",
      "---  ------   --------------  ----- \n",
      " 0   movieId  10329 non-null  int64 \n",
      " 1   title    10329 non-null  object\n",
      " 2   genres   10329 non-null  object\n",
      "dtypes: int64(1), object(2)\n",
      "memory usage: 242.2+ KB\n"
     ]
    }
   ],
   "source": [
    "movies.info()"
   ]
  },
  {
   "cell_type": "code",
   "execution_count": 9,
   "id": "3a9ab1cc-bca5-4b0d-9706-4009365674b5",
   "metadata": {},
   "outputs": [
    {
     "name": "stdout",
     "output_type": "stream",
     "text": [
      "<class 'pandas.core.frame.DataFrame'>\n",
      "RangeIndex: 105339 entries, 0 to 105338\n",
      "Data columns (total 4 columns):\n",
      " #   Column     Non-Null Count   Dtype  \n",
      "---  ------     --------------   -----  \n",
      " 0   userId     105339 non-null  int64  \n",
      " 1   movieId    105339 non-null  int64  \n",
      " 2   rating     105339 non-null  float64\n",
      " 3   timestamp  105339 non-null  int64  \n",
      "dtypes: float64(1), int64(3)\n",
      "memory usage: 3.2 MB\n"
     ]
    }
   ],
   "source": [
    "ratings.info()"
   ]
  },
  {
   "cell_type": "markdown",
   "id": "8b0dea74-a8a4-43a7-9209-5a5b6afe7bb9",
   "metadata": {},
   "source": [
    "## 2. Exploratory Data Analysis including:\n",
    "\n",
    "- Understanding of distribution of the features available\n",
    "- Finding unique users and movies\n",
    "- Average rating and Total movies at genre level.\n",
    "- Unique genres considered.\n",
    "\n",
    "**Checking for null values**"
   ]
  },
  {
   "cell_type": "code",
   "execution_count": 10,
   "id": "b58b91b2-ccad-4006-9672-c491fd108b83",
   "metadata": {},
   "outputs": [
    {
     "data": {
      "text/plain": [
       "movieId    0\n",
       "title      0\n",
       "genres     0\n",
       "dtype: int64"
      ]
     },
     "execution_count": 10,
     "metadata": {},
     "output_type": "execute_result"
    }
   ],
   "source": [
    "movies.isnull().sum()"
   ]
  },
  {
   "cell_type": "code",
   "execution_count": 11,
   "id": "6e5dc4b5-26e6-4da9-afcb-18cabd14812e",
   "metadata": {},
   "outputs": [
    {
     "data": {
      "text/plain": [
       "userId       0\n",
       "movieId      0\n",
       "rating       0\n",
       "timestamp    0\n",
       "dtype: int64"
      ]
     },
     "execution_count": 11,
     "metadata": {},
     "output_type": "execute_result"
    }
   ],
   "source": [
    "ratings.isnull().sum()"
   ]
  },
  {
   "cell_type": "markdown",
   "id": "3ff69bd5-a447-4264-a1ed-a1000f59adaf",
   "metadata": {},
   "source": [
    "**Checking for duplicate values**"
   ]
  },
  {
   "cell_type": "code",
   "execution_count": 12,
   "id": "d1a4db08-d2d8-44db-89fc-929401037a5d",
   "metadata": {},
   "outputs": [
    {
     "name": "stdout",
     "output_type": "stream",
     "text": [
      "No duplicates in the movies dataset.\n"
     ]
    }
   ],
   "source": [
    "# Checking for duplicate rows in movies dataset\n",
    "movies_dup = movies.duplicated()\n",
    "if movies_dup.any():\n",
    "    print(f\"{movies_dup.sum()} duplicate(s) present in the movies dataset:\")\n",
    "    print(movies[movies_dup])\n",
    "else:\n",
    "    print(\"No duplicates in the movies dataset.\")"
   ]
  },
  {
   "cell_type": "code",
   "execution_count": 13,
   "id": "fdfeb6d2-c8d8-4c8f-8e63-62160ad6c6f4",
   "metadata": {},
   "outputs": [
    {
     "name": "stdout",
     "output_type": "stream",
     "text": [
      "No duplicates in the ratings dataset.\n"
     ]
    }
   ],
   "source": [
    "# Checking for duplicate rows in ratings dataset\n",
    "ratings_dup = ratings.duplicated()\n",
    "if ratings_dup.any():\n",
    "    print(f\"{ratings_dup.sum()} duplicate(s) present in the ratings dataset:\")\n",
    "    print(ratings[ratings_dup])\n",
    "else:\n",
    "    print(\"No duplicates in the ratings dataset.\")"
   ]
  },
  {
   "cell_type": "code",
   "execution_count": 14,
   "id": "10410758-2180-485d-8d70-c5a7ecde8dea",
   "metadata": {},
   "outputs": [
    {
     "name": "stdout",
     "output_type": "stream",
     "text": [
      "2 duplicate title(s) present in the movies dataset:\n",
      "      movieId                     title         genres\n",
      "6270    26982      Men with Guns (1997)          Drama\n",
      "7963    64997  War of the Worlds (2005)  Action|Sci-Fi\n"
     ]
    }
   ],
   "source": [
    "# Checking for duplicate movie titles in movies dataset\n",
    "moviesTitle_dup = movies['title'].duplicated()\n",
    "if moviesTitle_dup.any():\n",
    "    print(f\"{moviesTitle_dup.sum()} duplicate title(s) present in the movies dataset:\")\n",
    "    print(movies[moviesTitle_dup])\n",
    "else:\n",
    "    print(\"No duplicate titles in the movies dataset.\")"
   ]
  },
  {
   "cell_type": "code",
   "execution_count": 15,
   "id": "f9635837-2342-481f-b26c-f2495b13d98b",
   "metadata": {},
   "outputs": [
    {
     "data": {
      "text/html": [
       "<div>\n",
       "<style scoped>\n",
       "    .dataframe tbody tr th:only-of-type {\n",
       "        vertical-align: middle;\n",
       "    }\n",
       "\n",
       "    .dataframe tbody tr th {\n",
       "        vertical-align: top;\n",
       "    }\n",
       "\n",
       "    .dataframe thead th {\n",
       "        text-align: right;\n",
       "    }\n",
       "</style>\n",
       "<table border=\"1\" class=\"dataframe\">\n",
       "  <thead>\n",
       "    <tr style=\"text-align: right;\">\n",
       "      <th></th>\n",
       "      <th>movieId</th>\n",
       "      <th>title</th>\n",
       "      <th>genres</th>\n",
       "    </tr>\n",
       "  </thead>\n",
       "  <tbody>\n",
       "    <tr>\n",
       "      <th>1403</th>\n",
       "      <td>1788</td>\n",
       "      <td>Men with Guns (1997)</td>\n",
       "      <td>Action|Drama</td>\n",
       "    </tr>\n",
       "    <tr>\n",
       "      <th>6270</th>\n",
       "      <td>26982</td>\n",
       "      <td>Men with Guns (1997)</td>\n",
       "      <td>Drama</td>\n",
       "    </tr>\n",
       "  </tbody>\n",
       "</table>\n",
       "</div>"
      ],
      "text/plain": [
       "      movieId                 title        genres\n",
       "1403     1788  Men with Guns (1997)  Action|Drama\n",
       "6270    26982  Men with Guns (1997)         Drama"
      ]
     },
     "execution_count": 15,
     "metadata": {},
     "output_type": "execute_result"
    }
   ],
   "source": [
    "movies[movies['title']=='Men with Guns (1997)']"
   ]
  },
  {
   "cell_type": "code",
   "execution_count": 16,
   "id": "c005ef6d-c1da-40a9-8382-68e80785fe79",
   "metadata": {},
   "outputs": [
    {
     "data": {
      "text/html": [
       "<div>\n",
       "<style scoped>\n",
       "    .dataframe tbody tr th:only-of-type {\n",
       "        vertical-align: middle;\n",
       "    }\n",
       "\n",
       "    .dataframe tbody tr th {\n",
       "        vertical-align: top;\n",
       "    }\n",
       "\n",
       "    .dataframe thead th {\n",
       "        text-align: right;\n",
       "    }\n",
       "</style>\n",
       "<table border=\"1\" class=\"dataframe\">\n",
       "  <thead>\n",
       "    <tr style=\"text-align: right;\">\n",
       "      <th></th>\n",
       "      <th>movieId</th>\n",
       "      <th>title</th>\n",
       "      <th>genres</th>\n",
       "    </tr>\n",
       "  </thead>\n",
       "  <tbody>\n",
       "    <tr>\n",
       "      <th>6662</th>\n",
       "      <td>34048</td>\n",
       "      <td>War of the Worlds (2005)</td>\n",
       "      <td>Action|Adventure|Sci-Fi|Thriller</td>\n",
       "    </tr>\n",
       "    <tr>\n",
       "      <th>7963</th>\n",
       "      <td>64997</td>\n",
       "      <td>War of the Worlds (2005)</td>\n",
       "      <td>Action|Sci-Fi</td>\n",
       "    </tr>\n",
       "  </tbody>\n",
       "</table>\n",
       "</div>"
      ],
      "text/plain": [
       "      movieId                     title                            genres\n",
       "6662    34048  War of the Worlds (2005)  Action|Adventure|Sci-Fi|Thriller\n",
       "7963    64997  War of the Worlds (2005)                     Action|Sci-Fi"
      ]
     },
     "execution_count": 16,
     "metadata": {},
     "output_type": "execute_result"
    }
   ],
   "source": [
    "movies[movies['title']=='War of the Worlds (2005)']"
   ]
  },
  {
   "cell_type": "code",
   "execution_count": 17,
   "id": "522eafc6-1155-4b87-ab48-e802e7e17eb9",
   "metadata": {},
   "outputs": [],
   "source": [
    "# Dropping Duplicate movie titles from the movie dataset\n",
    "movies.drop(movies.loc[movies['movieId']==26982].index,inplace = True)\n",
    "movies.drop(movies.loc[movies['movieId']==64997].index,inplace = True)"
   ]
  },
  {
   "cell_type": "markdown",
   "id": "6c551ce6-84ee-414b-a673-8f43da2c499a",
   "metadata": {},
   "source": [
    "**Statistical descriptions of both the datasets**"
   ]
  },
  {
   "cell_type": "code",
   "execution_count": 18,
   "id": "09552b23-5f6c-4e41-9c50-efe0a5842749",
   "metadata": {},
   "outputs": [
    {
     "data": {
      "text/html": [
       "<div>\n",
       "<style scoped>\n",
       "    .dataframe tbody tr th:only-of-type {\n",
       "        vertical-align: middle;\n",
       "    }\n",
       "\n",
       "    .dataframe tbody tr th {\n",
       "        vertical-align: top;\n",
       "    }\n",
       "\n",
       "    .dataframe thead th {\n",
       "        text-align: right;\n",
       "    }\n",
       "</style>\n",
       "<table border=\"1\" class=\"dataframe\">\n",
       "  <thead>\n",
       "    <tr style=\"text-align: right;\">\n",
       "      <th></th>\n",
       "      <th>movieId</th>\n",
       "    </tr>\n",
       "  </thead>\n",
       "  <tbody>\n",
       "    <tr>\n",
       "      <th>count</th>\n",
       "      <td>10327.000000</td>\n",
       "    </tr>\n",
       "    <tr>\n",
       "      <th>mean</th>\n",
       "      <td>31921.558923</td>\n",
       "    </tr>\n",
       "    <tr>\n",
       "      <th>std</th>\n",
       "      <td>37736.960408</td>\n",
       "    </tr>\n",
       "    <tr>\n",
       "      <th>min</th>\n",
       "      <td>1.000000</td>\n",
       "    </tr>\n",
       "    <tr>\n",
       "      <th>25%</th>\n",
       "      <td>3239.000000</td>\n",
       "    </tr>\n",
       "    <tr>\n",
       "      <th>50%</th>\n",
       "      <td>7087.000000</td>\n",
       "    </tr>\n",
       "    <tr>\n",
       "      <th>75%</th>\n",
       "      <td>59875.000000</td>\n",
       "    </tr>\n",
       "    <tr>\n",
       "      <th>max</th>\n",
       "      <td>149532.000000</td>\n",
       "    </tr>\n",
       "  </tbody>\n",
       "</table>\n",
       "</div>"
      ],
      "text/plain": [
       "             movieId\n",
       "count   10327.000000\n",
       "mean    31921.558923\n",
       "std     37736.960408\n",
       "min         1.000000\n",
       "25%      3239.000000\n",
       "50%      7087.000000\n",
       "75%     59875.000000\n",
       "max    149532.000000"
      ]
     },
     "execution_count": 18,
     "metadata": {},
     "output_type": "execute_result"
    }
   ],
   "source": [
    "movies.describe()"
   ]
  },
  {
   "cell_type": "code",
   "execution_count": 19,
   "id": "e7696d64-0bc7-46fa-be4e-c7d1639db334",
   "metadata": {},
   "outputs": [
    {
     "data": {
      "text/html": [
       "<div>\n",
       "<style scoped>\n",
       "    .dataframe tbody tr th:only-of-type {\n",
       "        vertical-align: middle;\n",
       "    }\n",
       "\n",
       "    .dataframe tbody tr th {\n",
       "        vertical-align: top;\n",
       "    }\n",
       "\n",
       "    .dataframe thead th {\n",
       "        text-align: right;\n",
       "    }\n",
       "</style>\n",
       "<table border=\"1\" class=\"dataframe\">\n",
       "  <thead>\n",
       "    <tr style=\"text-align: right;\">\n",
       "      <th></th>\n",
       "      <th>userId</th>\n",
       "      <th>movieId</th>\n",
       "      <th>rating</th>\n",
       "      <th>timestamp</th>\n",
       "    </tr>\n",
       "  </thead>\n",
       "  <tbody>\n",
       "    <tr>\n",
       "      <th>count</th>\n",
       "      <td>105339.000000</td>\n",
       "      <td>105339.000000</td>\n",
       "      <td>105339.000000</td>\n",
       "      <td>1.053390e+05</td>\n",
       "    </tr>\n",
       "    <tr>\n",
       "      <th>mean</th>\n",
       "      <td>364.924539</td>\n",
       "      <td>13381.312477</td>\n",
       "      <td>3.516850</td>\n",
       "      <td>1.130424e+09</td>\n",
       "    </tr>\n",
       "    <tr>\n",
       "      <th>std</th>\n",
       "      <td>197.486905</td>\n",
       "      <td>26170.456869</td>\n",
       "      <td>1.044872</td>\n",
       "      <td>1.802660e+08</td>\n",
       "    </tr>\n",
       "    <tr>\n",
       "      <th>min</th>\n",
       "      <td>1.000000</td>\n",
       "      <td>1.000000</td>\n",
       "      <td>0.500000</td>\n",
       "      <td>8.285650e+08</td>\n",
       "    </tr>\n",
       "    <tr>\n",
       "      <th>25%</th>\n",
       "      <td>192.000000</td>\n",
       "      <td>1073.000000</td>\n",
       "      <td>3.000000</td>\n",
       "      <td>9.711008e+08</td>\n",
       "    </tr>\n",
       "    <tr>\n",
       "      <th>50%</th>\n",
       "      <td>383.000000</td>\n",
       "      <td>2497.000000</td>\n",
       "      <td>3.500000</td>\n",
       "      <td>1.115154e+09</td>\n",
       "    </tr>\n",
       "    <tr>\n",
       "      <th>75%</th>\n",
       "      <td>557.000000</td>\n",
       "      <td>5991.000000</td>\n",
       "      <td>4.000000</td>\n",
       "      <td>1.275496e+09</td>\n",
       "    </tr>\n",
       "    <tr>\n",
       "      <th>max</th>\n",
       "      <td>668.000000</td>\n",
       "      <td>149532.000000</td>\n",
       "      <td>5.000000</td>\n",
       "      <td>1.452405e+09</td>\n",
       "    </tr>\n",
       "  </tbody>\n",
       "</table>\n",
       "</div>"
      ],
      "text/plain": [
       "              userId        movieId         rating     timestamp\n",
       "count  105339.000000  105339.000000  105339.000000  1.053390e+05\n",
       "mean      364.924539   13381.312477       3.516850  1.130424e+09\n",
       "std       197.486905   26170.456869       1.044872  1.802660e+08\n",
       "min         1.000000       1.000000       0.500000  8.285650e+08\n",
       "25%       192.000000    1073.000000       3.000000  9.711008e+08\n",
       "50%       383.000000    2497.000000       3.500000  1.115154e+09\n",
       "75%       557.000000    5991.000000       4.000000  1.275496e+09\n",
       "max       668.000000  149532.000000       5.000000  1.452405e+09"
      ]
     },
     "execution_count": 19,
     "metadata": {},
     "output_type": "execute_result"
    }
   ],
   "source": [
    "ratings.describe()"
   ]
  },
  {
   "cell_type": "markdown",
   "id": "d786ea7f-7873-4a1c-b3ba-fae4bd0a31ed",
   "metadata": {},
   "source": [
    "**Finding unique users & movies**"
   ]
  },
  {
   "cell_type": "code",
   "execution_count": 20,
   "id": "f6736162-5a25-474c-b359-2ccd58257d8e",
   "metadata": {},
   "outputs": [
    {
     "data": {
      "text/plain": [
       "movieId    10327\n",
       "title      10327\n",
       "genres       938\n",
       "dtype: int64"
      ]
     },
     "execution_count": 20,
     "metadata": {},
     "output_type": "execute_result"
    }
   ],
   "source": [
    "movies.nunique()"
   ]
  },
  {
   "cell_type": "code",
   "execution_count": 21,
   "id": "e0e98d8d-c98e-40d4-8540-3093a7f8daf5",
   "metadata": {},
   "outputs": [
    {
     "data": {
      "text/plain": [
       "userId         668\n",
       "movieId      10325\n",
       "rating          10\n",
       "timestamp    84686\n",
       "dtype: int64"
      ]
     },
     "execution_count": 21,
     "metadata": {},
     "output_type": "execute_result"
    }
   ],
   "source": [
    "ratings.nunique()"
   ]
  },
  {
   "cell_type": "markdown",
   "id": "06268c43-d2b7-489e-bad1-628eab06080f",
   "metadata": {},
   "source": [
    "**Observations from the above tables:**\n",
    "\n",
    "1. The average rating is 3.516850 and the minimum & maximum ratings are 0.5 & 5.0 respectively.\n",
    "2. 668 users have given ratings for 10325 movies.\n",
    "3. **movieId** is the common field between the 2 datasets"
   ]
  },
  {
   "cell_type": "markdown",
   "id": "ab9c1ec6-b8d2-4bb5-82e2-182342630a18",
   "metadata": {},
   "source": [
    "**Understanding the distribution of the features available**"
   ]
  },
  {
   "cell_type": "code",
   "execution_count": 22,
   "id": "8a3a452c-d35f-4eac-a3ec-e5ed15ef2aae",
   "metadata": {},
   "outputs": [
    {
     "data": {
      "image/png": "[encoded data removed]",
      "text/plain": [
       "<Figure size 1000x500 with 1 Axes>"
      ]
     },
     "metadata": {},
     "output_type": "display_data"
    }
   ],
   "source": [
    "plt.title('Distribution for Movies dataset')\n",
    "sns.histplot(data=movies,kde=True,bins = 11)\n",
    "# plt.savefig(\"Distribution for Movies dataset.png\")\n",
    "plt.show()"
   ]
  },
  {
   "cell_type": "code",
   "execution_count": 23,
   "id": "32b9dec7-463d-4723-877d-cefcabf1db77",
   "metadata": {},
   "outputs": [
    {
     "data": {
      "image/png": "[encoded data removed]",
      "text/plain": [
       "<Figure size 1000x500 with 4 Axes>"
      ]
     },
     "metadata": {},
     "output_type": "display_data"
    }
   ],
   "source": [
    "i=1\n",
    "for j in ratings.columns:\n",
    "    plt.subplot(2,2,i)\n",
    "    plt.title('Distribution of {}'.format(j))\n",
    "    sns.histplot(data=ratings,x=ratings[j],kde=True)\n",
    "    i+=1\n",
    "plt.tight_layout()\n",
    "# plt.savefig(\"Distribution of Ratings dataset.png\")\n",
    "plt.show()"
   ]
  },
  {
   "cell_type": "markdown",
   "id": "ae9552b6-228e-4aab-8cf2-e29d3caa150d",
   "metadata": {},
   "source": [
    "**Checking for outliers**"
   ]
  },
  {
   "cell_type": "code",
   "execution_count": 24,
   "id": "4e024c3f-bb5c-4c56-8651-367801628e8e",
   "metadata": {},
   "outputs": [
    {
     "data": {
      "image/png": "[encoded data removed]",
      "text/plain": [
       "<Figure size 1000x500 with 1 Axes>"
      ]
     },
     "metadata": {},
     "output_type": "display_data"
    }
   ],
   "source": [
    "plt.title('Outliers Visualization for Movies dataset')\n",
    "sns.boxplot(data = movies)\n",
    "# plt.savefig('Outliers Visualization for Movies dataset.png')\n",
    "plt.show()"
   ]
  },
  {
   "cell_type": "code",
   "execution_count": 25,
   "id": "5f487d48-a686-4762-9868-2909e8d0ebc7",
   "metadata": {},
   "outputs": [
    {
     "data": {
      "image/png": "[encoded data removed]",
      "text/plain": [
       "<Figure size 1000x500 with 1 Axes>"
      ]
     },
     "metadata": {},
     "output_type": "display_data"
    }
   ],
   "source": [
    "plt.title('Outliers Visualization for Ratings dataset')\n",
    "sns.boxplot(data = ratings)\n",
    "# plt.savefig('Outliers Visualization for Ratings dataset.png')\n",
    "plt.show()"
   ]
  },
  {
   "cell_type": "markdown",
   "id": "72458208-ffba-4f77-a5e7-e9fb49d01664",
   "metadata": {},
   "source": [
    "**Finding unique genres and movies per genre**"
   ]
  },
  {
   "cell_type": "code",
   "execution_count": 26,
   "id": "662ddddb-646d-40b2-8e5a-72e96855b7bc",
   "metadata": {},
   "outputs": [],
   "source": [
    "movie_title = []\n",
    "movie_year = []\n",
    "\n",
    "for title in movies['title']:\n",
    "    movie_title.append(title[0:-7])\n",
    "    movie_year.append(title[-5:-1])"
   ]
  },
  {
   "cell_type": "code",
   "execution_count": 27,
   "id": "8d6718e9-eeb9-4a2f-9883-9754f3449427",
   "metadata": {},
   "outputs": [
    {
     "data": {
      "text/plain": [
       "['Adventure',\n",
       " 'Animation',\n",
       " 'Children',\n",
       " 'Comedy',\n",
       " 'Fantasy',\n",
       " 'Romance',\n",
       " 'Drama',\n",
       " 'Action',\n",
       " 'Crime',\n",
       " 'Thriller',\n",
       " 'Horror',\n",
       " 'Mystery',\n",
       " 'Sci-Fi',\n",
       " 'IMAX',\n",
       " 'War',\n",
       " 'Musical',\n",
       " 'Documentary',\n",
       " 'Western',\n",
       " 'Film-Noir',\n",
       " '(no genres listed)']"
      ]
     },
     "execution_count": 27,
     "metadata": {},
     "output_type": "execute_result"
    }
   ],
   "source": [
    "genres = []\n",
    "\n",
    "for genresPerMovie in movies['genres']:\n",
    "    genresList = genresPerMovie.split('|')\n",
    "    for genre in genresList:\n",
    "        if genre not in genres:\n",
    "            genres.append(genre)\n",
    "\n",
    "genres"
   ]
  },
  {
   "cell_type": "code",
   "execution_count": 28,
   "id": "428ccd6b-8fcb-48d8-8750-4e5ee7697953",
   "metadata": {},
   "outputs": [],
   "source": [
    "genresCount = []\n",
    "\n",
    "for genre in genres:\n",
    "    count = 0\n",
    "    for movieGenre in movies['genres']:\n",
    "        if genre in movieGenre.split('|'):\n",
    "            count +=1\n",
    "    genresCount.append(count)"
   ]
  },
  {
   "cell_type": "code",
   "execution_count": 29,
   "id": "c3a6d78b-8cf1-4f10-90a3-6d57f18f91ae",
   "metadata": {},
   "outputs": [
    {
     "data": {
      "text/html": [
       "<div>\n",
       "<style scoped>\n",
       "    .dataframe tbody tr th:only-of-type {\n",
       "        vertical-align: middle;\n",
       "    }\n",
       "\n",
       "    .dataframe tbody tr th {\n",
       "        vertical-align: top;\n",
       "    }\n",
       "\n",
       "    .dataframe thead th {\n",
       "        text-align: right;\n",
       "    }\n",
       "</style>\n",
       "<table border=\"1\" class=\"dataframe\">\n",
       "  <thead>\n",
       "    <tr style=\"text-align: right;\">\n",
       "      <th></th>\n",
       "      <th>Genres</th>\n",
       "      <th>Movies Count</th>\n",
       "    </tr>\n",
       "  </thead>\n",
       "  <tbody>\n",
       "    <tr>\n",
       "      <th>6</th>\n",
       "      <td>Drama</td>\n",
       "      <td>5219</td>\n",
       "    </tr>\n",
       "    <tr>\n",
       "      <th>3</th>\n",
       "      <td>Comedy</td>\n",
       "      <td>3515</td>\n",
       "    </tr>\n",
       "    <tr>\n",
       "      <th>9</th>\n",
       "      <td>Thriller</td>\n",
       "      <td>2187</td>\n",
       "    </tr>\n",
       "    <tr>\n",
       "      <th>5</th>\n",
       "      <td>Romance</td>\n",
       "      <td>1788</td>\n",
       "    </tr>\n",
       "    <tr>\n",
       "      <th>7</th>\n",
       "      <td>Action</td>\n",
       "      <td>1736</td>\n",
       "    </tr>\n",
       "  </tbody>\n",
       "</table>\n",
       "</div>"
      ],
      "text/plain": [
       "     Genres  Movies Count\n",
       "6     Drama          5219\n",
       "3    Comedy          3515\n",
       "9  Thriller          2187\n",
       "5   Romance          1788\n",
       "7    Action          1736"
      ]
     },
     "execution_count": 29,
     "metadata": {},
     "output_type": "execute_result"
    }
   ],
   "source": [
    "genresDF = pd.DataFrame({\n",
    "    'Genres':genres,\n",
    "    'Movies Count':genresCount\n",
    "})\n",
    "genresDF.sort_values(by=\"Movies Count\",ascending=False, inplace=True)\n",
    "genresDF.head()"
   ]
  },
  {
   "cell_type": "code",
   "execution_count": 30,
   "id": "6b08277b-edee-4a56-a011-44048c55fde2",
   "metadata": {},
   "outputs": [
    {
     "data": {
      "image/png": "[encoded data removed]",
      "text/plain": [
       "<Figure size 1000x500 with 1 Axes>"
      ]
     },
     "metadata": {},
     "output_type": "display_data"
    }
   ],
   "source": [
    "plt.title('Number of Movies per genres')\n",
    "sns.barplot(data = genresDF, x = 'Movies Count', y = 'Genres', color = 'steelblue')\n",
    "# plt.savefig('Number of Movies per genres.png')\n",
    "plt.show()"
   ]
  },
  {
   "cell_type": "markdown",
   "id": "ed305165-5fe4-465c-ae9b-a589765ae99d",
   "metadata": {},
   "source": [
    "**Merging 'movies' and 'ratings' dataset into moviesRatingsDF dataset**"
   ]
  },
  {
   "cell_type": "code",
   "execution_count": 31,
   "id": "f23ca24a-0ccf-4fee-9ff1-681613b745b9",
   "metadata": {},
   "outputs": [
    {
     "data": {
      "text/html": [
       "<div>\n",
       "<style scoped>\n",
       "    .dataframe tbody tr th:only-of-type {\n",
       "        vertical-align: middle;\n",
       "    }\n",
       "\n",
       "    .dataframe tbody tr th {\n",
       "        vertical-align: top;\n",
       "    }\n",
       "\n",
       "    .dataframe thead th {\n",
       "        text-align: right;\n",
       "    }\n",
       "</style>\n",
       "<table border=\"1\" class=\"dataframe\">\n",
       "  <thead>\n",
       "    <tr style=\"text-align: right;\">\n",
       "      <th></th>\n",
       "      <th>userId</th>\n",
       "      <th>movieId</th>\n",
       "      <th>rating</th>\n",
       "      <th>timestamp</th>\n",
       "      <th>title</th>\n",
       "      <th>genres</th>\n",
       "    </tr>\n",
       "  </thead>\n",
       "  <tbody>\n",
       "    <tr>\n",
       "      <th>0</th>\n",
       "      <td>1</td>\n",
       "      <td>16</td>\n",
       "      <td>4.0</td>\n",
       "      <td>1217897793</td>\n",
       "      <td>Casino (1995)</td>\n",
       "      <td>Crime|Drama</td>\n",
       "    </tr>\n",
       "    <tr>\n",
       "      <th>1</th>\n",
       "      <td>1</td>\n",
       "      <td>24</td>\n",
       "      <td>1.5</td>\n",
       "      <td>1217895807</td>\n",
       "      <td>Powder (1995)</td>\n",
       "      <td>Drama|Sci-Fi</td>\n",
       "    </tr>\n",
       "    <tr>\n",
       "      <th>2</th>\n",
       "      <td>1</td>\n",
       "      <td>32</td>\n",
       "      <td>4.0</td>\n",
       "      <td>1217896246</td>\n",
       "      <td>Twelve Monkeys (a.k.a. 12 Monkeys) (1995)</td>\n",
       "      <td>Mystery|Sci-Fi|Thriller</td>\n",
       "    </tr>\n",
       "    <tr>\n",
       "      <th>3</th>\n",
       "      <td>1</td>\n",
       "      <td>47</td>\n",
       "      <td>4.0</td>\n",
       "      <td>1217896556</td>\n",
       "      <td>Seven (a.k.a. Se7en) (1995)</td>\n",
       "      <td>Mystery|Thriller</td>\n",
       "    </tr>\n",
       "    <tr>\n",
       "      <th>4</th>\n",
       "      <td>1</td>\n",
       "      <td>50</td>\n",
       "      <td>4.0</td>\n",
       "      <td>1217896523</td>\n",
       "      <td>Usual Suspects, The (1995)</td>\n",
       "      <td>Crime|Mystery|Thriller</td>\n",
       "    </tr>\n",
       "  </tbody>\n",
       "</table>\n",
       "</div>"
      ],
      "text/plain": [
       "   userId  movieId  rating   timestamp  \\\n",
       "0       1       16     4.0  1217897793   \n",
       "1       1       24     1.5  1217895807   \n",
       "2       1       32     4.0  1217896246   \n",
       "3       1       47     4.0  1217896556   \n",
       "4       1       50     4.0  1217896523   \n",
       "\n",
       "                                       title                   genres  \n",
       "0                              Casino (1995)              Crime|Drama  \n",
       "1                              Powder (1995)             Drama|Sci-Fi  \n",
       "2  Twelve Monkeys (a.k.a. 12 Monkeys) (1995)  Mystery|Sci-Fi|Thriller  \n",
       "3                Seven (a.k.a. Se7en) (1995)         Mystery|Thriller  \n",
       "4                 Usual Suspects, The (1995)   Crime|Mystery|Thriller  "
      ]
     },
     "execution_count": 31,
     "metadata": {},
     "output_type": "execute_result"
    }
   ],
   "source": [
    "moviesRatingDF = pd.merge(ratings, movies, how = 'left', on = 'movieId')\n",
    "moviesRatingDF.head()"
   ]
  },
  {
   "cell_type": "code",
   "execution_count": 32,
   "id": "e574cd48-1f9a-4007-a18a-1bb030778e91",
   "metadata": {},
   "outputs": [
    {
     "name": "stdout",
     "output_type": "stream",
     "text": [
      "<class 'pandas.core.frame.DataFrame'>\n",
      "RangeIndex: 105339 entries, 0 to 105338\n",
      "Data columns (total 6 columns):\n",
      " #   Column     Non-Null Count   Dtype  \n",
      "---  ------     --------------   -----  \n",
      " 0   userId     105339 non-null  int64  \n",
      " 1   movieId    105339 non-null  int64  \n",
      " 2   rating     105339 non-null  float64\n",
      " 3   timestamp  105339 non-null  int64  \n",
      " 4   title      105334 non-null  object \n",
      " 5   genres     105334 non-null  object \n",
      "dtypes: float64(1), int64(3), object(2)\n",
      "memory usage: 4.8+ MB\n"
     ]
    }
   ],
   "source": [
    "moviesRatingDF.info()"
   ]
  },
  {
   "cell_type": "code",
   "execution_count": 33,
   "id": "7770c579-3802-4e83-8781-3f29b7fba6c0",
   "metadata": {},
   "outputs": [
    {
     "data": {
      "text/plain": [
       "userId       0\n",
       "movieId      0\n",
       "rating       0\n",
       "timestamp    0\n",
       "title        5\n",
       "genres       5\n",
       "dtype: int64"
      ]
     },
     "execution_count": 33,
     "metadata": {},
     "output_type": "execute_result"
    }
   ],
   "source": [
    "moviesRatingDF.isnull().sum()"
   ]
  },
  {
   "cell_type": "code",
   "execution_count": 34,
   "id": "1633cde0-e925-4da6-bdeb-620f2622ab4b",
   "metadata": {},
   "outputs": [
    {
     "data": {
      "text/html": [
       "<div>\n",
       "<style scoped>\n",
       "    .dataframe tbody tr th:only-of-type {\n",
       "        vertical-align: middle;\n",
       "    }\n",
       "\n",
       "    .dataframe tbody tr th {\n",
       "        vertical-align: top;\n",
       "    }\n",
       "\n",
       "    .dataframe thead th {\n",
       "        text-align: right;\n",
       "    }\n",
       "</style>\n",
       "<table border=\"1\" class=\"dataframe\">\n",
       "  <thead>\n",
       "    <tr style=\"text-align: right;\">\n",
       "      <th></th>\n",
       "      <th>userId</th>\n",
       "      <th>movieId</th>\n",
       "      <th>rating</th>\n",
       "      <th>timestamp</th>\n",
       "      <th>title</th>\n",
       "      <th>genres</th>\n",
       "    </tr>\n",
       "  </thead>\n",
       "  <tbody>\n",
       "    <tr>\n",
       "      <th>66400</th>\n",
       "      <td>458</td>\n",
       "      <td>26982</td>\n",
       "      <td>4.0</td>\n",
       "      <td>1321471892</td>\n",
       "      <td>NaN</td>\n",
       "      <td>NaN</td>\n",
       "    </tr>\n",
       "    <tr>\n",
       "      <th>68133</th>\n",
       "      <td>461</td>\n",
       "      <td>64997</td>\n",
       "      <td>3.0</td>\n",
       "      <td>1264802172</td>\n",
       "      <td>NaN</td>\n",
       "      <td>NaN</td>\n",
       "    </tr>\n",
       "    <tr>\n",
       "      <th>74010</th>\n",
       "      <td>512</td>\n",
       "      <td>64997</td>\n",
       "      <td>2.5</td>\n",
       "      <td>1254434358</td>\n",
       "      <td>NaN</td>\n",
       "      <td>NaN</td>\n",
       "    </tr>\n",
       "    <tr>\n",
       "      <th>85181</th>\n",
       "      <td>575</td>\n",
       "      <td>64997</td>\n",
       "      <td>2.0</td>\n",
       "      <td>1231171245</td>\n",
       "      <td>NaN</td>\n",
       "      <td>NaN</td>\n",
       "    </tr>\n",
       "    <tr>\n",
       "      <th>102949</th>\n",
       "      <td>668</td>\n",
       "      <td>26982</td>\n",
       "      <td>3.0</td>\n",
       "      <td>1223578115</td>\n",
       "      <td>NaN</td>\n",
       "      <td>NaN</td>\n",
       "    </tr>\n",
       "  </tbody>\n",
       "</table>\n",
       "</div>"
      ],
      "text/plain": [
       "        userId  movieId  rating   timestamp title genres\n",
       "66400      458    26982     4.0  1321471892   NaN    NaN\n",
       "68133      461    64997     3.0  1264802172   NaN    NaN\n",
       "74010      512    64997     2.5  1254434358   NaN    NaN\n",
       "85181      575    64997     2.0  1231171245   NaN    NaN\n",
       "102949     668    26982     3.0  1223578115   NaN    NaN"
      ]
     },
     "execution_count": 34,
     "metadata": {},
     "output_type": "execute_result"
    }
   ],
   "source": [
    "moviesRatingDF[moviesRatingDF['title'].isnull()]"
   ]
  },
  {
   "cell_type": "code",
   "execution_count": 35,
   "id": "67012d64-f5bc-4eac-bb35-5772b8f9b2f7",
   "metadata": {},
   "outputs": [
    {
     "data": {
      "text/html": [
       "<div>\n",
       "<style scoped>\n",
       "    .dataframe tbody tr th:only-of-type {\n",
       "        vertical-align: middle;\n",
       "    }\n",
       "\n",
       "    .dataframe tbody tr th {\n",
       "        vertical-align: top;\n",
       "    }\n",
       "\n",
       "    .dataframe thead th {\n",
       "        text-align: right;\n",
       "    }\n",
       "</style>\n",
       "<table border=\"1\" class=\"dataframe\">\n",
       "  <thead>\n",
       "    <tr style=\"text-align: right;\">\n",
       "      <th></th>\n",
       "      <th>userId</th>\n",
       "      <th>movieId</th>\n",
       "      <th>rating</th>\n",
       "      <th>timestamp</th>\n",
       "      <th>title</th>\n",
       "      <th>genres</th>\n",
       "    </tr>\n",
       "  </thead>\n",
       "  <tbody>\n",
       "    <tr>\n",
       "      <th>66400</th>\n",
       "      <td>458</td>\n",
       "      <td>26982</td>\n",
       "      <td>4.0</td>\n",
       "      <td>1321471892</td>\n",
       "      <td>NaN</td>\n",
       "      <td>NaN</td>\n",
       "    </tr>\n",
       "    <tr>\n",
       "      <th>68133</th>\n",
       "      <td>461</td>\n",
       "      <td>64997</td>\n",
       "      <td>3.0</td>\n",
       "      <td>1264802172</td>\n",
       "      <td>NaN</td>\n",
       "      <td>NaN</td>\n",
       "    </tr>\n",
       "    <tr>\n",
       "      <th>74010</th>\n",
       "      <td>512</td>\n",
       "      <td>64997</td>\n",
       "      <td>2.5</td>\n",
       "      <td>1254434358</td>\n",
       "      <td>NaN</td>\n",
       "      <td>NaN</td>\n",
       "    </tr>\n",
       "    <tr>\n",
       "      <th>85181</th>\n",
       "      <td>575</td>\n",
       "      <td>64997</td>\n",
       "      <td>2.0</td>\n",
       "      <td>1231171245</td>\n",
       "      <td>NaN</td>\n",
       "      <td>NaN</td>\n",
       "    </tr>\n",
       "    <tr>\n",
       "      <th>102949</th>\n",
       "      <td>668</td>\n",
       "      <td>26982</td>\n",
       "      <td>3.0</td>\n",
       "      <td>1223578115</td>\n",
       "      <td>NaN</td>\n",
       "      <td>NaN</td>\n",
       "    </tr>\n",
       "  </tbody>\n",
       "</table>\n",
       "</div>"
      ],
      "text/plain": [
       "        userId  movieId  rating   timestamp title genres\n",
       "66400      458    26982     4.0  1321471892   NaN    NaN\n",
       "68133      461    64997     3.0  1264802172   NaN    NaN\n",
       "74010      512    64997     2.5  1254434358   NaN    NaN\n",
       "85181      575    64997     2.0  1231171245   NaN    NaN\n",
       "102949     668    26982     3.0  1223578115   NaN    NaN"
      ]
     },
     "execution_count": 35,
     "metadata": {},
     "output_type": "execute_result"
    }
   ],
   "source": [
    "moviesRatingDF[moviesRatingDF['genres'].isnull()]"
   ]
  },
  {
   "cell_type": "code",
   "execution_count": 36,
   "id": "7856b57b-bf48-4165-bbdc-d4fd65a68883",
   "metadata": {},
   "outputs": [
    {
     "data": {
      "text/plain": [
       "userId       0\n",
       "movieId      0\n",
       "rating       0\n",
       "timestamp    0\n",
       "title        0\n",
       "genres       0\n",
       "dtype: int64"
      ]
     },
     "execution_count": 36,
     "metadata": {},
     "output_type": "execute_result"
    }
   ],
   "source": [
    "# Dropping null values from the movie dataset\n",
    "moviesRatingDF.dropna(inplace=True)\n",
    "moviesRatingDF.isnull().sum()"
   ]
  },
  {
   "cell_type": "code",
   "execution_count": 37,
   "id": "8769afb5-659d-44ca-be33-8c5548d7ba51",
   "metadata": {},
   "outputs": [
    {
     "data": {
      "text/html": [
       "<div>\n",
       "<style scoped>\n",
       "    .dataframe tbody tr th:only-of-type {\n",
       "        vertical-align: middle;\n",
       "    }\n",
       "\n",
       "    .dataframe tbody tr th {\n",
       "        vertical-align: top;\n",
       "    }\n",
       "\n",
       "    .dataframe thead th {\n",
       "        text-align: right;\n",
       "    }\n",
       "</style>\n",
       "<table border=\"1\" class=\"dataframe\">\n",
       "  <thead>\n",
       "    <tr style=\"text-align: right;\">\n",
       "      <th></th>\n",
       "      <th>userId</th>\n",
       "      <th>movieId</th>\n",
       "      <th>rating</th>\n",
       "      <th>timestamp</th>\n",
       "    </tr>\n",
       "  </thead>\n",
       "  <tbody>\n",
       "    <tr>\n",
       "      <th>count</th>\n",
       "      <td>105334.000000</td>\n",
       "      <td>105334.000000</td>\n",
       "      <td>105334.000000</td>\n",
       "      <td>1.053340e+05</td>\n",
       "    </tr>\n",
       "    <tr>\n",
       "      <th>mean</th>\n",
       "      <td>364.916475</td>\n",
       "      <td>13379.584180</td>\n",
       "      <td>3.516880</td>\n",
       "      <td>1.130418e+09</td>\n",
       "    </tr>\n",
       "    <tr>\n",
       "      <th>std</th>\n",
       "      <td>197.487373</td>\n",
       "      <td>26169.561127</td>\n",
       "      <td>1.044878</td>\n",
       "      <td>1.802680e+08</td>\n",
       "    </tr>\n",
       "    <tr>\n",
       "      <th>min</th>\n",
       "      <td>1.000000</td>\n",
       "      <td>1.000000</td>\n",
       "      <td>0.500000</td>\n",
       "      <td>8.285650e+08</td>\n",
       "    </tr>\n",
       "    <tr>\n",
       "      <th>25%</th>\n",
       "      <td>192.000000</td>\n",
       "      <td>1073.000000</td>\n",
       "      <td>3.000000</td>\n",
       "      <td>9.711007e+08</td>\n",
       "    </tr>\n",
       "    <tr>\n",
       "      <th>50%</th>\n",
       "      <td>383.000000</td>\n",
       "      <td>2496.000000</td>\n",
       "      <td>3.500000</td>\n",
       "      <td>1.115042e+09</td>\n",
       "    </tr>\n",
       "    <tr>\n",
       "      <th>75%</th>\n",
       "      <td>557.000000</td>\n",
       "      <td>5991.000000</td>\n",
       "      <td>4.000000</td>\n",
       "      <td>1.275496e+09</td>\n",
       "    </tr>\n",
       "    <tr>\n",
       "      <th>max</th>\n",
       "      <td>668.000000</td>\n",
       "      <td>149532.000000</td>\n",
       "      <td>5.000000</td>\n",
       "      <td>1.452405e+09</td>\n",
       "    </tr>\n",
       "  </tbody>\n",
       "</table>\n",
       "</div>"
      ],
      "text/plain": [
       "              userId        movieId         rating     timestamp\n",
       "count  105334.000000  105334.000000  105334.000000  1.053340e+05\n",
       "mean      364.916475   13379.584180       3.516880  1.130418e+09\n",
       "std       197.487373   26169.561127       1.044878  1.802680e+08\n",
       "min         1.000000       1.000000       0.500000  8.285650e+08\n",
       "25%       192.000000    1073.000000       3.000000  9.711007e+08\n",
       "50%       383.000000    2496.000000       3.500000  1.115042e+09\n",
       "75%       557.000000    5991.000000       4.000000  1.275496e+09\n",
       "max       668.000000  149532.000000       5.000000  1.452405e+09"
      ]
     },
     "execution_count": 37,
     "metadata": {},
     "output_type": "execute_result"
    }
   ],
   "source": [
    "moviesRatingDF.describe()"
   ]
  },
  {
   "cell_type": "code",
   "execution_count": 38,
   "id": "4cb69e6a-b0a0-45ab-96a7-a4338d81c6ea",
   "metadata": {},
   "outputs": [
    {
     "name": "stdout",
     "output_type": "stream",
     "text": [
      "No duplicates in the movieRatingDF dataset.\n"
     ]
    }
   ],
   "source": [
    "# Checking for duplicate rows in movieRatingDF dataset\n",
    "moviesRating_dup = moviesRatingDF.duplicated()\n",
    "if moviesRating_dup.any():\n",
    "    print(f\"{moviesRating_dup.sum()} duplicate(s) present in the movieRatingDF dataset:\")\n",
    "    print(ratings[moviesRating_dup])\n",
    "else:\n",
    "    print(\"No duplicates in the movieRatingDF dataset.\")"
   ]
  },
  {
   "cell_type": "markdown",
   "id": "143daf6c-4330-47d2-b01f-5242d43c1b4e",
   "metadata": {},
   "source": [
    "**Calculating 'Average Movie Rating', 'Total Ratings' & 'Num Reviews' for all movies**"
   ]
  },
  {
   "cell_type": "code",
   "execution_count": 39,
   "id": "ae1e58c1-483d-4e92-9db7-7edf28525118",
   "metadata": {},
   "outputs": [
    {
     "data": {
      "text/html": [
       "<div>\n",
       "<style scoped>\n",
       "    .dataframe tbody tr th:only-of-type {\n",
       "        vertical-align: middle;\n",
       "    }\n",
       "\n",
       "    .dataframe tbody tr th {\n",
       "        vertical-align: top;\n",
       "    }\n",
       "\n",
       "    .dataframe thead th {\n",
       "        text-align: right;\n",
       "    }\n",
       "</style>\n",
       "<table border=\"1\" class=\"dataframe\">\n",
       "  <thead>\n",
       "    <tr style=\"text-align: right;\">\n",
       "      <th></th>\n",
       "      <th>Movie Title</th>\n",
       "      <th>Average Movie Rating</th>\n",
       "      <th>Total Ratings</th>\n",
       "      <th>Num Reviews</th>\n",
       "    </tr>\n",
       "  </thead>\n",
       "  <tbody>\n",
       "    <tr>\n",
       "      <th>0</th>\n",
       "      <td>'71 (2014)</td>\n",
       "      <td>3.500</td>\n",
       "      <td>3.5</td>\n",
       "      <td>1</td>\n",
       "    </tr>\n",
       "    <tr>\n",
       "      <th>1</th>\n",
       "      <td>'Hellboy': The Seeds of Creation (2004)</td>\n",
       "      <td>3.000</td>\n",
       "      <td>3.0</td>\n",
       "      <td>1</td>\n",
       "    </tr>\n",
       "    <tr>\n",
       "      <th>2</th>\n",
       "      <td>'Round Midnight (1986)</td>\n",
       "      <td>2.500</td>\n",
       "      <td>2.5</td>\n",
       "      <td>1</td>\n",
       "    </tr>\n",
       "    <tr>\n",
       "      <th>3</th>\n",
       "      <td>'Til There Was You (1997)</td>\n",
       "      <td>4.000</td>\n",
       "      <td>12.0</td>\n",
       "      <td>3</td>\n",
       "    </tr>\n",
       "    <tr>\n",
       "      <th>4</th>\n",
       "      <td>'burbs, The (1989)</td>\n",
       "      <td>3.125</td>\n",
       "      <td>62.5</td>\n",
       "      <td>20</td>\n",
       "    </tr>\n",
       "  </tbody>\n",
       "</table>\n",
       "</div>"
      ],
      "text/plain": [
       "                               Movie Title  Average Movie Rating  \\\n",
       "0                               '71 (2014)                 3.500   \n",
       "1  'Hellboy': The Seeds of Creation (2004)                 3.000   \n",
       "2                   'Round Midnight (1986)                 2.500   \n",
       "3                'Til There Was You (1997)                 4.000   \n",
       "4                       'burbs, The (1989)                 3.125   \n",
       "\n",
       "   Total Ratings  Num Reviews  \n",
       "0            3.5            1  \n",
       "1            3.0            1  \n",
       "2            2.5            1  \n",
       "3           12.0            3  \n",
       "4           62.5           20  "
      ]
     },
     "execution_count": 39,
     "metadata": {},
     "output_type": "execute_result"
    }
   ],
   "source": [
    "movieRatings = pd.DataFrame(moviesRatingDF.groupby('title')[['rating']].mean())\n",
    "movieRatings[\"Total Ratings\"] = pd.DataFrame(moviesRatingDF.groupby('title')[['rating']].sum())\n",
    "movieRatings[\"Num Reviews\"] = pd.DataFrame(moviesRatingDF.groupby('title')[['rating']].count())\n",
    "movieRatings.reset_index(drop = False, inplace= True)\n",
    "movieRatings.rename(columns = {'title':'Movie Title','rating':'Average Movie Rating'}, inplace= True)\n",
    "movieRatings.head()"
   ]
  },
  {
   "cell_type": "code",
   "execution_count": 40,
   "id": "415c89cb-7379-4e82-abe2-e85a4be23992",
   "metadata": {},
   "outputs": [
    {
     "data": {
      "text/html": [
       "<div>\n",
       "<style scoped>\n",
       "    .dataframe tbody tr th:only-of-type {\n",
       "        vertical-align: middle;\n",
       "    }\n",
       "\n",
       "    .dataframe tbody tr th {\n",
       "        vertical-align: top;\n",
       "    }\n",
       "\n",
       "    .dataframe thead th {\n",
       "        text-align: right;\n",
       "    }\n",
       "</style>\n",
       "<table border=\"1\" class=\"dataframe\">\n",
       "  <thead>\n",
       "    <tr style=\"text-align: right;\">\n",
       "      <th></th>\n",
       "      <th>Average Movie Rating</th>\n",
       "      <th>Total Ratings</th>\n",
       "      <th>Num Reviews</th>\n",
       "    </tr>\n",
       "  </thead>\n",
       "  <tbody>\n",
       "    <tr>\n",
       "      <th>count</th>\n",
       "      <td>10323.000000</td>\n",
       "      <td>10323.000000</td>\n",
       "      <td>10323.000000</td>\n",
       "    </tr>\n",
       "    <tr>\n",
       "      <th>mean</th>\n",
       "      <td>3.177245</td>\n",
       "      <td>35.885595</td>\n",
       "      <td>10.203817</td>\n",
       "    </tr>\n",
       "    <tr>\n",
       "      <th>std</th>\n",
       "      <td>0.817556</td>\n",
       "      <td>87.370046</td>\n",
       "      <td>22.834300</td>\n",
       "    </tr>\n",
       "    <tr>\n",
       "      <th>min</th>\n",
       "      <td>0.500000</td>\n",
       "      <td>0.500000</td>\n",
       "      <td>1.000000</td>\n",
       "    </tr>\n",
       "    <tr>\n",
       "      <th>25%</th>\n",
       "      <td>2.750000</td>\n",
       "      <td>3.500000</td>\n",
       "      <td>1.000000</td>\n",
       "    </tr>\n",
       "    <tr>\n",
       "      <th>50%</th>\n",
       "      <td>3.272727</td>\n",
       "      <td>8.000000</td>\n",
       "      <td>3.000000</td>\n",
       "    </tr>\n",
       "    <tr>\n",
       "      <th>75%</th>\n",
       "      <td>3.750000</td>\n",
       "      <td>27.000000</td>\n",
       "      <td>8.000000</td>\n",
       "    </tr>\n",
       "    <tr>\n",
       "      <th>max</th>\n",
       "      <td>5.000000</td>\n",
       "      <td>1372.000000</td>\n",
       "      <td>325.000000</td>\n",
       "    </tr>\n",
       "  </tbody>\n",
       "</table>\n",
       "</div>"
      ],
      "text/plain": [
       "       Average Movie Rating  Total Ratings   Num Reviews\n",
       "count          10323.000000   10323.000000  10323.000000\n",
       "mean               3.177245      35.885595     10.203817\n",
       "std                0.817556      87.370046     22.834300\n",
       "min                0.500000       0.500000      1.000000\n",
       "25%                2.750000       3.500000      1.000000\n",
       "50%                3.272727       8.000000      3.000000\n",
       "75%                3.750000      27.000000      8.000000\n",
       "max                5.000000    1372.000000    325.000000"
      ]
     },
     "execution_count": 40,
     "metadata": {},
     "output_type": "execute_result"
    }
   ],
   "source": [
    "movieRatings.describe()"
   ]
  },
  {
   "cell_type": "code",
   "execution_count": 41,
   "id": "8854c257-dd7f-49d3-abe7-15c760c4880f",
   "metadata": {},
   "outputs": [
    {
     "data": {
      "image/png": "[encoded data removed]",
      "text/plain": [
       "<Figure size 1000x500 with 2 Axes>"
      ]
     },
     "metadata": {},
     "output_type": "display_data"
    }
   ],
   "source": [
    "i=1\n",
    "for j in movieRatings[['Average Movie Rating','Num Reviews']]:\n",
    "    plt.subplot(2,1,i)\n",
    "    plt.title('Distribution of {}'.format(j))\n",
    "    sns.histplot(data=movieRatings,x=movieRatings[j],kde=True, bins = 60)\n",
    "    i+=1\n",
    "plt.tight_layout()\n",
    "# plt.savefig('Distribution of Average Movie Rating & Number of Reviews.png')\n",
    "plt.show()"
   ]
  },
  {
   "cell_type": "code",
   "execution_count": 42,
   "id": "0febe6c9-a449-4201-9b81-6845b30221bf",
   "metadata": {},
   "outputs": [
    {
     "data": {
      "image/png": "[encoded data removed]",
      "text/plain": [
       "<Figure size 600x600 with 3 Axes>"
      ]
     },
     "metadata": {},
     "output_type": "display_data"
    }
   ],
   "source": [
    "sns.jointplot(data = movieRatings, x = \"Average Movie Rating\", y=\"Num Reviews\", kind = 'scatter',color = 'red')\n",
    "plt.suptitle(\"Joint Plot of 'Average Movie Rating' and 'Number of Ratings'\", y=1, fontsize=12)\n",
    "plt.xticks(fontsize=10)\n",
    "plt.yticks(fontsize=10)\n",
    "plt.xlabel('Average Movie Rating',fontsize=10)\n",
    "plt.ylabel('Num Reviews',fontsize=10)\n",
    "# plt.savefig(\"Joint Plot of Average Movie Rating and Number of Ratings.png\")\n",
    "plt.show()"
   ]
  },
  {
   "cell_type": "markdown",
   "id": "a59a6649-b254-4dd5-a5d3-23fea33ebffb",
   "metadata": {},
   "source": [
    "**Finding Top 20 movies based on 'Average Movie Rating', 'Total Ratings' & 'Number of Reviews' per movies respectively**"
   ]
  },
  {
   "cell_type": "code",
   "execution_count": 43,
   "id": "9298b46a-2385-4dfe-93b0-08a6ada24fb6",
   "metadata": {},
   "outputs": [
    {
     "data": {
      "text/html": [
       "<div>\n",
       "<style scoped>\n",
       "    .dataframe tbody tr th:only-of-type {\n",
       "        vertical-align: middle;\n",
       "    }\n",
       "\n",
       "    .dataframe tbody tr th {\n",
       "        vertical-align: top;\n",
       "    }\n",
       "\n",
       "    .dataframe thead th {\n",
       "        text-align: right;\n",
       "    }\n",
       "</style>\n",
       "<table border=\"1\" class=\"dataframe\">\n",
       "  <thead>\n",
       "    <tr style=\"text-align: right;\">\n",
       "      <th></th>\n",
       "      <th>Movie Title</th>\n",
       "      <th>Average Movie Rating</th>\n",
       "      <th>Total Ratings</th>\n",
       "      <th>Num Reviews</th>\n",
       "    </tr>\n",
       "  </thead>\n",
       "  <tbody>\n",
       "    <tr>\n",
       "      <th>67</th>\n",
       "      <td>21 Up (1977)</td>\n",
       "      <td>5.0</td>\n",
       "      <td>5.0</td>\n",
       "      <td>1</td>\n",
       "    </tr>\n",
       "    <tr>\n",
       "      <th>125</th>\n",
       "      <td>50 Children: The Rescue Mission of Mr. And Mrs...</td>\n",
       "      <td>5.0</td>\n",
       "      <td>5.0</td>\n",
       "      <td>1</td>\n",
       "    </tr>\n",
       "    <tr>\n",
       "      <th>283</th>\n",
       "      <td>Air (2015)</td>\n",
       "      <td>5.0</td>\n",
       "      <td>5.0</td>\n",
       "      <td>1</td>\n",
       "    </tr>\n",
       "    <tr>\n",
       "      <th>488</th>\n",
       "      <td>Andrei Rublev (Andrey Rublyov) (1969)</td>\n",
       "      <td>5.0</td>\n",
       "      <td>5.0</td>\n",
       "      <td>1</td>\n",
       "    </tr>\n",
       "    <tr>\n",
       "      <th>512</th>\n",
       "      <td>Animal Farm (1954)</td>\n",
       "      <td>5.0</td>\n",
       "      <td>5.0</td>\n",
       "      <td>1</td>\n",
       "    </tr>\n",
       "  </tbody>\n",
       "</table>\n",
       "</div>"
      ],
      "text/plain": [
       "                                           Movie Title  Average Movie Rating  \\\n",
       "67                                        21 Up (1977)                   5.0   \n",
       "125  50 Children: The Rescue Mission of Mr. And Mrs...                   5.0   \n",
       "283                                         Air (2015)                   5.0   \n",
       "488              Andrei Rublev (Andrey Rublyov) (1969)                   5.0   \n",
       "512                                 Animal Farm (1954)                   5.0   \n",
       "\n",
       "     Total Ratings  Num Reviews  \n",
       "67             5.0            1  \n",
       "125            5.0            1  \n",
       "283            5.0            1  \n",
       "488            5.0            1  \n",
       "512            5.0            1  "
      ]
     },
     "execution_count": 43,
     "metadata": {},
     "output_type": "execute_result"
    }
   ],
   "source": [
    "# Checking for Top 20 movies based on 'Average Movie Rating'\n",
    "movieRatingsAvgTop20 = movieRatings.nlargest(20,'Average Movie Rating')\n",
    "movieRatingsAvgTop20.head()"
   ]
  },
  {
   "cell_type": "code",
   "execution_count": 44,
   "id": "7f242bbb-63e7-48af-8076-0e4c25f1df81",
   "metadata": {},
   "outputs": [
    {
     "data": {
      "image/png": "[encoded data removed]",
      "text/plain": [
       "<Figure size 1000x500 with 1 Axes>"
      ]
     },
     "metadata": {},
     "output_type": "display_data"
    }
   ],
   "source": [
    "plt.title('Top 20 movies with highest average ratings')\n",
    "sns.barplot(data = movieRatingsAvgTop20, y = 'Movie Title', x='Average Movie Rating', color='steelblue')\n",
    "# plt.savefig('Top 20 movies with highest average ratings.png')\n",
    "plt.show()"
   ]
  },
  {
   "cell_type": "code",
   "execution_count": 45,
   "id": "2f6a5ec5",
   "metadata": {},
   "outputs": [
    {
     "data": {
      "text/html": [
       "<div>\n",
       "<style scoped>\n",
       "    .dataframe tbody tr th:only-of-type {\n",
       "        vertical-align: middle;\n",
       "    }\n",
       "\n",
       "    .dataframe tbody tr th {\n",
       "        vertical-align: top;\n",
       "    }\n",
       "\n",
       "    .dataframe thead th {\n",
       "        text-align: right;\n",
       "    }\n",
       "</style>\n",
       "<table border=\"1\" class=\"dataframe\">\n",
       "  <thead>\n",
       "    <tr style=\"text-align: right;\">\n",
       "      <th></th>\n",
       "      <th>Movie Title</th>\n",
       "      <th>Average Movie Rating</th>\n",
       "      <th>Total Ratings</th>\n",
       "      <th>Num Reviews</th>\n",
       "    </tr>\n",
       "  </thead>\n",
       "  <tbody>\n",
       "    <tr>\n",
       "      <th>8136</th>\n",
       "      <td>Shawshank Redemption, The (1994)</td>\n",
       "      <td>4.454545</td>\n",
       "      <td>1372.0</td>\n",
       "      <td>308</td>\n",
       "    </tr>\n",
       "    <tr>\n",
       "      <th>7323</th>\n",
       "      <td>Pulp Fiction (1994)</td>\n",
       "      <td>4.160000</td>\n",
       "      <td>1352.0</td>\n",
       "      <td>325</td>\n",
       "    </tr>\n",
       "    <tr>\n",
       "      <th>3349</th>\n",
       "      <td>Forrest Gump (1994)</td>\n",
       "      <td>4.138264</td>\n",
       "      <td>1287.0</td>\n",
       "      <td>311</td>\n",
       "    </tr>\n",
       "    <tr>\n",
       "      <th>8228</th>\n",
       "      <td>Silence of the Lambs, The (1991)</td>\n",
       "      <td>4.194828</td>\n",
       "      <td>1216.5</td>\n",
       "      <td>290</td>\n",
       "    </tr>\n",
       "    <tr>\n",
       "      <th>8585</th>\n",
       "      <td>Star Wars: Episode IV - A New Hope (1977)</td>\n",
       "      <td>4.188645</td>\n",
       "      <td>1143.5</td>\n",
       "      <td>273</td>\n",
       "    </tr>\n",
       "  </tbody>\n",
       "</table>\n",
       "</div>"
      ],
      "text/plain": [
       "                                    Movie Title  Average Movie Rating  \\\n",
       "8136           Shawshank Redemption, The (1994)              4.454545   \n",
       "7323                        Pulp Fiction (1994)              4.160000   \n",
       "3349                        Forrest Gump (1994)              4.138264   \n",
       "8228           Silence of the Lambs, The (1991)              4.194828   \n",
       "8585  Star Wars: Episode IV - A New Hope (1977)              4.188645   \n",
       "\n",
       "      Total Ratings  Num Reviews  \n",
       "8136         1372.0          308  \n",
       "7323         1352.0          325  \n",
       "3349         1287.0          311  \n",
       "8228         1216.5          290  \n",
       "8585         1143.5          273  "
      ]
     },
     "execution_count": 45,
     "metadata": {},
     "output_type": "execute_result"
    }
   ],
   "source": [
    "# Checking for Top 20 movies based on 'Total Ratings'\n",
    "movieRatingsTotalTop20 = movieRatings.nlargest(20,'Total Ratings')\n",
    "movieRatingsTotalTop20.head()"
   ]
  },
  {
   "cell_type": "code",
   "execution_count": 46,
   "id": "396fb317",
   "metadata": {},
   "outputs": [
    {
     "data": {
      "image/png": "[encoded data removed]",
      "text/plain": [
       "<Figure size 1000x500 with 1 Axes>"
      ]
     },
     "metadata": {},
     "output_type": "display_data"
    }
   ],
   "source": [
    "plt.title('Top 20 movies with highest ratings')\n",
    "sns.barplot(data = movieRatingsTotalTop20, y = 'Movie Title', x='Total Ratings', color='steelblue')\n",
    "# plt.savefig('Top 20 movies with highest ratings.png')\n",
    "plt.show()"
   ]
  },
  {
   "cell_type": "code",
   "execution_count": 47,
   "id": "4b44d413-b917-493b-b435-d959a1bc13ed",
   "metadata": {},
   "outputs": [
    {
     "data": {
      "text/html": [
       "<div>\n",
       "<style scoped>\n",
       "    .dataframe tbody tr th:only-of-type {\n",
       "        vertical-align: middle;\n",
       "    }\n",
       "\n",
       "    .dataframe tbody tr th {\n",
       "        vertical-align: top;\n",
       "    }\n",
       "\n",
       "    .dataframe thead th {\n",
       "        text-align: right;\n",
       "    }\n",
       "</style>\n",
       "<table border=\"1\" class=\"dataframe\">\n",
       "  <thead>\n",
       "    <tr style=\"text-align: right;\">\n",
       "      <th></th>\n",
       "      <th>Movie Title</th>\n",
       "      <th>Average Movie Rating</th>\n",
       "      <th>Total Ratings</th>\n",
       "      <th>Num Reviews</th>\n",
       "    </tr>\n",
       "  </thead>\n",
       "  <tbody>\n",
       "    <tr>\n",
       "      <th>7323</th>\n",
       "      <td>Pulp Fiction (1994)</td>\n",
       "      <td>4.160000</td>\n",
       "      <td>1352.0</td>\n",
       "      <td>325</td>\n",
       "    </tr>\n",
       "    <tr>\n",
       "      <th>3349</th>\n",
       "      <td>Forrest Gump (1994)</td>\n",
       "      <td>4.138264</td>\n",
       "      <td>1287.0</td>\n",
       "      <td>311</td>\n",
       "    </tr>\n",
       "    <tr>\n",
       "      <th>8136</th>\n",
       "      <td>Shawshank Redemption, The (1994)</td>\n",
       "      <td>4.454545</td>\n",
       "      <td>1372.0</td>\n",
       "      <td>308</td>\n",
       "    </tr>\n",
       "    <tr>\n",
       "      <th>4934</th>\n",
       "      <td>Jurassic Park (1993)</td>\n",
       "      <td>3.659864</td>\n",
       "      <td>1076.0</td>\n",
       "      <td>294</td>\n",
       "    </tr>\n",
       "    <tr>\n",
       "      <th>8228</th>\n",
       "      <td>Silence of the Lambs, The (1991)</td>\n",
       "      <td>4.194828</td>\n",
       "      <td>1216.5</td>\n",
       "      <td>290</td>\n",
       "    </tr>\n",
       "  </tbody>\n",
       "</table>\n",
       "</div>"
      ],
      "text/plain": [
       "                           Movie Title  Average Movie Rating  Total Ratings  \\\n",
       "7323               Pulp Fiction (1994)              4.160000         1352.0   \n",
       "3349               Forrest Gump (1994)              4.138264         1287.0   \n",
       "8136  Shawshank Redemption, The (1994)              4.454545         1372.0   \n",
       "4934              Jurassic Park (1993)              3.659864         1076.0   \n",
       "8228  Silence of the Lambs, The (1991)              4.194828         1216.5   \n",
       "\n",
       "      Num Reviews  \n",
       "7323          325  \n",
       "3349          311  \n",
       "8136          308  \n",
       "4934          294  \n",
       "8228          290  "
      ]
     },
     "execution_count": 47,
     "metadata": {},
     "output_type": "execute_result"
    }
   ],
   "source": [
    "# Checking for Top 20 movies based on 'Number of Reviews'\n",
    "movieRatingsCountTop20 = movieRatings.nlargest(20,'Num Reviews')\n",
    "movieRatingsCountTop20.head()"
   ]
  },
  {
   "cell_type": "code",
   "execution_count": 48,
   "id": "735a7633-faaa-4598-94e6-7d0331504298",
   "metadata": {},
   "outputs": [
    {
     "data": {
      "image/png": "[encoded data removed]",
      "text/plain": [
       "<Figure size 1000x500 with 1 Axes>"
      ]
     },
     "metadata": {},
     "output_type": "display_data"
    }
   ],
   "source": [
    "plt.title('Top 20 movies with highest number of reviews')\n",
    "sns.barplot(data = movieRatingsCountTop20, y = 'Movie Title', x='Num Reviews', color='steelblue')\n",
    "# plt.savefig('Top 20 movies with highest number of reviews.png')\n",
    "plt.show()"
   ]
  },
  {
   "cell_type": "markdown",
   "id": "d4a12d15-a318-43a4-8b4d-208c1d5d21f5",
   "metadata": {},
   "source": [
    "## Types of recommendation system\r\n",
    "\r\n",
    "1. **Popularity Based:** It keeps a track of view counts for each movie/video and then lists movies based on views in descending order.\r\n",
    "2. **Content Based:** This type of recommendation systems, takes in a movie that a user currently likes as input. Then it analyzes the contents of the movie to find out other movies which have similar content. Then it ranks similar movies according to their similarity scores and recommends the most relevant movies to the user.\r\n",
    "3. **Collaborative filtering:** In other words, the recommendations get filtered based on the collaboration between similar user’s preferences."
   ]
  },
  {
   "cell_type": "markdown",
   "id": "1a4c2e63-eff3-4716-8c8a-f09cea236fb8",
   "metadata": {},
   "source": [
    "## Objective 1: Popularity Based Recommender System\n",
    "\n",
    "Create a popularity based recommender system at a genre level. User will input a genre (g), minimum ratings threshold (t) for a movie and no. of recommendations(N) for which it should be recommended top N movies which are most popular within that genre (g) ordered by ratings in descending order where each movie has at least (t) reviews.\n",
    "\n",
    "**Example:**\n",
    "\n",
    "**Input:**\n",
    "\n",
    "\tGenre (g): Comedy\n",
    "\tMinimum reviews threshold (t): 100\n",
    "\tNum recommendations (N): 5\n",
    "\n",
    "**Output** \n",
    "\n",
    "| Sl.No. | Movie Title | Average Movie Rating | Num Review |\n",
    "| --- | --- | --- | --- |\n",
    "| 1 | A | 4.5 | 422 |\n",
    "| 2 | B | 4.4 | 482 |\n",
    "| 3 | C | 4.3 | 245 |\n",
    "| 4 | D | 4.22 | 541 |\n",
    "| 5 | E | 4.21 | 420 |\n",
    "\n",
    "--------------"
   ]
  },
  {
   "cell_type": "markdown",
   "id": "745a1df4-31e4-495b-98d2-98f85d172b6f",
   "metadata": {},
   "source": [
    "To find movie recommendations based on genres, the following is required:\n",
    "\n",
    "- Find the movies and their index values based on the genre\n",
    "- Prepare a recommendation system which will show the 'Movie Title', 'Average Movie Rating' & 'Number of Reviews' per Movie"
   ]
  },
  {
   "cell_type": "code",
   "execution_count": 49,
   "id": "8f96d7db-d82b-445e-80f4-d2052896084e",
   "metadata": {},
   "outputs": [],
   "source": [
    "# Find the index value of movies based on the movie title with(out) years\n",
    "def findMovieIndex(movieTitle):\n",
    "    searchedMovieIndex = []\n",
    "    for movie in movies['title']:\n",
    "\n",
    "        # When only the movie title is mentioned without the released year\n",
    "        if movieTitle == movie[:-7]:\n",
    "            searchedMovieIndex = movies.index[movies['title'] == movie].tolist()\n",
    "\n",
    "        # When only the movie title is mentioned with the released year\n",
    "        elif movieTitle == movie:\n",
    "            searchedMovieIndex = movies.index[movies['title'] == movie].tolist()\n",
    "         \n",
    "    return searchedMovieIndex[0]"
   ]
  },
  {
   "cell_type": "code",
   "execution_count": 50,
   "id": "4f9d0385-3475-48fe-867d-a3de328954e6",
   "metadata": {},
   "outputs": [],
   "source": [
    "# Find a movie and its index value which is of a specific genre\n",
    "def findMoviesOnGenre(genre):\n",
    "    \n",
    "    # Creating a dictionary to store the index values & movie titles\n",
    "    moviesOnGenre = {'Index':[],'Movie Title':[]}\n",
    "\n",
    "    # Validating if the specified genre is available in the movie genres\n",
    "    for movieGenre,movieTitle in zip(movies['genres'],movies['title']):\n",
    "        \n",
    "        if genre in movieGenre.split('|'):\n",
    "            moviesOnGenre['Index'].append(findMovieIndex(movieTitle))\n",
    "            moviesOnGenre['Movie Title'].append(movieTitle)\n",
    "            \n",
    "    # Creating a dataframe of movies with their index values\n",
    "    moviesOnGenreDF = pd.DataFrame(data=moviesOnGenre)\n",
    "    \n",
    "    return moviesOnGenreDF"
   ]
  },
  {
   "cell_type": "code",
   "execution_count": 51,
   "id": "f75f3855-8a2d-48a8-bfb4-64f002c4f19b",
   "metadata": {},
   "outputs": [],
   "source": [
    "def popularityRecomendation(genre, nRecomendations, minReviewThreshold):\n",
    "    \n",
    "    # Prepare the dataset for all the movies of the specified genre, with 'Average Movie Rating' & 'Number of Reviews' per movie\n",
    "    moviesRatingAtGenreDF = pd.merge(findMoviesOnGenre(genre),movieRatings, how = 'left', on = 'Movie Title').drop(columns = [\"Total Ratings\"]).set_index(\"Index\")\n",
    "    \n",
    "    # Get n number of recommendation where no of reviews are more than the threshold value\n",
    "    moviesRatingAtGenreDF = moviesRatingAtGenreDF[moviesRatingAtGenreDF['Num Reviews'] >= minReviewThreshold].nlargest(nRecomendations,'Average Movie Rating')\n",
    "    moviesRatingAtGenreDF.index = np.arange(1,len(moviesRatingAtGenreDF)+1)\n",
    "\n",
    "    return moviesRatingAtGenreDF"
   ]
  },
  {
   "cell_type": "code",
   "execution_count": 52,
   "id": "dd15bf52-287c-408c-9660-816a0116f588",
   "metadata": {},
   "outputs": [
    {
     "data": {
      "text/html": [
       "<div>\n",
       "<style scoped>\n",
       "    .dataframe tbody tr th:only-of-type {\n",
       "        vertical-align: middle;\n",
       "    }\n",
       "\n",
       "    .dataframe tbody tr th {\n",
       "        vertical-align: top;\n",
       "    }\n",
       "\n",
       "    .dataframe thead th {\n",
       "        text-align: right;\n",
       "    }\n",
       "</style>\n",
       "<table border=\"1\" class=\"dataframe\">\n",
       "  <thead>\n",
       "    <tr style=\"text-align: right;\">\n",
       "      <th></th>\n",
       "      <th>Movie Title</th>\n",
       "      <th>Average Movie Rating</th>\n",
       "      <th>Num Reviews</th>\n",
       "    </tr>\n",
       "  </thead>\n",
       "  <tbody>\n",
       "    <tr>\n",
       "      <th>1</th>\n",
       "      <td>Monty Python and the Holy Grail (1975)</td>\n",
       "      <td>4.301948</td>\n",
       "      <td>154.0</td>\n",
       "    </tr>\n",
       "    <tr>\n",
       "      <th>2</th>\n",
       "      <td>Fargo (1996)</td>\n",
       "      <td>4.271144</td>\n",
       "      <td>201.0</td>\n",
       "    </tr>\n",
       "    <tr>\n",
       "      <th>3</th>\n",
       "      <td>Princess Bride, The (1987)</td>\n",
       "      <td>4.163743</td>\n",
       "      <td>171.0</td>\n",
       "    </tr>\n",
       "    <tr>\n",
       "      <th>4</th>\n",
       "      <td>Pulp Fiction (1994)</td>\n",
       "      <td>4.160000</td>\n",
       "      <td>325.0</td>\n",
       "    </tr>\n",
       "    <tr>\n",
       "      <th>5</th>\n",
       "      <td>Forrest Gump (1994)</td>\n",
       "      <td>4.138264</td>\n",
       "      <td>311.0</td>\n",
       "    </tr>\n",
       "  </tbody>\n",
       "</table>\n",
       "</div>"
      ],
      "text/plain": [
       "                              Movie Title  Average Movie Rating  Num Reviews\n",
       "1  Monty Python and the Holy Grail (1975)              4.301948        154.0\n",
       "2                            Fargo (1996)              4.271144        201.0\n",
       "3              Princess Bride, The (1987)              4.163743        171.0\n",
       "4                     Pulp Fiction (1994)              4.160000        325.0\n",
       "5                     Forrest Gump (1994)              4.138264        311.0"
      ]
     },
     "execution_count": 52,
     "metadata": {},
     "output_type": "execute_result"
    }
   ],
   "source": [
    "popularityRecomendation(genre = \"Comedy\", nRecomendations = 5, minReviewThreshold = 100)"
   ]
  },
  {
   "cell_type": "markdown",
   "id": "74360ff4-8b93-40f0-af36-b97076c36764",
   "metadata": {},
   "source": [
    "## Objective 2: Content Based Recommender System\n",
    "\n",
    "Create a content based recommender system which recommends top N movies based on similar movie(m) genres.\n",
    "\n",
    "**Example:**\n",
    "\n",
    "**Input:**\n",
    "\n",
    "\tMovie Title (t): Toy Story\n",
    "\tNum recommendations (N): 5\n",
    "\n",
    "**Output** \n",
    "\n",
    "| Sl.No. | Movie Title |\n",
    "| --- | --- |\n",
    "| 1 | A |\n",
    "| 2 | B |\n",
    "| 3 | C |\n",
    "| 4 | D |\n",
    "| 5 | E |\n",
    "\n",
    "-------"
   ]
  },
  {
   "cell_type": "code",
   "execution_count": 53,
   "id": "8816811e-3fc0-4eb8-a8b3-a67632fe49b7",
   "metadata": {},
   "outputs": [],
   "source": [
    "def contentRecommendation(movieTitle, nRecommendation):\n",
    "    if movieTitle == np.nan:\n",
    "        return pd.Dataframe(data={'title':[]})\n",
    "    movie_index = findMovieIndex(movieTitle)\n",
    "\n",
    "    # Extract all genres \n",
    "    genres = movies['genres']\n",
    "\n",
    "    # Initialize CountVectorizer to convert text data into token counts\n",
    "    cv = CountVectorizer()\n",
    "    genre_matrix = cv.fit_transform(genres)\n",
    "\n",
    "    # Calculate cosine similarity between the input movie and all other movies\n",
    "    sim_scores = cosine_similarity(genre_matrix, genre_matrix[movie_index])\n",
    "\n",
    "    # Enumerate through similarity scores and keep track of movie indices\n",
    "    movie_indices_scores = pd.DataFrame(enumerate(sim_scores),columns = ['index','sim_score'])\n",
    "    movie_indices_scores['sim_score'] = [i[0] for i in movie_indices_scores['sim_score']]\n",
    "\n",
    "    # Create a movie list with sim_score added to the table\n",
    "    moviesList = pd.merge(movies.iloc[movie_indices_scores['index']].reset_index(),movie_indices_scores, how = 'left', on = 'index').set_index('index')\n",
    "    \n",
    "    # Get Top n Recommendation \n",
    "    topNRecommendedMovies = moviesList[moviesList['genres']==moviesList.iloc[movie_index]['genres']].drop(index = movie_index).nlargest(nRecommendation,'sim_score')\n",
    "    topNRecommendedMovies.index = np.arange(1,len(topNRecommendedMovies)+1)\n",
    "    \n",
    "    return topNRecommendedMovies[[\"title\"]]"
   ]
  },
  {
   "cell_type": "code",
   "execution_count": 54,
   "id": "d07650c9-37e9-45d3-a31f-ee20ba8f8878",
   "metadata": {},
   "outputs": [
    {
     "data": {
      "text/html": [
       "<div>\n",
       "<style scoped>\n",
       "    .dataframe tbody tr th:only-of-type {\n",
       "        vertical-align: middle;\n",
       "    }\n",
       "\n",
       "    .dataframe tbody tr th {\n",
       "        vertical-align: top;\n",
       "    }\n",
       "\n",
       "    .dataframe thead th {\n",
       "        text-align: right;\n",
       "    }\n",
       "</style>\n",
       "<table border=\"1\" class=\"dataframe\">\n",
       "  <thead>\n",
       "    <tr style=\"text-align: right;\">\n",
       "      <th></th>\n",
       "      <th>title</th>\n",
       "    </tr>\n",
       "  </thead>\n",
       "  <tbody>\n",
       "    <tr>\n",
       "      <th>1</th>\n",
       "      <td>Antz (1998)</td>\n",
       "    </tr>\n",
       "    <tr>\n",
       "      <th>2</th>\n",
       "      <td>Toy Story 2 (1999)</td>\n",
       "    </tr>\n",
       "    <tr>\n",
       "      <th>3</th>\n",
       "      <td>Adventures of Rocky and Bullwinkle, The (2000)</td>\n",
       "    </tr>\n",
       "    <tr>\n",
       "      <th>4</th>\n",
       "      <td>Emperor's New Groove, The (2000)</td>\n",
       "    </tr>\n",
       "    <tr>\n",
       "      <th>5</th>\n",
       "      <td>Monsters, Inc. (2001)</td>\n",
       "    </tr>\n",
       "  </tbody>\n",
       "</table>\n",
       "</div>"
      ],
      "text/plain": [
       "                                            title\n",
       "1                                     Antz (1998)\n",
       "2                              Toy Story 2 (1999)\n",
       "3  Adventures of Rocky and Bullwinkle, The (2000)\n",
       "4                Emperor's New Groove, The (2000)\n",
       "5                           Monsters, Inc. (2001)"
      ]
     },
     "execution_count": 54,
     "metadata": {},
     "output_type": "execute_result"
    }
   ],
   "source": [
    "contentRecommendation(movieTitle = 'Toy Story (1995)', nRecommendation = 5)"
   ]
  },
  {
   "cell_type": "code",
   "execution_count": 55,
   "id": "c24d47df-e7d5-4026-a4d9-2c6aa84aec77",
   "metadata": {},
   "outputs": [
    {
     "data": {
      "text/html": [
       "<div>\n",
       "<style scoped>\n",
       "    .dataframe tbody tr th:only-of-type {\n",
       "        vertical-align: middle;\n",
       "    }\n",
       "\n",
       "    .dataframe tbody tr th {\n",
       "        vertical-align: top;\n",
       "    }\n",
       "\n",
       "    .dataframe thead th {\n",
       "        text-align: right;\n",
       "    }\n",
       "</style>\n",
       "<table border=\"1\" class=\"dataframe\">\n",
       "  <thead>\n",
       "    <tr style=\"text-align: right;\">\n",
       "      <th></th>\n",
       "      <th>title</th>\n",
       "    </tr>\n",
       "  </thead>\n",
       "  <tbody>\n",
       "    <tr>\n",
       "      <th>1</th>\n",
       "      <td>Toy Story (1995)</td>\n",
       "    </tr>\n",
       "    <tr>\n",
       "      <th>2</th>\n",
       "      <td>Antz (1998)</td>\n",
       "    </tr>\n",
       "    <tr>\n",
       "      <th>3</th>\n",
       "      <td>Toy Story 2 (1999)</td>\n",
       "    </tr>\n",
       "    <tr>\n",
       "      <th>4</th>\n",
       "      <td>Adventures of Rocky and Bullwinkle, The (2000)</td>\n",
       "    </tr>\n",
       "    <tr>\n",
       "      <th>5</th>\n",
       "      <td>Emperor's New Groove, The (2000)</td>\n",
       "    </tr>\n",
       "  </tbody>\n",
       "</table>\n",
       "</div>"
      ],
      "text/plain": [
       "                                            title\n",
       "1                                Toy Story (1995)\n",
       "2                                     Antz (1998)\n",
       "3                              Toy Story 2 (1999)\n",
       "4  Adventures of Rocky and Bullwinkle, The (2000)\n",
       "5                Emperor's New Groove, The (2000)"
      ]
     },
     "execution_count": 55,
     "metadata": {},
     "output_type": "execute_result"
    }
   ],
   "source": [
    "contentRecommendation(movieTitle = 'Monsters, Inc.', nRecommendation = 5)"
   ]
  },
  {
   "cell_type": "markdown",
   "id": "223d5e2c-e34e-4f3c-89c5-c7f3e3d562e3",
   "metadata": {},
   "source": [
    "## Objective 3: Collaborative Based Recommender System\n",
    "\n",
    "Create a collaborative based recommender system which recommends top N\n",
    "movies based on “K” similar users for a target user “u”\n",
    "\n",
    "**Example:**\n",
    "\n",
    "**Input:**\n",
    "\n",
    "\tUserID: 1\n",
    "\tNum recommendations(N) : 5\n",
    "\tThreshold for similar users (k): 100\n",
    "\n",
    " **Output** \n",
    "\n",
    "| Sl.No. | Movie Title |\n",
    "| --- | --- |\n",
    "| 1 | A |\n",
    "| 2 | B |\n",
    "| 3 | C |\n",
    "| 4 | D |\n",
    "| 5 | E |\n",
    "\n",
    "-------"
   ]
  },
  {
   "cell_type": "markdown",
   "id": "b23e5784-3afa-4790-b9ba-b32b697bff33",
   "metadata": {},
   "source": [
    "**Create a pivot table for movieRatingDF**"
   ]
  },
  {
   "cell_type": "code",
   "execution_count": 56,
   "id": "510da25a-c338-4030-ae03-c380b21fd539",
   "metadata": {},
   "outputs": [
    {
     "data": {
      "text/html": [
       "<div>\n",
       "<style scoped>\n",
       "    .dataframe tbody tr th:only-of-type {\n",
       "        vertical-align: middle;\n",
       "    }\n",
       "\n",
       "    .dataframe tbody tr th {\n",
       "        vertical-align: top;\n",
       "    }\n",
       "\n",
       "    .dataframe thead th {\n",
       "        text-align: right;\n",
       "    }\n",
       "</style>\n",
       "<table border=\"1\" class=\"dataframe\">\n",
       "  <thead>\n",
       "    <tr style=\"text-align: right;\">\n",
       "      <th>title</th>\n",
       "      <th>'71 (2014)</th>\n",
       "      <th>'Hellboy': The Seeds of Creation (2004)</th>\n",
       "      <th>'Round Midnight (1986)</th>\n",
       "      <th>'Til There Was You (1997)</th>\n",
       "      <th>'burbs, The (1989)</th>\n",
       "      <th>'night Mother (1986)</th>\n",
       "      <th>(500) Days of Summer (2009)</th>\n",
       "      <th>*batteries not included (1987)</th>\n",
       "      <th>...And Justice for All (1979)</th>\n",
       "      <th>10 (1979)</th>\n",
       "      <th>...</th>\n",
       "      <th>[REC] (2007)</th>\n",
       "      <th>[REC]² (2009)</th>\n",
       "      <th>[REC]³ 3 Génesis (2012)</th>\n",
       "      <th>a/k/a Tommy Chong (2005)</th>\n",
       "      <th>eXistenZ (1999)</th>\n",
       "      <th>loudQUIETloud: A Film About the Pixies (2006)</th>\n",
       "      <th>xXx (2002)</th>\n",
       "      <th>xXx: State of the Union (2005)</th>\n",
       "      <th>¡Three Amigos! (1986)</th>\n",
       "      <th>À nous la liberté (Freedom for Us) (1931)</th>\n",
       "    </tr>\n",
       "    <tr>\n",
       "      <th>userId</th>\n",
       "      <th></th>\n",
       "      <th></th>\n",
       "      <th></th>\n",
       "      <th></th>\n",
       "      <th></th>\n",
       "      <th></th>\n",
       "      <th></th>\n",
       "      <th></th>\n",
       "      <th></th>\n",
       "      <th></th>\n",
       "      <th></th>\n",
       "      <th></th>\n",
       "      <th></th>\n",
       "      <th></th>\n",
       "      <th></th>\n",
       "      <th></th>\n",
       "      <th></th>\n",
       "      <th></th>\n",
       "      <th></th>\n",
       "      <th></th>\n",
       "      <th></th>\n",
       "    </tr>\n",
       "  </thead>\n",
       "  <tbody>\n",
       "    <tr>\n",
       "      <th>1</th>\n",
       "      <td>0.0</td>\n",
       "      <td>0.0</td>\n",
       "      <td>0.0</td>\n",
       "      <td>0.0</td>\n",
       "      <td>0.0</td>\n",
       "      <td>0.0</td>\n",
       "      <td>0.0</td>\n",
       "      <td>0.0</td>\n",
       "      <td>0.0</td>\n",
       "      <td>0.0</td>\n",
       "      <td>...</td>\n",
       "      <td>0.0</td>\n",
       "      <td>0.0</td>\n",
       "      <td>0.0</td>\n",
       "      <td>0.0</td>\n",
       "      <td>0.0</td>\n",
       "      <td>0.0</td>\n",
       "      <td>0.0</td>\n",
       "      <td>0.0</td>\n",
       "      <td>0.0</td>\n",
       "      <td>0.0</td>\n",
       "    </tr>\n",
       "    <tr>\n",
       "      <th>2</th>\n",
       "      <td>0.0</td>\n",
       "      <td>0.0</td>\n",
       "      <td>0.0</td>\n",
       "      <td>0.0</td>\n",
       "      <td>0.0</td>\n",
       "      <td>0.0</td>\n",
       "      <td>0.0</td>\n",
       "      <td>0.0</td>\n",
       "      <td>0.0</td>\n",
       "      <td>0.0</td>\n",
       "      <td>...</td>\n",
       "      <td>0.0</td>\n",
       "      <td>0.0</td>\n",
       "      <td>0.0</td>\n",
       "      <td>0.0</td>\n",
       "      <td>0.0</td>\n",
       "      <td>0.0</td>\n",
       "      <td>0.0</td>\n",
       "      <td>0.0</td>\n",
       "      <td>0.0</td>\n",
       "      <td>0.0</td>\n",
       "    </tr>\n",
       "    <tr>\n",
       "      <th>3</th>\n",
       "      <td>0.0</td>\n",
       "      <td>0.0</td>\n",
       "      <td>0.0</td>\n",
       "      <td>0.0</td>\n",
       "      <td>0.0</td>\n",
       "      <td>0.0</td>\n",
       "      <td>0.0</td>\n",
       "      <td>0.0</td>\n",
       "      <td>0.0</td>\n",
       "      <td>0.0</td>\n",
       "      <td>...</td>\n",
       "      <td>0.0</td>\n",
       "      <td>0.0</td>\n",
       "      <td>0.0</td>\n",
       "      <td>0.0</td>\n",
       "      <td>0.0</td>\n",
       "      <td>0.0</td>\n",
       "      <td>0.0</td>\n",
       "      <td>0.0</td>\n",
       "      <td>0.0</td>\n",
       "      <td>0.0</td>\n",
       "    </tr>\n",
       "    <tr>\n",
       "      <th>4</th>\n",
       "      <td>0.0</td>\n",
       "      <td>0.0</td>\n",
       "      <td>0.0</td>\n",
       "      <td>0.0</td>\n",
       "      <td>0.0</td>\n",
       "      <td>0.0</td>\n",
       "      <td>0.0</td>\n",
       "      <td>0.0</td>\n",
       "      <td>0.0</td>\n",
       "      <td>0.0</td>\n",
       "      <td>...</td>\n",
       "      <td>0.0</td>\n",
       "      <td>0.0</td>\n",
       "      <td>0.0</td>\n",
       "      <td>0.0</td>\n",
       "      <td>0.0</td>\n",
       "      <td>0.0</td>\n",
       "      <td>0.0</td>\n",
       "      <td>0.0</td>\n",
       "      <td>0.0</td>\n",
       "      <td>0.0</td>\n",
       "    </tr>\n",
       "    <tr>\n",
       "      <th>5</th>\n",
       "      <td>0.0</td>\n",
       "      <td>0.0</td>\n",
       "      <td>0.0</td>\n",
       "      <td>0.0</td>\n",
       "      <td>0.0</td>\n",
       "      <td>0.0</td>\n",
       "      <td>0.0</td>\n",
       "      <td>0.0</td>\n",
       "      <td>0.0</td>\n",
       "      <td>0.0</td>\n",
       "      <td>...</td>\n",
       "      <td>0.0</td>\n",
       "      <td>0.0</td>\n",
       "      <td>0.0</td>\n",
       "      <td>0.0</td>\n",
       "      <td>0.0</td>\n",
       "      <td>0.0</td>\n",
       "      <td>0.0</td>\n",
       "      <td>0.0</td>\n",
       "      <td>0.0</td>\n",
       "      <td>0.0</td>\n",
       "    </tr>\n",
       "    <tr>\n",
       "      <th>...</th>\n",
       "      <td>...</td>\n",
       "      <td>...</td>\n",
       "      <td>...</td>\n",
       "      <td>...</td>\n",
       "      <td>...</td>\n",
       "      <td>...</td>\n",
       "      <td>...</td>\n",
       "      <td>...</td>\n",
       "      <td>...</td>\n",
       "      <td>...</td>\n",
       "      <td>...</td>\n",
       "      <td>...</td>\n",
       "      <td>...</td>\n",
       "      <td>...</td>\n",
       "      <td>...</td>\n",
       "      <td>...</td>\n",
       "      <td>...</td>\n",
       "      <td>...</td>\n",
       "      <td>...</td>\n",
       "      <td>...</td>\n",
       "      <td>...</td>\n",
       "    </tr>\n",
       "    <tr>\n",
       "      <th>664</th>\n",
       "      <td>0.0</td>\n",
       "      <td>0.0</td>\n",
       "      <td>0.0</td>\n",
       "      <td>0.0</td>\n",
       "      <td>0.0</td>\n",
       "      <td>0.0</td>\n",
       "      <td>0.0</td>\n",
       "      <td>0.0</td>\n",
       "      <td>0.0</td>\n",
       "      <td>0.0</td>\n",
       "      <td>...</td>\n",
       "      <td>0.0</td>\n",
       "      <td>0.0</td>\n",
       "      <td>0.0</td>\n",
       "      <td>0.0</td>\n",
       "      <td>0.0</td>\n",
       "      <td>0.0</td>\n",
       "      <td>0.0</td>\n",
       "      <td>0.0</td>\n",
       "      <td>0.0</td>\n",
       "      <td>0.0</td>\n",
       "    </tr>\n",
       "    <tr>\n",
       "      <th>665</th>\n",
       "      <td>0.0</td>\n",
       "      <td>0.0</td>\n",
       "      <td>0.0</td>\n",
       "      <td>0.0</td>\n",
       "      <td>0.0</td>\n",
       "      <td>0.0</td>\n",
       "      <td>0.0</td>\n",
       "      <td>0.0</td>\n",
       "      <td>0.0</td>\n",
       "      <td>0.0</td>\n",
       "      <td>...</td>\n",
       "      <td>0.0</td>\n",
       "      <td>0.0</td>\n",
       "      <td>0.0</td>\n",
       "      <td>0.0</td>\n",
       "      <td>0.0</td>\n",
       "      <td>0.0</td>\n",
       "      <td>0.0</td>\n",
       "      <td>0.0</td>\n",
       "      <td>0.0</td>\n",
       "      <td>0.0</td>\n",
       "    </tr>\n",
       "    <tr>\n",
       "      <th>666</th>\n",
       "      <td>0.0</td>\n",
       "      <td>0.0</td>\n",
       "      <td>0.0</td>\n",
       "      <td>0.0</td>\n",
       "      <td>0.0</td>\n",
       "      <td>0.0</td>\n",
       "      <td>0.0</td>\n",
       "      <td>0.0</td>\n",
       "      <td>0.0</td>\n",
       "      <td>0.0</td>\n",
       "      <td>...</td>\n",
       "      <td>0.0</td>\n",
       "      <td>0.0</td>\n",
       "      <td>0.0</td>\n",
       "      <td>0.0</td>\n",
       "      <td>5.0</td>\n",
       "      <td>0.0</td>\n",
       "      <td>0.0</td>\n",
       "      <td>0.0</td>\n",
       "      <td>0.0</td>\n",
       "      <td>0.0</td>\n",
       "    </tr>\n",
       "    <tr>\n",
       "      <th>667</th>\n",
       "      <td>0.0</td>\n",
       "      <td>0.0</td>\n",
       "      <td>0.0</td>\n",
       "      <td>0.0</td>\n",
       "      <td>0.0</td>\n",
       "      <td>0.0</td>\n",
       "      <td>0.0</td>\n",
       "      <td>0.0</td>\n",
       "      <td>0.0</td>\n",
       "      <td>0.0</td>\n",
       "      <td>...</td>\n",
       "      <td>0.0</td>\n",
       "      <td>0.0</td>\n",
       "      <td>0.0</td>\n",
       "      <td>0.0</td>\n",
       "      <td>0.0</td>\n",
       "      <td>0.0</td>\n",
       "      <td>0.0</td>\n",
       "      <td>0.0</td>\n",
       "      <td>0.0</td>\n",
       "      <td>0.0</td>\n",
       "    </tr>\n",
       "    <tr>\n",
       "      <th>668</th>\n",
       "      <td>0.0</td>\n",
       "      <td>0.0</td>\n",
       "      <td>2.5</td>\n",
       "      <td>0.0</td>\n",
       "      <td>0.0</td>\n",
       "      <td>0.0</td>\n",
       "      <td>2.0</td>\n",
       "      <td>0.0</td>\n",
       "      <td>3.0</td>\n",
       "      <td>2.5</td>\n",
       "      <td>...</td>\n",
       "      <td>0.0</td>\n",
       "      <td>1.5</td>\n",
       "      <td>0.5</td>\n",
       "      <td>0.0</td>\n",
       "      <td>2.0</td>\n",
       "      <td>0.0</td>\n",
       "      <td>3.5</td>\n",
       "      <td>0.0</td>\n",
       "      <td>2.0</td>\n",
       "      <td>3.0</td>\n",
       "    </tr>\n",
       "  </tbody>\n",
       "</table>\n",
       "<p>668 rows × 10323 columns</p>\n",
       "</div>"
      ],
      "text/plain": [
       "title   '71 (2014)  'Hellboy': The Seeds of Creation (2004)  \\\n",
       "userId                                                        \n",
       "1              0.0                                      0.0   \n",
       "2              0.0                                      0.0   \n",
       "3              0.0                                      0.0   \n",
       "4              0.0                                      0.0   \n",
       "5              0.0                                      0.0   \n",
       "...            ...                                      ...   \n",
       "664            0.0                                      0.0   \n",
       "665            0.0                                      0.0   \n",
       "666            0.0                                      0.0   \n",
       "667            0.0                                      0.0   \n",
       "668            0.0                                      0.0   \n",
       "\n",
       "title   'Round Midnight (1986)  'Til There Was You (1997)  'burbs, The (1989)  \\\n",
       "userId                                                                          \n",
       "1                          0.0                        0.0                 0.0   \n",
       "2                          0.0                        0.0                 0.0   \n",
       "3                          0.0                        0.0                 0.0   \n",
       "4                          0.0                        0.0                 0.0   \n",
       "5                          0.0                        0.0                 0.0   \n",
       "...                        ...                        ...                 ...   \n",
       "664                        0.0                        0.0                 0.0   \n",
       "665                        0.0                        0.0                 0.0   \n",
       "666                        0.0                        0.0                 0.0   \n",
       "667                        0.0                        0.0                 0.0   \n",
       "668                        2.5                        0.0                 0.0   \n",
       "\n",
       "title   'night Mother (1986)  (500) Days of Summer (2009)  \\\n",
       "userId                                                      \n",
       "1                        0.0                          0.0   \n",
       "2                        0.0                          0.0   \n",
       "3                        0.0                          0.0   \n",
       "4                        0.0                          0.0   \n",
       "5                        0.0                          0.0   \n",
       "...                      ...                          ...   \n",
       "664                      0.0                          0.0   \n",
       "665                      0.0                          0.0   \n",
       "666                      0.0                          0.0   \n",
       "667                      0.0                          0.0   \n",
       "668                      0.0                          2.0   \n",
       "\n",
       "title   *batteries not included (1987)  ...And Justice for All (1979)  \\\n",
       "userId                                                                  \n",
       "1                                  0.0                            0.0   \n",
       "2                                  0.0                            0.0   \n",
       "3                                  0.0                            0.0   \n",
       "4                                  0.0                            0.0   \n",
       "5                                  0.0                            0.0   \n",
       "...                                ...                            ...   \n",
       "664                                0.0                            0.0   \n",
       "665                                0.0                            0.0   \n",
       "666                                0.0                            0.0   \n",
       "667                                0.0                            0.0   \n",
       "668                                0.0                            3.0   \n",
       "\n",
       "title   10 (1979)  ...  [REC] (2007)  [REC]² (2009)  [REC]³ 3 Génesis (2012)  \\\n",
       "userId             ...                                                         \n",
       "1             0.0  ...           0.0            0.0                      0.0   \n",
       "2             0.0  ...           0.0            0.0                      0.0   \n",
       "3             0.0  ...           0.0            0.0                      0.0   \n",
       "4             0.0  ...           0.0            0.0                      0.0   \n",
       "5             0.0  ...           0.0            0.0                      0.0   \n",
       "...           ...  ...           ...            ...                      ...   \n",
       "664           0.0  ...           0.0            0.0                      0.0   \n",
       "665           0.0  ...           0.0            0.0                      0.0   \n",
       "666           0.0  ...           0.0            0.0                      0.0   \n",
       "667           0.0  ...           0.0            0.0                      0.0   \n",
       "668           2.5  ...           0.0            1.5                      0.5   \n",
       "\n",
       "title   a/k/a Tommy Chong (2005)  eXistenZ (1999)  \\\n",
       "userId                                              \n",
       "1                            0.0              0.0   \n",
       "2                            0.0              0.0   \n",
       "3                            0.0              0.0   \n",
       "4                            0.0              0.0   \n",
       "5                            0.0              0.0   \n",
       "...                          ...              ...   \n",
       "664                          0.0              0.0   \n",
       "665                          0.0              0.0   \n",
       "666                          0.0              5.0   \n",
       "667                          0.0              0.0   \n",
       "668                          0.0              2.0   \n",
       "\n",
       "title   loudQUIETloud: A Film About the Pixies (2006)  xXx (2002)  \\\n",
       "userId                                                              \n",
       "1                                                 0.0         0.0   \n",
       "2                                                 0.0         0.0   \n",
       "3                                                 0.0         0.0   \n",
       "4                                                 0.0         0.0   \n",
       "5                                                 0.0         0.0   \n",
       "...                                               ...         ...   \n",
       "664                                               0.0         0.0   \n",
       "665                                               0.0         0.0   \n",
       "666                                               0.0         0.0   \n",
       "667                                               0.0         0.0   \n",
       "668                                               0.0         3.5   \n",
       "\n",
       "title   xXx: State of the Union (2005)  ¡Three Amigos! (1986)  \\\n",
       "userId                                                          \n",
       "1                                  0.0                    0.0   \n",
       "2                                  0.0                    0.0   \n",
       "3                                  0.0                    0.0   \n",
       "4                                  0.0                    0.0   \n",
       "5                                  0.0                    0.0   \n",
       "...                                ...                    ...   \n",
       "664                                0.0                    0.0   \n",
       "665                                0.0                    0.0   \n",
       "666                                0.0                    0.0   \n",
       "667                                0.0                    0.0   \n",
       "668                                0.0                    2.0   \n",
       "\n",
       "title   À nous la liberté (Freedom for Us) (1931)  \n",
       "userId                                             \n",
       "1                                             0.0  \n",
       "2                                             0.0  \n",
       "3                                             0.0  \n",
       "4                                             0.0  \n",
       "5                                             0.0  \n",
       "...                                           ...  \n",
       "664                                           0.0  \n",
       "665                                           0.0  \n",
       "666                                           0.0  \n",
       "667                                           0.0  \n",
       "668                                           3.0  \n",
       "\n",
       "[668 rows x 10323 columns]"
      ]
     },
     "execution_count": 56,
     "metadata": {},
     "output_type": "execute_result"
    }
   ],
   "source": [
    "pivot_movie = moviesRatingDF.pivot_table(index ='userId',columns ='title', values ='rating') .fillna(0)\n",
    "pivot_movie"
   ]
  },
  {
   "cell_type": "code",
   "execution_count": 57,
   "id": "ff1c82c9-0e2a-4760-9905-f9cc94988d4c",
   "metadata": {},
   "outputs": [
    {
     "data": {
      "text/html": [
       "<style>#sk-container-id-1 {color: black;}#sk-container-id-1 pre{padding: 0;}#sk-container-id-1 div.sk-toggleable {background-color: white;}#sk-container-id-1 label.sk-toggleable__label {cursor: pointer;display: block;width: 100%;margin-bottom: 0;padding: 0.3em;box-sizing: border-box;text-align: center;}#sk-container-id-1 label.sk-toggleable__label-arrow:before {content: \"▸\";float: left;margin-right: 0.25em;color: #696969;}#sk-container-id-1 label.sk-toggleable__label-arrow:hover:before {color: black;}#sk-container-id-1 div.sk-estimator:hover label.sk-toggleable__label-arrow:before {color: black;}#sk-container-id-1 div.sk-toggleable__content {max-height: 0;max-width: 0;overflow: hidden;text-align: left;background-color: #f0f8ff;}#sk-container-id-1 div.sk-toggleable__content pre {margin: 0.2em;color: black;border-radius: 0.25em;background-color: #f0f8ff;}#sk-container-id-1 input.sk-toggleable__control:checked~div.sk-toggleable__content {max-height: 200px;max-width: 100%;overflow: auto;}#sk-container-id-1 input.sk-toggleable__control:checked~label.sk-toggleable__label-arrow:before {content: \"▾\";}#sk-container-id-1 div.sk-estimator input.sk-toggleable__control:checked~label.sk-toggleable__label {background-color: #d4ebff;}#sk-container-id-1 div.sk-label input.sk-toggleable__control:checked~label.sk-toggleable__label {background-color: #d4ebff;}#sk-container-id-1 input.sk-hidden--visually {border: 0;clip: rect(1px 1px 1px 1px);clip: rect(1px, 1px, 1px, 1px);height: 1px;margin: -1px;overflow: hidden;padding: 0;position: absolute;width: 1px;}#sk-container-id-1 div.sk-estimator {font-family: monospace;background-color: #f0f8ff;border: 1px dotted black;border-radius: 0.25em;box-sizing: border-box;margin-bottom: 0.5em;}#sk-container-id-1 div.sk-estimator:hover {background-color: #d4ebff;}#sk-container-id-1 div.sk-parallel-item::after {content: \"\";width: 100%;border-bottom: 1px solid gray;flex-grow: 1;}#sk-container-id-1 div.sk-label:hover label.sk-toggleable__label {background-color: #d4ebff;}#sk-container-id-1 div.sk-serial::before {content: \"\";position: absolute;border-left: 1px solid gray;box-sizing: border-box;top: 0;bottom: 0;left: 50%;z-index: 0;}#sk-container-id-1 div.sk-serial {display: flex;flex-direction: column;align-items: center;background-color: white;padding-right: 0.2em;padding-left: 0.2em;position: relative;}#sk-container-id-1 div.sk-item {position: relative;z-index: 1;}#sk-container-id-1 div.sk-parallel {display: flex;align-items: stretch;justify-content: center;background-color: white;position: relative;}#sk-container-id-1 div.sk-item::before, #sk-container-id-1 div.sk-parallel-item::before {content: \"\";position: absolute;border-left: 1px solid gray;box-sizing: border-box;top: 0;bottom: 0;left: 50%;z-index: -1;}#sk-container-id-1 div.sk-parallel-item {display: flex;flex-direction: column;z-index: 1;position: relative;background-color: white;}#sk-container-id-1 div.sk-parallel-item:first-child::after {align-self: flex-end;width: 50%;}#sk-container-id-1 div.sk-parallel-item:last-child::after {align-self: flex-start;width: 50%;}#sk-container-id-1 div.sk-parallel-item:only-child::after {width: 0;}#sk-container-id-1 div.sk-dashed-wrapped {border: 1px dashed gray;margin: 0 0.4em 0.5em 0.4em;box-sizing: border-box;padding-bottom: 0.4em;background-color: white;}#sk-container-id-1 div.sk-label label {font-family: monospace;font-weight: bold;display: inline-block;line-height: 1.2em;}#sk-container-id-1 div.sk-label-container {text-align: center;}#sk-container-id-1 div.sk-container {/* jupyter's `normalize.less` sets `[hidden] { display: none; }` but bootstrap.min.css set `[hidden] { display: none !important; }` so we also need the `!important` here to be able to override the default hidden behavior on the sphinx rendered scikit-learn.org. See: https://github.com/scikit-learn/scikit-learn/issues/21755 */display: inline-block !important;position: relative;}#sk-container-id-1 div.sk-text-repr-fallback {display: none;}</style><div id=\"sk-container-id-1\" class=\"sk-top-container\"><div class=\"sk-text-repr-fallback\"><pre>NearestNeighbors(algorithm=&#x27;brute&#x27;, metric=&#x27;cosine&#x27;)</pre><b>In a Jupyter environment, please rerun this cell to show the HTML representation or trust the notebook. <br />On GitHub, the HTML representation is unable to render, please try loading this page with nbviewer.org.</b></div><div class=\"sk-container\" hidden><div class=\"sk-item\"><div class=\"sk-estimator sk-toggleable\"><input class=\"sk-toggleable__control sk-hidden--visually\" id=\"sk-estimator-id-1\" type=\"checkbox\" checked><label for=\"sk-estimator-id-1\" class=\"sk-toggleable__label sk-toggleable__label-arrow\">NearestNeighbors</label><div class=\"sk-toggleable__content\"><pre>NearestNeighbors(algorithm=&#x27;brute&#x27;, metric=&#x27;cosine&#x27;)</pre></div></div></div></div></div>"
      ],
      "text/plain": [
       "NearestNeighbors(algorithm='brute', metric='cosine')"
      ]
     },
     "execution_count": 57,
     "metadata": {},
     "output_type": "execute_result"
    }
   ],
   "source": [
    "knn_model = NearestNeighbors(metric = 'cosine', algorithm = 'brute')\n",
    "knn_model.fit(pivot_movie)"
   ]
  },
  {
   "cell_type": "code",
   "execution_count": 58,
   "id": "3bac329f-dc89-4851-819b-c7fcc9654533",
   "metadata": {},
   "outputs": [],
   "source": [
    "def collaborativeRecommendation(userId, nRecommendations, kSim_users):\n",
    "    # Find the index of the target user\n",
    "    target_user_index = pivot_movie.index.get_loc(userId)\n",
    "\n",
    "    # Setting nNeighbour default to kSim_users\n",
    "    nNeighbour = kSim_users\n",
    "\n",
    "    #  Modify nNeighbour to odd for all scenarios\n",
    "    if kSim_users % 2 == 0:\n",
    "        nNeighbour = kSim_users+1\n",
    "\n",
    "    # Use kneighbors to find K similar users\n",
    "    _, similarUserIndices = knn_model.kneighbors(pivot_movie.iloc[target_user_index].values.reshape(1, -1), n_neighbors=nNeighbour)\n",
    "\n",
    "    # Flatten the list of similar users indices\n",
    "    similarUserIndices = similarUserIndices.flatten()\n",
    "\n",
    "    # Get movies already watched by the target user\n",
    "    moviesWatched = pivot_movie.iloc[target_user_index][pivot_movie.iloc[target_user_index] > 0].index.tolist()\n",
    "\n",
    "    # Create a list of movies recommended by similar users, which specified user is yet to watch\n",
    "    moviesRecommended = []\n",
    "    for similarUserIndex in similarUserIndices:\n",
    "        similarUserMovies = pivot_movie.iloc[similarUserIndex][pivot_movie.iloc[similarUserIndex] > 0].index.tolist()\n",
    "        moviesRecommended.extend([movie for movie in similarUserMovies if movie not in moviesWatched])\n",
    "\n",
    "    # Get top N recommendations based on similar user watched list\n",
    "    moviesRecommended = list(set(moviesRecommended))[:nRecommendations]\n",
    "\n",
    "    # Create movieRecommended Dataset\n",
    "    moviesRecommendedDF = pd.DataFrame(data = {'title': moviesRecommended}, index = np.arange(1,len(moviesRecommended)+1))\n",
    "\n",
    "    return moviesRecommendedDF"
   ]
  },
  {
   "cell_type": "code",
   "execution_count": 59,
   "id": "b3e7b91f-dc80-492a-815d-286dc9c2ef3a",
   "metadata": {},
   "outputs": [
    {
     "data": {
      "text/html": [
       "<div>\n",
       "<style scoped>\n",
       "    .dataframe tbody tr th:only-of-type {\n",
       "        vertical-align: middle;\n",
       "    }\n",
       "\n",
       "    .dataframe tbody tr th {\n",
       "        vertical-align: top;\n",
       "    }\n",
       "\n",
       "    .dataframe thead th {\n",
       "        text-align: right;\n",
       "    }\n",
       "</style>\n",
       "<table border=\"1\" class=\"dataframe\">\n",
       "  <thead>\n",
       "    <tr style=\"text-align: right;\">\n",
       "      <th></th>\n",
       "      <th>title</th>\n",
       "    </tr>\n",
       "  </thead>\n",
       "  <tbody>\n",
       "    <tr>\n",
       "      <th>1</th>\n",
       "      <td>40-Year-Old Virgin, The (2005)</td>\n",
       "    </tr>\n",
       "    <tr>\n",
       "      <th>2</th>\n",
       "      <td>Sandlot, The (1993)</td>\n",
       "    </tr>\n",
       "    <tr>\n",
       "      <th>3</th>\n",
       "      <td>Thomas Crown Affair, The (1968)</td>\n",
       "    </tr>\n",
       "    <tr>\n",
       "      <th>4</th>\n",
       "      <td>Fly, The (1958)</td>\n",
       "    </tr>\n",
       "    <tr>\n",
       "      <th>5</th>\n",
       "      <td>Last Supper, The (1995)</td>\n",
       "    </tr>\n",
       "  </tbody>\n",
       "</table>\n",
       "</div>"
      ],
      "text/plain": [
       "                             title\n",
       "1   40-Year-Old Virgin, The (2005)\n",
       "2              Sandlot, The (1993)\n",
       "3  Thomas Crown Affair, The (1968)\n",
       "4                  Fly, The (1958)\n",
       "5          Last Supper, The (1995)"
      ]
     },
     "execution_count": 59,
     "metadata": {},
     "output_type": "execute_result"
    }
   ],
   "source": [
    "user_id_input = 1\n",
    "num_recommendations_input = 5\n",
    "k_input = 100\n",
    "collaborativeRecommendation(userId=user_id_input, nRecommendations=num_recommendations_input, kSim_users=k_input)"
   ]
  },
  {
   "cell_type": "markdown",
   "id": "5aabef61-5e40-4725-966c-a1c5707c23bf",
   "metadata": {},
   "source": [
    "## Prepare movie recommendation widgets using ipywidgets library "
   ]
  },
  {
   "cell_type": "markdown",
   "id": "876e42f6-0fbf-4091-8b92-0779d478985a",
   "metadata": {},
   "source": [
    "### 1. Popularity Based Movie Recommender"
   ]
  },
  {
   "cell_type": "code",
   "execution_count": 60,
   "id": "430dc6dd-5f8d-48c7-9ece-d92c67acb0fd",
   "metadata": {},
   "outputs": [
    {
     "name": "stdout",
     "output_type": "stream",
     "text": [
      "Search out of the following genres:\n",
      " ['Adventure', 'Animation', 'Children', 'Comedy', 'Fantasy', 'Romance', 'Drama', 'Action', 'Crime', 'Thriller', 'Horror', 'Mystery', 'Sci-Fi', 'IMAX', 'War', 'Musical', 'Documentary', 'Western', 'Film-Noir']\n",
      "---------------------------------------------------------------------------------------------------------------------------------------\n"
     ]
    },
    {
     "data": {
      "application/vnd.jupyter.widget-view+json": {
       "model_id": "fa016de285bd4489a297e9a580816d20",
       "version_major": 2,
       "version_minor": 0
      },
      "text/plain": [
       "Text(value='', description='Genre (g):')"
      ]
     },
     "metadata": {},
     "output_type": "display_data"
    },
    {
     "data": {
      "application/vnd.jupyter.widget-view+json": {
       "model_id": "9564c83316b74aa0a257605df1366459",
       "version_major": 2,
       "version_minor": 0
      },
      "text/plain": [
       "Label(value='Minimum reviews threshold (t):')"
      ]
     },
     "metadata": {},
     "output_type": "display_data"
    },
    {
     "data": {
      "application/vnd.jupyter.widget-view+json": {
       "model_id": "c7c3932f37c243d2aa3a431092aa190a",
       "version_major": 2,
       "version_minor": 0
      },
      "text/plain": [
       "IntSlider(value=100, max=325, min=1)"
      ]
     },
     "metadata": {},
     "output_type": "display_data"
    },
    {
     "data": {
      "application/vnd.jupyter.widget-view+json": {
       "model_id": "8a7aded6871744c1ac2b41b8af3ca17a",
       "version_major": 2,
       "version_minor": 0
      },
      "text/plain": [
       "Label(value='Num recommendations (N):')"
      ]
     },
     "metadata": {},
     "output_type": "display_data"
    },
    {
     "data": {
      "application/vnd.jupyter.widget-view+json": {
       "model_id": "abb60127353048f090c55646f6c0d07e",
       "version_major": 2,
       "version_minor": 0
      },
      "text/plain": [
       "IntSlider(value=5, max=30, min=1)"
      ]
     },
     "metadata": {},
     "output_type": "display_data"
    },
    {
     "data": {
      "application/vnd.jupyter.widget-view+json": {
       "model_id": "9437c6387a2a4468aeef00e655838cf3",
       "version_major": 2,
       "version_minor": 0
      },
      "text/plain": [
       "Button(description='Recommend Movies', style=ButtonStyle())"
      ]
     },
     "metadata": {},
     "output_type": "display_data"
    },
    {
     "data": {
      "application/vnd.jupyter.widget-view+json": {
       "model_id": "3c1fae91be594af5af79b7ce5e663c32",
       "version_major": 2,
       "version_minor": 0
      },
      "text/plain": [
       "Output(layout=Layout(border_bottom='1px solid black', border_left='1px solid black', border_right='1px solid b…"
      ]
     },
     "metadata": {},
     "output_type": "display_data"
    }
   ],
   "source": [
    "# Creating widgets for Popularity Recommender\n",
    "movieGenre_input = wdg.Text(description='Genre (g):')\n",
    "reviewThreshold = wdg.Label(\"Minimum reviews threshold (t):\")\n",
    "reviewThreshold_input = wdg.IntSlider(min = 1, max = 325, value = 100)\n",
    "nRec = wdg.Label(\"Num recommendations (N):\")\n",
    "nRecomendations_input = wdg.IntSlider(min = 1, max = 30, value = 5)\n",
    "btn = wdg.Button(description = \"Recommend Movies\")\n",
    "out = wdg.Output(layout={'border': '1px solid black'})\n",
    "print(\"Search out of the following genres:\\n\", genres[:-1])\n",
    "print(\"---------------------------\"*5)\n",
    "display(movieGenre_input,reviewThreshold,reviewThreshold_input,nRec,nRecomendations_input,btn)\n",
    "\n",
    "def popularityRecommender(b):\n",
    "    out.clear_output()\n",
    "    df = popularityRecomendation(genre = movieGenre_input.value, \n",
    "                                 nRecomendations = nRecomendations_input.value, \n",
    "                                 minReviewThreshold = reviewThreshold_input.value)\n",
    "    with out:\n",
    "        if len(df) != 0:\n",
    "            display(df)\n",
    "        else:\n",
    "            display(\"No movies found to recommend.\")\n",
    "\n",
    "btn.on_click(popularityRecommender)\n",
    "display(out)\n"
   ]
  },
  {
   "cell_type": "markdown",
   "id": "20bc1606-0a4b-4136-ac05-12f3e4dc9ef1",
   "metadata": {},
   "source": [
    "### 2. Content Based Movie Recommender"
   ]
  },
  {
   "cell_type": "code",
   "execution_count": 61,
   "id": "cf5f8958-a143-4322-b7cc-77c2f2611eee",
   "metadata": {},
   "outputs": [
    {
     "data": {
      "application/vnd.jupyter.widget-view+json": {
       "model_id": "d3f6ad9967a5439fbd1ac35a8fd1ffee",
       "version_major": 2,
       "version_minor": 0
      },
      "text/plain": [
       "Text(value='', description='Movie Title (t):')"
      ]
     },
     "metadata": {},
     "output_type": "display_data"
    },
    {
     "data": {
      "application/vnd.jupyter.widget-view+json": {
       "model_id": "2b303468953b414fb245427aa7e12748",
       "version_major": 2,
       "version_minor": 0
      },
      "text/plain": [
       "Label(value='Num recommendations (N):')"
      ]
     },
     "metadata": {},
     "output_type": "display_data"
    },
    {
     "data": {
      "application/vnd.jupyter.widget-view+json": {
       "model_id": "6414a98cf873490fa5aa31b0554e7b2d",
       "version_major": 2,
       "version_minor": 0
      },
      "text/plain": [
       "IntSlider(value=5, max=30, min=1)"
      ]
     },
     "metadata": {},
     "output_type": "display_data"
    },
    {
     "data": {
      "application/vnd.jupyter.widget-view+json": {
       "model_id": "076d88b5621841019ebeb8b5ac54d9af",
       "version_major": 2,
       "version_minor": 0
      },
      "text/plain": [
       "Button(description='Recommend Movies', style=ButtonStyle())"
      ]
     },
     "metadata": {},
     "output_type": "display_data"
    },
    {
     "data": {
      "application/vnd.jupyter.widget-view+json": {
       "model_id": "3035be48d77d4047bf489100b93f35bc",
       "version_major": 2,
       "version_minor": 0
      },
      "text/plain": [
       "Output(layout=Layout(border_bottom='1px solid black', border_left='1px solid black', border_right='1px solid b…"
      ]
     },
     "metadata": {},
     "output_type": "display_data"
    }
   ],
   "source": [
    "# Creating widgets for Content Recommender\n",
    "movieTitle_input = wdg.Text(description='Movie Title (t):')\n",
    "recNum = wdg.Label(\"Num recommendations (N):\")\n",
    "nRecomendations_input = wdg.IntSlider(min = 1, max = 30, value = 5)\n",
    "btn = wdg.Button(description = \"Recommend Movies\")\n",
    "out = wdg.Output(layout={'border': '1px solid black'})\n",
    "display(movieTitle_input,recNum,nRecomendations_input,btn)\n",
    "\n",
    "def contentRecommender(b):\n",
    "    out.clear_output()\n",
    "    with out:\n",
    "        if len(movieTitle_input.value)==0:\n",
    "            display(\"No movies found to recommend.\")\n",
    "        else:\n",
    "            try:\n",
    "                df = contentRecommendation(movieTitle = movieTitle_input.value, \n",
    "                               nRecommendation = nRecomendations_input.value)\n",
    "                if len(df) == 0:\n",
    "                    display(\"No movies found to recommend.\")\n",
    "                else:\n",
    "                    display(df)\n",
    "            except(KeyError):\n",
    "                display(\"No movies found to recommend.\")\n",
    "\n",
    "btn.on_click(contentRecommender)\n",
    "display(out)\n"
   ]
  },
  {
   "cell_type": "markdown",
   "id": "3237ecbc-3028-4f77-ade8-1f06ee4070c9",
   "metadata": {},
   "source": [
    "### 3. Collaboration Based Movie Recommender"
   ]
  },
  {
   "cell_type": "code",
   "execution_count": 62,
   "id": "ae971e36-f60c-4d52-9172-e116ae44498d",
   "metadata": {},
   "outputs": [
    {
     "data": {
      "application/vnd.jupyter.widget-view+json": {
       "model_id": "c7a79e700a2b4178ac08c8a641788ddf",
       "version_major": 2,
       "version_minor": 0
      },
      "text/plain": [
       "IntSlider(value=1, description='UserId:', max=668, min=1)"
      ]
     },
     "metadata": {},
     "output_type": "display_data"
    },
    {
     "data": {
      "application/vnd.jupyter.widget-view+json": {
       "model_id": "caace16ef1a543828625c8909483c1da",
       "version_major": 2,
       "version_minor": 0
      },
      "text/plain": [
       "Label(value='Num recommendations (N):')"
      ]
     },
     "metadata": {},
     "output_type": "display_data"
    },
    {
     "data": {
      "application/vnd.jupyter.widget-view+json": {
       "model_id": "7688310bbd0647bfb3ab1f5791e2cc37",
       "version_major": 2,
       "version_minor": 0
      },
      "text/plain": [
       "IntSlider(value=5, max=30, min=1)"
      ]
     },
     "metadata": {},
     "output_type": "display_data"
    },
    {
     "data": {
      "application/vnd.jupyter.widget-view+json": {
       "model_id": "7c14a82cbef04d4aaa6c2eca5b5115bd",
       "version_major": 2,
       "version_minor": 0
      },
      "text/plain": [
       "Label(value='Threshold for similar users (k):')"
      ]
     },
     "metadata": {},
     "output_type": "display_data"
    },
    {
     "data": {
      "application/vnd.jupyter.widget-view+json": {
       "model_id": "c6c0b0e6c18a4a6a8b4d8388edbdfe83",
       "version_major": 2,
       "version_minor": 0
      },
      "text/plain": [
       "IntSlider(value=100, max=668, min=50)"
      ]
     },
     "metadata": {},
     "output_type": "display_data"
    },
    {
     "data": {
      "application/vnd.jupyter.widget-view+json": {
       "model_id": "41e1f48dd30b4484b25c715bd7515ce5",
       "version_major": 2,
       "version_minor": 0
      },
      "text/plain": [
       "Button(description='Recommend Movies', style=ButtonStyle())"
      ]
     },
     "metadata": {},
     "output_type": "display_data"
    },
    {
     "data": {
      "application/vnd.jupyter.widget-view+json": {
       "model_id": "6a4e753780724452a31281b34577b3a2",
       "version_major": 2,
       "version_minor": 0
      },
      "text/plain": [
       "Output(layout=Layout(border_bottom='1px solid black', border_left='1px solid black', border_right='1px solid b…"
      ]
     },
     "metadata": {},
     "output_type": "display_data"
    }
   ],
   "source": [
    "# Creating widgets for Collaboration Recommender\n",
    "user_id_input = wdg.IntSlider(min = 1, max = 668, value = 1, description ='UserId:')\n",
    "l1 = wdg.Label(\"Num recommendations (N):\")\n",
    "num_recommendations_input = wdg.IntSlider(min = 1, max = 30, value = 5)\n",
    "l2 = wdg.Label(\"Threshold for similar users (k):\")\n",
    "k_input = wdg.IntSlider(min = 50, max = 668, value = 100)\n",
    "btn = wdg.Button(description = \"Recommend Movies\")\n",
    "out = wdg.Output(layout={'border': '1px solid black'})\n",
    "display(user_id_input,l1,num_recommendations_input,l2,k_input,btn)\n",
    "\n",
    "def collaborativeRecommeder(b):\n",
    "    out.clear_output()\n",
    "    df = collaborativeRecommendation(userId = user_id_input.value, \n",
    "                                     nRecommendations = num_recommendations_input.value, \n",
    "                                     kSim_users=k_input.value)\n",
    "    with out:\n",
    "        if len(df) != 0:\n",
    "            display(df)\n",
    "        else:\n",
    "            print(\"No movies found to recommend.\")\n",
    "\n",
    "btn.on_click(collaborativeRecommeder)\n",
    "display(out)\n"
   ]
  },
  {
   "cell_type": "code",
   "execution_count": null,
   "id": "7fba54ce-6707-4319-9144-7dd40085eae6",
   "metadata": {},
   "outputs": [],
   "source": []
  }
 ],
 "metadata": {
  "kernelspec": {
   "display_name": "Python 3 (ipykernel)",
   "language": "python",
   "name": "python3"
  },
  "language_info": {
   "codemirror_mode": {
    "name": "ipython",
    "version": 3
   },
   "file_extension": ".py",
   "mimetype": "text/x-python",
   "name": "python",
   "nbconvert_exporter": "python",
   "pygments_lexer": "ipython3",
   "version": "3.11.5"
  },
  "widgets": {
   "application/vnd.jupyter.widget-state+json": {
    "state": {
     "04b338907de746bcb69a764c4af265da": {
      "model_module": "@jupyter-widgets/base",
      "model_module_version": "2.0.0",
      "model_name": "LayoutModel",
      "state": {}
     },
     "05cdf48cfce345f0bd93632f790d9d67": {
      "model_module": "@jupyter-widgets/base",
      "model_module_version": "2.0.0",
      "model_name": "LayoutModel",
      "state": {}
     },
     "07158ee1aef44c888024917ff1d8481a": {
      "model_module": "@jupyter-widgets/controls",
      "model_module_version": "2.0.0",
      "model_name": "SliderStyleModel",
      "state": {
       "description_width": ""
      }
     },
     "076d88b5621841019ebeb8b5ac54d9af": {
      "model_module": "@jupyter-widgets/controls",
      "model_module_version": "2.0.0",
      "model_name": "ButtonModel",
      "state": {
       "description": "Recommend Movies",
       "layout": "IPY_MODEL_0c38db912ffc45f7be84d8a96b196eea",
       "style": "IPY_MODEL_df25dc953a594bc18f2c58f4b2b5a3a9",
       "tooltip": null
      }
     },
     "0c38db912ffc45f7be84d8a96b196eea": {
      "model_module": "@jupyter-widgets/base",
      "model_module_version": "2.0.0",
      "model_name": "LayoutModel",
      "state": {}
     },
     "215a2c38f0804496b90c7ea9f019f40a": {
      "model_module": "@jupyter-widgets/controls",
      "model_module_version": "2.0.0",
      "model_name": "TextStyleModel",
      "state": {
       "description_width": "",
       "font_size": null,
       "text_color": null
      }
     },
     "26be2299a4c64523bdc96507b39e432b": {
      "model_module": "@jupyter-widgets/base",
      "model_module_version": "2.0.0",
      "model_name": "LayoutModel",
      "state": {}
     },
     "29bec7cf071b4678bb28c123a1d720b5": {
      "model_module": "@jupyter-widgets/base",
      "model_module_version": "2.0.0",
      "model_name": "LayoutModel",
      "state": {
       "border_bottom": "1px solid black",
       "border_left": "1px solid black",
       "border_right": "1px solid black",
       "border_top": "1px solid black"
      }
     },
     "2aaa251ce0c240dcb6df1656064ca24b": {
      "model_module": "@jupyter-widgets/controls",
      "model_module_version": "2.0.0",
      "model_name": "ButtonStyleModel",
      "state": {
       "font_family": null,
       "font_size": null,
       "font_style": null,
       "font_variant": null,
       "font_weight": null,
       "text_color": null,
       "text_decoration": null
      }
     },
     "2b303468953b414fb245427aa7e12748": {
      "model_module": "@jupyter-widgets/controls",
      "model_module_version": "2.0.0",
      "model_name": "LabelModel",
      "state": {
       "layout": "IPY_MODEL_04b338907de746bcb69a764c4af265da",
       "style": "IPY_MODEL_d902d4f0f02d426c8a920a7c956ad276",
       "value": "Num recommendations (N):"
      }
     },
     "2d25ac5980084fecab53784e9670803b": {
      "model_module": "@jupyter-widgets/base",
      "model_module_version": "2.0.0",
      "model_name": "LayoutModel",
      "state": {}
     },
     "3035be48d77d4047bf489100b93f35bc": {
      "model_module": "@jupyter-widgets/output",
      "model_module_version": "1.0.0",
      "model_name": "OutputModel",
      "state": {
       "layout": "IPY_MODEL_87ec046aa2d549f584657e0fdfd2ad0b",
       "outputs": [
        {
         "data": {
          "text/html": "<div>\n<style scoped>\n    .dataframe tbody tr th:only-of-type {\n        vertical-align: middle;\n    }\n\n    .dataframe tbody tr th {\n        vertical-align: top;\n    }\n\n    .dataframe thead th {\n        text-align: right;\n    }\n</style>\n<table border=\"1\" class=\"dataframe\">\n  <thead>\n    <tr style=\"text-align: right;\">\n      <th></th>\n      <th>title</th>\n    </tr>\n  </thead>\n  <tbody>\n    <tr>\n      <th>1</th>\n      <td>Grumpier Old Men (1995)</td>\n    </tr>\n    <tr>\n      <th>2</th>\n      <td>Sabrina (1995)</td>\n    </tr>\n    <tr>\n      <th>3</th>\n      <td>Clueless (1995)</td>\n    </tr>\n    <tr>\n      <th>4</th>\n      <td>Two if by Sea (1996)</td>\n    </tr>\n    <tr>\n      <th>5</th>\n      <td>French Twist (Gazon maudit) (1995)</td>\n    </tr>\n    <tr>\n      <th>6</th>\n      <td>If Lucy Fell (1996)</td>\n    </tr>\n    <tr>\n      <th>7</th>\n      <td>Boomerang (1992)</td>\n    </tr>\n    <tr>\n      <th>8</th>\n      <td>Pie in the Sky (1996)</td>\n    </tr>\n    <tr>\n      <th>9</th>\n      <td>Mallrats (1995)</td>\n    </tr>\n    <tr>\n      <th>10</th>\n      <td>Nine Months (1995)</td>\n    </tr>\n    <tr>\n      <th>11</th>\n      <td>Forget Paris (1995)</td>\n    </tr>\n  </tbody>\n</table>\n</div>",
          "text/plain": "                                 title\n1              Grumpier Old Men (1995)\n2                       Sabrina (1995)\n3                      Clueless (1995)\n4                 Two if by Sea (1996)\n5   French Twist (Gazon maudit) (1995)\n6                  If Lucy Fell (1996)\n7                     Boomerang (1992)\n8                Pie in the Sky (1996)\n9                      Mallrats (1995)\n10                  Nine Months (1995)\n11                 Forget Paris (1995)"
         },
         "metadata": {},
         "output_type": "display_data"
        }
       ]
      }
     },
     "329b0ea9857d4fb899d6129268e4a498": {
      "model_module": "@jupyter-widgets/base",
      "model_module_version": "2.0.0",
      "model_name": "LayoutModel",
      "state": {}
     },
     "358fd3ada8bc4bdf8e6cccf18ef7f7a5": {
      "model_module": "@jupyter-widgets/controls",
      "model_module_version": "2.0.0",
      "model_name": "SliderStyleModel",
      "state": {
       "description_width": ""
      }
     },
     "3c1fae91be594af5af79b7ce5e663c32": {
      "model_module": "@jupyter-widgets/output",
      "model_module_version": "1.0.0",
      "model_name": "OutputModel",
      "state": {
       "layout": "IPY_MODEL_b04351ee065c4625aee817276164c99c",
       "outputs": [
        {
         "data": {
          "text/html": "<div>\n<style scoped>\n    .dataframe tbody tr th:only-of-type {\n        vertical-align: middle;\n    }\n\n    .dataframe tbody tr th {\n        vertical-align: top;\n    }\n\n    .dataframe thead th {\n        text-align: right;\n    }\n</style>\n<table border=\"1\" class=\"dataframe\">\n  <thead>\n    <tr style=\"text-align: right;\">\n      <th></th>\n      <th>Movie Title</th>\n      <th>Average Movie Rating</th>\n      <th>Num Reviews</th>\n    </tr>\n  </thead>\n  <tbody>\n    <tr>\n      <th>1</th>\n      <td>Casablanca (1942)</td>\n      <td>4.236000</td>\n      <td>125</td>\n    </tr>\n    <tr>\n      <th>2</th>\n      <td>Good Will Hunting (1997)</td>\n      <td>4.167857</td>\n      <td>140</td>\n    </tr>\n    <tr>\n      <th>3</th>\n      <td>Princess Bride, The (1987)</td>\n      <td>4.163743</td>\n      <td>171</td>\n    </tr>\n    <tr>\n      <th>4</th>\n      <td>American Beauty (1999)</td>\n      <td>4.157407</td>\n      <td>216</td>\n    </tr>\n    <tr>\n      <th>5</th>\n      <td>Forrest Gump (1994)</td>\n      <td>4.138264</td>\n      <td>311</td>\n    </tr>\n    <tr>\n      <th>6</th>\n      <td>Amelie (Fabuleux destin d'Amélie Poulain, Le) ...</td>\n      <td>4.075630</td>\n      <td>119</td>\n    </tr>\n    <tr>\n      <th>7</th>\n      <td>Groundhog Day (1993)</td>\n      <td>3.955414</td>\n      <td>157</td>\n    </tr>\n    <tr>\n      <th>8</th>\n      <td>Shrek (2001)</td>\n      <td>3.756329</td>\n      <td>158</td>\n    </tr>\n    <tr>\n      <th>9</th>\n      <td>Jerry Maguire (1996)</td>\n      <td>3.721774</td>\n      <td>124</td>\n    </tr>\n    <tr>\n      <th>10</th>\n      <td>Four Weddings and a Funeral (1994)</td>\n      <td>3.632000</td>\n      <td>125</td>\n    </tr>\n    <tr>\n      <th>11</th>\n      <td>True Lies (1994)</td>\n      <td>3.578804</td>\n      <td>184</td>\n    </tr>\n  </tbody>\n</table>\n</div>",
          "text/plain": "                                          Movie Title  Average Movie Rating  \\\n1                                   Casablanca (1942)              4.236000   \n2                            Good Will Hunting (1997)              4.167857   \n3                          Princess Bride, The (1987)              4.163743   \n4                              American Beauty (1999)              4.157407   \n5                                 Forrest Gump (1994)              4.138264   \n6   Amelie (Fabuleux destin d'Amélie Poulain, Le) ...              4.075630   \n7                                Groundhog Day (1993)              3.955414   \n8                                        Shrek (2001)              3.756329   \n9                                Jerry Maguire (1996)              3.721774   \n10                 Four Weddings and a Funeral (1994)              3.632000   \n11                                   True Lies (1994)              3.578804   \n\n    Num Reviews  \n1           125  \n2           140  \n3           171  \n4           216  \n5           311  \n6           119  \n7           157  \n8           158  \n9           124  \n10          125  \n11          184  "
         },
         "metadata": {},
         "output_type": "display_data"
        }
       ]
      }
     },
     "3d6558af47a849f99f3c350d360994d4": {
      "model_module": "@jupyter-widgets/controls",
      "model_module_version": "2.0.0",
      "model_name": "LabelStyleModel",
      "state": {
       "description_width": "",
       "font_family": null,
       "font_size": null,
       "font_style": null,
       "font_variant": null,
       "font_weight": null,
       "text_color": null,
       "text_decoration": null
      }
     },
     "41e1f48dd30b4484b25c715bd7515ce5": {
      "model_module": "@jupyter-widgets/controls",
      "model_module_version": "2.0.0",
      "model_name": "ButtonModel",
      "state": {
       "description": "Recommend Movies",
       "layout": "IPY_MODEL_b62b6d8c701b459691db66fd57a9bac9",
       "style": "IPY_MODEL_2aaa251ce0c240dcb6df1656064ca24b",
       "tooltip": null
      }
     },
     "4e4f3ca9e5394842ba8a53f44fed5a85": {
      "model_module": "@jupyter-widgets/base",
      "model_module_version": "2.0.0",
      "model_name": "LayoutModel",
      "state": {}
     },
     "54bb422f082143399322c6d978cf8bc3": {
      "model_module": "@jupyter-widgets/controls",
      "model_module_version": "2.0.0",
      "model_name": "ButtonStyleModel",
      "state": {
       "font_family": null,
       "font_size": null,
       "font_style": null,
       "font_variant": null,
       "font_weight": null,
       "text_color": null,
       "text_decoration": null
      }
     },
     "6414a98cf873490fa5aa31b0554e7b2d": {
      "model_module": "@jupyter-widgets/controls",
      "model_module_version": "2.0.0",
      "model_name": "IntSliderModel",
      "state": {
       "behavior": "drag-tap",
       "layout": "IPY_MODEL_fcac48acfd6445a3be25cc69212918fd",
       "max": 30,
       "min": 1,
       "style": "IPY_MODEL_07158ee1aef44c888024917ff1d8481a",
       "value": 11
      }
     },
     "6a4e753780724452a31281b34577b3a2": {
      "model_module": "@jupyter-widgets/output",
      "model_module_version": "1.0.0",
      "model_name": "OutputModel",
      "state": {
       "layout": "IPY_MODEL_29bec7cf071b4678bb28c123a1d720b5",
       "outputs": [
        {
         "data": {
          "text/html": "<div>\n<style scoped>\n    .dataframe tbody tr th:only-of-type {\n        vertical-align: middle;\n    }\n\n    .dataframe tbody tr th {\n        vertical-align: top;\n    }\n\n    .dataframe thead th {\n        text-align: right;\n    }\n</style>\n<table border=\"1\" class=\"dataframe\">\n  <thead>\n    <tr style=\"text-align: right;\">\n      <th></th>\n      <th>title</th>\n    </tr>\n  </thead>\n  <tbody>\n    <tr>\n      <th>1</th>\n      <td>Divo, Il (2008)</td>\n    </tr>\n    <tr>\n      <th>2</th>\n      <td>Thunderbolt and Lightfoot (1974)</td>\n    </tr>\n    <tr>\n      <th>3</th>\n      <td>Death on the Nile (1978)</td>\n    </tr>\n    <tr>\n      <th>4</th>\n      <td>52 Pick-Up (1986)</td>\n    </tr>\n    <tr>\n      <th>5</th>\n      <td>Tales from the Hood (1995)</td>\n    </tr>\n    <tr>\n      <th>6</th>\n      <td>Missing Person, The (2009)</td>\n    </tr>\n    <tr>\n      <th>7</th>\n      <td>Big Steal, The (1949)</td>\n    </tr>\n    <tr>\n      <th>8</th>\n      <td>This Is the End (2013)</td>\n    </tr>\n    <tr>\n      <th>9</th>\n      <td>On a Clear Day (2005)</td>\n    </tr>\n    <tr>\n      <th>10</th>\n      <td>Deliverance (1972)</td>\n    </tr>\n    <tr>\n      <th>11</th>\n      <td>We're No Angels (1989)</td>\n    </tr>\n    <tr>\n      <th>12</th>\n      <td>American Sniper (2014)</td>\n    </tr>\n    <tr>\n      <th>13</th>\n      <td>Spies Like Us (1985)</td>\n    </tr>\n    <tr>\n      <th>14</th>\n      <td>Shampoo (1975)</td>\n    </tr>\n    <tr>\n      <th>15</th>\n      <td>Miami Vice (2006)</td>\n    </tr>\n    <tr>\n      <th>16</th>\n      <td>Boiler Room (2000)</td>\n    </tr>\n    <tr>\n      <th>17</th>\n      <td>East Side, West Side (1949)</td>\n    </tr>\n  </tbody>\n</table>\n</div>",
          "text/plain": "                               title\n1                    Divo, Il (2008)\n2   Thunderbolt and Lightfoot (1974)\n3           Death on the Nile (1978)\n4                  52 Pick-Up (1986)\n5         Tales from the Hood (1995)\n6         Missing Person, The (2009)\n7              Big Steal, The (1949)\n8             This Is the End (2013)\n9              On a Clear Day (2005)\n10                Deliverance (1972)\n11            We're No Angels (1989)\n12            American Sniper (2014)\n13              Spies Like Us (1985)\n14                    Shampoo (1975)\n15                 Miami Vice (2006)\n16                Boiler Room (2000)\n17       East Side, West Side (1949)"
         },
         "metadata": {},
         "output_type": "display_data"
        }
       ]
      }
     },
     "72626ecdc76a4f568555cbc828fc537e": {
      "model_module": "@jupyter-widgets/controls",
      "model_module_version": "2.0.0",
      "model_name": "TextStyleModel",
      "state": {
       "description_width": "",
       "font_size": null,
       "text_color": null
      }
     },
     "7688310bbd0647bfb3ab1f5791e2cc37": {
      "model_module": "@jupyter-widgets/controls",
      "model_module_version": "2.0.0",
      "model_name": "IntSliderModel",
      "state": {
       "behavior": "drag-tap",
       "layout": "IPY_MODEL_b5d133ef8ed24b94b28a50c37654e986",
       "max": 30,
       "min": 1,
       "style": "IPY_MODEL_800f9478fad14213be3707d695785b89",
       "value": 17
      }
     },
     "7c14a82cbef04d4aaa6c2eca5b5115bd": {
      "model_module": "@jupyter-widgets/controls",
      "model_module_version": "2.0.0",
      "model_name": "LabelModel",
      "state": {
       "layout": "IPY_MODEL_2d25ac5980084fecab53784e9670803b",
       "style": "IPY_MODEL_3d6558af47a849f99f3c350d360994d4",
       "value": "Threshold for similar users (k):"
      }
     },
     "800f9478fad14213be3707d695785b89": {
      "model_module": "@jupyter-widgets/controls",
      "model_module_version": "2.0.0",
      "model_name": "SliderStyleModel",
      "state": {
       "description_width": ""
      }
     },
     "87ec046aa2d549f584657e0fdfd2ad0b": {
      "model_module": "@jupyter-widgets/base",
      "model_module_version": "2.0.0",
      "model_name": "LayoutModel",
      "state": {
       "border_bottom": "1px solid black",
       "border_left": "1px solid black",
       "border_right": "1px solid black",
       "border_top": "1px solid black"
      }
     },
     "8a7aded6871744c1ac2b41b8af3ca17a": {
      "model_module": "@jupyter-widgets/controls",
      "model_module_version": "2.0.0",
      "model_name": "LabelModel",
      "state": {
       "layout": "IPY_MODEL_329b0ea9857d4fb899d6129268e4a498",
       "style": "IPY_MODEL_f422effad24a4465821baf34768e976b",
       "value": "Num recommendations (N):"
      }
     },
     "9437c6387a2a4468aeef00e655838cf3": {
      "model_module": "@jupyter-widgets/controls",
      "model_module_version": "2.0.0",
      "model_name": "ButtonModel",
      "state": {
       "description": "Recommend Movies",
       "layout": "IPY_MODEL_05cdf48cfce345f0bd93632f790d9d67",
       "style": "IPY_MODEL_54bb422f082143399322c6d978cf8bc3",
       "tooltip": null
      }
     },
     "9564c83316b74aa0a257605df1366459": {
      "model_module": "@jupyter-widgets/controls",
      "model_module_version": "2.0.0",
      "model_name": "LabelModel",
      "state": {
       "layout": "IPY_MODEL_b58169fdf23d445daf67340cabf8857f",
       "style": "IPY_MODEL_f4edb699d7814cbbb3a53ccc15a647d9",
       "value": "Minimum reviews threshold (t):"
      }
     },
     "95770f4133bf4568bbf84749d824e093": {
      "model_module": "@jupyter-widgets/controls",
      "model_module_version": "2.0.0",
      "model_name": "SliderStyleModel",
      "state": {
       "description_width": ""
      }
     },
     "98159daf21724c10a960d590660f551d": {
      "model_module": "@jupyter-widgets/controls",
      "model_module_version": "2.0.0",
      "model_name": "LabelStyleModel",
      "state": {
       "description_width": "",
       "font_family": null,
       "font_size": null,
       "font_style": null,
       "font_variant": null,
       "font_weight": null,
       "text_color": null,
       "text_decoration": null
      }
     },
     "a0e85a770147495a9390eaa4f494e465": {
      "model_module": "@jupyter-widgets/base",
      "model_module_version": "2.0.0",
      "model_name": "LayoutModel",
      "state": {}
     },
     "aa647b3f0ca8433abd4ef335c35e4789": {
      "model_module": "@jupyter-widgets/controls",
      "model_module_version": "2.0.0",
      "model_name": "SliderStyleModel",
      "state": {
       "description_width": ""
      }
     },
     "abb60127353048f090c55646f6c0d07e": {
      "model_module": "@jupyter-widgets/controls",
      "model_module_version": "2.0.0",
      "model_name": "IntSliderModel",
      "state": {
       "behavior": "drag-tap",
       "layout": "IPY_MODEL_b41b40811a854c09a71fe182494667c6",
       "max": 30,
       "min": 1,
       "style": "IPY_MODEL_aa647b3f0ca8433abd4ef335c35e4789",
       "value": 11
      }
     },
     "b04351ee065c4625aee817276164c99c": {
      "model_module": "@jupyter-widgets/base",
      "model_module_version": "2.0.0",
      "model_name": "LayoutModel",
      "state": {
       "border_bottom": "1px solid black",
       "border_left": "1px solid black",
       "border_right": "1px solid black",
       "border_top": "1px solid black"
      }
     },
     "b41b40811a854c09a71fe182494667c6": {
      "model_module": "@jupyter-widgets/base",
      "model_module_version": "2.0.0",
      "model_name": "LayoutModel",
      "state": {}
     },
     "b58169fdf23d445daf67340cabf8857f": {
      "model_module": "@jupyter-widgets/base",
      "model_module_version": "2.0.0",
      "model_name": "LayoutModel",
      "state": {}
     },
     "b5d133ef8ed24b94b28a50c37654e986": {
      "model_module": "@jupyter-widgets/base",
      "model_module_version": "2.0.0",
      "model_name": "LayoutModel",
      "state": {}
     },
     "b62b6d8c701b459691db66fd57a9bac9": {
      "model_module": "@jupyter-widgets/base",
      "model_module_version": "2.0.0",
      "model_name": "LayoutModel",
      "state": {}
     },
     "c5e548656d3045e0914c5de9ee80d036": {
      "model_module": "@jupyter-widgets/base",
      "model_module_version": "2.0.0",
      "model_name": "LayoutModel",
      "state": {}
     },
     "c6c0b0e6c18a4a6a8b4d8388edbdfe83": {
      "model_module": "@jupyter-widgets/controls",
      "model_module_version": "2.0.0",
      "model_name": "IntSliderModel",
      "state": {
       "behavior": "drag-tap",
       "layout": "IPY_MODEL_26be2299a4c64523bdc96507b39e432b",
       "max": 668,
       "min": 50,
       "style": "IPY_MODEL_358fd3ada8bc4bdf8e6cccf18ef7f7a5",
       "value": 100
      }
     },
     "c7a79e700a2b4178ac08c8a641788ddf": {
      "model_module": "@jupyter-widgets/controls",
      "model_module_version": "2.0.0",
      "model_name": "IntSliderModel",
      "state": {
       "behavior": "drag-tap",
       "description": "UserId:",
       "layout": "IPY_MODEL_c5e548656d3045e0914c5de9ee80d036",
       "max": 668,
       "min": 1,
       "style": "IPY_MODEL_95770f4133bf4568bbf84749d824e093",
       "value": 82
      }
     },
     "c7c3932f37c243d2aa3a431092aa190a": {
      "model_module": "@jupyter-widgets/controls",
      "model_module_version": "2.0.0",
      "model_name": "IntSliderModel",
      "state": {
       "behavior": "drag-tap",
       "layout": "IPY_MODEL_f87d18c222ad44f6b484aeac8d3dee08",
       "max": 325,
       "min": 1,
       "style": "IPY_MODEL_d85d5f6fe4de455fb4cb6a478c14d7f0",
       "value": 117
      }
     },
     "caace16ef1a543828625c8909483c1da": {
      "model_module": "@jupyter-widgets/controls",
      "model_module_version": "2.0.0",
      "model_name": "LabelModel",
      "state": {
       "layout": "IPY_MODEL_e0da6ca180d448f18a6142a513722d48",
       "style": "IPY_MODEL_98159daf21724c10a960d590660f551d",
       "value": "Num recommendations (N):"
      }
     },
     "d3f6ad9967a5439fbd1ac35a8fd1ffee": {
      "model_module": "@jupyter-widgets/controls",
      "model_module_version": "2.0.0",
      "model_name": "TextModel",
      "state": {
       "description": "Movie Title (t):",
       "layout": "IPY_MODEL_a0e85a770147495a9390eaa4f494e465",
       "style": "IPY_MODEL_72626ecdc76a4f568555cbc828fc537e",
       "value": "Pretty Woman"
      }
     },
     "d85d5f6fe4de455fb4cb6a478c14d7f0": {
      "model_module": "@jupyter-widgets/controls",
      "model_module_version": "2.0.0",
      "model_name": "SliderStyleModel",
      "state": {
       "description_width": ""
      }
     },
     "d902d4f0f02d426c8a920a7c956ad276": {
      "model_module": "@jupyter-widgets/controls",
      "model_module_version": "2.0.0",
      "model_name": "LabelStyleModel",
      "state": {
       "description_width": "",
       "font_family": null,
       "font_size": null,
       "font_style": null,
       "font_variant": null,
       "font_weight": null,
       "text_color": null,
       "text_decoration": null
      }
     },
     "df25dc953a594bc18f2c58f4b2b5a3a9": {
      "model_module": "@jupyter-widgets/controls",
      "model_module_version": "2.0.0",
      "model_name": "ButtonStyleModel",
      "state": {
       "font_family": null,
       "font_size": null,
       "font_style": null,
       "font_variant": null,
       "font_weight": null,
       "text_color": null,
       "text_decoration": null
      }
     },
     "e0da6ca180d448f18a6142a513722d48": {
      "model_module": "@jupyter-widgets/base",
      "model_module_version": "2.0.0",
      "model_name": "LayoutModel",
      "state": {}
     },
     "f422effad24a4465821baf34768e976b": {
      "model_module": "@jupyter-widgets/controls",
      "model_module_version": "2.0.0",
      "model_name": "LabelStyleModel",
      "state": {
       "description_width": "",
       "font_family": null,
       "font_size": null,
       "font_style": null,
       "font_variant": null,
       "font_weight": null,
       "text_color": null,
       "text_decoration": null
      }
     },
     "f4edb699d7814cbbb3a53ccc15a647d9": {
      "model_module": "@jupyter-widgets/controls",
      "model_module_version": "2.0.0",
      "model_name": "LabelStyleModel",
      "state": {
       "description_width": "",
       "font_family": null,
       "font_size": null,
       "font_style": null,
       "font_variant": null,
       "font_weight": null,
       "text_color": null,
       "text_decoration": null
      }
     },
     "f87d18c222ad44f6b484aeac8d3dee08": {
      "model_module": "@jupyter-widgets/base",
      "model_module_version": "2.0.0",
      "model_name": "LayoutModel",
      "state": {}
     },
     "fa016de285bd4489a297e9a580816d20": {
      "model_module": "@jupyter-widgets/controls",
      "model_module_version": "2.0.0",
      "model_name": "TextModel",
      "state": {
       "description": "Genre (g):",
       "layout": "IPY_MODEL_4e4f3ca9e5394842ba8a53f44fed5a85",
       "style": "IPY_MODEL_215a2c38f0804496b90c7ea9f019f40a",
       "value": "Romance"
      }
     },
     "fcac48acfd6445a3be25cc69212918fd": {
      "model_module": "@jupyter-widgets/base",
      "model_module_version": "2.0.0",
      "model_name": "LayoutModel",
      "state": {}
     }
    },
    "version_major": 2,
    "version_minor": 0
   }
  }
 },
 "nbformat": 4,
 "nbformat_minor": 5
}
